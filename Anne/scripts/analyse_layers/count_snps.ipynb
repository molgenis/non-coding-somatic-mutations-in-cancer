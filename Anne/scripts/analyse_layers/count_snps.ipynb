{
 "cells": [
  {
   "cell_type": "code",
   "execution_count": 11,
   "metadata": {},
   "outputs": [],
   "source": [
    "import sys\n",
    "import pandas as pd\n",
    "import numpy as np\n",
    "import math\n",
    "import csv\n",
    "import os\n",
    "sys.path.append('D:/Hanze_Groningen/STAGE/00git/non-coding-somatic-mutations-in-cancer/Anne/scripts/')\n",
    "from config import get_config\n",
    "# Call config\n",
    "config = get_config('Anne')"
   ]
  },
  {
   "cell_type": "code",
   "execution_count": 12,
   "metadata": {},
   "outputs": [],
   "source": [
    "path_snps_filtering = config['path_snps_filtering']\n",
    "snp_filtering_df = pd.read_csv(path_snps_filtering, sep='\\t')\n",
    "# SNPs remaining after filtering with GT=1 or 2 and total read count greater than or equal to 33\n",
    "list_of_snps_filtering = list(snp_filtering_df['snp_IDs_uni'])\n"
   ]
  },
  {
   "cell_type": "code",
   "execution_count": 13,
   "metadata": {},
   "outputs": [
    {
     "data": {
      "text/plain": [
       "'5615266,4099621,4099622,5816138,3651626,9560555,19085,1636458,3583851,7775372,4813871,3697428,1325012,3524543,3661756,5615229,3524542,3698079'"
      ]
     },
     "execution_count": 13,
     "metadata": {},
     "output_type": "execute_result"
    }
   ],
   "source": [
    "test = pd.read_csv(config['all_SNPs'], sep='\\t', header=None)\n",
    "test.iloc[1,1]"
   ]
  },
  {
   "cell_type": "code",
   "execution_count": 14,
   "metadata": {},
   "outputs": [
    {
     "name": "stdout",
     "output_type": "stream",
     "text": [
      "GT_ALL_ALL_sig_snps.tsv\n",
      "GT_ALL_ALL_sig_snps.tsv\n",
      "UCNE_NonCoding2_nonbreast_snps_bon_sig_snps.tsv\n",
      "afterGene_NonCoding_Coding_ALL_snps_bon_sig_snps.tsv\n",
      "afterGene_NonCoding_Coding_ALL_snps_bon_sig_snps.tsv\n",
      "afterGene_NonCoding_Coding_breast_snps_bon_sig_snps.tsv\n",
      "afterGene_NonCoding_Coding_nonbreast_snps_bon_sig_snps.tsv\n",
      "beforeGene_NonCoding_Coding_ALL_snps_bon_sig_snps.tsv\n",
      "beforeGene_NonCoding_Coding_ALL_snps_bon_sig_snps.tsv\n",
      "beforeGene_NonCoding_Coding_breast_snps_bon_sig_snps.tsv\n",
      "beforeGene_NonCoding_Coding_nonbreast_snps_bon_sig_snps.tsv\n",
      "DNase_NonCoding_NC2_ALL_snps_bon_sig_snps.tsv\n",
      "DNase_NonCoding_NC2_ALL_snps_bon_sig_snps.tsv\n",
      "DNase_NonCoding2_ALL_snps_bon_sig_snps.tsv\n",
      "DNase_NonCoding2_ALL_snps_bon_sig_snps.tsv\n",
      "DNase_NonCoding2_breast_snps_bon_sig_snps.tsv\n",
      "DNase_NonCoding2_nonbreast_snps_bon_sig_snps.tsv\n",
      "TFBS_NonCoding2_ALL_snps_bon_sig_snps.tsv\n",
      "TFBS_NonCoding2_ALL_snps_bon_sig_snps.tsv\n",
      "TFBS_NonCoding2_breast_snps_bon_sig_snps.tsv\n",
      "TFBS_NonCoding2_nonbreast_snps_bon_sig_snps.tsv\n",
      "UCNE_NonCoding2_ALL_snps_bon_sig_snps.tsv\n",
      "UCNE_NonCoding2_ALL_snps_bon_sig_snps.tsv\n",
      "UCNE_NonCoding2_breast_snps_bon_sig_snps.tsv\n",
      "per_snp_ALL_breast_sig_snps_NEW.tsv\n",
      "per_snp_ALL_ALL_sig_snps_NEW.tsv\n",
      "per_snp_ALL_ALL_sig_snps_NEW.tsv\n"
     ]
    }
   ],
   "source": [
    "# assign directory\n",
    "directory_snp = config['directory_snp']\n",
    "\n",
    "all_dict = dict()\n",
    "breast_dict = dict()\n",
    "nonbreast_dict = dict()\n",
    "# iterate over files in\n",
    "# that directory\n",
    "for filename in os.listdir(directory_snp):\n",
    "    print(filename)\n",
    "    type_layer = filename.split('_')[0]\n",
    "    f = os.path.join(directory_snp, filename)\n",
    "    if '_bon_sig_snps' in filename:\n",
    "        df = pd.read_csv(f, sep='\\t')\n",
    "        # Make list op significant SNPs in regions\n",
    "        list_snps = list(df['snp_IDs_snps_bon'])\n",
    "        if 'NONE' in list_snps:\n",
    "            list_snps = []\n",
    "    else:\n",
    "        df = pd.read_csv(f, sep='\\t', header=None)\n",
    "        snps_sig = df.iloc[1,1]\n",
    "        if len(snps_sig) > 1:\n",
    "            list_snps = snps_sig.split(',')\n",
    "            list_snps = list(map(int, list_snps))\n",
    "    \n",
    "    if len(list_snps) > 1:\n",
    "        overlap_snps = list(set(list_of_snps_filtering) & set(list_snps))\n",
    "        if '_ALL_s' in filename:\n",
    "            all_dict[type_layer] = overlap_snps\n",
    "        elif '_breast_s' in filename:\n",
    "            breast_dict[type_layer] = overlap_snps\n",
    "        elif '_nonbreast_s' in filename:\n",
    "            nonbreast_dict[type_layer] = overlap_snps\n",
    "        else:\n",
    "            print(f'ERROR: {filename}')"
   ]
  },
  {
   "cell_type": "code",
   "execution_count": 15,
   "metadata": {},
   "outputs": [],
   "source": [
    "list_column_names = ['ALL', 'breast', 'nonbreast']\n",
    "for index, dict_fill in enumerate([all_dict, breast_dict, nonbreast_dict]):\n",
    "    for key, value in all_dict.items():\n",
    "        path_new_file = f\"{config['path_new_file_snp']}{list_column_names[index]}_{key}.tsv\"\n",
    "        snp_DF = pd.DataFrame(columns=[f'{list_column_names[index]}_{key}']) \n",
    "        snp_DF[f'{list_column_names[index]}_{key}'] = value\n",
    "        snp_DF.to_csv(path_new_file, sep='\\t', encoding='utf-8', index=False) "
   ]
  }
 ],
 "metadata": {
  "interpreter": {
   "hash": "f28f19b999524353c4abcfa992f0bafa68d70976f2f9c0e2850c8c19288eb419"
  },
  "kernelspec": {
   "display_name": "Python 3.9.13 64-bit (windows store)",
   "language": "python",
   "name": "python3"
  },
  "language_info": {
   "codemirror_mode": {
    "name": "ipython",
    "version": 3
   },
   "file_extension": ".py",
   "mimetype": "text/x-python",
   "name": "python",
   "nbconvert_exporter": "python",
   "pygments_lexer": "ipython3",
   "version": "3.9.13"
  }
 },
 "nbformat": 4,
 "nbformat_minor": 4
}
