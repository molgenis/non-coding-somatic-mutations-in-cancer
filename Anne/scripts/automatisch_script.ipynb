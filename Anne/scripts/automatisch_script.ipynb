{
 "cells": [
  {
   "cell_type": "code",
   "execution_count": 1,
   "id": "51bfb209",
   "metadata": {},
   "outputs": [],
   "source": [
    "import pandas as pd"
   ]
  },
  {
   "cell_type": "code",
   "execution_count": 2,
   "id": "8b42cd93",
   "metadata": {},
   "outputs": [
    {
     "data": {
      "text/html": [
       "<div>\n",
       "<style scoped>\n",
       "    .dataframe tbody tr th:only-of-type {\n",
       "        vertical-align: middle;\n",
       "    }\n",
       "\n",
       "    .dataframe tbody tr th {\n",
       "        vertical-align: top;\n",
       "    }\n",
       "\n",
       "    .dataframe thead th {\n",
       "        text-align: right;\n",
       "    }\n",
       "</style>\n",
       "<table border=\"1\" class=\"dataframe\">\n",
       "  <thead>\n",
       "    <tr style=\"text-align: right;\">\n",
       "      <th></th>\n",
       "      <th>0</th>\n",
       "      <th>1</th>\n",
       "      <th>2</th>\n",
       "      <th>3</th>\n",
       "    </tr>\n",
       "  </thead>\n",
       "  <tbody>\n",
       "    <tr>\n",
       "      <th>0</th>\n",
       "      <td>S1_FL</td>\n",
       "      <td>EGAN00001088435</td>\n",
       "      <td>SS6004099.bam.cip</td>\n",
       "      <td>EGAF00000151605</td>\n",
       "    </tr>\n",
       "    <tr>\n",
       "      <th>1</th>\n",
       "      <td>S1_GL</td>\n",
       "      <td>EGAN00001088434</td>\n",
       "      <td>SS6004094.bam.cip</td>\n",
       "      <td>EGAF00000151604</td>\n",
       "    </tr>\n",
       "    <tr>\n",
       "      <th>2</th>\n",
       "      <td>S1_tFL</td>\n",
       "      <td>EGAN00001088436</td>\n",
       "      <td>SS6004104.bam.cip</td>\n",
       "      <td>EGAF00000151606</td>\n",
       "    </tr>\n",
       "    <tr>\n",
       "      <th>3</th>\n",
       "      <td>S2_FL1</td>\n",
       "      <td>EGAN00001088438</td>\n",
       "      <td>SS6004113.bam.cip</td>\n",
       "      <td>EGAF00000151608</td>\n",
       "    </tr>\n",
       "    <tr>\n",
       "      <th>4</th>\n",
       "      <td>S2_FL2</td>\n",
       "      <td>EGAN00001088439</td>\n",
       "      <td>SS6004114.bam.cip</td>\n",
       "      <td>EGAF00000151609</td>\n",
       "    </tr>\n",
       "  </tbody>\n",
       "</table>\n",
       "</div>"
      ],
      "text/plain": [
       "        0                1                  2                3\n",
       "0   S1_FL  EGAN00001088435  SS6004099.bam.cip  EGAF00000151605\n",
       "1   S1_GL  EGAN00001088434  SS6004094.bam.cip  EGAF00000151604\n",
       "2  S1_tFL  EGAN00001088436  SS6004104.bam.cip  EGAF00000151606\n",
       "3  S2_FL1  EGAN00001088438  SS6004113.bam.cip  EGAF00000151608\n",
       "4  S2_FL2  EGAN00001088439  SS6004114.bam.cip  EGAF00000151609"
      ]
     },
     "execution_count": 2,
     "metadata": {},
     "output_type": "execute_result"
    }
   ],
   "source": [
    "path = \"/mnt/d/Hanze_Groningen/STAGE/data/EGAD00001000292/EGAD00001000292/delimited_maps/Sample_File.map\"\n",
    "df = pd.read_csv(path, sep='\\t', header=None)\n",
    "df.head()"
   ]
  },
  {
   "cell_type": "code",
   "execution_count": 3,
   "id": "6b463e0b",
   "metadata": {},
   "outputs": [
    {
     "data": {
      "text/html": [
       "<div>\n",
       "<style scoped>\n",
       "    .dataframe tbody tr th:only-of-type {\n",
       "        vertical-align: middle;\n",
       "    }\n",
       "\n",
       "    .dataframe tbody tr th {\n",
       "        vertical-align: top;\n",
       "    }\n",
       "\n",
       "    .dataframe thead th {\n",
       "        text-align: right;\n",
       "    }\n",
       "</style>\n",
       "<table border=\"1\" class=\"dataframe\">\n",
       "  <thead>\n",
       "    <tr style=\"text-align: right;\">\n",
       "      <th></th>\n",
       "      <th>Sample</th>\n",
       "      <th>type</th>\n",
       "      <th>Name</th>\n",
       "      <th>type2</th>\n",
       "    </tr>\n",
       "  </thead>\n",
       "  <tbody>\n",
       "    <tr>\n",
       "      <th>0</th>\n",
       "      <td>S1</td>\n",
       "      <td>FL</td>\n",
       "      <td>SS6004099</td>\n",
       "      <td>tumor</td>\n",
       "    </tr>\n",
       "    <tr>\n",
       "      <th>1</th>\n",
       "      <td>S1</td>\n",
       "      <td>GL</td>\n",
       "      <td>SS6004094</td>\n",
       "      <td>normal</td>\n",
       "    </tr>\n",
       "    <tr>\n",
       "      <th>2</th>\n",
       "      <td>S1</td>\n",
       "      <td>tFL</td>\n",
       "      <td>SS6004104</td>\n",
       "      <td>tumor</td>\n",
       "    </tr>\n",
       "    <tr>\n",
       "      <th>3</th>\n",
       "      <td>S2</td>\n",
       "      <td>FL1</td>\n",
       "      <td>SS6004113</td>\n",
       "      <td>tumor</td>\n",
       "    </tr>\n",
       "    <tr>\n",
       "      <th>4</th>\n",
       "      <td>S2</td>\n",
       "      <td>FL2</td>\n",
       "      <td>SS6004114</td>\n",
       "      <td>tumor</td>\n",
       "    </tr>\n",
       "  </tbody>\n",
       "</table>\n",
       "</div>"
      ],
      "text/plain": [
       "  Sample type       Name   type2\n",
       "0     S1   FL  SS6004099   tumor\n",
       "1     S1   GL  SS6004094  normal\n",
       "2     S1  tFL  SS6004104   tumor\n",
       "3     S2  FL1  SS6004113   tumor\n",
       "4     S2  FL2  SS6004114   tumor"
      ]
     },
     "execution_count": 3,
     "metadata": {},
     "output_type": "execute_result"
    }
   ],
   "source": [
    "df_selection = pd.DataFrame()\n",
    "df_selection[['Sample','type']] = df[0].str.split(\"_\",expand=True,)\n",
    "df_selection['Name'] = df[2].str.split(\".\",expand=True,)[0]\n",
    "df_selection['type2'] = df_selection['type'].replace(['tFL','FL', 'FL1', 'FL2', 'FL3'],'tumor').replace(['GL'],'normal')\n",
    "df_selection.head()"
   ]
  },
  {
   "cell_type": "code",
   "execution_count": 4,
   "id": "4d67dbeb",
   "metadata": {},
   "outputs": [
    {
     "data": {
      "text/plain": [
       "{'S1': {'normal': ['SS6004094'], 'tumor': ['SS6004099', 'SS6004104']},\n",
       " 'S2': {'normal': ['SS6004109'],\n",
       "  'tumor': ['SS6004113', 'SS6004114', 'SS6004118', 'SS6004119']},\n",
       " 'S3': {'normal': ['SS6004123'], 'tumor': ['SS6004124', 'SS6004129']},\n",
       " 'S4': {'normal': ['SS6004128'], 'tumor': ['SS6004133', 'SS6004134']},\n",
       " 'S5': {'normal': ['SS6004138'], 'tumor': ['SS6004139', 'SS6005041']},\n",
       " 'S6': {'normal': ['SS6005042'], 'tumor': ['SS6005043', 'SS6005044']}}"
      ]
     },
     "execution_count": 4,
     "metadata": {},
     "output_type": "execute_result"
    }
   ],
   "source": [
    "dict_sample = dict()\n",
    "\n",
    "for index, row in df_selection.iterrows():\n",
    "    if row['Sample'] in dict_sample.keys():\n",
    "        if row['type2'] == 'normal':\n",
    "            dict_sample[row['Sample']]['normal'].append(row['Name'])\n",
    "        elif row['type2'] == 'tumor':\n",
    "            dict_sample[row['Sample']]['tumor'].append(row['Name'])\n",
    "    else:\n",
    "        tumor = list()\n",
    "        normal = list()\n",
    "        if row['type2'] == 'normal':\n",
    "            normal.append(row['Name'])\n",
    "        elif row['type2'] == 'tumor':\n",
    "            tumor.append(row['Name'])\n",
    "        dict_sample[row['Sample']] = {'normal': normal, 'tumor': tumor}\n",
    "dict_sample"
   ]
  },
  {
   "cell_type": "code",
   "execution_count": 5,
   "id": "60a12672",
   "metadata": {},
   "outputs": [
    {
     "name": "stdout",
     "output_type": "stream",
     "text": [
      "-I SN_SS6004099.DR.bam -I SN_SS6004104.DR.bam -I SN_SS6004094_DR.bam -normal SS6004094.DR.bam -O S1_SS6004099_SS6004104_SS6004094_somatic.vcf.gz\n",
      "S1_SS6004099_SS6004104_SS6004094.txt\n",
      "-I SN_SS6004113.DR.bam -I SN_SS6004114.DR.bam -I SN_SS6004118.DR.bam -I SN_SS6004119.DR.bam -I SN_SS6004109_DR.bam -normal SS6004109.DR.bam -O S2_SS6004113_SS6004114_SS6004118_SS6004119_SS6004109_somatic.vcf.gz\n",
      "S2_SS6004113_SS6004114_SS6004118_SS6004119_SS6004109.txt\n",
      "-I SN_SS6004124.DR.bam -I SN_SS6004129.DR.bam -I SN_SS6004123_DR.bam -normal SS6004123.DR.bam -O S3_SS6004124_SS6004129_SS6004123_somatic.vcf.gz\n",
      "S3_SS6004124_SS6004129_SS6004123.txt\n",
      "-I SN_SS6004133.DR.bam -I SN_SS6004134.DR.bam -I SN_SS6004128_DR.bam -normal SS6004128.DR.bam -O S4_SS6004133_SS6004134_SS6004128_somatic.vcf.gz\n",
      "S4_SS6004133_SS6004134_SS6004128.txt\n",
      "-I SN_SS6004139.DR.bam -I SN_SS6005041.DR.bam -I SN_SS6004138_DR.bam -normal SS6004138.DR.bam -O S5_SS6004139_SS6005041_SS6004138_somatic.vcf.gz\n",
      "S5_SS6004139_SS6005041_SS6004138.txt\n",
      "-I SN_SS6005043.DR.bam -I SN_SS6005044.DR.bam -I SN_SS6005042_DR.bam -normal SS6005042.DR.bam -O S6_SS6005043_SS6005044_SS6005042_somatic.vcf.gz\n",
      "S6_SS6005043_SS6005044_SS6005042.txt\n"
     ]
    }
   ],
   "source": [
    "normal_tumor = pd.DataFrame(dict_sample).T.reset_index()\n",
    "for index, row in normal_tumor.iterrows():\n",
    "    argument = ''\n",
    "    name_file = f'{row[\"index\"]}_'\n",
    "    output = f'{row[\"index\"]}_'\n",
    "    for i in row['tumor']:\n",
    "        argument+=f'-I SN_{i}.DR.bam '\n",
    "        name_file+=f'{i}_'\n",
    "        output+=f'{i}_'\n",
    "    for j in row['normal']:\n",
    "        argument+=f'-I SN_{j}_DR.bam '\n",
    "        argument+=f'-normal {j}.DR.bam '\n",
    "        name_file+=f'{j}.txt'\n",
    "        output+=f'{j}_'\n",
    "    \n",
    "    output+=f'somatic.vcf.gz'\n",
    "    argument+=f'-O {output}'\n",
    "    print(argument)\n",
    "    print(name_file)\n",
    "    f = open(name_file, \"a\")\n",
    "    f.write(argument)\n",
    "    f.close()"
   ]
  },
  {
   "cell_type": "code",
   "execution_count": 6,
   "id": "43219600",
   "metadata": {},
   "outputs": [
    {
     "name": "stdout",
     "output_type": "stream",
     "text": [
      "-I SN_SS6004099.DR.bam -I SN_SS6004094_DR.bam -normal SS6004094.DR.bam -O S1_SS6004099_SS6004094_somatic.vcf.gz\n",
      "S1_SS6004099_SS6004094.txt\n",
      "-I SN_SS6004104.DR.bam -I SN_SS6004094_DR.bam -normal SS6004094.DR.bam -O S1_SS6004104_SS6004094_somatic.vcf.gz\n",
      "S1_SS6004104_SS6004094.txt\n",
      "-I SN_SS6004113.DR.bam -I SN_SS6004109_DR.bam -normal SS6004109.DR.bam -O S2_SS6004113_SS6004109_somatic.vcf.gz\n",
      "S2_SS6004113_SS6004109.txt\n",
      "-I SN_SS6004114.DR.bam -I SN_SS6004109_DR.bam -normal SS6004109.DR.bam -O S2_SS6004114_SS6004109_somatic.vcf.gz\n",
      "S2_SS6004114_SS6004109.txt\n",
      "-I SN_SS6004118.DR.bam -I SN_SS6004109_DR.bam -normal SS6004109.DR.bam -O S2_SS6004118_SS6004109_somatic.vcf.gz\n",
      "S2_SS6004118_SS6004109.txt\n",
      "-I SN_SS6004119.DR.bam -I SN_SS6004109_DR.bam -normal SS6004109.DR.bam -O S2_SS6004119_SS6004109_somatic.vcf.gz\n",
      "S2_SS6004119_SS6004109.txt\n",
      "-I SN_SS6004124.DR.bam -I SN_SS6004123_DR.bam -normal SS6004123.DR.bam -O S3_SS6004124_SS6004123_somatic.vcf.gz\n",
      "S3_SS6004124_SS6004123.txt\n",
      "-I SN_SS6004129.DR.bam -I SN_SS6004123_DR.bam -normal SS6004123.DR.bam -O S3_SS6004129_SS6004123_somatic.vcf.gz\n",
      "S3_SS6004129_SS6004123.txt\n",
      "-I SN_SS6004133.DR.bam -I SN_SS6004128_DR.bam -normal SS6004128.DR.bam -O S4_SS6004133_SS6004128_somatic.vcf.gz\n",
      "S4_SS6004133_SS6004128.txt\n",
      "-I SN_SS6004134.DR.bam -I SN_SS6004128_DR.bam -normal SS6004128.DR.bam -O S4_SS6004134_SS6004128_somatic.vcf.gz\n",
      "S4_SS6004134_SS6004128.txt\n",
      "-I SN_SS6004139.DR.bam -I SN_SS6004138_DR.bam -normal SS6004138.DR.bam -O S5_SS6004139_SS6004138_somatic.vcf.gz\n",
      "S5_SS6004139_SS6004138.txt\n",
      "-I SN_SS6005041.DR.bam -I SN_SS6004138_DR.bam -normal SS6004138.DR.bam -O S5_SS6005041_SS6004138_somatic.vcf.gz\n",
      "S5_SS6005041_SS6004138.txt\n",
      "-I SN_SS6005043.DR.bam -I SN_SS6005042_DR.bam -normal SS6005042.DR.bam -O S6_SS6005043_SS6005042_somatic.vcf.gz\n",
      "S6_SS6005043_SS6005042.txt\n",
      "-I SN_SS6005044.DR.bam -I SN_SS6005042_DR.bam -normal SS6005042.DR.bam -O S6_SS6005044_SS6005042_somatic.vcf.gz\n",
      "S6_SS6005044_SS6005042.txt\n"
     ]
    }
   ],
   "source": [
    "normal_tumor = pd.DataFrame(dict_sample).T.reset_index()\n",
    "for index, row in normal_tumor.iterrows():\n",
    "    for j in row['normal']:        \n",
    "        for i in row['tumor']:\n",
    "            argument = ''\n",
    "            name_file = f'{row[\"index\"]}_'\n",
    "            output = f'{row[\"index\"]}_'\n",
    "            argument+=f'-I SN_{i}.DR.bam '\n",
    "            argument+=f'-I SN_{j}_DR.bam '\n",
    "            argument+=f'-normal {j}.DR.bam '\n",
    "            name_file+=f'{i}_'            \n",
    "            name_file+=f'{j}.txt'\n",
    "            output+=f'{i}_'\n",
    "            output+=f'{j}_'\n",
    "            output+=f'somatic.vcf.gz'\n",
    "            argument+=f'-O {output}'\n",
    "            print(argument)\n",
    "            print(name_file)\n",
    "            f = open(name_file, \"a\")\n",
    "            f.write(argument)\n",
    "            f.close()"
   ]
  },
  {
   "cell_type": "code",
   "execution_count": null,
   "id": "dd6a3715",
   "metadata": {},
   "outputs": [],
   "source": []
  }
 ],
 "metadata": {
  "kernelspec": {
   "display_name": "Python 3 (ipykernel)",
   "language": "python",
   "name": "python3"
  },
  "language_info": {
   "codemirror_mode": {
    "name": "ipython",
    "version": 3
   },
   "file_extension": ".py",
   "mimetype": "text/x-python",
   "name": "python",
   "nbconvert_exporter": "python",
   "pygments_lexer": "ipython3",
   "version": "3.8.10"
  }
 },
 "nbformat": 4,
 "nbformat_minor": 5
}
