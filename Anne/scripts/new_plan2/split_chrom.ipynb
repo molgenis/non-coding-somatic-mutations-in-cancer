{
 "cells": [
  {
   "cell_type": "code",
   "execution_count": 1,
   "metadata": {},
   "outputs": [],
   "source": [
    "from Database import Database\n",
    "import sys\n",
    "# import multiprocessing as mp\n",
    "import pandas as pd\n",
    "from collections import Counter\n",
    "import matplotlib.pyplot as plt\n",
    "import seaborn as sns\n",
    "import numpy as np\n",
    "from scipy.stats.distributions import chi2\n",
    "from bioinfokit import analys, visuz\n",
    "from scipy.stats import fisher_exact\n",
    "import time\n",
    "from scipy.special import factorial\n",
    "import scipy.stats as stats\n",
    "from scipy.stats import mannwhitneyu\n",
    "\n",
    "\n",
    "\n",
    "from fisher import pvalue_npy\n",
    "from scipy.stats import chi2_contingency\n",
    "from scipy.stats import uniform, randint"
   ]
  },
  {
   "cell_type": "code",
   "execution_count": 2,
   "metadata": {},
   "outputs": [
    {
     "data": {
      "text/html": [
       "<div>\n",
       "<style scoped>\n",
       "    .dataframe tbody tr th:only-of-type {\n",
       "        vertical-align: middle;\n",
       "    }\n",
       "\n",
       "    .dataframe tbody tr th {\n",
       "        vertical-align: top;\n",
       "    }\n",
       "\n",
       "    .dataframe thead th {\n",
       "        text-align: right;\n",
       "    }\n",
       "</style>\n",
       "<table border=\"1\" class=\"dataframe\">\n",
       "  <thead>\n",
       "    <tr style=\"text-align: right;\">\n",
       "      <th></th>\n",
       "      <th>#snps_b</th>\n",
       "      <th>chr</th>\n",
       "      <th>start_region</th>\n",
       "      <th>stop_region</th>\n",
       "      <th>#snps_nb</th>\n",
       "    </tr>\n",
       "  </thead>\n",
       "  <tbody>\n",
       "    <tr>\n",
       "      <th>0</th>\n",
       "      <td>0</td>\n",
       "      <td>chr1</td>\n",
       "      <td>1</td>\n",
       "      <td>1000</td>\n",
       "      <td>0</td>\n",
       "    </tr>\n",
       "    <tr>\n",
       "      <th>1</th>\n",
       "      <td>0</td>\n",
       "      <td>chr1</td>\n",
       "      <td>1001</td>\n",
       "      <td>2000</td>\n",
       "      <td>0</td>\n",
       "    </tr>\n",
       "    <tr>\n",
       "      <th>2</th>\n",
       "      <td>0</td>\n",
       "      <td>chr1</td>\n",
       "      <td>2001</td>\n",
       "      <td>3000</td>\n",
       "      <td>0</td>\n",
       "    </tr>\n",
       "    <tr>\n",
       "      <th>3</th>\n",
       "      <td>0</td>\n",
       "      <td>chr1</td>\n",
       "      <td>3001</td>\n",
       "      <td>4000</td>\n",
       "      <td>0</td>\n",
       "    </tr>\n",
       "    <tr>\n",
       "      <th>4</th>\n",
       "      <td>0</td>\n",
       "      <td>chr1</td>\n",
       "      <td>4001</td>\n",
       "      <td>5000</td>\n",
       "      <td>0</td>\n",
       "    </tr>\n",
       "    <tr>\n",
       "      <th>...</th>\n",
       "      <td>...</td>\n",
       "      <td>...</td>\n",
       "      <td>...</td>\n",
       "      <td>...</td>\n",
       "      <td>...</td>\n",
       "    </tr>\n",
       "    <tr>\n",
       "      <th>3095684</th>\n",
       "      <td>0</td>\n",
       "      <td>chrY</td>\n",
       "      <td>59369001</td>\n",
       "      <td>59370000</td>\n",
       "      <td>0</td>\n",
       "    </tr>\n",
       "    <tr>\n",
       "      <th>3095685</th>\n",
       "      <td>0</td>\n",
       "      <td>chrY</td>\n",
       "      <td>59370001</td>\n",
       "      <td>59371000</td>\n",
       "      <td>0</td>\n",
       "    </tr>\n",
       "    <tr>\n",
       "      <th>3095686</th>\n",
       "      <td>0</td>\n",
       "      <td>chrY</td>\n",
       "      <td>59371001</td>\n",
       "      <td>59372000</td>\n",
       "      <td>0</td>\n",
       "    </tr>\n",
       "    <tr>\n",
       "      <th>3095687</th>\n",
       "      <td>0</td>\n",
       "      <td>chrY</td>\n",
       "      <td>59372001</td>\n",
       "      <td>59373000</td>\n",
       "      <td>0</td>\n",
       "    </tr>\n",
       "    <tr>\n",
       "      <th>3095688</th>\n",
       "      <td>0</td>\n",
       "      <td>chrY</td>\n",
       "      <td>59373001</td>\n",
       "      <td>59373566</td>\n",
       "      <td>0</td>\n",
       "    </tr>\n",
       "  </tbody>\n",
       "</table>\n",
       "<p>3095689 rows × 5 columns</p>\n",
       "</div>"
      ],
      "text/plain": [
       "         #snps_b   chr  start_region  stop_region  #snps_nb\n",
       "0              0  chr1             1         1000         0\n",
       "1              0  chr1          1001         2000         0\n",
       "2              0  chr1          2001         3000         0\n",
       "3              0  chr1          3001         4000         0\n",
       "4              0  chr1          4001         5000         0\n",
       "...          ...   ...           ...          ...       ...\n",
       "3095684        0  chrY      59369001     59370000         0\n",
       "3095685        0  chrY      59370001     59371000         0\n",
       "3095686        0  chrY      59371001     59372000         0\n",
       "3095687        0  chrY      59372001     59373000         0\n",
       "3095688        0  chrY      59373001     59373566         0\n",
       "\n",
       "[3095689 rows x 5 columns]"
      ]
     },
     "execution_count": 2,
     "metadata": {},
     "output_type": "execute_result"
    }
   ],
   "source": [
    "colnames=['index', '#snps_b', 'chr', 'start_region', 'stop_region']\n",
    "breast = pd.read_csv(\"D:/Hanze_Groningen/STAGE/R/PLOTS/kary/vs/before/1000_filter/breast_ALL_1000.tsv\", sep='\\t', header=None, names=colnames)\n",
    "colnames=['index', '#snps_nb', 'chr', 'start_region', 'stop_region']\n",
    "nonbreast = pd.read_csv(\"D:/Hanze_Groningen/STAGE/R/PLOTS/kary/vs/before/1000_filter/nonbreast_ALL_1000.tsv\", sep='\\t', header=None, names=colnames)\n",
    "breast.sort_values(['chr', 'start_region'], inplace=True)\n",
    "nonbreast.sort_values(['chr', 'start_region'], inplace=True)\n",
    "merged_df = breast.merge(nonbreast, on=['chr', 'start_region', 'stop_region'], how='outer')\n",
    "merged_df.drop(columns=['index_x', 'index_y'], inplace=True)\n",
    "merged_df_2000 = merged_df.copy()\n",
    "merged_df"
   ]
  },
  {
   "cell_type": "code",
   "execution_count": 3,
   "metadata": {},
   "outputs": [],
   "source": [
    "def chi_square_self(df, colname_b, colname_nb):\n",
    "    df['counts_breast_plus'] = df[colname_b] + (1/286)\n",
    "    df['counts_nonbreast_plus'] = df[colname_nb] + (1/1952)\n",
    "    n = np.array([286, 1952])\n",
    "    S = df[['counts_breast_plus', 'counts_nonbreast_plus']].to_numpy()\n",
    "    f = n / n.sum()\n",
    "    E1 = S.sum(axis=1)[:,None]*f\n",
    "    C = (n-S)\n",
    "    E2 = C.sum(axis=1)[:,None]*f\n",
    "    D1 = ((E1-S)**2/E1).sum(axis=1)\n",
    "    D2 = ((E2-C)/E2).sum(axis=1)\n",
    "    X2 = D1 + D2\n",
    "    #\n",
    "    p_value_X2 = chi2.sf(X2,1)\n",
    "    #\n",
    "    log10_p_value = -np.log10(p_value_X2)\n",
    "    log10_p_value\n",
    "    #\n",
    "    df['X2'] = X2\n",
    "    df['p_value_X2'] = p_value_X2\n",
    "    df['log10_p_value'] = log10_p_value\n",
    "    #\n",
    "    S_C = np.concatenate((S, C), axis=1)\n",
    "    return df, S_C, n, S, C\n",
    "    \n",
    "    "
   ]
  },
  {
   "cell_type": "code",
   "execution_count": 4,
   "metadata": {},
   "outputs": [],
   "source": [
    "def chi_square(S_C, df):\n",
    "    start_time = time.perf_counter()\n",
    "\n",
    "    p_value_X2_TEST = list()\n",
    "    for index, value in enumerate(S_C):\n",
    "        table = np.array([[value[0], value[2]], [value[1], value[3]]])\n",
    "        stat, p, dof, expected = chi2_contingency(table)\n",
    "        p_value_X2_TEST.append(p)\n",
    "        if (index%100000) == 0:\n",
    "            print(len(p_value_X2_TEST))\n",
    "    print(len(p_value_X2_TEST))\n",
    "\n",
    "    print(\"--- %s seconds ---\" % (time.perf_counter() - start_time))\n",
    "    df['p_value_X2_TEST'] = p_value_X2_TEST\n",
    "    return df\n",
    "    "
   ]
  },
  {
   "cell_type": "code",
   "execution_count": 5,
   "metadata": {},
   "outputs": [],
   "source": [
    "def log2_fc(df, n, S):\n",
    "    constant = np.log(n[0]) - np.log(n[1])\n",
    "    log2_fc = (np.log(S[:, 0]) - np.log(S[:, 1]) - constant) / np.log(2)\n",
    "    df['log2_fc'] = log2_fc # log2(FC)\n",
    "    return df"
   ]
  },
  {
   "cell_type": "code",
   "execution_count": 6,
   "metadata": {},
   "outputs": [],
   "source": [
    "def fisher_test(S_C, df):\n",
    "    start_time = time.perf_counter()\n",
    "\n",
    "    p_value_F = list()\n",
    "    for index, value in enumerate(S_C):\n",
    "        table = np.array([[value[0], value[2]], [value[1], value[3]]])\n",
    "        oddsr, p = fisher_exact(table, alternative='two-sided')\n",
    "        p_value_F.append(p)\n",
    "        if (index%100000) == 0:\n",
    "            print(len(p_value_F))\n",
    "    print(len(p_value_F))\n",
    "\n",
    "    print(\"--- %s seconds ---\" % (time.perf_counter() - start_time))\n",
    "    df['p_value_F'] = p_value_F\n",
    "    return df"
   ]
  },
  {
   "cell_type": "code",
   "execution_count": null,
   "metadata": {},
   "outputs": [],
   "source": []
  },
  {
   "cell_type": "code",
   "execution_count": null,
   "metadata": {},
   "outputs": [],
   "source": []
  },
  {
   "cell_type": "markdown",
   "metadata": {},
   "source": [
    "# split 1000"
   ]
  },
  {
   "cell_type": "code",
   "execution_count": 7,
   "metadata": {},
   "outputs": [
    {
     "data": {
      "text/plain": [
       "<AxesSubplot:>"
      ]
     },
     "execution_count": 7,
     "metadata": {},
     "output_type": "execute_result"
    },
    {
     "data": {
      "image/png": "[encoded data removed]",
      "text/plain": [
       "<Figure size 432x288 with 1 Axes>"
      ]
     },
     "metadata": {
      "needs_background": "light"
     },
     "output_type": "display_data"
    }
   ],
   "source": [
    "# https://www.reneshbedre.com/blog/mann-whitney-u-test.html\n",
    "breast.boxplot(column=['#snps_b'], grid=False)"
   ]
  },
  {
   "cell_type": "code",
   "execution_count": 8,
   "metadata": {},
   "outputs": [
    {
     "data": {
      "text/plain": [
       "<AxesSubplot:>"
      ]
     },
     "execution_count": 8,
     "metadata": {},
     "output_type": "execute_result"
    },
    {
     "data": {
      "image/png": "[encoded data removed]",
      "text/plain": [
       "<Figure size 432x288 with 1 Axes>"
      ]
     },
     "metadata": {
      "needs_background": "light"
     },
     "output_type": "display_data"
    }
   ],
   "source": [
    "nonbreast.boxplot(column=['#snps_nb'], grid=False)"
   ]
  },
  {
   "cell_type": "code",
   "execution_count": 9,
   "metadata": {},
   "outputs": [],
   "source": [
    "breast['filter_snps_b'] = breast['#snps_b']/ 286\n",
    "nonbreast['filter_snps_nb'] = nonbreast['#snps_nb']/ 1952"
   ]
  },
  {
   "cell_type": "code",
   "execution_count": 10,
   "metadata": {},
   "outputs": [
    {
     "name": "stderr",
     "output_type": "stream",
     "text": [
      "C:\\Users\\Anne_\\Anaconda3\\envs\\umap\\lib\\site-packages\\scipy\\stats\\morestats.py:1681: UserWarning: p-value may not be accurate for N > 5000.\n",
      "  warnings.warn(\"p-value may not be accurate for N > 5000.\")\n"
     ]
    },
    {
     "name": "stdout",
     "output_type": "stream",
     "text": [
      "w:0.45103782415390015, pvalue:0.0\n"
     ]
    },
    {
     "data": {
      "image/png": "[encoded data removed]",
      "text/plain": [
       "<Figure size 432x288 with 2 Axes>"
      ]
     },
     "metadata": {
      "needs_background": "light"
     },
     "output_type": "display_data"
    }
   ],
   "source": [
    "\"\"\"\n",
    "As the p value obtained from the Shapiro-Wilk test is significant (p < 0.05), \n",
    "we conclude that the data is not normally distributed. Further, in histogram data \n",
    "distribution shape does not look normal. Therefore, Mann-Whitney U test is more appropriate for analyzing two samples.\n",
    "\"\"\"\n",
    "w, pvalue = stats.shapiro(breast['#snps_b'])\n",
    "print(f'w:{w}, pvalue:{pvalue}')\n",
    "# plot histogram\n",
    "fig, (ax1, ax2) = plt.subplots(1, 2)\n",
    "fig.suptitle('Frequency histogram')\n",
    "ax1.hist(breast['filter_snps_b'], bins=breast['#snps_b'].max(), histtype='bar', ec='k') \n",
    "ax2.hist(breast['#snps_b'], bins=breast['#snps_b'].max(), histtype='bar', ec='k') \n",
    "plt.show()"
   ]
  },
  {
   "cell_type": "code",
   "execution_count": 11,
   "metadata": {},
   "outputs": [
    {
     "name": "stdout",
     "output_type": "stream",
     "text": [
      "w:0.8885494470596313, pvalue:0.0\n"
     ]
    },
    {
     "data": {
      "image/png": "[encoded data removed]",
      "text/plain": [
       "<Figure size 432x288 with 2 Axes>"
      ]
     },
     "metadata": {
      "needs_background": "light"
     },
     "output_type": "display_data"
    }
   ],
   "source": [
    "\"\"\"\n",
    "As the p value obtained from the Shapiro-Wilk test is significant (p < 0.05), \n",
    "we conclude that the data is not normally distributed. Further, in histogram data \n",
    "distribution shape does not look normal. Therefore, Mann-Whitney U test is more appropriate for analyzing two samples.\n",
    "\"\"\"\n",
    "w, pvalue = stats.shapiro(nonbreast['#snps_nb'])\n",
    "print(f'w:{w}, pvalue:{pvalue}')\n",
    "# plot histogram\n",
    "fig, (ax1, ax2) = plt.subplots(1, 2)\n",
    "fig.suptitle('Frequency histogram')\n",
    "ax1.hist(nonbreast['filter_snps_nb'], bins=nonbreast['#snps_nb'].max(), histtype='bar', ec='k') \n",
    "ax2.hist(nonbreast['#snps_nb'], bins=nonbreast['#snps_nb'].max(), histtype='bar', ec='k') \n",
    "plt.show()"
   ]
  },
  {
   "cell_type": "code",
   "execution_count": 12,
   "metadata": {},
   "outputs": [
    {
     "data": {
      "text/plain": [
       "MannwhitneyuResult(statistic=2256239622468.0, pvalue=0.0)"
      ]
     },
     "execution_count": 12,
     "metadata": {},
     "output_type": "execute_result"
    }
   ],
   "source": [
    "\"\"\"\n",
    "Mann-Whitney U test interpretation: As the p value obtained from the Mann-Whitney U test \n",
    "is significant (U = 489.5, p < 0.05), we conclude that the yield of the two genotypes \n",
    "significantly different from each other .\n",
    "\"\"\"\n",
    "# U1, p = mannwhitneyu(list(breast['filter_snps']), list(nonbreast['filter_snps']), alternative = 'two-sided')\n",
    "mannwhitneyu(list(breast['filter_snps_b']), list(nonbreast['filter_snps_nb']), alternative = 'two-sided')\n"
   ]
  },
  {
   "cell_type": "code",
   "execution_count": null,
   "metadata": {},
   "outputs": [],
   "source": [
    "# \"\"\"\n",
    "# As the p value obtained from the Mann-Whitney U test is significant (U = 489.5, p < 0.05), \n",
    "# we conclude that the yield of the A genotype significantly greater than the genotype B.\n",
    "# \"\"\"\n",
    "# stats.mannwhitneyu(list(breast['filter_snps_b']), list(nonbreast['filter_snps_nb']), alternative = 'greater')"
   ]
  },
  {
   "cell_type": "code",
   "execution_count": null,
   "metadata": {},
   "outputs": [
    {
     "name": "stdout",
     "output_type": "stream",
     "text": [
      "1\n",
      "100001\n",
      "200001\n"
     ]
    }
   ],
   "source": [
    "merged_df, S_C, n, S, C = chi_square_self(merged_df, '#snps_b', '#snps_nb')\n",
    "merged_df = chi_square(S_C, merged_df)\n",
    "merged_df = log2_fc(merged_df, n, S)\n",
    "merged_df = fisher_test(S_C, merged_df)\n",
    "merged_df = log2_fc(merged_df, n, S)\n",
    "merged_df.to_csv(f\"D:/Hanze_Groningen/STAGE/R/chrom_split_1000.tsv\", sep='\\t', encoding='utf-8', index=False)"
   ]
  },
  {
   "cell_type": "code",
   "execution_count": null,
   "metadata": {},
   "outputs": [],
   "source": [
    "print(merged_df['p_value_F'].corr(merged_df['p_value_X2']))\n",
    "print(merged_df['p_value_F'].corr(merged_df['p_value_X2_TEST']))"
   ]
  },
  {
   "cell_type": "code",
   "execution_count": null,
   "metadata": {},
   "outputs": [],
   "source": [
    "plt = visuz.GeneExpression.volcano(df=merged_df,lfc='log2_fc',pv='p_value_X2',show=True)\n"
   ]
  },
  {
   "cell_type": "code",
   "execution_count": null,
   "metadata": {},
   "outputs": [],
   "source": [
    "plt = visuz.GeneExpression.volcano(df=merged_df,lfc='log2_fc',pv='p_value_X2_TEST',show=True)\n"
   ]
  },
  {
   "cell_type": "code",
   "execution_count": null,
   "metadata": {},
   "outputs": [],
   "source": [
    "plt = visuz.GeneExpression.volcano(df=merged_df,lfc='log2_fc',pv='p_value_F',show=True)\n"
   ]
  },
  {
   "cell_type": "markdown",
   "metadata": {},
   "source": [
    "# 2000 spit"
   ]
  },
  {
   "cell_type": "code",
   "execution_count": null,
   "metadata": {},
   "outputs": [],
   "source": [
    "merged_df_2000"
   ]
  },
  {
   "cell_type": "code",
   "execution_count": null,
   "metadata": {},
   "outputs": [],
   "source": [
    "df = pd.DataFrame(columns=['#snps_b', 'chr', 'start_region', 'stop_region', '#snps_nb', 'snps_b_double', 'snps_nb_double'])\n",
    "\n",
    "# chrom = ['chr4']\n",
    "for i in list(set(merged_df_2000['chr'])):\n",
    "    select_df = merged_df_2000[merged_df_2000['chr'] == i]\n",
    "    select_df['snps_b_double'] = select_df['#snps_b'] + select_df['#snps_b'].shift(1)\n",
    "    select_df['snps_nb_double'] = select_df['#snps_nb'] + select_df['#snps_nb'].shift(1)\n",
    "    select_df['start_new'] = select_df['start_region'].shift(1) #.astype(str) #+ \"_\" + select_df['stop_region'].astype(str)\n",
    "#     select_df['stop_new'] = select_df['stop_region']       \n",
    "    select_df = select_df.reset_index()\n",
    "    select_df.drop(columns=['index'], inplace=True)\n",
    "    select_df = select_df.reset_index()\n",
    "    select_df = select_df[(select_df['index'] % 2 != 0) | (select_df['index'] == select_df['index'].max())]\n",
    "    select_df['start_new'] = list(select_df['start_new'][:-1])+[list(select_df['start_region'])[-1]]\n",
    "    select_df.drop(columns=['index'], inplace=True)\n",
    "#     select_df['stop_new'] = list(select_df['stop_new'][:-1])+[list(select_df['stop_region'])[-1]]\n",
    "    df = pd.concat([df, select_df])\n"
   ]
  },
  {
   "cell_type": "code",
   "execution_count": null,
   "metadata": {},
   "outputs": [],
   "source": [
    "df"
   ]
  },
  {
   "cell_type": "code",
   "execution_count": null,
   "metadata": {},
   "outputs": [],
   "source": [
    "set(df['snps_b_double'])"
   ]
  },
  {
   "cell_type": "code",
   "execution_count": null,
   "metadata": {},
   "outputs": [],
   "source": [
    "df[df['snps_b_double'].isnull()]"
   ]
  },
  {
   "cell_type": "code",
   "execution_count": null,
   "metadata": {},
   "outputs": [],
   "source": [
    "# https://www.reneshbedre.com/blog/mann-whitney-u-test.html\n",
    "df.boxplot(column=['snps_b_double'], grid=False)"
   ]
  },
  {
   "cell_type": "code",
   "execution_count": null,
   "metadata": {},
   "outputs": [],
   "source": [
    "df.boxplot(column=['snps_nb_double'], grid=False)"
   ]
  },
  {
   "cell_type": "code",
   "execution_count": null,
   "metadata": {},
   "outputs": [],
   "source": [
    "df['filter_snps_b'] = df['snps_b_double']/ 286\n",
    "df['filter_snps_nb'] = df['snps_nb_double']/ 1952"
   ]
  },
  {
   "cell_type": "code",
   "execution_count": null,
   "metadata": {},
   "outputs": [],
   "source": [
    "df"
   ]
  },
  {
   "cell_type": "code",
   "execution_count": null,
   "metadata": {},
   "outputs": [],
   "source": [
    "\"\"\"\n",
    "As the p value obtained from the Shapiro-Wilk test is significant (p < 0.05), \n",
    "we conclude that the data is not normally distributed. Further, in histogram data \n",
    "distribution shape does not look normal. Therefore, Mann-Whitney U test is more appropriate for analyzing two samples.\n",
    "\"\"\"\n",
    "w, pvalue = stats.shapiro(df['snps_b_double'])\n",
    "print(f'w:{w}, pvalue:{pvalue}')\n",
    "# plot histogram\n",
    "fig, (ax1, ax2) = plt.subplots(1, 2)\n",
    "fig.suptitle('Frequency histogram')\n",
    "ax1.hist(df['filter_snps_b'], bins=int(df['snps_b_double'].max()), histtype='bar', ec='k') \n",
    "ax2.hist(df['snps_b_double'], bins=int(df['snps_b_double'].max()), histtype='bar', ec='k') \n",
    "plt.show()"
   ]
  },
  {
   "cell_type": "code",
   "execution_count": null,
   "metadata": {},
   "outputs": [],
   "source": [
    "\"\"\"\n",
    "As the p value obtained from the Shapiro-Wilk test is significant (p < 0.05), \n",
    "we conclude that the data is not normally distributed. Further, in histogram data \n",
    "distribution shape does not look normal. Therefore, Mann-Whitney U test is more appropriate for analyzing two samples.\n",
    "\"\"\"\n",
    "w, pvalue = stats.shapiro(df['snps_nb_double'])\n",
    "print(f'w:{w}, pvalue:{pvalue}')\n",
    "# plot histogram\n",
    "fig, (ax1, ax2) = plt.subplots(1, 2)\n",
    "fig.suptitle('Frequency histogram')\n",
    "ax1.hist(df['filter_snps_nb'], bins=int(df['snps_nb_double'].max()), histtype='bar', ec='k') \n",
    "ax2.hist(df['snps_nb_double'], bins=int(df['snps_nb_double'].max()), histtype='bar', ec='k') \n",
    "plt.show()"
   ]
  },
  {
   "cell_type": "code",
   "execution_count": null,
   "metadata": {},
   "outputs": [],
   "source": [
    "\"\"\"\n",
    "Mann-Whitney U test interpretation: As the p value obtained from the Mann-Whitney U test \n",
    "is significant (U = 489.5, p < 0.05), we conclude that the yield of the two genotypes \n",
    "significantly different from each other .\n",
    "\"\"\"\n",
    "# U1, p = mannwhitneyu(list(breast['filter_snps']), list(nonbreast['filter_snps']), alternative = 'two-sided')\n",
    "mannwhitneyu(list(df['filter_snps_b']), list(df['filter_snps_nb']), alternative = 'two-sided')\n"
   ]
  },
  {
   "cell_type": "code",
   "execution_count": null,
   "metadata": {},
   "outputs": [],
   "source": [
    "df, S_C, n, S, C = chi_square_self(df, 'snps_b_double', 'snps_b_double')\n",
    "df = chi_square(S_C, df)\n",
    "df = log2_fc(df, n, S)\n",
    "df = fisher_test(S_C, df)\n",
    "df = log2_fc(df, n, S)\n",
    "df.to_csv(f\"D:/Hanze_Groningen/STAGE/R/chrom_split_2000.tsv\", sep='\\t', encoding='utf-8', index=False)"
   ]
  },
  {
   "cell_type": "code",
   "execution_count": null,
   "metadata": {},
   "outputs": [],
   "source": [
    "print(df['p_value_F'].corr(df['p_value_X2']))\n",
    "print(df['p_value_F'].corr(df['p_value_X2_TEST']))"
   ]
  },
  {
   "cell_type": "code",
   "execution_count": null,
   "metadata": {},
   "outputs": [],
   "source": [
    "plt = visuz.GeneExpression.volcano(df=df,lfc='log2_fc',pv='p_value_X2',show=True)\n"
   ]
  },
  {
   "cell_type": "code",
   "execution_count": null,
   "metadata": {},
   "outputs": [],
   "source": [
    "plt = visuz.GeneExpression.volcano(df=df,lfc='log2_fc',pv='p_value_X2_TEST',show=True)\n"
   ]
  },
  {
   "cell_type": "code",
   "execution_count": null,
   "metadata": {},
   "outputs": [],
   "source": [
    "plt = visuz.GeneExpression.volcano(df=df,lfc='log2_fc',pv='p_value_F',show=True)\n"
   ]
  },
  {
   "cell_type": "code",
   "execution_count": null,
   "metadata": {},
   "outputs": [],
   "source": []
  },
  {
   "cell_type": "code",
   "execution_count": null,
   "metadata": {},
   "outputs": [],
   "source": []
  },
  {
   "cell_type": "code",
   "execution_count": null,
   "metadata": {},
   "outputs": [],
   "source": []
  },
  {
   "cell_type": "code",
   "execution_count": null,
   "metadata": {},
   "outputs": [],
   "source": [
    "# print(merged_df['start_region'].max())\n",
    "# print(merged_df['stop_region'].max())"
   ]
  },
  {
   "cell_type": "code",
   "execution_count": null,
   "metadata": {},
   "outputs": [],
   "source": [
    "# test = merged_df[merged_df['#snps_b'] >2]"
   ]
  },
  {
   "cell_type": "code",
   "execution_count": null,
   "metadata": {},
   "outputs": [],
   "source": [
    "# test['#snps_b_double'] = test['#snps_b'] + test['#snps_b'].shift(1)\n",
    "# test"
   ]
  },
  {
   "cell_type": "code",
   "execution_count": null,
   "metadata": {},
   "outputs": [],
   "source": [
    "# merged_df['next_chr'] = merged_df['chr'] != merged_df['chr'].shift(1)"
   ]
  },
  {
   "cell_type": "code",
   "execution_count": null,
   "metadata": {},
   "outputs": [],
   "source": [
    "# df = pd.DataFrame(columns=['#snps_b', 'chr', 'start_region', 'stop_region', '#snps_nb', 'snps_b_double', 'snps_nb_double'])\n",
    "\n",
    "# # chrom = ['chr1', 'chr2', 'chr3']\n",
    "# for i in list(set(merged_df['chr'])):\n",
    "#     select_df = merged_df[merged_df['chr'] == i]\n",
    "#     select_df['snps_b_double'] = select_df['#snps_b'] + select_df['#snps_b'].shift(1)\n",
    "#     select_df['snps_nb_double'] = select_df['#snps_nb'] + select_df['#snps_nb'].shift(1)\n",
    "#     select_df['start_new'] = select_df['start_region'].shift(1) #.astype(str) #+ \"_\" + select_df['stop_region'].astype(str)\n",
    "# #     select_df['stop_new'] = select_df['stop_region']       \n",
    "#     select_df = select_df.reset_index()   \n",
    "#     select_df = select_df[(~select_df['index'] % 2 == 0) | (select_df['index'] == select_df['index'].max())]\n",
    "#     select_df['start_new'] = list(select_df['start_new'][:-1])+[list(select_df['start_region'])[-1]]\n",
    "#     select_df.drop(columns=['index'], inplace=True)\n",
    "# #     select_df['stop_new'] = list(select_df['stop_new'][:-1])+[list(select_df['stop_region'])[-1]]\n",
    "#     df = pd.concat([df, select_df])\n"
   ]
  },
  {
   "cell_type": "code",
   "execution_count": null,
   "metadata": {},
   "outputs": [],
   "source": [
    "df"
   ]
  },
  {
   "cell_type": "code",
   "execution_count": null,
   "metadata": {},
   "outputs": [],
   "source": []
  },
  {
   "cell_type": "code",
   "execution_count": null,
   "metadata": {},
   "outputs": [],
   "source": []
  },
  {
   "cell_type": "code",
   "execution_count": null,
   "metadata": {},
   "outputs": [],
   "source": []
  },
  {
   "cell_type": "code",
   "execution_count": null,
   "metadata": {},
   "outputs": [],
   "source": []
  },
  {
   "cell_type": "code",
   "execution_count": null,
   "metadata": {},
   "outputs": [],
   "source": []
  }
 ],
 "metadata": {
  "kernelspec": {
   "display_name": "Python [conda env:umap] *",
   "language": "python",
   "name": "conda-env-umap-py"
  },
  "language_info": {
   "codemirror_mode": {
    "name": "ipython",
    "version": 3
   },
   "file_extension": ".py",
   "mimetype": "text/x-python",
   "name": "python",
   "nbconvert_exporter": "python",
   "pygments_lexer": "ipython3",
   "version": "3.8.12"
  }
 },
 "nbformat": 4,
 "nbformat_minor": 4
}
