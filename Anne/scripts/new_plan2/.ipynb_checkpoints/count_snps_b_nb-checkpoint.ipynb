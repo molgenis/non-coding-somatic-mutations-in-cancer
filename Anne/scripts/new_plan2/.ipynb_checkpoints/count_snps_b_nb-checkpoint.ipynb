{
 "cells": [
  {
   "cell_type": "code",
   "execution_count": 1,
   "metadata": {},
   "outputs": [],
   "source": [
    "from Database import Database\n",
    "import sys\n",
    "# import multiprocessing as mp\n",
    "import pandas as pd\n",
    "from collections import Counter\n",
    "import matplotlib.pyplot as plt\n",
    "import seaborn as sns\n",
    "from scipy.stats import chi2_contingency\n",
    "import numpy as np"
   ]
  },
  {
   "cell_type": "code",
   "execution_count": 2,
   "metadata": {},
   "outputs": [],
   "source": [
    "def get_project_ids(db):\n",
    "    db.cursor.execute(\"\"\"SELECT *\n",
    "                            FROM project\"\"\")\n",
    "    projects = db.cursor.fetchall()\n",
    "    dict_project = dict()\n",
    "    for proj in projects:\n",
    "        dict_project[proj['ID']] = proj['project_ID']\n",
    "    return dict_project"
   ]
  },
  {
   "cell_type": "code",
   "execution_count": 3,
   "metadata": {},
   "outputs": [
    {
     "name": "stdout",
     "output_type": "stream",
     "text": [
      "43\n"
     ]
    }
   ],
   "source": [
    " path_db = 'D:/Hanze_Groningen/STAGE/db_laatste_copy.db' #'D:/Hanze_Groningen/STAGE/DATAB/copydatabase_C.db'\n",
    "# Database connection\n",
    "db = Database(path_db)\n",
    "dict_project = get_project_ids(db)\n",
    "print(len(dict_project))"
   ]
  },
  {
   "cell_type": "code",
   "execution_count": 4,
   "metadata": {},
   "outputs": [],
   "source": [
    "df = pd.read_sql('''SELECT project.cancer, sum_dosage_GT.donor_project_ID, \n",
    "                            sum_dosage_GT.donor_ID, sum_dosage_GT.snp_ID, \n",
    "                            snp.chr, snp.pos_start, snp.pos_end \n",
    "                    FROM project, sum_dosage_GT, snp \n",
    "                    WHERE sum_dosage_GT.snp_ID=snp.ID AND \n",
    "                              sum_dosage_GT.donor_project_ID = project.ID AND \n",
    "                              (sum_dosage_GT.GT2 = 1 OR sum_dosage_GT.GT2 = 2) AND \n",
    "                              sum_dosage_GT.total_read_count_sum >= 33;''', db.mydb_connection)"
   ]
  },
  {
   "cell_type": "code",
   "execution_count": 5,
   "metadata": {},
   "outputs": [
    {
     "name": "stdout",
     "output_type": "stream",
     "text": [
      "HEAD\n",
      "          cancer  donor_project_ID  donor_ID  snp_ID chr  pos_start    pos_end\n",
      "0  Head and neck                 1         1      41  11  101465614  101465614\n",
      "1  Head and neck                 1         1     151  11  103127113  103127113\n",
      "2  Head and neck                 1         1     197   8   82046917   82046917\n",
      "3  Head and neck                 1         1     216  11  107789760  107789760\n",
      "4  Head and neck                 1         1     241  14   48732779   48732779\n",
      "15\n",
      "{'Brain', 'Ovary', 'Colorectal', 'Kidney', 'Bone', 'Liver', 'Mesenchymal', 'Cervix', 'Breast', 'Bladder', 'Head and neck', 'Stomach', 'Gall Bladder', 'Blood', 'Uterus'}\n",
      "40\n",
      "{1, 2, 3, 4, 5, 6, 7, 8, 9, 10, 11, 12, 13, 14, 15, 18, 19, 20, 22, 23, 24, 25, 26, 27, 28, 29, 30, 31, 32, 33, 34, 35, 36, 37, 38, 39, 40, 41, 42, 43}\n",
      "2169\n",
      "5651989\n",
      "5855204\n",
      "{'4', '12', '19', '2', '16', 'X', '10', 'MT', '8', '18', '9', 'Y', '7', '6', '15', '11', '21', '13', '5', '1', '3', '17', '14', '22', '20'}\n"
     ]
    }
   ],
   "source": [
    "print('HEAD')\n",
    "print(df.head())\n",
    "print(len(set(df['cancer'])))\n",
    "print(set(df['cancer']))\n",
    "print(len(set(df['donor_project_ID'])))\n",
    "print(set(df['donor_project_ID']))\n",
    "print(len(set(df['donor_ID'])))\n",
    "print(len(set(df['snp_ID'])))\n",
    "print(len(df))\n",
    "print(set(df['chr']))"
   ]
  },
  {
   "cell_type": "code",
   "execution_count": 6,
   "metadata": {},
   "outputs": [
    {
     "name": "stderr",
     "output_type": "stream",
     "text": [
      "<ipython-input-6-5a2c1653c4d5>:2: SettingWithCopyWarning: \n",
      "A value is trying to be set on a copy of a slice from a DataFrame.\n",
      "Try using .loc[row_indexer,col_indexer] = value instead\n",
      "\n",
      "See the caveats in the documentation: https://pandas.pydata.org/pandas-docs/stable/user_guide/indexing.html#returning-a-view-versus-a-copy\n",
      "  df_fil['chr'] ='chr' + df_fil['chr'].astype(str)\n"
     ]
    }
   ],
   "source": [
    "df_fil = df.loc[df['chr'] != 'MT']\n",
    "df_fil['chr'] ='chr' + df_fil['chr'].astype(str)"
   ]
  },
  {
   "cell_type": "code",
   "execution_count": 7,
   "metadata": {},
   "outputs": [
    {
     "name": "stderr",
     "output_type": "stream",
     "text": [
      "<ipython-input-7-bb9243d632d2>:3: SettingWithCopyWarning: \n",
      "A value is trying to be set on a copy of a slice from a DataFrame\n",
      "\n",
      "See the caveats in the documentation: https://pandas.pydata.org/pandas-docs/stable/user_guide/indexing.html#returning-a-view-versus-a-copy\n",
      "  breast_cancer1.sort_values(by=['chr', 'pos_start'], inplace=True)\n"
     ]
    }
   ],
   "source": [
    "breast_cancer = df_fil.loc[df_fil['cancer'] == 'Breast']\n",
    "breast_cancer1 = breast_cancer[['chr', 'pos_start', 'pos_end']]\n",
    "breast_cancer1.sort_values(by=['chr', 'pos_start'], inplace=True)"
   ]
  },
  {
   "cell_type": "code",
   "execution_count": 8,
   "metadata": {},
   "outputs": [
    {
     "name": "stderr",
     "output_type": "stream",
     "text": [
      "<ipython-input-8-4f38133a77e2>:3: SettingWithCopyWarning: \n",
      "A value is trying to be set on a copy of a slice from a DataFrame\n",
      "\n",
      "See the caveats in the documentation: https://pandas.pydata.org/pandas-docs/stable/user_guide/indexing.html#returning-a-view-versus-a-copy\n",
      "  nonbreast_cancer1.sort_values(by=['chr', 'pos_start'], inplace=True)\n"
     ]
    }
   ],
   "source": [
    "nonbreast_cancer = df_fil.loc[df_fil['cancer'] != 'Breast']\n",
    "nonbreast_cancer1 = nonbreast_cancer[['chr', 'pos_start', 'pos_end']]\n",
    "nonbreast_cancer1.sort_values(by=['chr', 'pos_start'], inplace=True)"
   ]
  },
  {
   "cell_type": "code",
   "execution_count": 9,
   "metadata": {},
   "outputs": [
    {
     "name": "stderr",
     "output_type": "stream",
     "text": [
      "<ipython-input-9-8adcad4a8fd6>:1: SettingWithCopyWarning: \n",
      "A value is trying to be set on a copy of a slice from a DataFrame.\n",
      "Try using .loc[row_indexer,col_indexer] = value instead\n",
      "\n",
      "See the caveats in the documentation: https://pandas.pydata.org/pandas-docs/stable/user_guide/indexing.html#returning-a-view-versus-a-copy\n",
      "  breast_cancer['snp'] = breast_cancer['chr'] + '_' + breast_cancer['pos_start'].map(str) + '_' + breast_cancer['pos_end'].map(str)\n"
     ]
    },
    {
     "name": "stdout",
     "output_type": "stream",
     "text": [
      "285\n"
     ]
    },
    {
     "data": {
      "text/html": [
       "<div>\n",
       "<style scoped>\n",
       "    .dataframe tbody tr th:only-of-type {\n",
       "        vertical-align: middle;\n",
       "    }\n",
       "\n",
       "    .dataframe tbody tr th {\n",
       "        vertical-align: top;\n",
       "    }\n",
       "\n",
       "    .dataframe thead th {\n",
       "        text-align: right;\n",
       "    }\n",
       "</style>\n",
       "<table border=\"1\" class=\"dataframe\">\n",
       "  <thead>\n",
       "    <tr style=\"text-align: right;\">\n",
       "      <th></th>\n",
       "      <th>cancer</th>\n",
       "      <th>donor_project_ID</th>\n",
       "      <th>donor_ID</th>\n",
       "      <th>snp_ID</th>\n",
       "      <th>chr</th>\n",
       "      <th>pos_start</th>\n",
       "      <th>pos_end</th>\n",
       "      <th>snp</th>\n",
       "    </tr>\n",
       "  </thead>\n",
       "  <tbody>\n",
       "    <tr>\n",
       "      <th>776755</th>\n",
       "      <td>Breast</td>\n",
       "      <td>25</td>\n",
       "      <td>1305</td>\n",
       "      <td>1979425</td>\n",
       "      <td>chr9</td>\n",
       "      <td>104350785</td>\n",
       "      <td>104350785</td>\n",
       "      <td>chr9_104350785_104350785</td>\n",
       "    </tr>\n",
       "    <tr>\n",
       "      <th>776756</th>\n",
       "      <td>Breast</td>\n",
       "      <td>25</td>\n",
       "      <td>1305</td>\n",
       "      <td>3656805</td>\n",
       "      <td>chr1</td>\n",
       "      <td>25646616</td>\n",
       "      <td>25646616</td>\n",
       "      <td>chr1_25646616_25646616</td>\n",
       "    </tr>\n",
       "    <tr>\n",
       "      <th>776757</th>\n",
       "      <td>Breast</td>\n",
       "      <td>25</td>\n",
       "      <td>1305</td>\n",
       "      <td>3656808</td>\n",
       "      <td>chr1</td>\n",
       "      <td>25646640</td>\n",
       "      <td>25646640</td>\n",
       "      <td>chr1_25646640_25646640</td>\n",
       "    </tr>\n",
       "    <tr>\n",
       "      <th>776758</th>\n",
       "      <td>Breast</td>\n",
       "      <td>25</td>\n",
       "      <td>1305</td>\n",
       "      <td>3656812</td>\n",
       "      <td>chr1</td>\n",
       "      <td>29155652</td>\n",
       "      <td>29155652</td>\n",
       "      <td>chr1_29155652_29155652</td>\n",
       "    </tr>\n",
       "    <tr>\n",
       "      <th>776759</th>\n",
       "      <td>Breast</td>\n",
       "      <td>25</td>\n",
       "      <td>1305</td>\n",
       "      <td>3656831</td>\n",
       "      <td>chr1</td>\n",
       "      <td>61862224</td>\n",
       "      <td>61862224</td>\n",
       "      <td>chr1_61862224_61862224</td>\n",
       "    </tr>\n",
       "    <tr>\n",
       "      <th>...</th>\n",
       "      <td>...</td>\n",
       "      <td>...</td>\n",
       "      <td>...</td>\n",
       "      <td>...</td>\n",
       "      <td>...</td>\n",
       "      <td>...</td>\n",
       "      <td>...</td>\n",
       "      <td>...</td>\n",
       "    </tr>\n",
       "    <tr>\n",
       "      <th>993973</th>\n",
       "      <td>Breast</td>\n",
       "      <td>28</td>\n",
       "      <td>2057</td>\n",
       "      <td>8740839</td>\n",
       "      <td>chr8</td>\n",
       "      <td>48761994</td>\n",
       "      <td>48761994</td>\n",
       "      <td>chr8_48761994_48761994</td>\n",
       "    </tr>\n",
       "    <tr>\n",
       "      <th>993974</th>\n",
       "      <td>Breast</td>\n",
       "      <td>28</td>\n",
       "      <td>2057</td>\n",
       "      <td>8740853</td>\n",
       "      <td>chr2</td>\n",
       "      <td>54494456</td>\n",
       "      <td>54494456</td>\n",
       "      <td>chr2_54494456_54494456</td>\n",
       "    </tr>\n",
       "    <tr>\n",
       "      <th>993975</th>\n",
       "      <td>Breast</td>\n",
       "      <td>28</td>\n",
       "      <td>2057</td>\n",
       "      <td>8740862</td>\n",
       "      <td>chr22</td>\n",
       "      <td>46712078</td>\n",
       "      <td>46712078</td>\n",
       "      <td>chr22_46712078_46712078</td>\n",
       "    </tr>\n",
       "    <tr>\n",
       "      <th>993976</th>\n",
       "      <td>Breast</td>\n",
       "      <td>28</td>\n",
       "      <td>2057</td>\n",
       "      <td>8740870</td>\n",
       "      <td>chr17</td>\n",
       "      <td>33772618</td>\n",
       "      <td>33772618</td>\n",
       "      <td>chr17_33772618_33772618</td>\n",
       "    </tr>\n",
       "    <tr>\n",
       "      <th>993977</th>\n",
       "      <td>Breast</td>\n",
       "      <td>28</td>\n",
       "      <td>2057</td>\n",
       "      <td>8740871</td>\n",
       "      <td>chr7</td>\n",
       "      <td>100187289</td>\n",
       "      <td>100187289</td>\n",
       "      <td>chr7_100187289_100187289</td>\n",
       "    </tr>\n",
       "  </tbody>\n",
       "</table>\n",
       "<p>217223 rows × 8 columns</p>\n",
       "</div>"
      ],
      "text/plain": [
       "        cancer  donor_project_ID  donor_ID   snp_ID    chr  pos_start  \\\n",
       "776755  Breast                25      1305  1979425   chr9  104350785   \n",
       "776756  Breast                25      1305  3656805   chr1   25646616   \n",
       "776757  Breast                25      1305  3656808   chr1   25646640   \n",
       "776758  Breast                25      1305  3656812   chr1   29155652   \n",
       "776759  Breast                25      1305  3656831   chr1   61862224   \n",
       "...        ...               ...       ...      ...    ...        ...   \n",
       "993973  Breast                28      2057  8740839   chr8   48761994   \n",
       "993974  Breast                28      2057  8740853   chr2   54494456   \n",
       "993975  Breast                28      2057  8740862  chr22   46712078   \n",
       "993976  Breast                28      2057  8740870  chr17   33772618   \n",
       "993977  Breast                28      2057  8740871   chr7  100187289   \n",
       "\n",
       "          pos_end                       snp  \n",
       "776755  104350785  chr9_104350785_104350785  \n",
       "776756   25646616    chr1_25646616_25646616  \n",
       "776757   25646640    chr1_25646640_25646640  \n",
       "776758   29155652    chr1_29155652_29155652  \n",
       "776759   61862224    chr1_61862224_61862224  \n",
       "...           ...                       ...  \n",
       "993973   48761994    chr8_48761994_48761994  \n",
       "993974   54494456    chr2_54494456_54494456  \n",
       "993975   46712078   chr22_46712078_46712078  \n",
       "993976   33772618   chr17_33772618_33772618  \n",
       "993977  100187289  chr7_100187289_100187289  \n",
       "\n",
       "[217223 rows x 8 columns]"
      ]
     },
     "execution_count": 9,
     "metadata": {},
     "output_type": "execute_result"
    }
   ],
   "source": [
    "breast_cancer['snp'] = breast_cancer['chr'] + '_' + breast_cancer['pos_start'].map(str) + '_' + breast_cancer['pos_end'].map(str)\n",
    "print(len(list(set(breast_cancer['donor_ID']))))\n",
    "num_donor_breast = len(list(set(breast_cancer['donor_ID'])))\n",
    "breast_cancer"
   ]
  },
  {
   "cell_type": "code",
   "execution_count": 10,
   "metadata": {},
   "outputs": [
    {
     "name": "stderr",
     "output_type": "stream",
     "text": [
      "<ipython-input-10-a350e5104874>:1: SettingWithCopyWarning: \n",
      "A value is trying to be set on a copy of a slice from a DataFrame.\n",
      "Try using .loc[row_indexer,col_indexer] = value instead\n",
      "\n",
      "See the caveats in the documentation: https://pandas.pydata.org/pandas-docs/stable/user_guide/indexing.html#returning-a-view-versus-a-copy\n",
      "  nonbreast_cancer['snp'] = nonbreast_cancer['chr'] + '_' + nonbreast_cancer['pos_start'].map(str) + '_' + nonbreast_cancer['pos_end'].map(str)\n"
     ]
    },
    {
     "name": "stdout",
     "output_type": "stream",
     "text": [
      "1884\n"
     ]
    },
    {
     "data": {
      "text/html": [
       "<div>\n",
       "<style scoped>\n",
       "    .dataframe tbody tr th:only-of-type {\n",
       "        vertical-align: middle;\n",
       "    }\n",
       "\n",
       "    .dataframe tbody tr th {\n",
       "        vertical-align: top;\n",
       "    }\n",
       "\n",
       "    .dataframe thead th {\n",
       "        text-align: right;\n",
       "    }\n",
       "</style>\n",
       "<table border=\"1\" class=\"dataframe\">\n",
       "  <thead>\n",
       "    <tr style=\"text-align: right;\">\n",
       "      <th></th>\n",
       "      <th>cancer</th>\n",
       "      <th>donor_project_ID</th>\n",
       "      <th>donor_ID</th>\n",
       "      <th>snp_ID</th>\n",
       "      <th>chr</th>\n",
       "      <th>pos_start</th>\n",
       "      <th>pos_end</th>\n",
       "      <th>snp</th>\n",
       "    </tr>\n",
       "  </thead>\n",
       "  <tbody>\n",
       "    <tr>\n",
       "      <th>0</th>\n",
       "      <td>Head and neck</td>\n",
       "      <td>1</td>\n",
       "      <td>1</td>\n",
       "      <td>41</td>\n",
       "      <td>chr11</td>\n",
       "      <td>101465614</td>\n",
       "      <td>101465614</td>\n",
       "      <td>chr11_101465614_101465614</td>\n",
       "    </tr>\n",
       "    <tr>\n",
       "      <th>1</th>\n",
       "      <td>Head and neck</td>\n",
       "      <td>1</td>\n",
       "      <td>1</td>\n",
       "      <td>151</td>\n",
       "      <td>chr11</td>\n",
       "      <td>103127113</td>\n",
       "      <td>103127113</td>\n",
       "      <td>chr11_103127113_103127113</td>\n",
       "    </tr>\n",
       "    <tr>\n",
       "      <th>2</th>\n",
       "      <td>Head and neck</td>\n",
       "      <td>1</td>\n",
       "      <td>1</td>\n",
       "      <td>197</td>\n",
       "      <td>chr8</td>\n",
       "      <td>82046917</td>\n",
       "      <td>82046917</td>\n",
       "      <td>chr8_82046917_82046917</td>\n",
       "    </tr>\n",
       "    <tr>\n",
       "      <th>3</th>\n",
       "      <td>Head and neck</td>\n",
       "      <td>1</td>\n",
       "      <td>1</td>\n",
       "      <td>216</td>\n",
       "      <td>chr11</td>\n",
       "      <td>107789760</td>\n",
       "      <td>107789760</td>\n",
       "      <td>chr11_107789760_107789760</td>\n",
       "    </tr>\n",
       "    <tr>\n",
       "      <th>4</th>\n",
       "      <td>Head and neck</td>\n",
       "      <td>1</td>\n",
       "      <td>1</td>\n",
       "      <td>241</td>\n",
       "      <td>chr14</td>\n",
       "      <td>48732779</td>\n",
       "      <td>48732779</td>\n",
       "      <td>chr14_48732779_48732779</td>\n",
       "    </tr>\n",
       "    <tr>\n",
       "      <th>...</th>\n",
       "      <td>...</td>\n",
       "      <td>...</td>\n",
       "      <td>...</td>\n",
       "      <td>...</td>\n",
       "      <td>...</td>\n",
       "      <td>...</td>\n",
       "      <td>...</td>\n",
       "      <td>...</td>\n",
       "    </tr>\n",
       "    <tr>\n",
       "      <th>5855199</th>\n",
       "      <td>Mesenchymal</td>\n",
       "      <td>43</td>\n",
       "      <td>2996</td>\n",
       "      <td>21812208</td>\n",
       "      <td>chr7</td>\n",
       "      <td>102949431</td>\n",
       "      <td>102949431</td>\n",
       "      <td>chr7_102949431_102949431</td>\n",
       "    </tr>\n",
       "    <tr>\n",
       "      <th>5855200</th>\n",
       "      <td>Mesenchymal</td>\n",
       "      <td>43</td>\n",
       "      <td>2996</td>\n",
       "      <td>21812224</td>\n",
       "      <td>chr11</td>\n",
       "      <td>121028837</td>\n",
       "      <td>121028837</td>\n",
       "      <td>chr11_121028837_121028837</td>\n",
       "    </tr>\n",
       "    <tr>\n",
       "      <th>5855201</th>\n",
       "      <td>Mesenchymal</td>\n",
       "      <td>43</td>\n",
       "      <td>2996</td>\n",
       "      <td>21812247</td>\n",
       "      <td>chr1</td>\n",
       "      <td>155658167</td>\n",
       "      <td>155658167</td>\n",
       "      <td>chr1_155658167_155658167</td>\n",
       "    </tr>\n",
       "    <tr>\n",
       "      <th>5855202</th>\n",
       "      <td>Mesenchymal</td>\n",
       "      <td>43</td>\n",
       "      <td>2996</td>\n",
       "      <td>21812248</td>\n",
       "      <td>chr17</td>\n",
       "      <td>46607840</td>\n",
       "      <td>46607840</td>\n",
       "      <td>chr17_46607840_46607840</td>\n",
       "    </tr>\n",
       "    <tr>\n",
       "      <th>5855203</th>\n",
       "      <td>Mesenchymal</td>\n",
       "      <td>43</td>\n",
       "      <td>2996</td>\n",
       "      <td>21812249</td>\n",
       "      <td>chr15</td>\n",
       "      <td>55919246</td>\n",
       "      <td>55919246</td>\n",
       "      <td>chr15_55919246_55919246</td>\n",
       "    </tr>\n",
       "  </tbody>\n",
       "</table>\n",
       "<p>5637860 rows × 8 columns</p>\n",
       "</div>"
      ],
      "text/plain": [
       "                cancer  donor_project_ID  donor_ID    snp_ID    chr  \\\n",
       "0        Head and neck                 1         1        41  chr11   \n",
       "1        Head and neck                 1         1       151  chr11   \n",
       "2        Head and neck                 1         1       197   chr8   \n",
       "3        Head and neck                 1         1       216  chr11   \n",
       "4        Head and neck                 1         1       241  chr14   \n",
       "...                ...               ...       ...       ...    ...   \n",
       "5855199    Mesenchymal                43      2996  21812208   chr7   \n",
       "5855200    Mesenchymal                43      2996  21812224  chr11   \n",
       "5855201    Mesenchymal                43      2996  21812247   chr1   \n",
       "5855202    Mesenchymal                43      2996  21812248  chr17   \n",
       "5855203    Mesenchymal                43      2996  21812249  chr15   \n",
       "\n",
       "         pos_start    pos_end                        snp  \n",
       "0        101465614  101465614  chr11_101465614_101465614  \n",
       "1        103127113  103127113  chr11_103127113_103127113  \n",
       "2         82046917   82046917     chr8_82046917_82046917  \n",
       "3        107789760  107789760  chr11_107789760_107789760  \n",
       "4         48732779   48732779    chr14_48732779_48732779  \n",
       "...            ...        ...                        ...  \n",
       "5855199  102949431  102949431   chr7_102949431_102949431  \n",
       "5855200  121028837  121028837  chr11_121028837_121028837  \n",
       "5855201  155658167  155658167   chr1_155658167_155658167  \n",
       "5855202   46607840   46607840    chr17_46607840_46607840  \n",
       "5855203   55919246   55919246    chr15_55919246_55919246  \n",
       "\n",
       "[5637860 rows x 8 columns]"
      ]
     },
     "execution_count": 10,
     "metadata": {},
     "output_type": "execute_result"
    }
   ],
   "source": [
    "nonbreast_cancer['snp'] = nonbreast_cancer['chr'] + '_' + nonbreast_cancer['pos_start'].map(str) + '_' + nonbreast_cancer['pos_end'].map(str)\n",
    "print(len(list(set(nonbreast_cancer['donor_ID']))))\n",
    "num_donor_nonbreast = len(list(set(nonbreast_cancer['donor_ID'])))\n",
    "nonbreast_cancer"
   ]
  },
  {
   "cell_type": "code",
   "execution_count": 11,
   "metadata": {},
   "outputs": [],
   "source": [
    "breast_dict = dict(Counter(list(breast_cancer['snp'])))\n",
    "nonbreast_dict = dict(Counter(list(nonbreast_cancer['snp'])))\n"
   ]
  },
  {
   "cell_type": "code",
   "execution_count": 12,
   "metadata": {},
   "outputs": [
    {
     "data": {
      "text/plain": [
       "22"
      ]
     },
     "execution_count": 12,
     "metadata": {},
     "output_type": "execute_result"
    }
   ],
   "source": [
    "breast_snp_count_df = pd.DataFrame([breast_dict.keys(), breast_dict.values()]).T\n",
    "breast_snp_count_df.columns= ['snp', 'counts']\n",
    "\n",
    "max_breast = breast_snp_count_df['counts'].max()\n",
    "breast_snp_count_df['counts'].max()"
   ]
  },
  {
   "cell_type": "code",
   "execution_count": 13,
   "metadata": {},
   "outputs": [
    {
     "data": {
      "text/html": [
       "<div>\n",
       "<style scoped>\n",
       "    .dataframe tbody tr th:only-of-type {\n",
       "        vertical-align: middle;\n",
       "    }\n",
       "\n",
       "    .dataframe tbody tr th {\n",
       "        vertical-align: top;\n",
       "    }\n",
       "\n",
       "    .dataframe thead th {\n",
       "        text-align: right;\n",
       "    }\n",
       "</style>\n",
       "<table border=\"1\" class=\"dataframe\">\n",
       "  <thead>\n",
       "    <tr style=\"text-align: right;\">\n",
       "      <th></th>\n",
       "      <th>snp</th>\n",
       "      <th>counts</th>\n",
       "    </tr>\n",
       "  </thead>\n",
       "  <tbody>\n",
       "    <tr>\n",
       "      <th>0</th>\n",
       "      <td>chr9_104350785_104350785</td>\n",
       "      <td>1</td>\n",
       "    </tr>\n",
       "    <tr>\n",
       "      <th>1</th>\n",
       "      <td>chr1_25646616_25646616</td>\n",
       "      <td>1</td>\n",
       "    </tr>\n",
       "    <tr>\n",
       "      <th>2</th>\n",
       "      <td>chr1_25646640_25646640</td>\n",
       "      <td>1</td>\n",
       "    </tr>\n",
       "    <tr>\n",
       "      <th>3</th>\n",
       "      <td>chr1_29155652_29155652</td>\n",
       "      <td>1</td>\n",
       "    </tr>\n",
       "    <tr>\n",
       "      <th>4</th>\n",
       "      <td>chr1_61862224_61862224</td>\n",
       "      <td>1</td>\n",
       "    </tr>\n",
       "    <tr>\n",
       "      <th>...</th>\n",
       "      <td>...</td>\n",
       "      <td>...</td>\n",
       "    </tr>\n",
       "    <tr>\n",
       "      <th>217123</th>\n",
       "      <td>chr8_48761994_48761994</td>\n",
       "      <td>1</td>\n",
       "    </tr>\n",
       "    <tr>\n",
       "      <th>217124</th>\n",
       "      <td>chr2_54494456_54494456</td>\n",
       "      <td>1</td>\n",
       "    </tr>\n",
       "    <tr>\n",
       "      <th>217125</th>\n",
       "      <td>chr22_46712078_46712078</td>\n",
       "      <td>1</td>\n",
       "    </tr>\n",
       "    <tr>\n",
       "      <th>217126</th>\n",
       "      <td>chr17_33772618_33772618</td>\n",
       "      <td>1</td>\n",
       "    </tr>\n",
       "    <tr>\n",
       "      <th>217127</th>\n",
       "      <td>chr7_100187289_100187289</td>\n",
       "      <td>1</td>\n",
       "    </tr>\n",
       "  </tbody>\n",
       "</table>\n",
       "<p>217128 rows × 2 columns</p>\n",
       "</div>"
      ],
      "text/plain": [
       "                             snp counts\n",
       "0       chr9_104350785_104350785      1\n",
       "1         chr1_25646616_25646616      1\n",
       "2         chr1_25646640_25646640      1\n",
       "3         chr1_29155652_29155652      1\n",
       "4         chr1_61862224_61862224      1\n",
       "...                          ...    ...\n",
       "217123    chr8_48761994_48761994      1\n",
       "217124    chr2_54494456_54494456      1\n",
       "217125   chr22_46712078_46712078      1\n",
       "217126   chr17_33772618_33772618      1\n",
       "217127  chr7_100187289_100187289      1\n",
       "\n",
       "[217128 rows x 2 columns]"
      ]
     },
     "execution_count": 13,
     "metadata": {},
     "output_type": "execute_result"
    }
   ],
   "source": [
    "breast_snp_count_df"
   ]
  },
  {
   "cell_type": "code",
   "execution_count": 14,
   "metadata": {},
   "outputs": [
    {
     "data": {
      "text/plain": [
       "39"
      ]
     },
     "execution_count": 14,
     "metadata": {},
     "output_type": "execute_result"
    }
   ],
   "source": [
    "nonbreast_snp_count_df = pd.DataFrame([nonbreast_dict.keys(), nonbreast_dict.values()]).T\n",
    "nonbreast_snp_count_df.columns= ['snp', 'counts']\n",
    "\n",
    "max_nonbreast = nonbreast_snp_count_df['counts'].max()\n",
    "nonbreast_snp_count_df['counts'].max()"
   ]
  },
  {
   "cell_type": "code",
   "execution_count": 15,
   "metadata": {},
   "outputs": [
    {
     "data": {
      "text/html": [
       "<div>\n",
       "<style scoped>\n",
       "    .dataframe tbody tr th:only-of-type {\n",
       "        vertical-align: middle;\n",
       "    }\n",
       "\n",
       "    .dataframe tbody tr th {\n",
       "        vertical-align: top;\n",
       "    }\n",
       "\n",
       "    .dataframe thead th {\n",
       "        text-align: right;\n",
       "    }\n",
       "</style>\n",
       "<table border=\"1\" class=\"dataframe\">\n",
       "  <thead>\n",
       "    <tr style=\"text-align: right;\">\n",
       "      <th></th>\n",
       "      <th>snp</th>\n",
       "      <th>counts</th>\n",
       "    </tr>\n",
       "  </thead>\n",
       "  <tbody>\n",
       "    <tr>\n",
       "      <th>0</th>\n",
       "      <td>chr11_101465614_101465614</td>\n",
       "      <td>1</td>\n",
       "    </tr>\n",
       "    <tr>\n",
       "      <th>1</th>\n",
       "      <td>chr11_103127113_103127113</td>\n",
       "      <td>1</td>\n",
       "    </tr>\n",
       "    <tr>\n",
       "      <th>2</th>\n",
       "      <td>chr8_82046917_82046917</td>\n",
       "      <td>1</td>\n",
       "    </tr>\n",
       "    <tr>\n",
       "      <th>3</th>\n",
       "      <td>chr11_107789760_107789760</td>\n",
       "      <td>1</td>\n",
       "    </tr>\n",
       "    <tr>\n",
       "      <th>4</th>\n",
       "      <td>chr14_48732779_48732779</td>\n",
       "      <td>1</td>\n",
       "    </tr>\n",
       "    <tr>\n",
       "      <th>...</th>\n",
       "      <td>...</td>\n",
       "      <td>...</td>\n",
       "    </tr>\n",
       "    <tr>\n",
       "      <th>4677613</th>\n",
       "      <td>chr7_102949431_102949431</td>\n",
       "      <td>1</td>\n",
       "    </tr>\n",
       "    <tr>\n",
       "      <th>4677614</th>\n",
       "      <td>chr11_121028837_121028837</td>\n",
       "      <td>1</td>\n",
       "    </tr>\n",
       "    <tr>\n",
       "      <th>4677615</th>\n",
       "      <td>chr1_155658167_155658167</td>\n",
       "      <td>1</td>\n",
       "    </tr>\n",
       "    <tr>\n",
       "      <th>4677616</th>\n",
       "      <td>chr17_46607840_46607840</td>\n",
       "      <td>1</td>\n",
       "    </tr>\n",
       "    <tr>\n",
       "      <th>4677617</th>\n",
       "      <td>chr15_55919246_55919246</td>\n",
       "      <td>1</td>\n",
       "    </tr>\n",
       "  </tbody>\n",
       "</table>\n",
       "<p>4677618 rows × 2 columns</p>\n",
       "</div>"
      ],
      "text/plain": [
       "                               snp counts\n",
       "0        chr11_101465614_101465614      1\n",
       "1        chr11_103127113_103127113      1\n",
       "2           chr8_82046917_82046917      1\n",
       "3        chr11_107789760_107789760      1\n",
       "4          chr14_48732779_48732779      1\n",
       "...                            ...    ...\n",
       "4677613   chr7_102949431_102949431      1\n",
       "4677614  chr11_121028837_121028837      1\n",
       "4677615   chr1_155658167_155658167      1\n",
       "4677616    chr17_46607840_46607840      1\n",
       "4677617    chr15_55919246_55919246      1\n",
       "\n",
       "[4677618 rows x 2 columns]"
      ]
     },
     "execution_count": 15,
     "metadata": {},
     "output_type": "execute_result"
    }
   ],
   "source": [
    "nonbreast_snp_count_df"
   ]
  },
  {
   "cell_type": "code",
   "execution_count": 16,
   "metadata": {},
   "outputs": [],
   "source": [
    "breast_snp_count_df[['chr', 'pos_start', 'pos_end']] = breast_snp_count_df['snp'].str.split('_', expand=True)\n",
    "nonbreast_snp_count_df[['chr', 'pos_start', 'pos_end']] = nonbreast_snp_count_df['snp'].str.split('_', expand=True)"
   ]
  },
  {
   "cell_type": "code",
   "execution_count": 17,
   "metadata": {},
   "outputs": [
    {
     "data": {
      "text/html": [
       "<div>\n",
       "<style scoped>\n",
       "    .dataframe tbody tr th:only-of-type {\n",
       "        vertical-align: middle;\n",
       "    }\n",
       "\n",
       "    .dataframe tbody tr th {\n",
       "        vertical-align: top;\n",
       "    }\n",
       "\n",
       "    .dataframe thead th {\n",
       "        text-align: right;\n",
       "    }\n",
       "</style>\n",
       "<table border=\"1\" class=\"dataframe\">\n",
       "  <thead>\n",
       "    <tr style=\"text-align: right;\">\n",
       "      <th></th>\n",
       "      <th>snp</th>\n",
       "      <th>counts</th>\n",
       "      <th>chr</th>\n",
       "      <th>pos_start</th>\n",
       "      <th>pos_end</th>\n",
       "    </tr>\n",
       "  </thead>\n",
       "  <tbody>\n",
       "    <tr>\n",
       "      <th>0</th>\n",
       "      <td>chr9_104350785_104350785</td>\n",
       "      <td>1</td>\n",
       "      <td>chr9</td>\n",
       "      <td>104350785</td>\n",
       "      <td>104350785</td>\n",
       "    </tr>\n",
       "    <tr>\n",
       "      <th>1</th>\n",
       "      <td>chr1_25646616_25646616</td>\n",
       "      <td>1</td>\n",
       "      <td>chr1</td>\n",
       "      <td>25646616</td>\n",
       "      <td>25646616</td>\n",
       "    </tr>\n",
       "    <tr>\n",
       "      <th>2</th>\n",
       "      <td>chr1_25646640_25646640</td>\n",
       "      <td>1</td>\n",
       "      <td>chr1</td>\n",
       "      <td>25646640</td>\n",
       "      <td>25646640</td>\n",
       "    </tr>\n",
       "    <tr>\n",
       "      <th>3</th>\n",
       "      <td>chr1_29155652_29155652</td>\n",
       "      <td>1</td>\n",
       "      <td>chr1</td>\n",
       "      <td>29155652</td>\n",
       "      <td>29155652</td>\n",
       "    </tr>\n",
       "    <tr>\n",
       "      <th>4</th>\n",
       "      <td>chr1_61862224_61862224</td>\n",
       "      <td>1</td>\n",
       "      <td>chr1</td>\n",
       "      <td>61862224</td>\n",
       "      <td>61862224</td>\n",
       "    </tr>\n",
       "    <tr>\n",
       "      <th>...</th>\n",
       "      <td>...</td>\n",
       "      <td>...</td>\n",
       "      <td>...</td>\n",
       "      <td>...</td>\n",
       "      <td>...</td>\n",
       "    </tr>\n",
       "    <tr>\n",
       "      <th>217123</th>\n",
       "      <td>chr8_48761994_48761994</td>\n",
       "      <td>1</td>\n",
       "      <td>chr8</td>\n",
       "      <td>48761994</td>\n",
       "      <td>48761994</td>\n",
       "    </tr>\n",
       "    <tr>\n",
       "      <th>217124</th>\n",
       "      <td>chr2_54494456_54494456</td>\n",
       "      <td>1</td>\n",
       "      <td>chr2</td>\n",
       "      <td>54494456</td>\n",
       "      <td>54494456</td>\n",
       "    </tr>\n",
       "    <tr>\n",
       "      <th>217125</th>\n",
       "      <td>chr22_46712078_46712078</td>\n",
       "      <td>1</td>\n",
       "      <td>chr22</td>\n",
       "      <td>46712078</td>\n",
       "      <td>46712078</td>\n",
       "    </tr>\n",
       "    <tr>\n",
       "      <th>217126</th>\n",
       "      <td>chr17_33772618_33772618</td>\n",
       "      <td>1</td>\n",
       "      <td>chr17</td>\n",
       "      <td>33772618</td>\n",
       "      <td>33772618</td>\n",
       "    </tr>\n",
       "    <tr>\n",
       "      <th>217127</th>\n",
       "      <td>chr7_100187289_100187289</td>\n",
       "      <td>1</td>\n",
       "      <td>chr7</td>\n",
       "      <td>100187289</td>\n",
       "      <td>100187289</td>\n",
       "    </tr>\n",
       "  </tbody>\n",
       "</table>\n",
       "<p>217128 rows × 5 columns</p>\n",
       "</div>"
      ],
      "text/plain": [
       "                             snp counts    chr  pos_start    pos_end\n",
       "0       chr9_104350785_104350785      1   chr9  104350785  104350785\n",
       "1         chr1_25646616_25646616      1   chr1   25646616   25646616\n",
       "2         chr1_25646640_25646640      1   chr1   25646640   25646640\n",
       "3         chr1_29155652_29155652      1   chr1   29155652   29155652\n",
       "4         chr1_61862224_61862224      1   chr1   61862224   61862224\n",
       "...                          ...    ...    ...        ...        ...\n",
       "217123    chr8_48761994_48761994      1   chr8   48761994   48761994\n",
       "217124    chr2_54494456_54494456      1   chr2   54494456   54494456\n",
       "217125   chr22_46712078_46712078      1  chr22   46712078   46712078\n",
       "217126   chr17_33772618_33772618      1  chr17   33772618   33772618\n",
       "217127  chr7_100187289_100187289      1   chr7  100187289  100187289\n",
       "\n",
       "[217128 rows x 5 columns]"
      ]
     },
     "execution_count": 17,
     "metadata": {},
     "output_type": "execute_result"
    }
   ],
   "source": [
    "breast_snp_count_df"
   ]
  },
  {
   "cell_type": "code",
   "execution_count": 18,
   "metadata": {},
   "outputs": [
    {
     "data": {
      "text/html": [
       "<div>\n",
       "<style scoped>\n",
       "    .dataframe tbody tr th:only-of-type {\n",
       "        vertical-align: middle;\n",
       "    }\n",
       "\n",
       "    .dataframe tbody tr th {\n",
       "        vertical-align: top;\n",
       "    }\n",
       "\n",
       "    .dataframe thead th {\n",
       "        text-align: right;\n",
       "    }\n",
       "</style>\n",
       "<table border=\"1\" class=\"dataframe\">\n",
       "  <thead>\n",
       "    <tr style=\"text-align: right;\">\n",
       "      <th></th>\n",
       "      <th>snp</th>\n",
       "      <th>counts</th>\n",
       "      <th>chr</th>\n",
       "      <th>pos_start</th>\n",
       "      <th>pos_end</th>\n",
       "    </tr>\n",
       "  </thead>\n",
       "  <tbody>\n",
       "    <tr>\n",
       "      <th>0</th>\n",
       "      <td>chr11_101465614_101465614</td>\n",
       "      <td>1</td>\n",
       "      <td>chr11</td>\n",
       "      <td>101465614</td>\n",
       "      <td>101465614</td>\n",
       "    </tr>\n",
       "    <tr>\n",
       "      <th>1</th>\n",
       "      <td>chr11_103127113_103127113</td>\n",
       "      <td>1</td>\n",
       "      <td>chr11</td>\n",
       "      <td>103127113</td>\n",
       "      <td>103127113</td>\n",
       "    </tr>\n",
       "    <tr>\n",
       "      <th>2</th>\n",
       "      <td>chr8_82046917_82046917</td>\n",
       "      <td>1</td>\n",
       "      <td>chr8</td>\n",
       "      <td>82046917</td>\n",
       "      <td>82046917</td>\n",
       "    </tr>\n",
       "    <tr>\n",
       "      <th>3</th>\n",
       "      <td>chr11_107789760_107789760</td>\n",
       "      <td>1</td>\n",
       "      <td>chr11</td>\n",
       "      <td>107789760</td>\n",
       "      <td>107789760</td>\n",
       "    </tr>\n",
       "    <tr>\n",
       "      <th>4</th>\n",
       "      <td>chr14_48732779_48732779</td>\n",
       "      <td>1</td>\n",
       "      <td>chr14</td>\n",
       "      <td>48732779</td>\n",
       "      <td>48732779</td>\n",
       "    </tr>\n",
       "    <tr>\n",
       "      <th>...</th>\n",
       "      <td>...</td>\n",
       "      <td>...</td>\n",
       "      <td>...</td>\n",
       "      <td>...</td>\n",
       "      <td>...</td>\n",
       "    </tr>\n",
       "    <tr>\n",
       "      <th>4677613</th>\n",
       "      <td>chr7_102949431_102949431</td>\n",
       "      <td>1</td>\n",
       "      <td>chr7</td>\n",
       "      <td>102949431</td>\n",
       "      <td>102949431</td>\n",
       "    </tr>\n",
       "    <tr>\n",
       "      <th>4677614</th>\n",
       "      <td>chr11_121028837_121028837</td>\n",
       "      <td>1</td>\n",
       "      <td>chr11</td>\n",
       "      <td>121028837</td>\n",
       "      <td>121028837</td>\n",
       "    </tr>\n",
       "    <tr>\n",
       "      <th>4677615</th>\n",
       "      <td>chr1_155658167_155658167</td>\n",
       "      <td>1</td>\n",
       "      <td>chr1</td>\n",
       "      <td>155658167</td>\n",
       "      <td>155658167</td>\n",
       "    </tr>\n",
       "    <tr>\n",
       "      <th>4677616</th>\n",
       "      <td>chr17_46607840_46607840</td>\n",
       "      <td>1</td>\n",
       "      <td>chr17</td>\n",
       "      <td>46607840</td>\n",
       "      <td>46607840</td>\n",
       "    </tr>\n",
       "    <tr>\n",
       "      <th>4677617</th>\n",
       "      <td>chr15_55919246_55919246</td>\n",
       "      <td>1</td>\n",
       "      <td>chr15</td>\n",
       "      <td>55919246</td>\n",
       "      <td>55919246</td>\n",
       "    </tr>\n",
       "  </tbody>\n",
       "</table>\n",
       "<p>4677618 rows × 5 columns</p>\n",
       "</div>"
      ],
      "text/plain": [
       "                               snp counts    chr  pos_start    pos_end\n",
       "0        chr11_101465614_101465614      1  chr11  101465614  101465614\n",
       "1        chr11_103127113_103127113      1  chr11  103127113  103127113\n",
       "2           chr8_82046917_82046917      1   chr8   82046917   82046917\n",
       "3        chr11_107789760_107789760      1  chr11  107789760  107789760\n",
       "4          chr14_48732779_48732779      1  chr14   48732779   48732779\n",
       "...                            ...    ...    ...        ...        ...\n",
       "4677613   chr7_102949431_102949431      1   chr7  102949431  102949431\n",
       "4677614  chr11_121028837_121028837      1  chr11  121028837  121028837\n",
       "4677615   chr1_155658167_155658167      1   chr1  155658167  155658167\n",
       "4677616    chr17_46607840_46607840      1  chr17   46607840   46607840\n",
       "4677617    chr15_55919246_55919246      1  chr15   55919246   55919246\n",
       "\n",
       "[4677618 rows x 5 columns]"
      ]
     },
     "execution_count": 18,
     "metadata": {},
     "output_type": "execute_result"
    }
   ],
   "source": [
    "nonbreast_snp_count_df"
   ]
  },
  {
   "cell_type": "code",
   "execution_count": 19,
   "metadata": {},
   "outputs": [],
   "source": [
    "breast_snp_count_df.drop('snp', axis=1, inplace=True)\n",
    "nonbreast_snp_count_df.drop('snp', axis=1, inplace=True)"
   ]
  },
  {
   "cell_type": "code",
   "execution_count": 20,
   "metadata": {},
   "outputs": [],
   "source": [
    "sort_breast_snp_count_df = breast_snp_count_df.sort_values('counts', ascending=False)\n",
    "sort_nonbreast_snp_count_df = nonbreast_snp_count_df.sort_values('counts', ascending=False)"
   ]
  },
  {
   "cell_type": "code",
   "execution_count": 21,
   "metadata": {},
   "outputs": [],
   "source": [
    "sort_breast_snp_count_df.rename(columns={'counts': 'counts_breast'}, inplace=True)\n",
    "sort_nonbreast_snp_count_df.rename(columns={'counts': 'counts_nonbreast'}, inplace=True)"
   ]
  },
  {
   "cell_type": "code",
   "execution_count": 22,
   "metadata": {},
   "outputs": [
    {
     "data": {
      "text/html": [
       "<div>\n",
       "<style scoped>\n",
       "    .dataframe tbody tr th:only-of-type {\n",
       "        vertical-align: middle;\n",
       "    }\n",
       "\n",
       "    .dataframe tbody tr th {\n",
       "        vertical-align: top;\n",
       "    }\n",
       "\n",
       "    .dataframe thead th {\n",
       "        text-align: right;\n",
       "    }\n",
       "</style>\n",
       "<table border=\"1\" class=\"dataframe\">\n",
       "  <thead>\n",
       "    <tr style=\"text-align: right;\">\n",
       "      <th></th>\n",
       "      <th>counts_breast</th>\n",
       "      <th>chr</th>\n",
       "      <th>pos_start</th>\n",
       "      <th>pos_end</th>\n",
       "    </tr>\n",
       "  </thead>\n",
       "  <tbody>\n",
       "    <tr>\n",
       "      <th>522</th>\n",
       "      <td>22</td>\n",
       "      <td>chr3</td>\n",
       "      <td>178952085</td>\n",
       "      <td>178952085</td>\n",
       "    </tr>\n",
       "    <tr>\n",
       "      <th>6952</th>\n",
       "      <td>6</td>\n",
       "      <td>chr3</td>\n",
       "      <td>178936091</td>\n",
       "      <td>178936091</td>\n",
       "    </tr>\n",
       "    <tr>\n",
       "      <th>43780</th>\n",
       "      <td>4</td>\n",
       "      <td>chr14</td>\n",
       "      <td>105246551</td>\n",
       "      <td>105246551</td>\n",
       "    </tr>\n",
       "    <tr>\n",
       "      <th>12552</th>\n",
       "      <td>3</td>\n",
       "      <td>chr10</td>\n",
       "      <td>8111433</td>\n",
       "      <td>8111434</td>\n",
       "    </tr>\n",
       "    <tr>\n",
       "      <th>85707</th>\n",
       "      <td>2</td>\n",
       "      <td>chr21</td>\n",
       "      <td>31172543</td>\n",
       "      <td>31172543</td>\n",
       "    </tr>\n",
       "    <tr>\n",
       "      <th>...</th>\n",
       "      <td>...</td>\n",
       "      <td>...</td>\n",
       "      <td>...</td>\n",
       "      <td>...</td>\n",
       "    </tr>\n",
       "    <tr>\n",
       "      <th>72393</th>\n",
       "      <td>1</td>\n",
       "      <td>chr6</td>\n",
       "      <td>101793167</td>\n",
       "      <td>101793167</td>\n",
       "    </tr>\n",
       "    <tr>\n",
       "      <th>72394</th>\n",
       "      <td>1</td>\n",
       "      <td>chr3</td>\n",
       "      <td>23319452</td>\n",
       "      <td>23319452</td>\n",
       "    </tr>\n",
       "    <tr>\n",
       "      <th>72395</th>\n",
       "      <td>1</td>\n",
       "      <td>chr5</td>\n",
       "      <td>24034565</td>\n",
       "      <td>24034565</td>\n",
       "    </tr>\n",
       "    <tr>\n",
       "      <th>72396</th>\n",
       "      <td>1</td>\n",
       "      <td>chr3</td>\n",
       "      <td>196110911</td>\n",
       "      <td>196110911</td>\n",
       "    </tr>\n",
       "    <tr>\n",
       "      <th>217127</th>\n",
       "      <td>1</td>\n",
       "      <td>chr7</td>\n",
       "      <td>100187289</td>\n",
       "      <td>100187289</td>\n",
       "    </tr>\n",
       "  </tbody>\n",
       "</table>\n",
       "<p>217128 rows × 4 columns</p>\n",
       "</div>"
      ],
      "text/plain": [
       "       counts_breast    chr  pos_start    pos_end\n",
       "522               22   chr3  178952085  178952085\n",
       "6952               6   chr3  178936091  178936091\n",
       "43780              4  chr14  105246551  105246551\n",
       "12552              3  chr10    8111433    8111434\n",
       "85707              2  chr21   31172543   31172543\n",
       "...              ...    ...        ...        ...\n",
       "72393              1   chr6  101793167  101793167\n",
       "72394              1   chr3   23319452   23319452\n",
       "72395              1   chr5   24034565   24034565\n",
       "72396              1   chr3  196110911  196110911\n",
       "217127             1   chr7  100187289  100187289\n",
       "\n",
       "[217128 rows x 4 columns]"
      ]
     },
     "execution_count": 22,
     "metadata": {},
     "output_type": "execute_result"
    }
   ],
   "source": [
    "sort_breast_snp_count_df"
   ]
  },
  {
   "cell_type": "code",
   "execution_count": 23,
   "metadata": {},
   "outputs": [
    {
     "data": {
      "text/html": [
       "<div>\n",
       "<style scoped>\n",
       "    .dataframe tbody tr th:only-of-type {\n",
       "        vertical-align: middle;\n",
       "    }\n",
       "\n",
       "    .dataframe tbody tr th {\n",
       "        vertical-align: top;\n",
       "    }\n",
       "\n",
       "    .dataframe thead th {\n",
       "        text-align: right;\n",
       "    }\n",
       "</style>\n",
       "<table border=\"1\" class=\"dataframe\">\n",
       "  <thead>\n",
       "    <tr style=\"text-align: right;\">\n",
       "      <th></th>\n",
       "      <th>counts_nonbreast</th>\n",
       "      <th>chr</th>\n",
       "      <th>pos_start</th>\n",
       "      <th>pos_end</th>\n",
       "    </tr>\n",
       "  </thead>\n",
       "  <tbody>\n",
       "    <tr>\n",
       "      <th>787050</th>\n",
       "      <td>39</td>\n",
       "      <td>chr16</td>\n",
       "      <td>23961453</td>\n",
       "      <td>23961453</td>\n",
       "    </tr>\n",
       "    <tr>\n",
       "      <th>771541</th>\n",
       "      <td>32</td>\n",
       "      <td>chr4</td>\n",
       "      <td>119972341</td>\n",
       "      <td>119972341</td>\n",
       "    </tr>\n",
       "    <tr>\n",
       "      <th>6720</th>\n",
       "      <td>28</td>\n",
       "      <td>chr12</td>\n",
       "      <td>25398284</td>\n",
       "      <td>25398284</td>\n",
       "    </tr>\n",
       "    <tr>\n",
       "      <th>781492</th>\n",
       "      <td>28</td>\n",
       "      <td>chr5</td>\n",
       "      <td>124474355</td>\n",
       "      <td>124474355</td>\n",
       "    </tr>\n",
       "    <tr>\n",
       "      <th>817636</th>\n",
       "      <td>26</td>\n",
       "      <td>chr4</td>\n",
       "      <td>14673408</td>\n",
       "      <td>14673408</td>\n",
       "    </tr>\n",
       "    <tr>\n",
       "      <th>...</th>\n",
       "      <td>...</td>\n",
       "      <td>...</td>\n",
       "      <td>...</td>\n",
       "      <td>...</td>\n",
       "    </tr>\n",
       "    <tr>\n",
       "      <th>1629711</th>\n",
       "      <td>1</td>\n",
       "      <td>chr21</td>\n",
       "      <td>30025421</td>\n",
       "      <td>30025421</td>\n",
       "    </tr>\n",
       "    <tr>\n",
       "      <th>1629712</th>\n",
       "      <td>1</td>\n",
       "      <td>chr22</td>\n",
       "      <td>23674453</td>\n",
       "      <td>23674453</td>\n",
       "    </tr>\n",
       "    <tr>\n",
       "      <th>1629713</th>\n",
       "      <td>1</td>\n",
       "      <td>chr20</td>\n",
       "      <td>46011295</td>\n",
       "      <td>46011295</td>\n",
       "    </tr>\n",
       "    <tr>\n",
       "      <th>1629714</th>\n",
       "      <td>1</td>\n",
       "      <td>chr2</td>\n",
       "      <td>4199709</td>\n",
       "      <td>4199709</td>\n",
       "    </tr>\n",
       "    <tr>\n",
       "      <th>4677617</th>\n",
       "      <td>1</td>\n",
       "      <td>chr15</td>\n",
       "      <td>55919246</td>\n",
       "      <td>55919246</td>\n",
       "    </tr>\n",
       "  </tbody>\n",
       "</table>\n",
       "<p>4677618 rows × 4 columns</p>\n",
       "</div>"
      ],
      "text/plain": [
       "        counts_nonbreast    chr  pos_start    pos_end\n",
       "787050                39  chr16   23961453   23961453\n",
       "771541                32   chr4  119972341  119972341\n",
       "6720                  28  chr12   25398284   25398284\n",
       "781492                28   chr5  124474355  124474355\n",
       "817636                26   chr4   14673408   14673408\n",
       "...                  ...    ...        ...        ...\n",
       "1629711                1  chr21   30025421   30025421\n",
       "1629712                1  chr22   23674453   23674453\n",
       "1629713                1  chr20   46011295   46011295\n",
       "1629714                1   chr2    4199709    4199709\n",
       "4677617                1  chr15   55919246   55919246\n",
       "\n",
       "[4677618 rows x 4 columns]"
      ]
     },
     "execution_count": 23,
     "metadata": {},
     "output_type": "execute_result"
    }
   ],
   "source": [
    "sort_nonbreast_snp_count_df"
   ]
  },
  {
   "cell_type": "code",
   "execution_count": 24,
   "metadata": {},
   "outputs": [],
   "source": [
    "sort_breast_snp_count_df.to_csv(f\"D:/Hanze_Groningen/STAGE/R/breast_snp_count_df_maxcount_{max_breast}_donor_{num_donor_breast}_GT12_totalread_33.tsv\", sep='\\t', encoding='utf-8', index=False)\n",
    "sort_nonbreast_snp_count_df.to_csv(f\"D:/Hanze_Groningen/STAGE/R/nonbreast_snp_count_df_maxcount_{max_nonbreast}_donor_{num_donor_nonbreast}_GT12_totalread_33.tsv\", sep='\\t', encoding='utf-8', index=False)"
   ]
  },
  {
   "cell_type": "code",
   "execution_count": 25,
   "metadata": {},
   "outputs": [],
   "source": [
    "# merge_b_nb = pd.concat([sort_breast_snp_count_df, sort_nonbreast_snp_count_df], ignore_index=True, sort=False)\n",
    "\n",
    "#https://stackoverflow.com/questions/53645882/pandas-merging-101\n",
    "merge_b_nb = sort_breast_snp_count_df.merge(sort_nonbreast_snp_count_df, on=['chr', 'pos_start', 'pos_end'], how='outer')"
   ]
  },
  {
   "cell_type": "code",
   "execution_count": 26,
   "metadata": {},
   "outputs": [
    {
     "data": {
      "text/html": [
       "<div>\n",
       "<style scoped>\n",
       "    .dataframe tbody tr th:only-of-type {\n",
       "        vertical-align: middle;\n",
       "    }\n",
       "\n",
       "    .dataframe tbody tr th {\n",
       "        vertical-align: top;\n",
       "    }\n",
       "\n",
       "    .dataframe thead th {\n",
       "        text-align: right;\n",
       "    }\n",
       "</style>\n",
       "<table border=\"1\" class=\"dataframe\">\n",
       "  <thead>\n",
       "    <tr style=\"text-align: right;\">\n",
       "      <th></th>\n",
       "      <th>counts_breast</th>\n",
       "      <th>chr</th>\n",
       "      <th>pos_start</th>\n",
       "      <th>pos_end</th>\n",
       "      <th>counts_nonbreast</th>\n",
       "    </tr>\n",
       "  </thead>\n",
       "  <tbody>\n",
       "    <tr>\n",
       "      <th>0</th>\n",
       "      <td>22</td>\n",
       "      <td>chr3</td>\n",
       "      <td>178952085</td>\n",
       "      <td>178952085</td>\n",
       "      <td>7</td>\n",
       "    </tr>\n",
       "    <tr>\n",
       "      <th>1</th>\n",
       "      <td>6</td>\n",
       "      <td>chr3</td>\n",
       "      <td>178936091</td>\n",
       "      <td>178936091</td>\n",
       "      <td>6</td>\n",
       "    </tr>\n",
       "    <tr>\n",
       "      <th>2</th>\n",
       "      <td>4</td>\n",
       "      <td>chr14</td>\n",
       "      <td>105246551</td>\n",
       "      <td>105246551</td>\n",
       "      <td>3</td>\n",
       "    </tr>\n",
       "    <tr>\n",
       "      <th>7</th>\n",
       "      <td>2</td>\n",
       "      <td>chr3</td>\n",
       "      <td>178936082</td>\n",
       "      <td>178936082</td>\n",
       "      <td>2</td>\n",
       "    </tr>\n",
       "    <tr>\n",
       "      <th>9</th>\n",
       "      <td>2</td>\n",
       "      <td>chr2</td>\n",
       "      <td>30161804</td>\n",
       "      <td>30161804</td>\n",
       "      <td>1</td>\n",
       "    </tr>\n",
       "    <tr>\n",
       "      <th>...</th>\n",
       "      <td>...</td>\n",
       "      <td>...</td>\n",
       "      <td>...</td>\n",
       "      <td>...</td>\n",
       "      <td>...</td>\n",
       "    </tr>\n",
       "    <tr>\n",
       "      <th>215577</th>\n",
       "      <td>1</td>\n",
       "      <td>chr11</td>\n",
       "      <td>129489147</td>\n",
       "      <td>129489147</td>\n",
       "      <td>1</td>\n",
       "    </tr>\n",
       "    <tr>\n",
       "      <th>215655</th>\n",
       "      <td>1</td>\n",
       "      <td>chr4</td>\n",
       "      <td>42282418</td>\n",
       "      <td>42282418</td>\n",
       "      <td>1</td>\n",
       "    </tr>\n",
       "    <tr>\n",
       "      <th>215965</th>\n",
       "      <td>1</td>\n",
       "      <td>chr4</td>\n",
       "      <td>25065454</td>\n",
       "      <td>25065454</td>\n",
       "      <td>1</td>\n",
       "    </tr>\n",
       "    <tr>\n",
       "      <th>215985</th>\n",
       "      <td>1</td>\n",
       "      <td>chr3</td>\n",
       "      <td>27961891</td>\n",
       "      <td>27961891</td>\n",
       "      <td>1</td>\n",
       "    </tr>\n",
       "    <tr>\n",
       "      <th>216308</th>\n",
       "      <td>1</td>\n",
       "      <td>chr3</td>\n",
       "      <td>176637300</td>\n",
       "      <td>176637300</td>\n",
       "      <td>1</td>\n",
       "    </tr>\n",
       "  </tbody>\n",
       "</table>\n",
       "<p>822 rows × 5 columns</p>\n",
       "</div>"
      ],
      "text/plain": [
       "       counts_breast    chr  pos_start    pos_end counts_nonbreast\n",
       "0                 22   chr3  178952085  178952085                7\n",
       "1                  6   chr3  178936091  178936091                6\n",
       "2                  4  chr14  105246551  105246551                3\n",
       "7                  2   chr3  178936082  178936082                2\n",
       "9                  2   chr2   30161804   30161804                1\n",
       "...              ...    ...        ...        ...              ...\n",
       "215577             1  chr11  129489147  129489147                1\n",
       "215655             1   chr4   42282418   42282418                1\n",
       "215965             1   chr4   25065454   25065454                1\n",
       "215985             1   chr3   27961891   27961891                1\n",
       "216308             1   chr3  176637300  176637300                1\n",
       "\n",
       "[822 rows x 5 columns]"
      ]
     },
     "execution_count": 26,
     "metadata": {},
     "output_type": "execute_result"
    }
   ],
   "source": [
    "merge_b_nb[(merge_b_nb['counts_breast']>=1) & (merge_b_nb['counts_nonbreast']>=1)]"
   ]
  },
  {
   "cell_type": "code",
   "execution_count": 27,
   "metadata": {},
   "outputs": [
    {
     "data": {
      "text/html": [
       "<div>\n",
       "<style scoped>\n",
       "    .dataframe tbody tr th:only-of-type {\n",
       "        vertical-align: middle;\n",
       "    }\n",
       "\n",
       "    .dataframe tbody tr th {\n",
       "        vertical-align: top;\n",
       "    }\n",
       "\n",
       "    .dataframe thead th {\n",
       "        text-align: right;\n",
       "    }\n",
       "</style>\n",
       "<table border=\"1\" class=\"dataframe\">\n",
       "  <thead>\n",
       "    <tr style=\"text-align: right;\">\n",
       "      <th></th>\n",
       "      <th>counts_breast</th>\n",
       "      <th>chr</th>\n",
       "      <th>pos_start</th>\n",
       "      <th>pos_end</th>\n",
       "      <th>counts_nonbreast</th>\n",
       "    </tr>\n",
       "  </thead>\n",
       "  <tbody>\n",
       "    <tr>\n",
       "      <th>0</th>\n",
       "      <td>22</td>\n",
       "      <td>chr3</td>\n",
       "      <td>178952085</td>\n",
       "      <td>178952085</td>\n",
       "      <td>7</td>\n",
       "    </tr>\n",
       "    <tr>\n",
       "      <th>1</th>\n",
       "      <td>6</td>\n",
       "      <td>chr3</td>\n",
       "      <td>178936091</td>\n",
       "      <td>178936091</td>\n",
       "      <td>6</td>\n",
       "    </tr>\n",
       "    <tr>\n",
       "      <th>2</th>\n",
       "      <td>4</td>\n",
       "      <td>chr14</td>\n",
       "      <td>105246551</td>\n",
       "      <td>105246551</td>\n",
       "      <td>3</td>\n",
       "    </tr>\n",
       "    <tr>\n",
       "      <th>3</th>\n",
       "      <td>3</td>\n",
       "      <td>chr10</td>\n",
       "      <td>8111433</td>\n",
       "      <td>8111434</td>\n",
       "      <td>NaN</td>\n",
       "    </tr>\n",
       "    <tr>\n",
       "      <th>4</th>\n",
       "      <td>2</td>\n",
       "      <td>chr21</td>\n",
       "      <td>31172543</td>\n",
       "      <td>31172543</td>\n",
       "      <td>NaN</td>\n",
       "    </tr>\n",
       "    <tr>\n",
       "      <th>...</th>\n",
       "      <td>...</td>\n",
       "      <td>...</td>\n",
       "      <td>...</td>\n",
       "      <td>...</td>\n",
       "      <td>...</td>\n",
       "    </tr>\n",
       "    <tr>\n",
       "      <th>4893919</th>\n",
       "      <td>NaN</td>\n",
       "      <td>chr21</td>\n",
       "      <td>30025421</td>\n",
       "      <td>30025421</td>\n",
       "      <td>1</td>\n",
       "    </tr>\n",
       "    <tr>\n",
       "      <th>4893920</th>\n",
       "      <td>NaN</td>\n",
       "      <td>chr22</td>\n",
       "      <td>23674453</td>\n",
       "      <td>23674453</td>\n",
       "      <td>1</td>\n",
       "    </tr>\n",
       "    <tr>\n",
       "      <th>4893921</th>\n",
       "      <td>NaN</td>\n",
       "      <td>chr20</td>\n",
       "      <td>46011295</td>\n",
       "      <td>46011295</td>\n",
       "      <td>1</td>\n",
       "    </tr>\n",
       "    <tr>\n",
       "      <th>4893922</th>\n",
       "      <td>NaN</td>\n",
       "      <td>chr2</td>\n",
       "      <td>4199709</td>\n",
       "      <td>4199709</td>\n",
       "      <td>1</td>\n",
       "    </tr>\n",
       "    <tr>\n",
       "      <th>4893923</th>\n",
       "      <td>NaN</td>\n",
       "      <td>chr15</td>\n",
       "      <td>55919246</td>\n",
       "      <td>55919246</td>\n",
       "      <td>1</td>\n",
       "    </tr>\n",
       "  </tbody>\n",
       "</table>\n",
       "<p>4893924 rows × 5 columns</p>\n",
       "</div>"
      ],
      "text/plain": [
       "        counts_breast    chr  pos_start    pos_end counts_nonbreast\n",
       "0                  22   chr3  178952085  178952085                7\n",
       "1                   6   chr3  178936091  178936091                6\n",
       "2                   4  chr14  105246551  105246551                3\n",
       "3                   3  chr10    8111433    8111434              NaN\n",
       "4                   2  chr21   31172543   31172543              NaN\n",
       "...               ...    ...        ...        ...              ...\n",
       "4893919           NaN  chr21   30025421   30025421                1\n",
       "4893920           NaN  chr22   23674453   23674453                1\n",
       "4893921           NaN  chr20   46011295   46011295                1\n",
       "4893922           NaN   chr2    4199709    4199709                1\n",
       "4893923           NaN  chr15   55919246   55919246                1\n",
       "\n",
       "[4893924 rows x 5 columns]"
      ]
     },
     "execution_count": 27,
     "metadata": {},
     "output_type": "execute_result"
    }
   ],
   "source": [
    "merge_b_nb"
   ]
  },
  {
   "cell_type": "code",
   "execution_count": 28,
   "metadata": {},
   "outputs": [],
   "source": [
    "merge_b_nb.to_csv(f\"D:/Hanze_Groningen/STAGE/R/ALL_nan_df_BREAST_maxcount_{max_breast}_donor_{num_donor_breast}_NONBREAST_maxcount_{max_nonbreast}_donor_{num_donor_nonbreast}_BOTH_GT12_totalread_33.tsv\", sep='\\t', encoding='utf-8', index=False)"
   ]
  },
  {
   "cell_type": "code",
   "execution_count": 29,
   "metadata": {},
   "outputs": [],
   "source": [
    "merge_b_nb_0 = merge_b_nb.fillna(0)\n",
    "merge_b_nb_0.to_csv(f\"D:/Hanze_Groningen/STAGE/R/ALL_0_df_BREAST_maxcount_{max_breast}_donor_{num_donor_breast}_NONBREAST_maxcount_{max_nonbreast}_donor_{num_donor_nonbreast}_BOTH_GT12_totalread_33.tsv\", sep='\\t', encoding='utf-8', index=False)"
   ]
  },
  {
   "cell_type": "code",
   "execution_count": null,
   "metadata": {},
   "outputs": [],
   "source": [
    "# ax = sns.boxplot(data=sort_breast_snp_count_df[['counts_breast']]).set(ylabel='#snps')\n",
    "# plt.show()\n",
    "# plt.clf()\n",
    "# ax = sns.displot(sort_breast_snp_count_df[['counts_breast']])\n",
    "# plt.show()\n",
    "# plt.clf()"
   ]
  },
  {
   "cell_type": "code",
   "execution_count": null,
   "metadata": {},
   "outputs": [],
   "source": [
    "# filter_breast = sort_breast_snp_count_df[(sort_breast_snp_count_df['counts_breast']>1)]\n",
    "\n",
    "# ax = sns.boxplot(data=filter_breast[['counts_breast']]).set(ylabel='#snps')\n",
    "# plt.show()\n",
    "# plt.clf()\n",
    "# ax = sns.displot(filter_breast[['counts_breast']])\n",
    "# plt.show()\n",
    "# plt.clf()"
   ]
  },
  {
   "cell_type": "code",
   "execution_count": null,
   "metadata": {},
   "outputs": [],
   "source": [
    "# ax = sns.boxplot(data=sort_nonbreast_snp_count_df[['counts_nonbreast']]).set(ylabel='#snps')\n",
    "# plt.show()\n",
    "# plt.clf()\n",
    "# ax = sns.displot(sort_nonbreast_snp_count_df[['counts_nonbreast']])\n",
    "# plt.show()\n",
    "# plt.clf()"
   ]
  },
  {
   "cell_type": "code",
   "execution_count": null,
   "metadata": {},
   "outputs": [],
   "source": [
    "# filter_nonbreast = sort_nonbreast_snp_count_df[(sort_nonbreast_snp_count_df['counts_nonbreast']>1)]\n",
    "\n",
    "# ax = sns.boxplot(data=filter_nonbreast[['counts_nonbreast']]).set(ylabel='#snps')\n",
    "# plt.show()\n",
    "# plt.clf()\n",
    "# ax = sns.displot(filter_nonbreast[['counts_nonbreast']])\n",
    "# plt.show()\n",
    "# plt.clf()"
   ]
  },
  {
   "cell_type": "code",
   "execution_count": 30,
   "metadata": {},
   "outputs": [
    {
     "data": {
      "text/html": [
       "<div>\n",
       "<style scoped>\n",
       "    .dataframe tbody tr th:only-of-type {\n",
       "        vertical-align: middle;\n",
       "    }\n",
       "\n",
       "    .dataframe tbody tr th {\n",
       "        vertical-align: top;\n",
       "    }\n",
       "\n",
       "    .dataframe thead th {\n",
       "        text-align: right;\n",
       "    }\n",
       "</style>\n",
       "<table border=\"1\" class=\"dataframe\">\n",
       "  <thead>\n",
       "    <tr style=\"text-align: right;\">\n",
       "      <th></th>\n",
       "      <th>counts_breast</th>\n",
       "      <th>chr</th>\n",
       "      <th>pos_start</th>\n",
       "      <th>pos_end</th>\n",
       "      <th>counts_nonbreast</th>\n",
       "    </tr>\n",
       "  </thead>\n",
       "  <tbody>\n",
       "    <tr>\n",
       "      <th>0</th>\n",
       "      <td>22</td>\n",
       "      <td>chr3</td>\n",
       "      <td>178952085</td>\n",
       "      <td>178952085</td>\n",
       "      <td>7</td>\n",
       "    </tr>\n",
       "    <tr>\n",
       "      <th>1</th>\n",
       "      <td>6</td>\n",
       "      <td>chr3</td>\n",
       "      <td>178936091</td>\n",
       "      <td>178936091</td>\n",
       "      <td>6</td>\n",
       "    </tr>\n",
       "    <tr>\n",
       "      <th>2</th>\n",
       "      <td>4</td>\n",
       "      <td>chr14</td>\n",
       "      <td>105246551</td>\n",
       "      <td>105246551</td>\n",
       "      <td>3</td>\n",
       "    </tr>\n",
       "    <tr>\n",
       "      <th>3</th>\n",
       "      <td>3</td>\n",
       "      <td>chr10</td>\n",
       "      <td>8111433</td>\n",
       "      <td>8111434</td>\n",
       "      <td>0</td>\n",
       "    </tr>\n",
       "    <tr>\n",
       "      <th>4</th>\n",
       "      <td>2</td>\n",
       "      <td>chr21</td>\n",
       "      <td>31172543</td>\n",
       "      <td>31172543</td>\n",
       "      <td>0</td>\n",
       "    </tr>\n",
       "    <tr>\n",
       "      <th>...</th>\n",
       "      <td>...</td>\n",
       "      <td>...</td>\n",
       "      <td>...</td>\n",
       "      <td>...</td>\n",
       "      <td>...</td>\n",
       "    </tr>\n",
       "    <tr>\n",
       "      <th>4893919</th>\n",
       "      <td>0</td>\n",
       "      <td>chr21</td>\n",
       "      <td>30025421</td>\n",
       "      <td>30025421</td>\n",
       "      <td>1</td>\n",
       "    </tr>\n",
       "    <tr>\n",
       "      <th>4893920</th>\n",
       "      <td>0</td>\n",
       "      <td>chr22</td>\n",
       "      <td>23674453</td>\n",
       "      <td>23674453</td>\n",
       "      <td>1</td>\n",
       "    </tr>\n",
       "    <tr>\n",
       "      <th>4893921</th>\n",
       "      <td>0</td>\n",
       "      <td>chr20</td>\n",
       "      <td>46011295</td>\n",
       "      <td>46011295</td>\n",
       "      <td>1</td>\n",
       "    </tr>\n",
       "    <tr>\n",
       "      <th>4893922</th>\n",
       "      <td>0</td>\n",
       "      <td>chr2</td>\n",
       "      <td>4199709</td>\n",
       "      <td>4199709</td>\n",
       "      <td>1</td>\n",
       "    </tr>\n",
       "    <tr>\n",
       "      <th>4893923</th>\n",
       "      <td>0</td>\n",
       "      <td>chr15</td>\n",
       "      <td>55919246</td>\n",
       "      <td>55919246</td>\n",
       "      <td>1</td>\n",
       "    </tr>\n",
       "  </tbody>\n",
       "</table>\n",
       "<p>4893924 rows × 5 columns</p>\n",
       "</div>"
      ],
      "text/plain": [
       "         counts_breast    chr  pos_start    pos_end  counts_nonbreast\n",
       "0                   22   chr3  178952085  178952085                 7\n",
       "1                    6   chr3  178936091  178936091                 6\n",
       "2                    4  chr14  105246551  105246551                 3\n",
       "3                    3  chr10    8111433    8111434                 0\n",
       "4                    2  chr21   31172543   31172543                 0\n",
       "...                ...    ...        ...        ...               ...\n",
       "4893919              0  chr21   30025421   30025421                 1\n",
       "4893920              0  chr22   23674453   23674453                 1\n",
       "4893921              0  chr20   46011295   46011295                 1\n",
       "4893922              0   chr2    4199709    4199709                 1\n",
       "4893923              0  chr15   55919246   55919246                 1\n",
       "\n",
       "[4893924 rows x 5 columns]"
      ]
     },
     "execution_count": 30,
     "metadata": {},
     "output_type": "execute_result"
    }
   ],
   "source": [
    "merge_b_nb_0"
   ]
  },
  {
   "cell_type": "code",
   "execution_count": null,
   "metadata": {},
   "outputs": [],
   "source": [
    "# https://www.geeksforgeeks.org/python-pearsons-chi-square-test/\n",
    "from scipy.stats import chi2_contingency\n",
    "  \n",
    "# defining the table\n",
    "#\n",
    "#       donor   |  snp\n",
    "#  b  | 285     | 22\n",
    "#  nb | 1885    | 7\n",
    "data = [[285, 22], [1885, 7]]\n",
    "stat, p, dof, expected = chi2_contingency(data)\n",
    "  \n",
    "# interpret p-value\n",
    "alpha = 0.05\n",
    "print(\"p value is \" + str(p))\n",
    "if p <= alpha:\n",
    "    print('Dependent (reject H0)')\n",
    "else:\n",
    "    print('Independent (H0 holds true)')"
   ]
  },
  {
   "cell_type": "code",
   "execution_count": null,
   "metadata": {},
   "outputs": [],
   "source": [
    "# f = open(\"D:/Hanze_Groningen/STAGE/R/chi_square.tsv\", 'w')\n",
    "# for index, row in merge_b_nb_0.iterrows():\n",
    "#     data = [[285, row['counts_breast']], [1885, row['counts_nonbreast']]]\n",
    "#     stat, p, dof, expected = chi2_contingency(data)\n",
    "#     f.write(f\"{row['chr']}\\t{row['pos_start']}\\t{row['pos_end']}\\t{row['counts_breast']}\\t{row['counts_nonbreast']}\\t{stat}\\t{p}\\t{dof}\\t{expected}\\n\")\n",
    "    \n",
    "# f.close()"
   ]
  },
  {
   "cell_type": "code",
   "execution_count": null,
   "metadata": {},
   "outputs": [],
   "source": [
    "# fold_change = merge_b_nb_0.copy()\n",
    "# fold_change['filter_b'] = fold_change['counts_breast'] / 285\n",
    "# fold_change['filter_nb'] = fold_change['counts_nonbreast'] / 1885\n",
    "# fold_change['FC'] = fold_change['filter_b'] / folc_change['filter_nb']"
   ]
  },
  {
   "cell_type": "code",
   "execution_count": null,
   "metadata": {},
   "outputs": [],
   "source": [
    "#tsjerk\n",
    "\n",
    "# X^2\n",
    "# f = n / n.sum()\n",
    "# E1 = S.sum(axis=1)[:,None]*f\n",
    "# C = (n-s)\n",
    "# E2 = C.sum(axis=1)[:,None]*f\n",
    "# D1 = ((E1-S)**2/E1).sum(axis=1)\n",
    "# D2 = ((E2-C)/E2).sum(axis=1)\n",
    "# X2 = D1 + D2\n",
    "\n",
    "# log_fc = np.diff(np.log(S), axis = 1) - (log n).sum()"
   ]
  },
  {
   "cell_type": "code",
   "execution_count": 31,
   "metadata": {},
   "outputs": [],
   "source": [
    "merge_b_nb_0['counts_nonbreast_plus'] = merge_b_nb_0['counts_nonbreast'] + (1/1885)\n",
    "merge_b_nb_0['counts_breast_plus'] = merge_b_nb_0['counts_breast'] + (1/285)"
   ]
  },
  {
   "cell_type": "code",
   "execution_count": 32,
   "metadata": {},
   "outputs": [
    {
     "data": {
      "text/plain": [
       "array([[2.20035088e+01, 7.00053050e+00],\n",
       "       [6.00350877e+00, 6.00053050e+00],\n",
       "       [4.00350877e+00, 3.00053050e+00],\n",
       "       ...,\n",
       "       [3.50877193e-03, 1.00053050e+00],\n",
       "       [3.50877193e-03, 1.00053050e+00],\n",
       "       [3.50877193e-03, 1.00053050e+00]])"
      ]
     },
     "execution_count": 32,
     "metadata": {},
     "output_type": "execute_result"
    }
   ],
   "source": [
    "n = np.array([285, 1885])\n",
    "S = merge_b_nb_0[['counts_breast_plus', 'counts_nonbreast_plus']].to_numpy() #+1\n",
    "S"
   ]
  },
  {
   "cell_type": "code",
   "execution_count": 33,
   "metadata": {},
   "outputs": [
    {
     "data": {
      "text/plain": [
       "array([0.13133641, 0.86866359])"
      ]
     },
     "execution_count": 33,
     "metadata": {},
     "output_type": "execute_result"
    }
   ],
   "source": [
    "f = n / n.sum()\n",
    "f"
   ]
  },
  {
   "cell_type": "code",
   "execution_count": 34,
   "metadata": {},
   "outputs": [
    {
     "data": {
      "text/plain": [
       "array([[ 3.80928626, 25.19475301],\n",
       "       [ 1.57656737, 10.42747191],\n",
       "       [ 0.91988534,  6.08415393],\n",
       "       ...,\n",
       "       [ 0.13186691,  0.87217237],\n",
       "       [ 0.13186691,  0.87217237],\n",
       "       [ 0.13186691,  0.87217237]])"
      ]
     },
     "execution_count": 34,
     "metadata": {},
     "output_type": "execute_result"
    }
   ],
   "source": [
    "E1 = S.sum(axis=1)[:,None]*f\n",
    "E1"
   ]
  },
  {
   "cell_type": "code",
   "execution_count": 35,
   "metadata": {},
   "outputs": [
    {
     "data": {
      "text/plain": [
       "array([[ 262.99649123, 1877.9994695 ],\n",
       "       [ 278.99649123, 1878.9994695 ],\n",
       "       [ 280.99649123, 1881.9994695 ],\n",
       "       ...,\n",
       "       [ 284.99649123, 1883.9994695 ],\n",
       "       [ 284.99649123, 1883.9994695 ],\n",
       "       [ 284.99649123, 1883.9994695 ]])"
      ]
     },
     "execution_count": 35,
     "metadata": {},
     "output_type": "execute_result"
    }
   ],
   "source": [
    "C = (n-S)\n",
    "C"
   ]
  },
  {
   "cell_type": "code",
   "execution_count": 36,
   "metadata": {},
   "outputs": [
    {
     "data": {
      "text/plain": [
       "array([[ 281.19071374, 1859.80524699],\n",
       "       [ 283.42343263, 1874.57252809],\n",
       "       [ 284.08011466, 1878.91584607],\n",
       "       ...,\n",
       "       [ 284.86813309, 1884.12782763],\n",
       "       [ 284.86813309, 1884.12782763],\n",
       "       [ 284.86813309, 1884.12782763]])"
      ]
     },
     "execution_count": 36,
     "metadata": {},
     "output_type": "execute_result"
    }
   ],
   "source": [
    "E2 = C.sum(axis=1)[:,None]*f\n",
    "E2"
   ]
  },
  {
   "cell_type": "code",
   "execution_count": 37,
   "metadata": {},
   "outputs": [
    {
     "data": {
      "text/plain": [
       "array([100.03955976,  14.31012384,  11.89973675, ...,   0.14383327,\n",
       "         0.14383327,   0.14383327])"
      ]
     },
     "execution_count": 37,
     "metadata": {},
     "output_type": "execute_result"
    }
   ],
   "source": [
    "D1 = ((E1-S)**2/E1).sum(axis=1)\n",
    "D1"
   ]
  },
  {
   "cell_type": "code",
   "execution_count": 38,
   "metadata": {},
   "outputs": [
    {
     "data": {
      "text/plain": [
       "array([ 0.05492134,  0.01325796,  0.0092136 , ..., -0.00038246,\n",
       "       -0.00038246, -0.00038246])"
      ]
     },
     "execution_count": 38,
     "metadata": {},
     "output_type": "execute_result"
    }
   ],
   "source": [
    "D2 = ((E2-C)/E2).sum(axis=1)\n",
    "D2"
   ]
  },
  {
   "cell_type": "code",
   "execution_count": 39,
   "metadata": {},
   "outputs": [
    {
     "data": {
      "text/plain": [
       "array([100.0944811 ,  14.3233818 ,  11.90895035, ...,   0.14345081,\n",
       "         0.14345081,   0.14345081])"
      ]
     },
     "execution_count": 39,
     "metadata": {},
     "output_type": "execute_result"
    }
   ],
   "source": [
    "X2 = D1 + D2\n",
    "X2"
   ]
  },
  {
   "cell_type": "code",
   "execution_count": 54,
   "metadata": {},
   "outputs": [],
   "source": [
    "S_F = merge_b_nb_0[['counts_breast', 'counts_nonbreast']].to_numpy()\n",
    "C_F = (n-S_F)"
   ]
  },
  {
   "cell_type": "code",
   "execution_count": 55,
   "metadata": {},
   "outputs": [
    {
     "data": {
      "text/plain": [
       "dtype('int64')"
      ]
     },
     "execution_count": 55,
     "metadata": {},
     "output_type": "execute_result"
    }
   ],
   "source": [
    "S_F.dtype"
   ]
  },
  {
   "cell_type": "code",
   "execution_count": 56,
   "metadata": {},
   "outputs": [
    {
     "data": {
      "text/plain": [
       "dtype('int64')"
      ]
     },
     "execution_count": 56,
     "metadata": {},
     "output_type": "execute_result"
    }
   ],
   "source": [
    "C_F.dtype"
   ]
  },
  {
   "cell_type": "code",
   "execution_count": 57,
   "metadata": {},
   "outputs": [],
   "source": [
    "# import fisher\n",
    "# help(fisher)"
   ]
  },
  {
   "cell_type": "code",
   "execution_count": 58,
   "metadata": {},
   "outputs": [],
   "source": [
    "S_F = S_F.astype(np.uint)\n",
    "C_F = C_F.astype(np.uint)\n"
   ]
  },
  {
   "cell_type": "code",
   "execution_count": 59,
   "metadata": {},
   "outputs": [
    {
     "name": "stdout",
     "output_type": "stream",
     "text": [
      "result fast p and odds 22.442151004888647 5.815885458037522e-07\n"
     ]
    },
    {
     "name": "stderr",
     "output_type": "stream",
     "text": [
      "<ipython-input-59-8803aff6b031>:7: RuntimeWarning: divide by zero encountered in true_divide\n",
      "  odds = (S_F[:, 0] * C_F[:, 1]) / (C_F[:, 0] * S_F[:, 1])\n"
     ]
    }
   ],
   "source": [
    "# Fisher\n",
    "# conda install -c bioconda fisher\n",
    "# https://stackoverflow.com/questions/34947578/how-to-vectorize-fishers-exact-test\n",
    "from fisher import pvalue_npy\n",
    "\n",
    "_, _, twosided = pvalue_npy(S_F[:, 0], C_F[:, 0], S_F[:, 1], C_F[:, 1])\n",
    "odds = (S_F[:, 0] * C_F[:, 1]) / (C_F[:, 0] * S_F[:, 1])\n",
    "\n",
    "print(\"result fast p and odds\", odds[0], twosided[0])\n",
    "# # result fast p and odds 0.9800531914893617 1.0\n",
    "# print(\"result slow\", fisher_exact([[S[0][0], C[0][0]], [S[0][1], C[0][1]]]))\n",
    "# # result slow (0.9800531914893617, 1.0)\n"
   ]
  },
  {
   "cell_type": "code",
   "execution_count": 60,
   "metadata": {},
   "outputs": [
    {
     "data": {
      "text/plain": [
       "array([5.81588546e-07, 2.25253571e-03, 7.37127108e-03, ...,\n",
       "       1.00000000e+00, 1.00000000e+00, 1.00000000e+00])"
      ]
     },
     "execution_count": 60,
     "metadata": {},
     "output_type": "execute_result"
    }
   ],
   "source": [
    "twosided"
   ]
  },
  {
   "cell_type": "code",
   "execution_count": 61,
   "metadata": {},
   "outputs": [
    {
     "data": {
      "image/png": "[encoded data removed]",
      "text/plain": [
       "<Figure size 432x288 with 1 Axes>"
      ]
     },
     "metadata": {
      "needs_background": "light"
     },
     "output_type": "display_data"
    }
   ],
   "source": [
    "import matplotlib.pyplot as plt\n",
    "plt.figure()\n",
    "plt.plot(twosided, odds)\n",
    "plt.ylim(0,20)\n",
    "plt.show()"
   ]
  },
  {
   "cell_type": "code",
   "execution_count": null,
   "metadata": {},
   "outputs": [],
   "source": [
    "\n",
    "plt# chi2.sf(100.07565261,1)\n",
    "# chi2.sf(0.1508023,1)"
   ]
  },
  {
   "cell_type": "code",
   "execution_count": 62,
   "metadata": {},
   "outputs": [],
   "source": [
    "# https://stackoverflow.com/questions/11725115/p-value-from-chi-sq-test-statistic-in-python\n",
    "from scipy.stats.distributions import chi2\n",
    "p_value_X2 = chi2.sf(X2,1)"
   ]
  },
  {
   "cell_type": "code",
   "execution_count": null,
   "metadata": {},
   "outputs": [],
   "source": [
    "# np.log(285)+np.log(1885) == (np.log(n)).sum()\n",
    "# np.log(22)-np.log(7)-np.log(285)-np.log(1885)"
   ]
  },
  {
   "cell_type": "markdown",
   "metadata": {},
   "source": [
    "log2 FC = log2 a/n1 / b/n2 = \n",
    "log2 22/285 / 7/1885 = \n",
    "log2 22/285 - log2 7/1885 = \n",
    "log2 22 - log2 285 - log2 7 + log2 1885 =\n",
    "log2 22 - log2 7 - (log2 285 - log2 1885)\n"
   ]
  },
  {
   "cell_type": "code",
   "execution_count": null,
   "metadata": {},
   "outputs": [],
   "source": [
    "# logS = np.log2(S)\n",
    "# logS\n",
    "\n",
    "# log_fc = np.diff(np.log2(S), axis = 1) - (np.log2(n)).sum()"
   ]
  },
  {
   "cell_type": "code",
   "execution_count": null,
   "metadata": {},
   "outputs": [],
   "source": [
    "# np.log(7)-np.log(22) = np.diff(logS)"
   ]
  },
  {
   "cell_type": "code",
   "execution_count": 63,
   "metadata": {},
   "outputs": [
    {
     "data": {
      "text/plain": [
       "array([ 4.37772814,  2.72624658,  3.14157807, ..., -5.43005256,\n",
       "       -5.43005256, -5.43005256])"
      ]
     },
     "execution_count": 63,
     "metadata": {},
     "output_type": "execute_result"
    }
   ],
   "source": [
    "constant = np.log(n[0]) - np.log(n[1])\n",
    "log2_fc = (np.log(S[:, 0]) - np.log(S[:, 1]) - constant) / np.log(2)\n",
    "log2_fc\n",
    "#1\n",
    "#-1 borst kanker is helft voorkomen van nb"
   ]
  },
  {
   "cell_type": "code",
   "execution_count": 64,
   "metadata": {},
   "outputs": [
    {
     "data": {
      "text/plain": [
       "array([22.83774088,  3.81264599,  3.2528612 , ...,  0.15188835,\n",
       "        0.15188835,  0.15188835])"
      ]
     },
     "execution_count": 64,
     "metadata": {},
     "output_type": "execute_result"
    }
   ],
   "source": [
    "log10_p_value = -np.log10(p_value_X2)\n",
    "log10_p_value"
   ]
  },
  {
   "cell_type": "code",
   "execution_count": 65,
   "metadata": {},
   "outputs": [],
   "source": [
    "merge_b_nb_0['X2'] = X2\n",
    "merge_b_nb_0['p_value_X2'] = p_value_X2\n",
    "merge_b_nb_0['p_value_F'] = twosided\n",
    "merge_b_nb_0['log10_p_value'] = log10_p_value # -log10(p-value)\n",
    "merge_b_nb_0['log2_fc'] = log2_fc # log2(FC)"
   ]
  },
  {
   "cell_type": "code",
   "execution_count": null,
   "metadata": {},
   "outputs": [],
   "source": []
  },
  {
   "cell_type": "code",
   "execution_count": null,
   "metadata": {},
   "outputs": [],
   "source": [
    "sorted_merge"
   ]
  },
  {
   "cell_type": "code",
   "execution_count": null,
   "metadata": {},
   "outputs": [],
   "source": [
    "merge_b_nb_0"
   ]
  },
  {
   "cell_type": "code",
   "execution_count": null,
   "metadata": {},
   "outputs": [],
   "source": [
    "merge_b_nb_0.to_csv(f\"D:/Hanze_Groningen/STAGE/R/p_valueANDfc_df_BREAST_maxcount_{max_breast}_donor_{num_donor_breast}_NONBREAST_maxcount_{max_nonbreast}_donor_{num_donor_nonbreast}_BOTH_GT12_totalread_33.tsv\", sep='\\t', encoding='utf-8', index=False)"
   ]
  },
  {
   "cell_type": "code",
   "execution_count": 66,
   "metadata": {},
   "outputs": [],
   "source": [
    "from bioinfokit import analys, visuz"
   ]
  },
  {
   "cell_type": "code",
   "execution_count": 67,
   "metadata": {},
   "outputs": [
    {
     "data": {
      "image/png": "[encoded data removed]",
      "text/plain": [
       "<Figure size 360x360 with 1 Axes>"
      ]
     },
     "metadata": {
      "needs_background": "light"
     },
     "output_type": "display_data"
    }
   ],
   "source": [
    "#plot and open . This will not save the image\n",
    "plt = visuz.GeneExpression.volcano(df=merge_b_nb_0,lfc='log2_fc',pv='p_value_X2',show=True)\n",
    "# plt.axhline()"
   ]
  },
  {
   "cell_type": "code",
   "execution_count": 68,
   "metadata": {},
   "outputs": [
    {
     "data": {
      "image/png": "[encoded data removed]",
      "text/plain": [
       "<Figure size 360x360 with 1 Axes>"
      ]
     },
     "metadata": {
      "needs_background": "light"
     },
     "output_type": "display_data"
    }
   ],
   "source": [
    "#plot and open . This will not save the image\n",
    "plt = visuz.GeneExpression.volcano(df=merge_b_nb_0,lfc='log2_fc',pv='p_value_F',show=True)\n",
    "# plt.axhline()"
   ]
  },
  {
   "cell_type": "code",
   "execution_count": 69,
   "metadata": {},
   "outputs": [
    {
     "data": {
      "text/plain": [
       "0.9408702659697918"
      ]
     },
     "execution_count": 69,
     "metadata": {},
     "output_type": "execute_result"
    }
   ],
   "source": [
    "merge_b_nb_0['p_value_F'].corr(merge_b_nb_0['p_value_X2'])"
   ]
  },
  {
   "cell_type": "code",
   "execution_count": 70,
   "metadata": {},
   "outputs": [
    {
     "data": {
      "text/html": [
       "<div>\n",
       "<style scoped>\n",
       "    .dataframe tbody tr th:only-of-type {\n",
       "        vertical-align: middle;\n",
       "    }\n",
       "\n",
       "    .dataframe tbody tr th {\n",
       "        vertical-align: top;\n",
       "    }\n",
       "\n",
       "    .dataframe thead th {\n",
       "        text-align: right;\n",
       "    }\n",
       "</style>\n",
       "<table border=\"1\" class=\"dataframe\">\n",
       "  <thead>\n",
       "    <tr style=\"text-align: right;\">\n",
       "      <th></th>\n",
       "      <th>counts_breast</th>\n",
       "      <th>chr</th>\n",
       "      <th>pos_start</th>\n",
       "      <th>pos_end</th>\n",
       "      <th>counts_nonbreast</th>\n",
       "      <th>counts_nonbreast_plus</th>\n",
       "      <th>counts_breast_plus</th>\n",
       "      <th>X2</th>\n",
       "      <th>p_value_X2</th>\n",
       "      <th>p_value_F</th>\n",
       "      <th>log10_p_value</th>\n",
       "      <th>log2_fc</th>\n",
       "    </tr>\n",
       "  </thead>\n",
       "  <tbody>\n",
       "    <tr>\n",
       "      <th>0</th>\n",
       "      <td>22</td>\n",
       "      <td>chr3</td>\n",
       "      <td>178952085</td>\n",
       "      <td>178952085</td>\n",
       "      <td>7</td>\n",
       "      <td>7.000531</td>\n",
       "      <td>22.003509</td>\n",
       "      <td>100.094481</td>\n",
       "      <td>1.452978e-23</td>\n",
       "      <td>5.815885e-07</td>\n",
       "      <td>22.837741</td>\n",
       "      <td>4.377728</td>\n",
       "    </tr>\n",
       "    <tr>\n",
       "      <th>1</th>\n",
       "      <td>6</td>\n",
       "      <td>chr3</td>\n",
       "      <td>178936091</td>\n",
       "      <td>178936091</td>\n",
       "      <td>6</td>\n",
       "      <td>6.000531</td>\n",
       "      <td>6.003509</td>\n",
       "      <td>14.323382</td>\n",
       "      <td>1.539409e-04</td>\n",
       "      <td>2.252536e-03</td>\n",
       "      <td>3.812646</td>\n",
       "      <td>2.726247</td>\n",
       "    </tr>\n",
       "    <tr>\n",
       "      <th>2</th>\n",
       "      <td>4</td>\n",
       "      <td>chr14</td>\n",
       "      <td>105246551</td>\n",
       "      <td>105246551</td>\n",
       "      <td>3</td>\n",
       "      <td>3.000531</td>\n",
       "      <td>4.003509</td>\n",
       "      <td>11.908950</td>\n",
       "      <td>5.586487e-04</td>\n",
       "      <td>7.371271e-03</td>\n",
       "      <td>3.252861</td>\n",
       "      <td>3.141578</td>\n",
       "    </tr>\n",
       "    <tr>\n",
       "      <th>3</th>\n",
       "      <td>3</td>\n",
       "      <td>chr10</td>\n",
       "      <td>8111433</td>\n",
       "      <td>8111434</td>\n",
       "      <td>0</td>\n",
       "      <td>0.000531</td>\n",
       "      <td>3.003509</td>\n",
       "      <td>19.868524</td>\n",
       "      <td>8.295496e-06</td>\n",
       "      <td>2.244766e-03</td>\n",
       "      <td>5.081158</td>\n",
       "      <td>15.192528</td>\n",
       "    </tr>\n",
       "    <tr>\n",
       "      <th>4</th>\n",
       "      <td>2</td>\n",
       "      <td>chr21</td>\n",
       "      <td>31172543</td>\n",
       "      <td>31172543</td>\n",
       "      <td>0</td>\n",
       "      <td>0.000531</td>\n",
       "      <td>2.003509</td>\n",
       "      <td>13.251897</td>\n",
       "      <td>2.723042e-04</td>\n",
       "      <td>1.719665e-02</td>\n",
       "      <td>3.564946</td>\n",
       "      <td>14.608408</td>\n",
       "    </tr>\n",
       "    <tr>\n",
       "      <th>...</th>\n",
       "      <td>...</td>\n",
       "      <td>...</td>\n",
       "      <td>...</td>\n",
       "      <td>...</td>\n",
       "      <td>...</td>\n",
       "      <td>...</td>\n",
       "      <td>...</td>\n",
       "      <td>...</td>\n",
       "      <td>...</td>\n",
       "      <td>...</td>\n",
       "      <td>...</td>\n",
       "      <td>...</td>\n",
       "    </tr>\n",
       "    <tr>\n",
       "      <th>4893919</th>\n",
       "      <td>0</td>\n",
       "      <td>chr21</td>\n",
       "      <td>30025421</td>\n",
       "      <td>30025421</td>\n",
       "      <td>1</td>\n",
       "      <td>1.000531</td>\n",
       "      <td>0.003509</td>\n",
       "      <td>0.143451</td>\n",
       "      <td>7.048743e-01</td>\n",
       "      <td>1.000000e+00</td>\n",
       "      <td>0.151888</td>\n",
       "      <td>-5.430053</td>\n",
       "    </tr>\n",
       "    <tr>\n",
       "      <th>4893920</th>\n",
       "      <td>0</td>\n",
       "      <td>chr22</td>\n",
       "      <td>23674453</td>\n",
       "      <td>23674453</td>\n",
       "      <td>1</td>\n",
       "      <td>1.000531</td>\n",
       "      <td>0.003509</td>\n",
       "      <td>0.143451</td>\n",
       "      <td>7.048743e-01</td>\n",
       "      <td>1.000000e+00</td>\n",
       "      <td>0.151888</td>\n",
       "      <td>-5.430053</td>\n",
       "    </tr>\n",
       "    <tr>\n",
       "      <th>4893921</th>\n",
       "      <td>0</td>\n",
       "      <td>chr20</td>\n",
       "      <td>46011295</td>\n",
       "      <td>46011295</td>\n",
       "      <td>1</td>\n",
       "      <td>1.000531</td>\n",
       "      <td>0.003509</td>\n",
       "      <td>0.143451</td>\n",
       "      <td>7.048743e-01</td>\n",
       "      <td>1.000000e+00</td>\n",
       "      <td>0.151888</td>\n",
       "      <td>-5.430053</td>\n",
       "    </tr>\n",
       "    <tr>\n",
       "      <th>4893922</th>\n",
       "      <td>0</td>\n",
       "      <td>chr2</td>\n",
       "      <td>4199709</td>\n",
       "      <td>4199709</td>\n",
       "      <td>1</td>\n",
       "      <td>1.000531</td>\n",
       "      <td>0.003509</td>\n",
       "      <td>0.143451</td>\n",
       "      <td>7.048743e-01</td>\n",
       "      <td>1.000000e+00</td>\n",
       "      <td>0.151888</td>\n",
       "      <td>-5.430053</td>\n",
       "    </tr>\n",
       "    <tr>\n",
       "      <th>4893923</th>\n",
       "      <td>0</td>\n",
       "      <td>chr15</td>\n",
       "      <td>55919246</td>\n",
       "      <td>55919246</td>\n",
       "      <td>1</td>\n",
       "      <td>1.000531</td>\n",
       "      <td>0.003509</td>\n",
       "      <td>0.143451</td>\n",
       "      <td>7.048743e-01</td>\n",
       "      <td>1.000000e+00</td>\n",
       "      <td>0.151888</td>\n",
       "      <td>-5.430053</td>\n",
       "    </tr>\n",
       "  </tbody>\n",
       "</table>\n",
       "<p>4893924 rows × 12 columns</p>\n",
       "</div>"
      ],
      "text/plain": [
       "         counts_breast    chr  pos_start    pos_end  counts_nonbreast  \\\n",
       "0                   22   chr3  178952085  178952085                 7   \n",
       "1                    6   chr3  178936091  178936091                 6   \n",
       "2                    4  chr14  105246551  105246551                 3   \n",
       "3                    3  chr10    8111433    8111434                 0   \n",
       "4                    2  chr21   31172543   31172543                 0   \n",
       "...                ...    ...        ...        ...               ...   \n",
       "4893919              0  chr21   30025421   30025421                 1   \n",
       "4893920              0  chr22   23674453   23674453                 1   \n",
       "4893921              0  chr20   46011295   46011295                 1   \n",
       "4893922              0   chr2    4199709    4199709                 1   \n",
       "4893923              0  chr15   55919246   55919246                 1   \n",
       "\n",
       "         counts_nonbreast_plus  counts_breast_plus          X2    p_value_X2  \\\n",
       "0                     7.000531           22.003509  100.094481  1.452978e-23   \n",
       "1                     6.000531            6.003509   14.323382  1.539409e-04   \n",
       "2                     3.000531            4.003509   11.908950  5.586487e-04   \n",
       "3                     0.000531            3.003509   19.868524  8.295496e-06   \n",
       "4                     0.000531            2.003509   13.251897  2.723042e-04   \n",
       "...                        ...                 ...         ...           ...   \n",
       "4893919               1.000531            0.003509    0.143451  7.048743e-01   \n",
       "4893920               1.000531            0.003509    0.143451  7.048743e-01   \n",
       "4893921               1.000531            0.003509    0.143451  7.048743e-01   \n",
       "4893922               1.000531            0.003509    0.143451  7.048743e-01   \n",
       "4893923               1.000531            0.003509    0.143451  7.048743e-01   \n",
       "\n",
       "            p_value_F  log10_p_value    log2_fc  \n",
       "0        5.815885e-07      22.837741   4.377728  \n",
       "1        2.252536e-03       3.812646   2.726247  \n",
       "2        7.371271e-03       3.252861   3.141578  \n",
       "3        2.244766e-03       5.081158  15.192528  \n",
       "4        1.719665e-02       3.564946  14.608408  \n",
       "...               ...            ...        ...  \n",
       "4893919  1.000000e+00       0.151888  -5.430053  \n",
       "4893920  1.000000e+00       0.151888  -5.430053  \n",
       "4893921  1.000000e+00       0.151888  -5.430053  \n",
       "4893922  1.000000e+00       0.151888  -5.430053  \n",
       "4893923  1.000000e+00       0.151888  -5.430053  \n",
       "\n",
       "[4893924 rows x 12 columns]"
      ]
     },
     "execution_count": 70,
     "metadata": {},
     "output_type": "execute_result"
    }
   ],
   "source": [
    "merge_b_nb_0"
   ]
  },
  {
   "cell_type": "code",
   "execution_count": 75,
   "metadata": {},
   "outputs": [
    {
     "data": {
      "text/plain": [
       "1.2708355912531913e-14"
      ]
     },
     "execution_count": 75,
     "metadata": {},
     "output_type": "execute_result"
    }
   ],
   "source": [
    "from scipy.stats import fisher_exact\n",
    "table = np.array([[22, (285-22)], [7, (1885-7)]])\n",
    "oddsr, p = fisher_exact(table, alternative='two-sided')\n",
    "p"
   ]
  },
  {
   "cell_type": "code",
   "execution_count": 81,
   "metadata": {},
   "outputs": [
    {
     "data": {
      "text/plain": [
       "22"
      ]
     },
     "execution_count": 81,
     "metadata": {},
     "output_type": "execute_result"
    }
   ],
   "source": [
    "merge_b_nb_0.iloc[0,0]"
   ]
  },
  {
   "cell_type": "code",
   "execution_count": 90,
   "metadata": {},
   "outputs": [
    {
     "name": "stdout",
     "output_type": "stream",
     "text": [
      "--- 9.073425099999895 seconds ---\n"
     ]
    }
   ],
   "source": [
    "import time\n",
    "start_time = time.perf_counter()\n",
    "\n",
    "for i in range(0,10000):    \n",
    "    table = np.array([[merge_b_nb_0.iloc[i,0], (285-merge_b_nb_0.iloc[i,0])], [merge_b_nb_0.iloc[i,4], (1885-merge_b_nb_0.iloc[i,4])]])\n",
    "    oddsr, p = fisher_exact(table, alternative='two-sided')\n",
    "print(\"--- %s seconds ---\" % (time.perf_counter() - start_time))\n",
    "    "
   ]
  },
  {
   "cell_type": "code",
   "execution_count": null,
   "metadata": {},
   "outputs": [],
   "source": [
    "#change plot color\n",
    "visuz.GeneExpression.volcano(df=merge_b_nb_0,lfc='log2_fc',pv='p_value_X2',ar=0,color=('blue','grey','green'),show=True)"
   ]
  },
  {
   "cell_type": "code",
   "execution_count": null,
   "metadata": {},
   "outputs": [],
   "source": [
    "sorted_merge = merge_b_nb_0.sort_values(by=['p_value_X2'])\n",
    "sorted_merge"
   ]
  },
  {
   "cell_type": "code",
   "execution_count": null,
   "metadata": {},
   "outputs": [],
   "source": []
  },
  {
   "cell_type": "code",
   "execution_count": null,
   "metadata": {},
   "outputs": [],
   "source": [
    "# https://github.com/vappiah/bioinfoscripts/blob/main/volcano-plot-in-python.py\n",
    "from bioinfokit import analys, visuz\n",
    "#plot and save. Plot will be saved in the current working directory\n",
    "visuz.GeneExpression.volcano(df=merge_b_nb_0,lfc='log2_fc',pv='p_value_X2')\n",
    "\n",
    "#plot and open . This will not save the image\n",
    "visuz.GeneExpression.volcano(df=merge_b_nb_0,lfc='log2_fc',pv='p_value_X2',show=True)\n",
    "\n",
    "#plot and rotate x-axis labels\n",
    "visuz.GeneExpression.volcano(df=merge_b_nb_0,lfc='log2_fc',pv='p_value_X2',ar=0,show=True)\n",
    "\n",
    "#show statistically significant differentially expressed genes based on thresholds\n",
    "visuz.GeneExpression.volcano(df=merge_b_nb_0,lfc='log2_fc',pv='p_value_X2',ar=0,show=True,plotlegend=True,\n",
    "                        legendpos='upper right',lfc_thr=(1,2),pv_thr=(0.05,0.01))\n",
    "\n",
    "#change plot color\n",
    "visuz.GeneExpression.volcano(df=merge_b_nb_0,lfc='log2_fc',pv='p_value_X2',ar=0,color=('blue','grey','green'),show=True)\n",
    "\n",
    "\n",
    "#Add gene labels\n",
    "# visuz.GeneExpression.volcano(df=merge_b_nb_0,lfc=\"log2_fc\",pv=\"p_value_X2\",geneid=\"GeneNames\"\n",
    "#                         ,genenames=(\"LOC_Os09g01000.1\", \"LOC_Os01g50030.1\", \n",
    "#                                     \"LOC_Os06g40940.3\"),ar=0,show=True)\n"
   ]
  },
  {
   "cell_type": "code",
   "execution_count": null,
   "metadata": {},
   "outputs": [],
   "source": []
  },
  {
   "cell_type": "code",
   "execution_count": null,
   "metadata": {},
   "outputs": [],
   "source": [
    "import numpy as np\n",
    "import pandas as pd\n",
    "import seaborn as sns\n",
    "from scipy.stats import uniform, randint"
   ]
  },
  {
   "cell_type": "code",
   "execution_count": null,
   "metadata": {},
   "outputs": [],
   "source": [
    "merge_b_nb_0"
   ]
  },
  {
   "cell_type": "code",
   "execution_count": null,
   "metadata": {},
   "outputs": [],
   "source": [
    "select_merge = merge_b_nb_0[['chr', 'pos_start', 'p_value_X2']]\n",
    "select_merge"
   ]
  },
  {
   "cell_type": "code",
   "execution_count": null,
   "metadata": {},
   "outputs": [],
   "source": [
    "select_merge[\"chr\"] = select_merge[\"chr\"].str.replace(\"chr\", \"\")\n",
    "select_merge['-logp'] = -np.log10(select_merge['p_value_X2'])\n",
    "select_merge = select_merge.sort_values(['chr','pos_start'])\n",
    "select_merge.reset_index(inplace=True, drop=True)\n",
    "select_merge['i'] = select_merge.index\n",
    "\n",
    "select_merge"
   ]
  },
  {
   "cell_type": "code",
   "execution_count": null,
   "metadata": {},
   "outputs": [],
   "source": [
    "#https://stackoverflow.com/questions/37463184/how-to-create-a-manhattan-plot-with-matplotlib-in-python\n",
    "# Generate Manhattan plot: (#optional tweaks for relplot: linewidth=0, s=9)\n",
    "plot = sns.relplot(data=select_merge, x='i', y='-logp', aspect=3.7, \n",
    "                   hue='chr', palette = 'bright', legend=None) \n",
    "chrom_df=select_merge.groupby('chr')['i'].median()\n",
    "plot.ax.set_xlabel('chr'); plot.ax.set_xticks(chrom_df);\n",
    "plot.ax.set_xticklabels(chrom_df.index)\n",
    "plot.ax.set_xlim([0, len(select_merge)])\n",
    "plot.ax.set_ylim([0, select_merge['-logp'].max()])\n",
    "plot.fig.suptitle('Manhattan plot');"
   ]
  },
  {
   "cell_type": "code",
   "execution_count": null,
   "metadata": {},
   "outputs": [],
   "source": [
    "# #https://stackoverflow.com/questions/37463184/how-to-create-a-manhattan-plot-with-matplotlib-in-python\n",
    "# # How to plot gene vs. -log10(pvalue) and colour it by chromosome?\n",
    "# select_merge['ind'] = range(len(select_merge))\n",
    "# df_grouped = select_merge.groupby(('chr'))\n",
    "\n",
    "# fig = plt.figure()\n",
    "# ax = fig.add_subplot(111)\n",
    "# colors = ['red','green','blue', 'yellow']\n",
    "# x_labels = []\n",
    "# x_labels_pos = []\n",
    "# for num, (name, group) in enumerate(df_grouped):\n",
    "#     group.plot(kind='scatter', x='ind', y='-logp',color=colors[num % len(colors)], ax=ax)\n",
    "#     x_labels.append(name)\n",
    "#     x_labels_pos.append((group['ind'].iloc[-1] - (group['ind'].iloc[-1] - group['ind'].iloc[0])/2))\n",
    "# ax.set_xticks(x_labels_pos)\n",
    "# ax.set_xticklabels(x_labels)\n",
    "# ax.set_xlim([0, len(df)])\n",
    "# ax.set_ylim([0, 3.5])\n",
    "# ax.set_xlabel('Chromosome')"
   ]
  },
  {
   "cell_type": "code",
   "execution_count": null,
   "metadata": {},
   "outputs": [],
   "source": [
    "#https://www.reneshbedre.com/blog/manhattan-plot.html\n",
    "# by default line will be plotted at P=5E-08\n",
    "# you can change this value as per need\n",
    "from bioinfokit import analys, visuz\n",
    "visuz.marker.mhat(df=select_merge, chr='chr',pv='p_value_X2', gwas_sign_line=True, gwasp=5e-06, markernames=True, markeridcol='i', gstyle=2, show=True)"
   ]
  },
  {
   "cell_type": "code",
   "execution_count": null,
   "metadata": {},
   "outputs": [],
   "source": []
  },
  {
   "cell_type": "code",
   "execution_count": null,
   "metadata": {},
   "outputs": [],
   "source": []
  }
 ],
 "metadata": {
  "kernelspec": {
   "display_name": "Python [conda env:umap] *",
   "language": "python",
   "name": "conda-env-umap-py"
  },
  "language_info": {
   "codemirror_mode": {
    "name": "ipython",
    "version": 3
   },
   "file_extension": ".py",
   "mimetype": "text/x-python",
   "name": "python",
   "nbconvert_exporter": "python",
   "pygments_lexer": "ipython3",
   "version": "3.8.12"
  }
 },
 "nbformat": 4,
 "nbformat_minor": 4
}
