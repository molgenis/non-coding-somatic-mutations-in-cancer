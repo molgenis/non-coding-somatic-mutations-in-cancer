{
 "cells": [
  {
   "cell_type": "code",
   "execution_count": 21,
   "metadata": {},
   "outputs": [],
   "source": [
    "# from Database import Database\n",
    "# import sys\n",
    "# # import multiprocessing as mp\n",
    "# import pandas as pd\n",
    "# from collections import Counter\n",
    "# import matplotlib.pyplot as plt\n",
    "# import seaborn as sns\n",
    "# import numpy as np\n",
    "# from scipy.stats.distributions import chi2\n",
    "# from bioinfokit import analys, visuz\n",
    "# from scipy.stats import fisher_exact\n",
    "# import time\n",
    "# from scipy.special import factorial\n",
    "\n",
    "\n",
    "# from fisher import pvalue_npy\n",
    "# from scipy.stats import chi2_contingency\n",
    "# from scipy.stats import uniform, randint\n",
    "\n",
    "from Database import Database\n",
    "import pandas as pd\n",
    "from collections import Counter\n",
    "# Python program to create\n",
    "# sparse matrix using csr_matrix()\n",
    "# Import required package\n",
    "import numpy as np\n",
    "from scipy.sparse import csr_matrix\n",
    "# from matplotlib import pyplot as plt"
   ]
  },
  {
   "cell_type": "code",
   "execution_count": 22,
   "metadata": {},
   "outputs": [],
   "source": [
    "path_db = \"D:/Hanze_Groningen/STAGE/db_laatste_copy.db\" #\"/groups/umcg-wijmenga/tmp01/projects/lude_vici_2021/rawdata/cancer_data/new_db/copydb_L.db\"  # /groups/umcg-wijmenga/tmp01/projects/lude_vici_2021/rawdata/cancer_data/new_db/copydatabase_C.db\n",
    "# Database connection\n",
    "db = Database(path_db)\n",
    "\n",
    "df = pd.read_sql('''SELECT project.cancer, sum_dosage_GT.donor_project_ID, \n",
    "                        sum_dosage_GT.donor_ID, sum_dosage_GT.snp_ID, \n",
    "                        snp.chr, snp.pos_start, snp.pos_end , snp.DNase, snp.TFBS, snp.UCNE\n",
    "                FROM project, sum_dosage_GT, snp \n",
    "                WHERE sum_dosage_GT.snp_ID=snp.ID AND \n",
    "                            sum_dosage_GT.donor_project_ID = project.ID AND \n",
    "                            (sum_dosage_GT.GT2 = 1 OR sum_dosage_GT.GT2 = 2) AND \n",
    "                            sum_dosage_GT.total_read_count_sum >= 33 ;''', db.mydb_connection)"
   ]
  },
  {
   "cell_type": "code",
   "execution_count": null,
   "metadata": {},
   "outputs": [],
   "source": [
    "def layer_run(df_variant, name_variant):    \n",
    "    header_file = 'filter\\tgene\\tchr\\tstart_position_regio\\tend_position_regio\\t#snp_unique\\tsnp_list\\t#donors_all' \\\n",
    "                '\\tdonor_count\\tcancer_count\\n'    \n",
    "    # Make file\n",
    "    f = open(f'D:/Hanze_Groningen/STAGE/{name_variant}_num_snps_ALL.tsv', 'w')\n",
    "    f.write(header_file)\n",
    "    for index, row in df_variant.iterrows():\n",
    "        print(index)\n",
    "        x = df[(df['chr']==row['#Chromosome']) & (df['pos_start']>=row['Start']) & (df['pos_end']<=row['End'])]\n",
    "        donor_list = list(x['donor_ID'])\n",
    "        donor_count = dict(Counter(donor_list))\n",
    "        cancer_list = list(x['cancer'])\n",
    "        cancer_count = dict(Counter(cancer_list))\n",
    "        if len(x) > 0:\n",
    "            f.write(str(33) + '\\t' + str(row['#Chromosome']) + '\\t' + str(row['Start']) + '\\t' + str(row['End']) + '\\t' + str(\n",
    "            len(x['snp_ID'])) + '\\t' + ','.join(map(str, list(x['snp_ID']))) + '\\t' + str(len(donor_list)) + '\\t' + str(\n",
    "            donor_count) + '\\t' + str(cancer_count) + '\\n')\n",
    "        else:\n",
    "            f.write(str(33) + '\\t' + str(row['#Chromosome']) + '\\t' + str(row['Start']) + '\\t' + str(row['End']) + '\\t-\\t-\\t-\\t-\\t-\\n')\n",
    "\n",
    "    f.close()\n"
   ]
  },
  {
   "cell_type": "code",
   "execution_count": null,
   "metadata": {},
   "outputs": [],
   "source": [
    "# DNase\n",
    "path_file = 'D:/Hanze_Groningen/STAGE/lagen/2022-04-13_GRCh37_DNase.merged.bed.gz'\n",
    "df_variant = pd.read_csv(path_file, sep='\\t', compression='gzip')\n",
    "df_variant['#Chromosome'] = df_variant['#Chromosome'].str.replace('chr', '')\n",
    "print(len(df_variant))"
   ]
  },
  {
   "cell_type": "code",
   "execution_count": null,
   "metadata": {},
   "outputs": [],
   "source": [
    "name_variant = 'DNase'\n",
    "layer_run(df_variant, name_variant)"
   ]
  },
  {
   "cell_type": "code",
   "execution_count": null,
   "metadata": {},
   "outputs": [],
   "source": [
    "# TFBS\n",
    "path_file = 'D:/Hanze_Groningen/STAGE/lagen/2022-04-13_GRCh37_TFBS.merged.bed.gz'\n",
    "df_variant = pd.read_csv(path_file, sep='\\t', compression='gzip')\n",
    "df_variant['#Chromosome'] = df_variant['#Chromosome'].str.replace('chr', '')\n",
    "print(len(df_variant))\n"
   ]
  },
  {
   "cell_type": "code",
   "execution_count": null,
   "metadata": {},
   "outputs": [],
   "source": [
    "name_variant = 'TFBS'\n",
    "layer_run(df_variant, name_variant)"
   ]
  },
  {
   "cell_type": "code",
   "execution_count": null,
   "metadata": {},
   "outputs": [],
   "source": []
  },
  {
   "cell_type": "code",
   "execution_count": null,
   "metadata": {},
   "outputs": [],
   "source": []
  },
  {
   "cell_type": "code",
   "execution_count": null,
   "metadata": {},
   "outputs": [],
   "source": []
  },
  {
   "cell_type": "code",
   "execution_count": null,
   "metadata": {},
   "outputs": [],
   "source": []
  },
  {
   "cell_type": "code",
   "execution_count": null,
   "metadata": {},
   "outputs": [],
   "source": [
    "path_db = 'D:/Hanze_Groningen/STAGE/lastdb/db_laatste_copy.db' #'D:/Hanze_Groningen/STAGE/DATAB/copydatabase_C.db'\n",
    "# Database connection\n",
    "db = Database(path_db)"
   ]
  },
  {
   "cell_type": "code",
   "execution_count": null,
   "metadata": {},
   "outputs": [],
   "source": [
    "table = pd.read_sql(\"SELECT name FROM sqlite_master WHERE type='table';\", db.mydb_connection)\n",
    "table\n"
   ]
  },
  {
   "cell_type": "code",
   "execution_count": null,
   "metadata": {},
   "outputs": [],
   "source": [
    "results = db.cursor.execute(\"PRAGMA table_info(project)\").fetchall()\n",
    "for res in results:\n",
    "    print(res[:])"
   ]
  },
  {
   "cell_type": "code",
   "execution_count": null,
   "metadata": {},
   "outputs": [],
   "source": [
    "results = db.cursor.execute(\"PRAGMA table_info(sqlite_sequence)\").fetchall()\n",
    "for res in results:\n",
    "    print(res[:])"
   ]
  },
  {
   "cell_type": "code",
   "execution_count": null,
   "metadata": {},
   "outputs": [],
   "source": [
    "results = db.cursor.execute(\"PRAGMA table_info(donor)\").fetchall()\n",
    "for res in results:\n",
    "    print(res[:])"
   ]
  },
  {
   "cell_type": "code",
   "execution_count": null,
   "metadata": {},
   "outputs": [],
   "source": [
    "results = db.cursor.execute(\"PRAGMA table_info(snp)\").fetchall()\n",
    "for res in results:\n",
    "    print(res[:])"
   ]
  },
  {
   "cell_type": "code",
   "execution_count": null,
   "metadata": {},
   "outputs": [],
   "source": [
    "results = db.cursor.execute(\"PRAGMA table_info(tissue)\").fetchall()\n",
    "for res in results:\n",
    "    print(res[:])"
   ]
  },
  {
   "cell_type": "code",
   "execution_count": null,
   "metadata": {},
   "outputs": [],
   "source": [
    "results = db.cursor.execute(\"PRAGMA table_info(donor_has_snp)\").fetchall()\n",
    "for res in results:\n",
    "    print(res[:])"
   ]
  },
  {
   "cell_type": "code",
   "execution_count": null,
   "metadata": {},
   "outputs": [],
   "source": [
    "results = db.cursor.execute(\"PRAGMA table_info(sum_dosage_GT)\").fetchall()\n",
    "for res in results:\n",
    "    print(res[:])"
   ]
  },
  {
   "cell_type": "code",
   "execution_count": null,
   "metadata": {},
   "outputs": [],
   "source": []
  },
  {
   "cell_type": "code",
   "execution_count": null,
   "metadata": {},
   "outputs": [],
   "source": []
  },
  {
   "cell_type": "code",
   "execution_count": null,
   "metadata": {},
   "outputs": [],
   "source": []
  },
  {
   "cell_type": "code",
   "execution_count": null,
   "metadata": {},
   "outputs": [],
   "source": [
    "for res in results:\n",
    "    print(res[0], res[1])\n",
    "    donor = db.cursor.execute(\n",
    "                \"\"\"SELECT donor_ID\n",
    "                    FROM donor\n",
    "                    WHERE project_ID = %s ;\"\"\" %\n",
    "                int(res[0])).fetchall()\n",
    "    set_don = list()\n",
    "    for don in donor:\n",
    "        set_don.append(don[0])\n",
    "    print(len(set(set_don)))\n",
    "print(len(results))"
   ]
  },
  {
   "cell_type": "code",
   "execution_count": null,
   "metadata": {},
   "outputs": [],
   "source": [
    "results = db.cursor.execute(\"\"\"SELECT cancer, ID\n",
    "                            FROM project\"\"\").fetchall()\n",
    "dict_cancer = dict()\n",
    "for res in results:\n",
    "    if res[0] in dict_cancer:\n",
    "        dict_cancer[res[0]].append(res[1])\n",
    "    else:\n",
    "        dict_cancer[res[0]] = [res[1]]\n",
    "\n",
    "dict_2 = dict()\n",
    "for key, value in dict_cancer.items():\n",
    "    donor_num = 0\n",
    "    for ID in value:\n",
    "        donor = db.cursor.execute(\n",
    "                    \"\"\"SELECT donor_ID\n",
    "                        FROM donor\n",
    "                        WHERE project_ID = %s ;\"\"\" %\n",
    "                    int(ID)).fetchall()\n",
    "        set_don = list()\n",
    "        for don in donor:\n",
    "            set_don.append(don[0])\n",
    "        donor_num += len(set(set_don))\n",
    "    dict_2[key] = donor_num\n",
    "\n",
    "print(dict_2)"
   ]
  },
  {
   "cell_type": "code",
   "execution_count": null,
   "metadata": {},
   "outputs": [],
   "source": []
  },
  {
   "cell_type": "code",
   "execution_count": null,
   "metadata": {},
   "outputs": [],
   "source": []
  }
 ],
 "metadata": {
  "interpreter": {
   "hash": "a53b025198f004f449cb90af97b7ad63f2d7fc17772f3863d2f67664171bd77f"
  },
  "kernelspec": {
   "display_name": "Python [conda env:umap] *",
   "language": "python",
   "name": "python3"
  },
  "language_info": {
   "codemirror_mode": {
    "name": "ipython",
    "version": 3
   },
   "file_extension": ".py",
   "mimetype": "text/x-python",
   "name": "python",
   "nbconvert_exporter": "python",
   "pygments_lexer": "ipython3",
   "version": "3.9.13"
  }
 },
 "nbformat": 4,
 "nbformat_minor": 4
}
