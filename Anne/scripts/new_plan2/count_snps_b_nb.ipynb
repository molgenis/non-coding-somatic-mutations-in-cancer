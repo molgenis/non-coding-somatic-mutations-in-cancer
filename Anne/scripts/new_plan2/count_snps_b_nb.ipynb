{
 "cells": [
  {
   "cell_type": "code",
   "execution_count": 1,
   "metadata": {},
   "outputs": [],
   "source": [
    "from Database import Database\n",
    "import sys\n",
    "# import multiprocessing as mp\n",
    "import pandas as pd\n",
    "from collections import Counter\n",
    "import matplotlib.pyplot as plt\n",
    "import seaborn as sns\n",
    "from scipy.stats import chi2_contingency\n",
    "import numpy as np"
   ]
  },
  {
   "cell_type": "code",
   "execution_count": 2,
   "metadata": {},
   "outputs": [],
   "source": [
    "def get_project_ids(db):\n",
    "    db.cursor.execute(\"\"\"SELECT *\n",
    "                            FROM project\"\"\")\n",
    "    projects = db.cursor.fetchall()\n",
    "    dict_project = dict()\n",
    "    for proj in projects:\n",
    "        dict_project[proj['ID']] = proj['project_ID']\n",
    "    return dict_project"
   ]
  },
  {
   "cell_type": "code",
   "execution_count": 3,
   "metadata": {},
   "outputs": [
    {
     "name": "stdout",
     "output_type": "stream",
     "text": [
      "43\n"
     ]
    }
   ],
   "source": [
    " path_db = 'D:/Hanze_Groningen/STAGE/db_laatste_copy.db' #'D:/Hanze_Groningen/STAGE/DATAB/copydatabase_C.db'\n",
    "# Database connection\n",
    "db = Database(path_db)\n",
    "dict_project = get_project_ids(db)\n",
    "print(len(dict_project))"
   ]
  },
  {
   "cell_type": "code",
   "execution_count": 4,
   "metadata": {},
   "outputs": [],
   "source": [
    "df = pd.read_sql('''SELECT project.cancer, sum_dosage_GT.donor_project_ID, \n",
    "                            sum_dosage_GT.donor_ID, sum_dosage_GT.snp_ID, \n",
    "                            snp.chr, snp.pos_start, snp.pos_end \n",
    "                    FROM project, sum_dosage_GT, snp \n",
    "                    WHERE sum_dosage_GT.snp_ID=snp.ID AND \n",
    "                              sum_dosage_GT.donor_project_ID = project.ID AND \n",
    "                              (sum_dosage_GT.GT2 = 1 OR sum_dosage_GT.GT2 = 2) AND \n",
    "                              sum_dosage_GT.total_read_count_sum >= 33;''', db.mydb_connection)"
   ]
  },
  {
   "cell_type": "code",
   "execution_count": 5,
   "metadata": {},
   "outputs": [
    {
     "name": "stdout",
     "output_type": "stream",
     "text": [
      "HEAD\n",
      "          cancer  donor_project_ID  donor_ID  snp_ID chr  pos_start    pos_end\n",
      "0  Head and neck                 1         1      41  11  101465614  101465614\n",
      "1  Head and neck                 1         1     151  11  103127113  103127113\n",
      "2  Head and neck                 1         1     197   8   82046917   82046917\n",
      "3  Head and neck                 1         1     216  11  107789760  107789760\n",
      "4  Head and neck                 1         1     241  14   48732779   48732779\n",
      "15\n",
      "{'Blood', 'Gall Bladder', 'Liver', 'Bladder', 'Brain', 'Ovary', 'Bone', 'Cervix', 'Uterus', 'Colorectal', 'Mesenchymal', 'Head and neck', 'Kidney', 'Stomach', 'Breast'}\n",
      "40\n",
      "{1, 2, 3, 4, 5, 6, 7, 8, 9, 10, 11, 12, 13, 14, 15, 18, 19, 20, 22, 23, 24, 25, 26, 27, 28, 29, 30, 31, 32, 33, 34, 35, 36, 37, 38, 39, 40, 41, 42, 43}\n",
      "2169\n",
      "5651989\n",
      "5855204\n",
      "{'3', '1', '5', '19', '21', '13', '17', '15', '11', '6', '2', 'Y', 'MT', '9', 'X', '10', '20', '4', '18', '14', '7', '22', '12', '16', '8'}\n"
     ]
    }
   ],
   "source": [
    "print('HEAD')\n",
    "print(df.head())\n",
    "print(len(set(df['cancer'])))\n",
    "print(set(df['cancer']))\n",
    "print(len(set(df['donor_project_ID'])))\n",
    "print(set(df['donor_project_ID']))\n",
    "print(len(set(df['donor_ID'])))\n",
    "print(len(set(df['snp_ID'])))\n",
    "print(len(df))\n",
    "print(set(df['chr']))"
   ]
  },
  {
   "cell_type": "code",
   "execution_count": 6,
   "metadata": {},
   "outputs": [
    {
     "name": "stderr",
     "output_type": "stream",
     "text": [
      "<ipython-input-6-5a2c1653c4d5>:2: SettingWithCopyWarning: \n",
      "A value is trying to be set on a copy of a slice from a DataFrame.\n",
      "Try using .loc[row_indexer,col_indexer] = value instead\n",
      "\n",
      "See the caveats in the documentation: https://pandas.pydata.org/pandas-docs/stable/user_guide/indexing.html#returning-a-view-versus-a-copy\n",
      "  df_fil['chr'] ='chr' + df_fil['chr'].astype(str)\n"
     ]
    }
   ],
   "source": [
    "df_fil = df.loc[df['chr'] != 'MT']\n",
    "df_fil['chr'] ='chr' + df_fil['chr'].astype(str)"
   ]
  },
  {
   "cell_type": "code",
   "execution_count": 7,
   "metadata": {},
   "outputs": [
    {
     "name": "stderr",
     "output_type": "stream",
     "text": [
      "<ipython-input-7-bb9243d632d2>:3: SettingWithCopyWarning: \n",
      "A value is trying to be set on a copy of a slice from a DataFrame\n",
      "\n",
      "See the caveats in the documentation: https://pandas.pydata.org/pandas-docs/stable/user_guide/indexing.html#returning-a-view-versus-a-copy\n",
      "  breast_cancer1.sort_values(by=['chr', 'pos_start'], inplace=True)\n"
     ]
    }
   ],
   "source": [
    "breast_cancer = df_fil.loc[df_fil['cancer'] == 'Breast']\n",
    "breast_cancer1 = breast_cancer[['chr', 'pos_start', 'pos_end']]\n",
    "breast_cancer1.sort_values(by=['chr', 'pos_start'], inplace=True)"
   ]
  },
  {
   "cell_type": "code",
   "execution_count": 8,
   "metadata": {},
   "outputs": [
    {
     "name": "stderr",
     "output_type": "stream",
     "text": [
      "<ipython-input-8-4f38133a77e2>:3: SettingWithCopyWarning: \n",
      "A value is trying to be set on a copy of a slice from a DataFrame\n",
      "\n",
      "See the caveats in the documentation: https://pandas.pydata.org/pandas-docs/stable/user_guide/indexing.html#returning-a-view-versus-a-copy\n",
      "  nonbreast_cancer1.sort_values(by=['chr', 'pos_start'], inplace=True)\n"
     ]
    }
   ],
   "source": [
    "nonbreast_cancer = df_fil.loc[df_fil['cancer'] != 'Breast']\n",
    "nonbreast_cancer1 = nonbreast_cancer[['chr', 'pos_start', 'pos_end']]\n",
    "nonbreast_cancer1.sort_values(by=['chr', 'pos_start'], inplace=True)"
   ]
  },
  {
   "cell_type": "code",
   "execution_count": 9,
   "metadata": {},
   "outputs": [
    {
     "name": "stdout",
     "output_type": "stream",
     "text": [
      "285\n"
     ]
    },
    {
     "name": "stderr",
     "output_type": "stream",
     "text": [
      "<ipython-input-9-8adcad4a8fd6>:1: SettingWithCopyWarning: \n",
      "A value is trying to be set on a copy of a slice from a DataFrame.\n",
      "Try using .loc[row_indexer,col_indexer] = value instead\n",
      "\n",
      "See the caveats in the documentation: https://pandas.pydata.org/pandas-docs/stable/user_guide/indexing.html#returning-a-view-versus-a-copy\n",
      "  breast_cancer['snp'] = breast_cancer['chr'] + '_' + breast_cancer['pos_start'].map(str) + '_' + breast_cancer['pos_end'].map(str)\n"
     ]
    },
    {
     "data": {
      "text/html": [
       "<div>\n",
       "<style scoped>\n",
       "    .dataframe tbody tr th:only-of-type {\n",
       "        vertical-align: middle;\n",
       "    }\n",
       "\n",
       "    .dataframe tbody tr th {\n",
       "        vertical-align: top;\n",
       "    }\n",
       "\n",
       "    .dataframe thead th {\n",
       "        text-align: right;\n",
       "    }\n",
       "</style>\n",
       "<table border=\"1\" class=\"dataframe\">\n",
       "  <thead>\n",
       "    <tr style=\"text-align: right;\">\n",
       "      <th></th>\n",
       "      <th>cancer</th>\n",
       "      <th>donor_project_ID</th>\n",
       "      <th>donor_ID</th>\n",
       "      <th>snp_ID</th>\n",
       "      <th>chr</th>\n",
       "      <th>pos_start</th>\n",
       "      <th>pos_end</th>\n",
       "      <th>snp</th>\n",
       "    </tr>\n",
       "  </thead>\n",
       "  <tbody>\n",
       "    <tr>\n",
       "      <th>776755</th>\n",
       "      <td>Breast</td>\n",
       "      <td>25</td>\n",
       "      <td>1305</td>\n",
       "      <td>1979425</td>\n",
       "      <td>chr9</td>\n",
       "      <td>104350785</td>\n",
       "      <td>104350785</td>\n",
       "      <td>chr9_104350785_104350785</td>\n",
       "    </tr>\n",
       "    <tr>\n",
       "      <th>776756</th>\n",
       "      <td>Breast</td>\n",
       "      <td>25</td>\n",
       "      <td>1305</td>\n",
       "      <td>3656805</td>\n",
       "      <td>chr1</td>\n",
       "      <td>25646616</td>\n",
       "      <td>25646616</td>\n",
       "      <td>chr1_25646616_25646616</td>\n",
       "    </tr>\n",
       "    <tr>\n",
       "      <th>776757</th>\n",
       "      <td>Breast</td>\n",
       "      <td>25</td>\n",
       "      <td>1305</td>\n",
       "      <td>3656808</td>\n",
       "      <td>chr1</td>\n",
       "      <td>25646640</td>\n",
       "      <td>25646640</td>\n",
       "      <td>chr1_25646640_25646640</td>\n",
       "    </tr>\n",
       "    <tr>\n",
       "      <th>776758</th>\n",
       "      <td>Breast</td>\n",
       "      <td>25</td>\n",
       "      <td>1305</td>\n",
       "      <td>3656812</td>\n",
       "      <td>chr1</td>\n",
       "      <td>29155652</td>\n",
       "      <td>29155652</td>\n",
       "      <td>chr1_29155652_29155652</td>\n",
       "    </tr>\n",
       "    <tr>\n",
       "      <th>776759</th>\n",
       "      <td>Breast</td>\n",
       "      <td>25</td>\n",
       "      <td>1305</td>\n",
       "      <td>3656831</td>\n",
       "      <td>chr1</td>\n",
       "      <td>61862224</td>\n",
       "      <td>61862224</td>\n",
       "      <td>chr1_61862224_61862224</td>\n",
       "    </tr>\n",
       "    <tr>\n",
       "      <th>...</th>\n",
       "      <td>...</td>\n",
       "      <td>...</td>\n",
       "      <td>...</td>\n",
       "      <td>...</td>\n",
       "      <td>...</td>\n",
       "      <td>...</td>\n",
       "      <td>...</td>\n",
       "      <td>...</td>\n",
       "    </tr>\n",
       "    <tr>\n",
       "      <th>993973</th>\n",
       "      <td>Breast</td>\n",
       "      <td>28</td>\n",
       "      <td>2057</td>\n",
       "      <td>8740839</td>\n",
       "      <td>chr8</td>\n",
       "      <td>48761994</td>\n",
       "      <td>48761994</td>\n",
       "      <td>chr8_48761994_48761994</td>\n",
       "    </tr>\n",
       "    <tr>\n",
       "      <th>993974</th>\n",
       "      <td>Breast</td>\n",
       "      <td>28</td>\n",
       "      <td>2057</td>\n",
       "      <td>8740853</td>\n",
       "      <td>chr2</td>\n",
       "      <td>54494456</td>\n",
       "      <td>54494456</td>\n",
       "      <td>chr2_54494456_54494456</td>\n",
       "    </tr>\n",
       "    <tr>\n",
       "      <th>993975</th>\n",
       "      <td>Breast</td>\n",
       "      <td>28</td>\n",
       "      <td>2057</td>\n",
       "      <td>8740862</td>\n",
       "      <td>chr22</td>\n",
       "      <td>46712078</td>\n",
       "      <td>46712078</td>\n",
       "      <td>chr22_46712078_46712078</td>\n",
       "    </tr>\n",
       "    <tr>\n",
       "      <th>993976</th>\n",
       "      <td>Breast</td>\n",
       "      <td>28</td>\n",
       "      <td>2057</td>\n",
       "      <td>8740870</td>\n",
       "      <td>chr17</td>\n",
       "      <td>33772618</td>\n",
       "      <td>33772618</td>\n",
       "      <td>chr17_33772618_33772618</td>\n",
       "    </tr>\n",
       "    <tr>\n",
       "      <th>993977</th>\n",
       "      <td>Breast</td>\n",
       "      <td>28</td>\n",
       "      <td>2057</td>\n",
       "      <td>8740871</td>\n",
       "      <td>chr7</td>\n",
       "      <td>100187289</td>\n",
       "      <td>100187289</td>\n",
       "      <td>chr7_100187289_100187289</td>\n",
       "    </tr>\n",
       "  </tbody>\n",
       "</table>\n",
       "<p>217223 rows × 8 columns</p>\n",
       "</div>"
      ],
      "text/plain": [
       "        cancer  donor_project_ID  donor_ID   snp_ID    chr  pos_start  \\\n",
       "776755  Breast                25      1305  1979425   chr9  104350785   \n",
       "776756  Breast                25      1305  3656805   chr1   25646616   \n",
       "776757  Breast                25      1305  3656808   chr1   25646640   \n",
       "776758  Breast                25      1305  3656812   chr1   29155652   \n",
       "776759  Breast                25      1305  3656831   chr1   61862224   \n",
       "...        ...               ...       ...      ...    ...        ...   \n",
       "993973  Breast                28      2057  8740839   chr8   48761994   \n",
       "993974  Breast                28      2057  8740853   chr2   54494456   \n",
       "993975  Breast                28      2057  8740862  chr22   46712078   \n",
       "993976  Breast                28      2057  8740870  chr17   33772618   \n",
       "993977  Breast                28      2057  8740871   chr7  100187289   \n",
       "\n",
       "          pos_end                       snp  \n",
       "776755  104350785  chr9_104350785_104350785  \n",
       "776756   25646616    chr1_25646616_25646616  \n",
       "776757   25646640    chr1_25646640_25646640  \n",
       "776758   29155652    chr1_29155652_29155652  \n",
       "776759   61862224    chr1_61862224_61862224  \n",
       "...           ...                       ...  \n",
       "993973   48761994    chr8_48761994_48761994  \n",
       "993974   54494456    chr2_54494456_54494456  \n",
       "993975   46712078   chr22_46712078_46712078  \n",
       "993976   33772618   chr17_33772618_33772618  \n",
       "993977  100187289  chr7_100187289_100187289  \n",
       "\n",
       "[217223 rows x 8 columns]"
      ]
     },
     "execution_count": 9,
     "metadata": {},
     "output_type": "execute_result"
    }
   ],
   "source": [
    "breast_cancer['snp'] = breast_cancer['chr'] + '_' + breast_cancer['pos_start'].map(str) + '_' + breast_cancer['pos_end'].map(str)\n",
    "print(len(list(set(breast_cancer['donor_ID']))))\n",
    "num_donor_breast = len(list(set(breast_cancer['donor_ID'])))\n",
    "breast_cancer"
   ]
  },
  {
   "cell_type": "code",
   "execution_count": 10,
   "metadata": {},
   "outputs": [
    {
     "name": "stderr",
     "output_type": "stream",
     "text": [
      "<ipython-input-10-a350e5104874>:1: SettingWithCopyWarning: \n",
      "A value is trying to be set on a copy of a slice from a DataFrame.\n",
      "Try using .loc[row_indexer,col_indexer] = value instead\n",
      "\n",
      "See the caveats in the documentation: https://pandas.pydata.org/pandas-docs/stable/user_guide/indexing.html#returning-a-view-versus-a-copy\n",
      "  nonbreast_cancer['snp'] = nonbreast_cancer['chr'] + '_' + nonbreast_cancer['pos_start'].map(str) + '_' + nonbreast_cancer['pos_end'].map(str)\n"
     ]
    },
    {
     "name": "stdout",
     "output_type": "stream",
     "text": [
      "1884\n"
     ]
    },
    {
     "data": {
      "text/html": [
       "<div>\n",
       "<style scoped>\n",
       "    .dataframe tbody tr th:only-of-type {\n",
       "        vertical-align: middle;\n",
       "    }\n",
       "\n",
       "    .dataframe tbody tr th {\n",
       "        vertical-align: top;\n",
       "    }\n",
       "\n",
       "    .dataframe thead th {\n",
       "        text-align: right;\n",
       "    }\n",
       "</style>\n",
       "<table border=\"1\" class=\"dataframe\">\n",
       "  <thead>\n",
       "    <tr style=\"text-align: right;\">\n",
       "      <th></th>\n",
       "      <th>cancer</th>\n",
       "      <th>donor_project_ID</th>\n",
       "      <th>donor_ID</th>\n",
       "      <th>snp_ID</th>\n",
       "      <th>chr</th>\n",
       "      <th>pos_start</th>\n",
       "      <th>pos_end</th>\n",
       "      <th>snp</th>\n",
       "    </tr>\n",
       "  </thead>\n",
       "  <tbody>\n",
       "    <tr>\n",
       "      <th>0</th>\n",
       "      <td>Head and neck</td>\n",
       "      <td>1</td>\n",
       "      <td>1</td>\n",
       "      <td>41</td>\n",
       "      <td>chr11</td>\n",
       "      <td>101465614</td>\n",
       "      <td>101465614</td>\n",
       "      <td>chr11_101465614_101465614</td>\n",
       "    </tr>\n",
       "    <tr>\n",
       "      <th>1</th>\n",
       "      <td>Head and neck</td>\n",
       "      <td>1</td>\n",
       "      <td>1</td>\n",
       "      <td>151</td>\n",
       "      <td>chr11</td>\n",
       "      <td>103127113</td>\n",
       "      <td>103127113</td>\n",
       "      <td>chr11_103127113_103127113</td>\n",
       "    </tr>\n",
       "    <tr>\n",
       "      <th>2</th>\n",
       "      <td>Head and neck</td>\n",
       "      <td>1</td>\n",
       "      <td>1</td>\n",
       "      <td>197</td>\n",
       "      <td>chr8</td>\n",
       "      <td>82046917</td>\n",
       "      <td>82046917</td>\n",
       "      <td>chr8_82046917_82046917</td>\n",
       "    </tr>\n",
       "    <tr>\n",
       "      <th>3</th>\n",
       "      <td>Head and neck</td>\n",
       "      <td>1</td>\n",
       "      <td>1</td>\n",
       "      <td>216</td>\n",
       "      <td>chr11</td>\n",
       "      <td>107789760</td>\n",
       "      <td>107789760</td>\n",
       "      <td>chr11_107789760_107789760</td>\n",
       "    </tr>\n",
       "    <tr>\n",
       "      <th>4</th>\n",
       "      <td>Head and neck</td>\n",
       "      <td>1</td>\n",
       "      <td>1</td>\n",
       "      <td>241</td>\n",
       "      <td>chr14</td>\n",
       "      <td>48732779</td>\n",
       "      <td>48732779</td>\n",
       "      <td>chr14_48732779_48732779</td>\n",
       "    </tr>\n",
       "    <tr>\n",
       "      <th>...</th>\n",
       "      <td>...</td>\n",
       "      <td>...</td>\n",
       "      <td>...</td>\n",
       "      <td>...</td>\n",
       "      <td>...</td>\n",
       "      <td>...</td>\n",
       "      <td>...</td>\n",
       "      <td>...</td>\n",
       "    </tr>\n",
       "    <tr>\n",
       "      <th>5855199</th>\n",
       "      <td>Mesenchymal</td>\n",
       "      <td>43</td>\n",
       "      <td>2996</td>\n",
       "      <td>21812208</td>\n",
       "      <td>chr7</td>\n",
       "      <td>102949431</td>\n",
       "      <td>102949431</td>\n",
       "      <td>chr7_102949431_102949431</td>\n",
       "    </tr>\n",
       "    <tr>\n",
       "      <th>5855200</th>\n",
       "      <td>Mesenchymal</td>\n",
       "      <td>43</td>\n",
       "      <td>2996</td>\n",
       "      <td>21812224</td>\n",
       "      <td>chr11</td>\n",
       "      <td>121028837</td>\n",
       "      <td>121028837</td>\n",
       "      <td>chr11_121028837_121028837</td>\n",
       "    </tr>\n",
       "    <tr>\n",
       "      <th>5855201</th>\n",
       "      <td>Mesenchymal</td>\n",
       "      <td>43</td>\n",
       "      <td>2996</td>\n",
       "      <td>21812247</td>\n",
       "      <td>chr1</td>\n",
       "      <td>155658167</td>\n",
       "      <td>155658167</td>\n",
       "      <td>chr1_155658167_155658167</td>\n",
       "    </tr>\n",
       "    <tr>\n",
       "      <th>5855202</th>\n",
       "      <td>Mesenchymal</td>\n",
       "      <td>43</td>\n",
       "      <td>2996</td>\n",
       "      <td>21812248</td>\n",
       "      <td>chr17</td>\n",
       "      <td>46607840</td>\n",
       "      <td>46607840</td>\n",
       "      <td>chr17_46607840_46607840</td>\n",
       "    </tr>\n",
       "    <tr>\n",
       "      <th>5855203</th>\n",
       "      <td>Mesenchymal</td>\n",
       "      <td>43</td>\n",
       "      <td>2996</td>\n",
       "      <td>21812249</td>\n",
       "      <td>chr15</td>\n",
       "      <td>55919246</td>\n",
       "      <td>55919246</td>\n",
       "      <td>chr15_55919246_55919246</td>\n",
       "    </tr>\n",
       "  </tbody>\n",
       "</table>\n",
       "<p>5637860 rows × 8 columns</p>\n",
       "</div>"
      ],
      "text/plain": [
       "                cancer  donor_project_ID  donor_ID    snp_ID    chr  \\\n",
       "0        Head and neck                 1         1        41  chr11   \n",
       "1        Head and neck                 1         1       151  chr11   \n",
       "2        Head and neck                 1         1       197   chr8   \n",
       "3        Head and neck                 1         1       216  chr11   \n",
       "4        Head and neck                 1         1       241  chr14   \n",
       "...                ...               ...       ...       ...    ...   \n",
       "5855199    Mesenchymal                43      2996  21812208   chr7   \n",
       "5855200    Mesenchymal                43      2996  21812224  chr11   \n",
       "5855201    Mesenchymal                43      2996  21812247   chr1   \n",
       "5855202    Mesenchymal                43      2996  21812248  chr17   \n",
       "5855203    Mesenchymal                43      2996  21812249  chr15   \n",
       "\n",
       "         pos_start    pos_end                        snp  \n",
       "0        101465614  101465614  chr11_101465614_101465614  \n",
       "1        103127113  103127113  chr11_103127113_103127113  \n",
       "2         82046917   82046917     chr8_82046917_82046917  \n",
       "3        107789760  107789760  chr11_107789760_107789760  \n",
       "4         48732779   48732779    chr14_48732779_48732779  \n",
       "...            ...        ...                        ...  \n",
       "5855199  102949431  102949431   chr7_102949431_102949431  \n",
       "5855200  121028837  121028837  chr11_121028837_121028837  \n",
       "5855201  155658167  155658167   chr1_155658167_155658167  \n",
       "5855202   46607840   46607840    chr17_46607840_46607840  \n",
       "5855203   55919246   55919246    chr15_55919246_55919246  \n",
       "\n",
       "[5637860 rows x 8 columns]"
      ]
     },
     "execution_count": 10,
     "metadata": {},
     "output_type": "execute_result"
    }
   ],
   "source": [
    "nonbreast_cancer['snp'] = nonbreast_cancer['chr'] + '_' + nonbreast_cancer['pos_start'].map(str) + '_' + nonbreast_cancer['pos_end'].map(str)\n",
    "print(len(list(set(nonbreast_cancer['donor_ID']))))\n",
    "num_donor_nonbreast = len(list(set(nonbreast_cancer['donor_ID'])))\n",
    "nonbreast_cancer"
   ]
  },
  {
   "cell_type": "code",
   "execution_count": 11,
   "metadata": {},
   "outputs": [],
   "source": [
    "breast_dict = dict(Counter(list(breast_cancer['snp'])))\n",
    "nonbreast_dict = dict(Counter(list(nonbreast_cancer['snp'])))\n"
   ]
  },
  {
   "cell_type": "code",
   "execution_count": 12,
   "metadata": {},
   "outputs": [
    {
     "data": {
      "text/plain": [
       "22"
      ]
     },
     "execution_count": 12,
     "metadata": {},
     "output_type": "execute_result"
    }
   ],
   "source": [
    "breast_snp_count_df = pd.DataFrame([breast_dict.keys(), breast_dict.values()]).T\n",
    "breast_snp_count_df.columns= ['snp', 'counts']\n",
    "\n",
    "max_breast = breast_snp_count_df['counts'].max()\n",
    "breast_snp_count_df['counts'].max()"
   ]
  },
  {
   "cell_type": "code",
   "execution_count": 13,
   "metadata": {},
   "outputs": [
    {
     "data": {
      "text/html": [
       "<div>\n",
       "<style scoped>\n",
       "    .dataframe tbody tr th:only-of-type {\n",
       "        vertical-align: middle;\n",
       "    }\n",
       "\n",
       "    .dataframe tbody tr th {\n",
       "        vertical-align: top;\n",
       "    }\n",
       "\n",
       "    .dataframe thead th {\n",
       "        text-align: right;\n",
       "    }\n",
       "</style>\n",
       "<table border=\"1\" class=\"dataframe\">\n",
       "  <thead>\n",
       "    <tr style=\"text-align: right;\">\n",
       "      <th></th>\n",
       "      <th>snp</th>\n",
       "      <th>counts</th>\n",
       "    </tr>\n",
       "  </thead>\n",
       "  <tbody>\n",
       "    <tr>\n",
       "      <th>0</th>\n",
       "      <td>chr9_104350785_104350785</td>\n",
       "      <td>1</td>\n",
       "    </tr>\n",
       "    <tr>\n",
       "      <th>1</th>\n",
       "      <td>chr1_25646616_25646616</td>\n",
       "      <td>1</td>\n",
       "    </tr>\n",
       "    <tr>\n",
       "      <th>2</th>\n",
       "      <td>chr1_25646640_25646640</td>\n",
       "      <td>1</td>\n",
       "    </tr>\n",
       "    <tr>\n",
       "      <th>3</th>\n",
       "      <td>chr1_29155652_29155652</td>\n",
       "      <td>1</td>\n",
       "    </tr>\n",
       "    <tr>\n",
       "      <th>4</th>\n",
       "      <td>chr1_61862224_61862224</td>\n",
       "      <td>1</td>\n",
       "    </tr>\n",
       "    <tr>\n",
       "      <th>...</th>\n",
       "      <td>...</td>\n",
       "      <td>...</td>\n",
       "    </tr>\n",
       "    <tr>\n",
       "      <th>217123</th>\n",
       "      <td>chr8_48761994_48761994</td>\n",
       "      <td>1</td>\n",
       "    </tr>\n",
       "    <tr>\n",
       "      <th>217124</th>\n",
       "      <td>chr2_54494456_54494456</td>\n",
       "      <td>1</td>\n",
       "    </tr>\n",
       "    <tr>\n",
       "      <th>217125</th>\n",
       "      <td>chr22_46712078_46712078</td>\n",
       "      <td>1</td>\n",
       "    </tr>\n",
       "    <tr>\n",
       "      <th>217126</th>\n",
       "      <td>chr17_33772618_33772618</td>\n",
       "      <td>1</td>\n",
       "    </tr>\n",
       "    <tr>\n",
       "      <th>217127</th>\n",
       "      <td>chr7_100187289_100187289</td>\n",
       "      <td>1</td>\n",
       "    </tr>\n",
       "  </tbody>\n",
       "</table>\n",
       "<p>217128 rows × 2 columns</p>\n",
       "</div>"
      ],
      "text/plain": [
       "                             snp counts\n",
       "0       chr9_104350785_104350785      1\n",
       "1         chr1_25646616_25646616      1\n",
       "2         chr1_25646640_25646640      1\n",
       "3         chr1_29155652_29155652      1\n",
       "4         chr1_61862224_61862224      1\n",
       "...                          ...    ...\n",
       "217123    chr8_48761994_48761994      1\n",
       "217124    chr2_54494456_54494456      1\n",
       "217125   chr22_46712078_46712078      1\n",
       "217126   chr17_33772618_33772618      1\n",
       "217127  chr7_100187289_100187289      1\n",
       "\n",
       "[217128 rows x 2 columns]"
      ]
     },
     "execution_count": 13,
     "metadata": {},
     "output_type": "execute_result"
    }
   ],
   "source": [
    "breast_snp_count_df"
   ]
  },
  {
   "cell_type": "code",
   "execution_count": 14,
   "metadata": {},
   "outputs": [
    {
     "data": {
      "text/plain": [
       "39"
      ]
     },
     "execution_count": 14,
     "metadata": {},
     "output_type": "execute_result"
    }
   ],
   "source": [
    "nonbreast_snp_count_df = pd.DataFrame([nonbreast_dict.keys(), nonbreast_dict.values()]).T\n",
    "nonbreast_snp_count_df.columns= ['snp', 'counts']\n",
    "\n",
    "max_nonbreast = nonbreast_snp_count_df['counts'].max()\n",
    "nonbreast_snp_count_df['counts'].max()"
   ]
  },
  {
   "cell_type": "code",
   "execution_count": null,
   "metadata": {},
   "outputs": [],
   "source": [
    "nonbreast_snp_count_df"
   ]
  },
  {
   "cell_type": "code",
   "execution_count": null,
   "metadata": {},
   "outputs": [],
   "source": [
    "breast_snp_count_df[['chr', 'pos_start', 'pos_end']] = breast_snp_count_df['snp'].str.split('_', expand=True)\n",
    "nonbreast_snp_count_df[['chr', 'pos_start', 'pos_end']] = nonbreast_snp_count_df['snp'].str.split('_', expand=True)"
   ]
  },
  {
   "cell_type": "code",
   "execution_count": null,
   "metadata": {},
   "outputs": [],
   "source": [
    "breast_snp_count_df"
   ]
  },
  {
   "cell_type": "code",
   "execution_count": null,
   "metadata": {},
   "outputs": [],
   "source": [
    "nonbreast_snp_count_df"
   ]
  },
  {
   "cell_type": "code",
   "execution_count": null,
   "metadata": {},
   "outputs": [],
   "source": [
    "breast_snp_count_df.drop('snp', axis=1, inplace=True)\n",
    "nonbreast_snp_count_df.drop('snp', axis=1, inplace=True)"
   ]
  },
  {
   "cell_type": "code",
   "execution_count": null,
   "metadata": {},
   "outputs": [],
   "source": [
    "sort_breast_snp_count_df = breast_snp_count_df.sort_values('counts', ascending=False)\n",
    "sort_nonbreast_snp_count_df = nonbreast_snp_count_df.sort_values('counts', ascending=False)"
   ]
  },
  {
   "cell_type": "code",
   "execution_count": null,
   "metadata": {},
   "outputs": [],
   "source": [
    "sort_breast_snp_count_df.rename(columns={'counts': 'counts_breast'}, inplace=True)\n",
    "sort_nonbreast_snp_count_df.rename(columns={'counts': 'counts_nonbreast'}, inplace=True)"
   ]
  },
  {
   "cell_type": "code",
   "execution_count": null,
   "metadata": {},
   "outputs": [],
   "source": [
    "sort_breast_snp_count_df"
   ]
  },
  {
   "cell_type": "code",
   "execution_count": null,
   "metadata": {},
   "outputs": [],
   "source": [
    "sort_nonbreast_snp_count_df"
   ]
  },
  {
   "cell_type": "code",
   "execution_count": null,
   "metadata": {},
   "outputs": [],
   "source": [
    "sort_breast_snp_count_df.to_csv(f\"D:/Hanze_Groningen/STAGE/R/breast_snp_count_df_maxcount_{max_breast}_donor_{num_donor_breast}_GT12_totalread_33.tsv\", sep='\\t', encoding='utf-8', index=False)\n",
    "sort_nonbreast_snp_count_df.to_csv(f\"D:/Hanze_Groningen/STAGE/R/nonbreast_snp_count_df_maxcount_{max_nonbreast}_donor_{num_donor_nonbreast}_GT12_totalread_33.tsv\", sep='\\t', encoding='utf-8', index=False)"
   ]
  },
  {
   "cell_type": "code",
   "execution_count": null,
   "metadata": {},
   "outputs": [],
   "source": [
    "# merge_b_nb = pd.concat([sort_breast_snp_count_df, sort_nonbreast_snp_count_df], ignore_index=True, sort=False)\n",
    "\n",
    "#https://stackoverflow.com/questions/53645882/pandas-merging-101\n",
    "merge_b_nb = sort_breast_snp_count_df.merge(sort_nonbreast_snp_count_df, on=['chr', 'pos_start', 'pos_end'], how='outer')"
   ]
  },
  {
   "cell_type": "code",
   "execution_count": null,
   "metadata": {},
   "outputs": [],
   "source": [
    "merge_b_nb[(merge_b_nb['counts_breast']>=1) & (merge_b_nb['counts_nonbreast']>=1)]"
   ]
  },
  {
   "cell_type": "code",
   "execution_count": null,
   "metadata": {},
   "outputs": [],
   "source": [
    "merge_b_nb"
   ]
  },
  {
   "cell_type": "code",
   "execution_count": null,
   "metadata": {},
   "outputs": [],
   "source": [
    "merge_b_nb.to_csv(f\"D:/Hanze_Groningen/STAGE/R/ALL_nan_df_BREAST_maxcount_{max_breast}_donor_{num_donor_breast}_NONBREAST_maxcount_{max_nonbreast}_donor_{num_donor_nonbreast}_BOTH_GT12_totalread_33.tsv\", sep='\\t', encoding='utf-8', index=False)"
   ]
  },
  {
   "cell_type": "code",
   "execution_count": null,
   "metadata": {},
   "outputs": [],
   "source": [
    "merge_b_nb_0 = merge_b_nb.fillna(0)\n",
    "merge_b_nb_0.to_csv(f\"D:/Hanze_Groningen/STAGE/R/ALL_0_df_BREAST_maxcount_{max_breast}_donor_{num_donor_breast}_NONBREAST_maxcount_{max_nonbreast}_donor_{num_donor_nonbreast}_BOTH_GT12_totalread_33.tsv\", sep='\\t', encoding='utf-8', index=False)"
   ]
  },
  {
   "cell_type": "code",
   "execution_count": null,
   "metadata": {},
   "outputs": [],
   "source": [
    "ax = sns.boxplot(data=sort_breast_snp_count_df[['counts_breast']]).set(ylabel='#snps')\n",
    "plt.show()\n",
    "plt.clf()\n",
    "ax = sns.displot(sort_breast_snp_count_df[['counts_breast']])\n",
    "plt.show()\n",
    "plt.clf()"
   ]
  },
  {
   "cell_type": "code",
   "execution_count": null,
   "metadata": {},
   "outputs": [],
   "source": [
    "filter_breast = sort_breast_snp_count_df[(sort_breast_snp_count_df['counts_breast']>1)]\n",
    "\n",
    "ax = sns.boxplot(data=filter_breast[['counts_breast']]).set(ylabel='#snps')\n",
    "plt.show()\n",
    "plt.clf()\n",
    "ax = sns.displot(filter_breast[['counts_breast']])\n",
    "plt.show()\n",
    "plt.clf()"
   ]
  },
  {
   "cell_type": "code",
   "execution_count": null,
   "metadata": {},
   "outputs": [],
   "source": [
    "ax = sns.boxplot(data=sort_nonbreast_snp_count_df[['counts_nonbreast']]).set(ylabel='#snps')\n",
    "plt.show()\n",
    "plt.clf()\n",
    "ax = sns.displot(sort_nonbreast_snp_count_df[['counts_nonbreast']])\n",
    "plt.show()\n",
    "plt.clf()"
   ]
  },
  {
   "cell_type": "code",
   "execution_count": null,
   "metadata": {},
   "outputs": [],
   "source": [
    "filter_nonbreast = sort_nonbreast_snp_count_df[(sort_nonbreast_snp_count_df['counts_nonbreast']>1)]\n",
    "\n",
    "ax = sns.boxplot(data=filter_nonbreast[['counts_nonbreast']]).set(ylabel='#snps')\n",
    "plt.show()\n",
    "plt.clf()\n",
    "ax = sns.displot(filter_nonbreast[['counts_nonbreast']])\n",
    "plt.show()\n",
    "plt.clf()"
   ]
  },
  {
   "cell_type": "code",
   "execution_count": null,
   "metadata": {},
   "outputs": [],
   "source": [
    "merge_b_nb_0"
   ]
  },
  {
   "cell_type": "code",
   "execution_count": null,
   "metadata": {},
   "outputs": [],
   "source": []
  },
  {
   "cell_type": "code",
   "execution_count": null,
   "metadata": {},
   "outputs": [],
   "source": [
    "# https://www.geeksforgeeks.org/python-pearsons-chi-square-test/\n",
    "from scipy.stats import chi2_contingency\n",
    "  \n",
    "# defining the table\n",
    "#\n",
    "#       donor   |  snp\n",
    "#  b  | 285     | 22\n",
    "#  nb | 1885    | 7\n",
    "data = [[285, 22], [1885, 7]]\n",
    "stat, p, dof, expected = chi2_contingency(data)\n",
    "  \n",
    "# interpret p-value\n",
    "alpha = 0.05\n",
    "print(\"p value is \" + str(p))\n",
    "if p <= alpha:\n",
    "    print('Dependent (reject H0)')\n",
    "else:\n",
    "    print('Independent (H0 holds true)')"
   ]
  },
  {
   "cell_type": "code",
   "execution_count": null,
   "metadata": {},
   "outputs": [],
   "source": [
    " \n",
    "   \n",
    "   "
   ]
  },
  {
   "cell_type": "code",
   "execution_count": null,
   "metadata": {},
   "outputs": [],
   "source": [
    "f = open(\"D:/Hanze_Groningen/STAGE/R/chi_square.tsv\", 'w')\n",
    "for index, row in merge_b_nb_0.iterrows():\n",
    "    data = [[285, row['counts_breast']], [1885, row['counts_nonbreast']]]\n",
    "    stat, p, dof, expected = chi2_contingency(data)\n",
    "    f.write(f\"{row['chr']}\\t{row['pos_start']}\\t{row['pos_end']}\\t{row['counts_breast']}\\t{row['counts_nonbreast']}\\t{stat}\\t{p}\\t{dof}\\t{expected}\\n\")\n",
    "    \n",
    "f.close()"
   ]
  },
  {
   "cell_type": "code",
   "execution_count": null,
   "metadata": {},
   "outputs": [],
   "source": [
    "fold_change = merge_b_nb_0.copy()\n",
    "fold_change['filter_b'] = fold_change['counts_breast'] / 285\n",
    "fold_change['filter_nb'] = fold_change['counts_nonbreast'] / 1885\n",
    "fold_change['FC'] = fold_change['filter_b'] / folc_change['filter_nb']"
   ]
  },
  {
   "cell_type": "code",
   "execution_count": null,
   "metadata": {},
   "outputs": [],
   "source": [
    "#tsjerk\n",
    "\n",
    "# X^2\n",
    "# f = n / n.sum()\n",
    "# E1 = S.sum(axis=1)[:,None]*f\n",
    "# C = (n-s)\n",
    "# E2 = C.sum(axis=1)[:,None]*f\n",
    "# D1 = ((E1-S)**2/E1).sum(axis=1)\n",
    "# D2 = ((E2-C)/E2).sum(axis=1)\n",
    "# X2 = D1 + D2\n",
    "\n",
    "# log_fc = np.diff(np.log(S), axis = 1) - (log n).sum()"
   ]
  },
  {
   "cell_type": "code",
   "execution_count": null,
   "metadata": {},
   "outputs": [],
   "source": [
    "n = np.array([285, 1885])\n",
    "S = merge_b_nb_0[['counts_breast', 'counts_nonbreast']].to_numpy()\n",
    "S"
   ]
  },
  {
   "cell_type": "code",
   "execution_count": null,
   "metadata": {},
   "outputs": [],
   "source": [
    "f = n / n.sum()\n",
    "f"
   ]
  },
  {
   "cell_type": "code",
   "execution_count": null,
   "metadata": {},
   "outputs": [],
   "source": [
    "E1 = S.sum(axis=1)[:,None]*f\n",
    "E1"
   ]
  },
  {
   "cell_type": "code",
   "execution_count": null,
   "metadata": {},
   "outputs": [],
   "source": [
    "C = (n-S)\n",
    "C"
   ]
  },
  {
   "cell_type": "code",
   "execution_count": null,
   "metadata": {},
   "outputs": [],
   "source": [
    "E2 = C.sum(axis=1)[:,None]*f\n",
    "E2"
   ]
  },
  {
   "cell_type": "code",
   "execution_count": null,
   "metadata": {},
   "outputs": [],
   "source": [
    "D1 = ((E1-S)**2/E1).sum(axis=1)\n",
    "D1"
   ]
  },
  {
   "cell_type": "code",
   "execution_count": null,
   "metadata": {},
   "outputs": [],
   "source": [
    "D2 = ((E2-C)/E2).sum(axis=1)\n",
    "D2"
   ]
  },
  {
   "cell_type": "code",
   "execution_count": null,
   "metadata": {},
   "outputs": [],
   "source": [
    "X2 = D1 + D2\n",
    "X2"
   ]
  },
  {
   "cell_type": "code",
   "execution_count": null,
   "metadata": {},
   "outputs": [],
   "source": [
    "# chi2.sf(100.07565261,1)\n",
    "# chi2.sf(0.1508023,1)"
   ]
  },
  {
   "cell_type": "code",
   "execution_count": null,
   "metadata": {},
   "outputs": [],
   "source": [
    "# https://stackoverflow.com/questions/11725115/p-value-from-chi-sq-test-statistic-in-python\n",
    "from scipy.stats.distributions import chi2\n",
    "p_value_X2 = chi2.sf(X2,1)"
   ]
  },
  {
   "cell_type": "code",
   "execution_count": null,
   "metadata": {},
   "outputs": [],
   "source": [
    "# np.log(285)+np.log(1885) == (np.log(n)).sum()\n",
    "# np.log(22)-np.log(7)-np.log(285)-np.log(1885)"
   ]
  },
  {
   "cell_type": "code",
   "execution_count": null,
   "metadata": {},
   "outputs": [],
   "source": [
    "# logS = np.log2(S)\n",
    "# logS\n",
    "\n",
    "# log_fc = np.diff(np.log2(S), axis = 1) - (np.log2(n)).sum()"
   ]
  },
  {
   "cell_type": "code",
   "execution_count": null,
   "metadata": {},
   "outputs": [],
   "source": [
    "# np.log(7)-np.log(22) = np.diff(logS)"
   ]
  },
  {
   "cell_type": "code",
   "execution_count": null,
   "metadata": {},
   "outputs": [],
   "source": [
    "log2_fc = np.diff(np.log(S), axis = 1) - (np.log(n)).sum()\n",
    "log2_fc"
   ]
  },
  {
   "cell_type": "code",
   "execution_count": null,
   "metadata": {},
   "outputs": [],
   "source": [
    "log10_p_value = -np.log10(p_value_X2)\n",
    "log10_p_value"
   ]
  },
  {
   "cell_type": "code",
   "execution_count": null,
   "metadata": {},
   "outputs": [],
   "source": [
    "merge_b_nb_0['X2'] = X2\n",
    "merge_b_nb_0['p_value_X2'] = p_value_X2\n",
    "merge_b_nb_0['log10_p_value'] = log10_p_value # -log10(p-value)\n",
    "merge_b_nb_0['log2_fc'] = log2_fc # log2(FC)"
   ]
  },
  {
   "cell_type": "code",
   "execution_count": null,
   "metadata": {},
   "outputs": [],
   "source": [
    "merge_b_nb_0"
   ]
  },
  {
   "cell_type": "code",
   "execution_count": null,
   "metadata": {},
   "outputs": [],
   "source": [
    "merge_b_nb_0.to_csv(f\"D:/Hanze_Groningen/STAGE/R/p_valueANDfc_df_BREAST_maxcount_{max_breast}_donor_{num_donor_breast}_NONBREAST_maxcount_{max_nonbreast}_donor_{num_donor_nonbreast}_BOTH_GT12_totalread_33.tsv\", sep='\\t', encoding='utf-8', index=False)"
   ]
  },
  {
   "cell_type": "code",
   "execution_count": null,
   "metadata": {},
   "outputs": [],
   "source": []
  },
  {
   "cell_type": "code",
   "execution_count": null,
   "metadata": {},
   "outputs": [],
   "source": [
    "# https://github.com/vappiah/bioinfoscripts/blob/main/volcano-plot-in-python.py\n",
    "from bioinfokit import analys, visuz\n",
    "#plot and save. Plot will be saved in the current working directory\n",
    "visuz.gene_exp.volcano(df=merge_b_nb_0,lfc='log2_fc',pv='p_value_X2')\n",
    "\n",
    "#plot and open . This will not save the image\n",
    "visuz.gene_exp.volcano(df=merge_b_nb_0,lfc='log2_fc',pv='p_value_X2',show=True)\n",
    "\n",
    "#plot and rotate x-axis labels\n",
    "visuz.gene_exp.volcano(df=merge_b_nb_0,lfc='log2_fc',pv='p_value_X2',ar=0,show=True)\n",
    "\n",
    "#show statistically significant differentially expressed genes based on thresholds\n",
    "visuz.gene_exp.volcano(df=merge_b_nb_0,lfc='log2_fc',pv='p_value_X2',ar=0,show=True,plotlegend=True,\n",
    "                        legendpos='upper right',lfc_thr=(1,2),pv_thr=(0.05,0.01))\n",
    "\n",
    "#change plot color\n",
    "visuz.gene_exp.volcano(df=merge_b_nb_0,lfc='log2_fc',pv='p_value_X2',ar=0,color=('blue','grey','green'),show=True)\n",
    "\n",
    "\n",
    "#Add gene labels\n",
    "# visuz.gene_exp.volcano(df=merge_b_nb_0,lfc=\"log2_fc\",pv=\"p_value_X2\",geneid=\"GeneNames\"\n",
    "#                         ,genenames=(\"LOC_Os09g01000.1\", \"LOC_Os01g50030.1\", \n",
    "#                                     \"LOC_Os06g40940.3\"),ar=0,show=True)\n"
   ]
  },
  {
   "cell_type": "code",
   "execution_count": null,
   "metadata": {},
   "outputs": [],
   "source": []
  },
  {
   "cell_type": "code",
   "execution_count": null,
   "metadata": {},
   "outputs": [],
   "source": []
  },
  {
   "cell_type": "code",
   "execution_count": null,
   "metadata": {},
   "outputs": [],
   "source": []
  },
  {
   "cell_type": "code",
   "execution_count": null,
   "metadata": {},
   "outputs": [],
   "source": []
  },
  {
   "cell_type": "code",
   "execution_count": null,
   "metadata": {},
   "outputs": [],
   "source": []
  },
  {
   "cell_type": "code",
   "execution_count": null,
   "metadata": {},
   "outputs": [],
   "source": []
  },
  {
   "cell_type": "code",
   "execution_count": null,
   "metadata": {},
   "outputs": [],
   "source": []
  }
 ],
 "metadata": {
  "kernelspec": {
   "display_name": "Python [conda env:umap] *",
   "language": "python",
   "name": "conda-env-umap-py"
  },
  "language_info": {
   "codemirror_mode": {
    "name": "ipython",
    "version": 3
   },
   "file_extension": ".py",
   "mimetype": "text/x-python",
   "name": "python",
   "nbconvert_exporter": "python",
   "pygments_lexer": "ipython3",
   "version": "3.8.12"
  }
 },
 "nbformat": 4,
 "nbformat_minor": 4
}
