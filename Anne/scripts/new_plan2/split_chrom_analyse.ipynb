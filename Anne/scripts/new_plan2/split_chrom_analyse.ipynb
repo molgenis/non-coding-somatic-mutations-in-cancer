{
 "cells": [
  {
   "cell_type": "code",
   "execution_count": 1,
   "metadata": {},
   "outputs": [],
   "source": [
    "import sys\n",
    "sys.path.append('/groups/umcg-wijmenga/tmp01/projects/lude_vici_2021/rawdata/non-coding-somatic-mutations-in-cancer/Anne/scripts/')\n",
    "from Database import Database\n",
    "# import multiprocessing as mp\n",
    "import pandas as pd\n",
    "from collections import Counter\n",
    "import matplotlib.pyplot as plt\n",
    "import seaborn as sns\n",
    "import numpy as np\n",
    "from scipy.stats.distributions import chi2\n",
    "from bioinfokit import analys, visuz\n",
    "from scipy.stats import fisher_exact\n",
    "import time\n",
    "from scipy.special import factorial\n",
    "import scipy.stats as stats\n",
    "from scipy.stats import mannwhitneyu\n",
    "\n",
    "\n",
    "\n",
    "from fisher import pvalue_npy\n",
    "from scipy.stats import chi2_contingency\n",
    "from scipy.stats import uniform, randint"
   ]
  },
  {
   "cell_type": "code",
   "execution_count": 2,
   "metadata": {},
   "outputs": [],
   "source": [
    "colnames=['index', '#snps_b', 'chr', 'start_region', 'stop_region']\n",
    "breast = pd.read_csv(\"D:/Hanze_Groningen/STAGE/R/PLOTS/kary/vs/before/1000_filter/breast_ALL_1000.tsv\", sep='\\t', header=None, names=colnames)\n",
    "colnames=['index', '#snps_nb', 'chr', 'start_region', 'stop_region']\n",
    "nonbreast = pd.read_csv(\"D:/Hanze_Groningen/STAGE/R/PLOTS/kary/vs/before/1000_filter/nonbreast_ALL_1000.tsv\", sep='\\t', header=None, names=colnames)"
   ]
  },
  {
   "cell_type": "code",
   "execution_count": 3,
   "metadata": {},
   "outputs": [
    {
     "data": {
      "text/plain": [
       "index           float64\n",
       "#snps_b           int64\n",
       "chr              object\n",
       "start_region      int64\n",
       "stop_region       int64\n",
       "dtype: object"
      ]
     },
     "execution_count": 3,
     "metadata": {},
     "output_type": "execute_result"
    }
   ],
   "source": [
    "breast.dtypes"
   ]
  },
  {
   "cell_type": "code",
   "execution_count": 4,
   "metadata": {},
   "outputs": [],
   "source": [
    "breast.sort_values(['chr', 'start_region'], inplace=True)\n",
    "nonbreast.sort_values(['chr', 'start_region'], inplace=True)\n",
    "merged_df = breast.merge(nonbreast, on=['chr', 'start_region', 'stop_region'], how='outer')\n",
    "merged_df.drop(columns=['index_x', 'index_y'], inplace=True)"
   ]
  },
  {
   "cell_type": "markdown",
   "metadata": {},
   "source": [
    "# 1000 split"
   ]
  },
  {
   "cell_type": "code",
   "execution_count": 5,
   "metadata": {},
   "outputs": [
    {
     "data": {
      "text/html": [
       "<div>\n",
       "<style scoped>\n",
       "    .dataframe tbody tr th:only-of-type {\n",
       "        vertical-align: middle;\n",
       "    }\n",
       "\n",
       "    .dataframe tbody tr th {\n",
       "        vertical-align: top;\n",
       "    }\n",
       "\n",
       "    .dataframe thead th {\n",
       "        text-align: right;\n",
       "    }\n",
       "</style>\n",
       "<table border=\"1\" class=\"dataframe\">\n",
       "  <thead>\n",
       "    <tr style=\"text-align: right;\">\n",
       "      <th></th>\n",
       "      <th>index_x</th>\n",
       "      <th>#snps_b</th>\n",
       "      <th>chr</th>\n",
       "      <th>start_region</th>\n",
       "      <th>stop_region</th>\n",
       "      <th>index_y</th>\n",
       "      <th>#snps_nb</th>\n",
       "    </tr>\n",
       "  </thead>\n",
       "  <tbody>\n",
       "    <tr>\n",
       "      <th>0</th>\n",
       "      <td>36547.0</td>\n",
       "      <td>0</td>\n",
       "      <td>chr1</td>\n",
       "      <td>1</td>\n",
       "      <td>1000</td>\n",
       "      <td>195812.0</td>\n",
       "      <td>0</td>\n",
       "    </tr>\n",
       "    <tr>\n",
       "      <th>1</th>\n",
       "      <td>36548.0</td>\n",
       "      <td>0</td>\n",
       "      <td>chr1</td>\n",
       "      <td>1001</td>\n",
       "      <td>2000</td>\n",
       "      <td>195813.0</td>\n",
       "      <td>0</td>\n",
       "    </tr>\n",
       "    <tr>\n",
       "      <th>2</th>\n",
       "      <td>36549.0</td>\n",
       "      <td>0</td>\n",
       "      <td>chr1</td>\n",
       "      <td>2001</td>\n",
       "      <td>3000</td>\n",
       "      <td>195814.0</td>\n",
       "      <td>0</td>\n",
       "    </tr>\n",
       "    <tr>\n",
       "      <th>3</th>\n",
       "      <td>36550.0</td>\n",
       "      <td>0</td>\n",
       "      <td>chr1</td>\n",
       "      <td>3001</td>\n",
       "      <td>4000</td>\n",
       "      <td>195815.0</td>\n",
       "      <td>0</td>\n",
       "    </tr>\n",
       "    <tr>\n",
       "      <th>4</th>\n",
       "      <td>36551.0</td>\n",
       "      <td>0</td>\n",
       "      <td>chr1</td>\n",
       "      <td>4001</td>\n",
       "      <td>5000</td>\n",
       "      <td>195816.0</td>\n",
       "      <td>0</td>\n",
       "    </tr>\n",
       "    <tr>\n",
       "      <th>...</th>\n",
       "      <td>...</td>\n",
       "      <td>...</td>\n",
       "      <td>...</td>\n",
       "      <td>...</td>\n",
       "      <td>...</td>\n",
       "      <td>...</td>\n",
       "      <td>...</td>\n",
       "    </tr>\n",
       "    <tr>\n",
       "      <th>3095684</th>\n",
       "      <td>59370.0</td>\n",
       "      <td>0</td>\n",
       "      <td>chrY</td>\n",
       "      <td>59369001</td>\n",
       "      <td>59370000</td>\n",
       "      <td>59370.0</td>\n",
       "      <td>0</td>\n",
       "    </tr>\n",
       "    <tr>\n",
       "      <th>3095685</th>\n",
       "      <td>59371.0</td>\n",
       "      <td>0</td>\n",
       "      <td>chrY</td>\n",
       "      <td>59370001</td>\n",
       "      <td>59371000</td>\n",
       "      <td>59371.0</td>\n",
       "      <td>0</td>\n",
       "    </tr>\n",
       "    <tr>\n",
       "      <th>3095686</th>\n",
       "      <td>59372.0</td>\n",
       "      <td>0</td>\n",
       "      <td>chrY</td>\n",
       "      <td>59371001</td>\n",
       "      <td>59372000</td>\n",
       "      <td>59372.0</td>\n",
       "      <td>0</td>\n",
       "    </tr>\n",
       "    <tr>\n",
       "      <th>3095687</th>\n",
       "      <td>59373.0</td>\n",
       "      <td>0</td>\n",
       "      <td>chrY</td>\n",
       "      <td>59372001</td>\n",
       "      <td>59373000</td>\n",
       "      <td>59373.0</td>\n",
       "      <td>0</td>\n",
       "    </tr>\n",
       "    <tr>\n",
       "      <th>3095688</th>\n",
       "      <td>59374.0</td>\n",
       "      <td>0</td>\n",
       "      <td>chrY</td>\n",
       "      <td>59373001</td>\n",
       "      <td>59373566</td>\n",
       "      <td>59374.0</td>\n",
       "      <td>0</td>\n",
       "    </tr>\n",
       "  </tbody>\n",
       "</table>\n",
       "<p>3095689 rows × 7 columns</p>\n",
       "</div>"
      ],
      "text/plain": [
       "         index_x  #snps_b   chr  start_region  stop_region   index_y  #snps_nb\n",
       "0        36547.0        0  chr1             1         1000  195812.0         0\n",
       "1        36548.0        0  chr1          1001         2000  195813.0         0\n",
       "2        36549.0        0  chr1          2001         3000  195814.0         0\n",
       "3        36550.0        0  chr1          3001         4000  195815.0         0\n",
       "4        36551.0        0  chr1          4001         5000  195816.0         0\n",
       "...          ...      ...   ...           ...          ...       ...       ...\n",
       "3095684  59370.0        0  chrY      59369001     59370000   59370.0         0\n",
       "3095685  59371.0        0  chrY      59370001     59371000   59371.0         0\n",
       "3095686  59372.0        0  chrY      59371001     59372000   59372.0         0\n",
       "3095687  59373.0        0  chrY      59372001     59373000   59373.0         0\n",
       "3095688  59374.0        0  chrY      59373001     59373566   59374.0         0\n",
       "\n",
       "[3095689 rows x 7 columns]"
      ]
     },
     "execution_count": 5,
     "metadata": {},
     "output_type": "execute_result"
    }
   ],
   "source": [
    "merged_df"
   ]
  },
  {
   "cell_type": "code",
   "execution_count": 6,
   "metadata": {},
   "outputs": [
    {
     "data": {
      "image/png": "[encoded data removed]",
      "text/plain": [
       "<Figure size 432x288 with 1 Axes>"
      ]
     },
     "metadata": {
      "needs_background": "light"
     },
     "output_type": "display_data"
    }
   ],
   "source": [
    "# https://www.reneshbedre.com/blog/mann-whitney-u-test.html\n",
    "breast.boxplot(column=['#snps_b'], grid=False)\n",
    "plt.show()"
   ]
  },
  {
   "cell_type": "code",
   "execution_count": 7,
   "metadata": {},
   "outputs": [
    {
     "data": {
      "image/png": "[encoded data removed]",
      "text/plain": [
       "<Figure size 432x288 with 1 Axes>"
      ]
     },
     "metadata": {
      "needs_background": "light"
     },
     "output_type": "display_data"
    }
   ],
   "source": [
    "nonbreast.boxplot(column=['#snps_nb'], grid=False)\n",
    "plt.show()"
   ]
  },
  {
   "cell_type": "code",
   "execution_count": 8,
   "metadata": {},
   "outputs": [],
   "source": [
    "breast['filter_snps_b'] = breast['#snps_b']/ 286\n",
    "nonbreast['filter_snps_nb'] = nonbreast['#snps_nb']/ 1952"
   ]
  },
  {
   "cell_type": "code",
   "execution_count": 9,
   "metadata": {},
   "outputs": [
    {
     "name": "stderr",
     "output_type": "stream",
     "text": [
      "C:\\Users\\Anne_\\Anaconda3\\envs\\umap\\lib\\site-packages\\scipy\\stats\\morestats.py:1681: UserWarning: p-value may not be accurate for N > 5000.\n",
      "  warnings.warn(\"p-value may not be accurate for N > 5000.\")\n"
     ]
    },
    {
     "name": "stdout",
     "output_type": "stream",
     "text": [
      "w:0.45103782415390015, pvalue:0.0\n"
     ]
    },
    {
     "data": {
      "image/png": "[encoded data removed]",
      "text/plain": [
       "<Figure size 432x288 with 2 Axes>"
      ]
     },
     "metadata": {
      "needs_background": "light"
     },
     "output_type": "display_data"
    }
   ],
   "source": [
    "\"\"\"\n",
    "As the p value obtained from the Shapiro-Wilk test is significant (p < 0.05), \n",
    "we conclude that the data is not normally distributed. Further, in histogram data \n",
    "distribution shape does not look normal. Therefore, Mann-Whitney U test is more appropriate for analyzing two samples.\n",
    "\"\"\"\n",
    "w, pvalue = stats.shapiro(breast['#snps_b'])\n",
    "print(f'w:{w}, pvalue:{pvalue}')\n",
    "# plot histogram\n",
    "fig, (ax1, ax2) = plt.subplots(1, 2)\n",
    "fig.suptitle('Frequency histogram')\n",
    "ax1.hist(breast['filter_snps_b'], bins=breast['#snps_b'].max(), histtype='bar', ec='k') \n",
    "ax2.hist(breast['#snps_b'], bins=breast['#snps_b'].max(), histtype='bar', ec='k') \n",
    "plt.show()"
   ]
  },
  {
   "cell_type": "code",
   "execution_count": 10,
   "metadata": {},
   "outputs": [
    {
     "name": "stdout",
     "output_type": "stream",
     "text": [
      "w:0.8885494470596313, pvalue:0.0\n"
     ]
    },
    {
     "data": {
      "image/png": "[encoded data removed]",
      "text/plain": [
       "<Figure size 432x288 with 2 Axes>"
      ]
     },
     "metadata": {
      "needs_background": "light"
     },
     "output_type": "display_data"
    }
   ],
   "source": [
    "\"\"\"\n",
    "As the p value obtained from the Shapiro-Wilk test is significant (p < 0.05), \n",
    "we conclude that the data is not normally distributed. Further, in histogram data \n",
    "distribution shape does not look normal. Therefore, Mann-Whitney U test is more appropriate for analyzing two samples.\n",
    "\"\"\"\n",
    "w, pvalue = stats.shapiro(nonbreast['#snps_nb'])\n",
    "print(f'w:{w}, pvalue:{pvalue}')\n",
    "# plot histogram\n",
    "fig, (ax1, ax2) = plt.subplots(1, 2)\n",
    "fig.suptitle('Frequency histogram')\n",
    "ax1.hist(nonbreast['filter_snps_nb'], bins=nonbreast['#snps_nb'].max(), histtype='bar', ec='k') \n",
    "ax2.hist(nonbreast['#snps_nb'], bins=nonbreast['#snps_nb'].max(), histtype='bar', ec='k') \n",
    "plt.show()"
   ]
  },
  {
   "cell_type": "code",
   "execution_count": 11,
   "metadata": {},
   "outputs": [
    {
     "data": {
      "text/plain": [
       "MannwhitneyuResult(statistic=2256239622468.0, pvalue=0.0)"
      ]
     },
     "execution_count": 11,
     "metadata": {},
     "output_type": "execute_result"
    }
   ],
   "source": [
    "\n",
    "\"\"\"\n",
    "Mann-Whitney U test interpretation: As the p value obtained from the Mann-Whitney U test \n",
    "is significant (U = 489.5, p < 0.05), we conclude that the yield of the two genotypes \n",
    "significantly different from each other .\n",
    "\"\"\"\n",
    "# U1, p = mannwhitneyu(list(breast['filter_snps']), list(nonbreast['filter_snps']), alternative = 'two-sided')\n",
    "mannwhitneyu(list(breast['filter_snps_b']), list(nonbreast['filter_snps_nb']), alternative = 'two-sided')\n"
   ]
  },
  {
   "cell_type": "code",
   "execution_count": 12,
   "metadata": {},
   "outputs": [
    {
     "data": {
      "text/plain": [
       "MannwhitneyuResult(statistic=2256239622468.0, pvalue=1.0)"
      ]
     },
     "execution_count": 12,
     "metadata": {},
     "output_type": "execute_result"
    }
   ],
   "source": [
    "\"\"\"\n",
    "As the p value obtained from the Mann-Whitney U test is significant (U = 489.5, p < 0.05), \n",
    "we conclude that the yield of the A genotype significantly greater than the genotype B.\n",
    "\"\"\"\n",
    "stats.mannwhitneyu(list(breast['filter_snps_b']), list(nonbreast['filter_snps_nb']), alternative = 'greater')"
   ]
  },
  {
   "cell_type": "markdown",
   "metadata": {},
   "source": [
    "# chi-square"
   ]
  },
  {
   "cell_type": "code",
   "execution_count": 13,
   "metadata": {},
   "outputs": [],
   "source": [
    "merged_df['counts_breast_plus'] = merged_df['#snps_b'] + (1/286)\n",
    "merged_df['counts_nonbreast_plus'] = merged_df['#snps_nb'] + (1/1952)"
   ]
  },
  {
   "cell_type": "code",
   "execution_count": 14,
   "metadata": {},
   "outputs": [
    {
     "data": {
      "text/plain": [
       "array([0.01993941, 0.01993941, 0.01993941, ..., 0.01993941, 0.01993941,\n",
       "       0.01993941])"
      ]
     },
     "execution_count": 14,
     "metadata": {},
     "output_type": "execute_result"
    }
   ],
   "source": [
    "n = np.array([286, 1952])\n",
    "S = merged_df[['counts_breast_plus', 'counts_nonbreast_plus']].to_numpy() #+1\n",
    "f = n / n.sum()\n",
    "E1 = S.sum(axis=1)[:,None]*f\n",
    "C = (n-S)\n",
    "E2 = C.sum(axis=1)[:,None]*f\n",
    "D1 = ((E1-S)**2/E1).sum(axis=1)\n",
    "D2 = ((E2-C)/E2).sum(axis=1)\n",
    "X2 = D1 + D2\n",
    "X2"
   ]
  },
  {
   "cell_type": "code",
   "execution_count": 20,
   "metadata": {},
   "outputs": [
    {
     "data": {
      "text/plain": [
       "array([[3.49650350e-03, 5.12295082e-04, 2.85996503e+02, 1.95199949e+03],\n",
       "       [3.49650350e-03, 5.12295082e-04, 2.85996503e+02, 1.95199949e+03],\n",
       "       [3.49650350e-03, 5.12295082e-04, 2.85996503e+02, 1.95199949e+03],\n",
       "       ...,\n",
       "       [3.49650350e-03, 5.12295082e-04, 2.85996503e+02, 1.95199949e+03],\n",
       "       [3.49650350e-03, 5.12295082e-04, 2.85996503e+02, 1.95199949e+03],\n",
       "       [3.49650350e-03, 5.12295082e-04, 2.85996503e+02, 1.95199949e+03]])"
      ]
     },
     "execution_count": 20,
     "metadata": {},
     "output_type": "execute_result"
    }
   ],
   "source": [
    "S_C = np.concatenate((S, C), axis=1)\n",
    "S_C"
   ]
  },
  {
   "cell_type": "code",
   "execution_count": 15,
   "metadata": {},
   "outputs": [],
   "source": [
    "p_value_X2 = chi2.sf(X2,1)"
   ]
  },
  {
   "cell_type": "code",
   "execution_count": 16,
   "metadata": {},
   "outputs": [
    {
     "data": {
      "text/plain": [
       "array([0.05173064, 0.05173064, 0.05173064, ..., 0.05173064, 0.05173064,\n",
       "       0.05173064])"
      ]
     },
     "execution_count": 16,
     "metadata": {},
     "output_type": "execute_result"
    }
   ],
   "source": [
    "log10_p_value = -np.log10(p_value_X2)\n",
    "log10_p_value"
   ]
  },
  {
   "cell_type": "code",
   "execution_count": 17,
   "metadata": {},
   "outputs": [],
   "source": [
    "merged_df['X2'] = X2\n",
    "merged_df['p_value_X2'] = p_value_X2\n",
    "merged_df['log10_p_value'] = log10_p_value"
   ]
  },
  {
   "cell_type": "code",
   "execution_count": 18,
   "metadata": {},
   "outputs": [
    {
     "data": {
      "text/html": [
       "<div>\n",
       "<style scoped>\n",
       "    .dataframe tbody tr th:only-of-type {\n",
       "        vertical-align: middle;\n",
       "    }\n",
       "\n",
       "    .dataframe tbody tr th {\n",
       "        vertical-align: top;\n",
       "    }\n",
       "\n",
       "    .dataframe thead th {\n",
       "        text-align: right;\n",
       "    }\n",
       "</style>\n",
       "<table border=\"1\" class=\"dataframe\">\n",
       "  <thead>\n",
       "    <tr style=\"text-align: right;\">\n",
       "      <th></th>\n",
       "      <th>index_x</th>\n",
       "      <th>#snps_b</th>\n",
       "      <th>chr</th>\n",
       "      <th>start_region</th>\n",
       "      <th>stop_region</th>\n",
       "      <th>index_y</th>\n",
       "      <th>#snps_nb</th>\n",
       "      <th>counts_breast_plus</th>\n",
       "      <th>counts_nonbreast_plus</th>\n",
       "      <th>X2</th>\n",
       "      <th>p_value_X2</th>\n",
       "      <th>log10_p_value</th>\n",
       "    </tr>\n",
       "  </thead>\n",
       "  <tbody>\n",
       "    <tr>\n",
       "      <th>0</th>\n",
       "      <td>36547.0</td>\n",
       "      <td>0</td>\n",
       "      <td>chr1</td>\n",
       "      <td>1</td>\n",
       "      <td>1000</td>\n",
       "      <td>195812.0</td>\n",
       "      <td>0</td>\n",
       "      <td>0.003497</td>\n",
       "      <td>0.000512</td>\n",
       "      <td>0.019939</td>\n",
       "      <td>0.887706</td>\n",
       "      <td>0.051731</td>\n",
       "    </tr>\n",
       "    <tr>\n",
       "      <th>1</th>\n",
       "      <td>36548.0</td>\n",
       "      <td>0</td>\n",
       "      <td>chr1</td>\n",
       "      <td>1001</td>\n",
       "      <td>2000</td>\n",
       "      <td>195813.0</td>\n",
       "      <td>0</td>\n",
       "      <td>0.003497</td>\n",
       "      <td>0.000512</td>\n",
       "      <td>0.019939</td>\n",
       "      <td>0.887706</td>\n",
       "      <td>0.051731</td>\n",
       "    </tr>\n",
       "    <tr>\n",
       "      <th>2</th>\n",
       "      <td>36549.0</td>\n",
       "      <td>0</td>\n",
       "      <td>chr1</td>\n",
       "      <td>2001</td>\n",
       "      <td>3000</td>\n",
       "      <td>195814.0</td>\n",
       "      <td>0</td>\n",
       "      <td>0.003497</td>\n",
       "      <td>0.000512</td>\n",
       "      <td>0.019939</td>\n",
       "      <td>0.887706</td>\n",
       "      <td>0.051731</td>\n",
       "    </tr>\n",
       "    <tr>\n",
       "      <th>3</th>\n",
       "      <td>36550.0</td>\n",
       "      <td>0</td>\n",
       "      <td>chr1</td>\n",
       "      <td>3001</td>\n",
       "      <td>4000</td>\n",
       "      <td>195815.0</td>\n",
       "      <td>0</td>\n",
       "      <td>0.003497</td>\n",
       "      <td>0.000512</td>\n",
       "      <td>0.019939</td>\n",
       "      <td>0.887706</td>\n",
       "      <td>0.051731</td>\n",
       "    </tr>\n",
       "    <tr>\n",
       "      <th>4</th>\n",
       "      <td>36551.0</td>\n",
       "      <td>0</td>\n",
       "      <td>chr1</td>\n",
       "      <td>4001</td>\n",
       "      <td>5000</td>\n",
       "      <td>195816.0</td>\n",
       "      <td>0</td>\n",
       "      <td>0.003497</td>\n",
       "      <td>0.000512</td>\n",
       "      <td>0.019939</td>\n",
       "      <td>0.887706</td>\n",
       "      <td>0.051731</td>\n",
       "    </tr>\n",
       "    <tr>\n",
       "      <th>...</th>\n",
       "      <td>...</td>\n",
       "      <td>...</td>\n",
       "      <td>...</td>\n",
       "      <td>...</td>\n",
       "      <td>...</td>\n",
       "      <td>...</td>\n",
       "      <td>...</td>\n",
       "      <td>...</td>\n",
       "      <td>...</td>\n",
       "      <td>...</td>\n",
       "      <td>...</td>\n",
       "      <td>...</td>\n",
       "    </tr>\n",
       "    <tr>\n",
       "      <th>3095684</th>\n",
       "      <td>59370.0</td>\n",
       "      <td>0</td>\n",
       "      <td>chrY</td>\n",
       "      <td>59369001</td>\n",
       "      <td>59370000</td>\n",
       "      <td>59370.0</td>\n",
       "      <td>0</td>\n",
       "      <td>0.003497</td>\n",
       "      <td>0.000512</td>\n",
       "      <td>0.019939</td>\n",
       "      <td>0.887706</td>\n",
       "      <td>0.051731</td>\n",
       "    </tr>\n",
       "    <tr>\n",
       "      <th>3095685</th>\n",
       "      <td>59371.0</td>\n",
       "      <td>0</td>\n",
       "      <td>chrY</td>\n",
       "      <td>59370001</td>\n",
       "      <td>59371000</td>\n",
       "      <td>59371.0</td>\n",
       "      <td>0</td>\n",
       "      <td>0.003497</td>\n",
       "      <td>0.000512</td>\n",
       "      <td>0.019939</td>\n",
       "      <td>0.887706</td>\n",
       "      <td>0.051731</td>\n",
       "    </tr>\n",
       "    <tr>\n",
       "      <th>3095686</th>\n",
       "      <td>59372.0</td>\n",
       "      <td>0</td>\n",
       "      <td>chrY</td>\n",
       "      <td>59371001</td>\n",
       "      <td>59372000</td>\n",
       "      <td>59372.0</td>\n",
       "      <td>0</td>\n",
       "      <td>0.003497</td>\n",
       "      <td>0.000512</td>\n",
       "      <td>0.019939</td>\n",
       "      <td>0.887706</td>\n",
       "      <td>0.051731</td>\n",
       "    </tr>\n",
       "    <tr>\n",
       "      <th>3095687</th>\n",
       "      <td>59373.0</td>\n",
       "      <td>0</td>\n",
       "      <td>chrY</td>\n",
       "      <td>59372001</td>\n",
       "      <td>59373000</td>\n",
       "      <td>59373.0</td>\n",
       "      <td>0</td>\n",
       "      <td>0.003497</td>\n",
       "      <td>0.000512</td>\n",
       "      <td>0.019939</td>\n",
       "      <td>0.887706</td>\n",
       "      <td>0.051731</td>\n",
       "    </tr>\n",
       "    <tr>\n",
       "      <th>3095688</th>\n",
       "      <td>59374.0</td>\n",
       "      <td>0</td>\n",
       "      <td>chrY</td>\n",
       "      <td>59373001</td>\n",
       "      <td>59373566</td>\n",
       "      <td>59374.0</td>\n",
       "      <td>0</td>\n",
       "      <td>0.003497</td>\n",
       "      <td>0.000512</td>\n",
       "      <td>0.019939</td>\n",
       "      <td>0.887706</td>\n",
       "      <td>0.051731</td>\n",
       "    </tr>\n",
       "  </tbody>\n",
       "</table>\n",
       "<p>3095689 rows × 12 columns</p>\n",
       "</div>"
      ],
      "text/plain": [
       "         index_x  #snps_b   chr  start_region  stop_region   index_y  \\\n",
       "0        36547.0        0  chr1             1         1000  195812.0   \n",
       "1        36548.0        0  chr1          1001         2000  195813.0   \n",
       "2        36549.0        0  chr1          2001         3000  195814.0   \n",
       "3        36550.0        0  chr1          3001         4000  195815.0   \n",
       "4        36551.0        0  chr1          4001         5000  195816.0   \n",
       "...          ...      ...   ...           ...          ...       ...   \n",
       "3095684  59370.0        0  chrY      59369001     59370000   59370.0   \n",
       "3095685  59371.0        0  chrY      59370001     59371000   59371.0   \n",
       "3095686  59372.0        0  chrY      59371001     59372000   59372.0   \n",
       "3095687  59373.0        0  chrY      59372001     59373000   59373.0   \n",
       "3095688  59374.0        0  chrY      59373001     59373566   59374.0   \n",
       "\n",
       "         #snps_nb  counts_breast_plus  counts_nonbreast_plus        X2  \\\n",
       "0               0            0.003497               0.000512  0.019939   \n",
       "1               0            0.003497               0.000512  0.019939   \n",
       "2               0            0.003497               0.000512  0.019939   \n",
       "3               0            0.003497               0.000512  0.019939   \n",
       "4               0            0.003497               0.000512  0.019939   \n",
       "...           ...                 ...                    ...       ...   \n",
       "3095684         0            0.003497               0.000512  0.019939   \n",
       "3095685         0            0.003497               0.000512  0.019939   \n",
       "3095686         0            0.003497               0.000512  0.019939   \n",
       "3095687         0            0.003497               0.000512  0.019939   \n",
       "3095688         0            0.003497               0.000512  0.019939   \n",
       "\n",
       "         p_value_X2  log10_p_value  \n",
       "0          0.887706       0.051731  \n",
       "1          0.887706       0.051731  \n",
       "2          0.887706       0.051731  \n",
       "3          0.887706       0.051731  \n",
       "4          0.887706       0.051731  \n",
       "...             ...            ...  \n",
       "3095684    0.887706       0.051731  \n",
       "3095685    0.887706       0.051731  \n",
       "3095686    0.887706       0.051731  \n",
       "3095687    0.887706       0.051731  \n",
       "3095688    0.887706       0.051731  \n",
       "\n",
       "[3095689 rows x 12 columns]"
      ]
     },
     "execution_count": 18,
     "metadata": {},
     "output_type": "execute_result"
    }
   ],
   "source": [
    "merged_df"
   ]
  },
  {
   "cell_type": "code",
   "execution_count": 21,
   "metadata": {},
   "outputs": [
    {
     "name": "stdout",
     "output_type": "stream",
     "text": [
      "1\n",
      "100001\n",
      "200001\n",
      "300001\n",
      "400001\n",
      "500001\n",
      "600001\n",
      "700001\n",
      "800001\n",
      "900001\n",
      "1000001\n",
      "1100001\n",
      "1200001\n",
      "1300001\n",
      "1400001\n",
      "1500001\n",
      "1600001\n",
      "1700001\n",
      "1800001\n",
      "1900001\n",
      "2000001\n",
      "2100001\n",
      "2200001\n",
      "2300001\n",
      "2400001\n",
      "2500001\n",
      "2600001\n",
      "2700001\n",
      "2800001\n",
      "2900001\n",
      "3000001\n",
      "3095689\n",
      "--- 729.1962176 seconds ---\n"
     ]
    }
   ],
   "source": [
    "import time\n",
    "start_time = time.perf_counter()\n",
    "\n",
    "p_value_X2_TEST = list()\n",
    "for index, value in enumerate(S_C):\n",
    "    table = np.array([[value[0], value[2]], [value[1], value[3]]])\n",
    "    stat, p, dof, expected = chi2_contingency(table)\n",
    "    p_value_X2_TEST.append(p)\n",
    "    if (index%100000) == 0:\n",
    "        print(len(p_value_X2_TEST))\n",
    "print(len(p_value_X2_TEST))\n",
    "\n",
    "print(\"--- %s seconds ---\" % (time.perf_counter() - start_time))\n",
    "merged_df['p_value_X2_TEST'] = p_value_X2_TEST"
   ]
  },
  {
   "cell_type": "markdown",
   "metadata": {},
   "source": [
    "# log2 fc"
   ]
  },
  {
   "cell_type": "code",
   "execution_count": 22,
   "metadata": {},
   "outputs": [
    {
     "data": {
      "text/plain": [
       "array([5.541732, 5.541732, 5.541732, ..., 5.541732, 5.541732, 5.541732])"
      ]
     },
     "execution_count": 22,
     "metadata": {},
     "output_type": "execute_result"
    }
   ],
   "source": [
    "constant = np.log(n[0]) - np.log(n[1])\n",
    "log2_fc = (np.log(S[:, 0]) - np.log(S[:, 1]) - constant) / np.log(2)\n",
    "merged_df['log2_fc'] = log2_fc # log2(FC)\n",
    "log2_fc"
   ]
  },
  {
   "cell_type": "markdown",
   "metadata": {},
   "source": [
    "# Fisher"
   ]
  },
  {
   "cell_type": "code",
   "execution_count": 23,
   "metadata": {},
   "outputs": [
    {
     "name": "stdout",
     "output_type": "stream",
     "text": [
      "1\n",
      "100001\n",
      "200001\n",
      "300001\n",
      "400001\n",
      "500001\n",
      "600001\n",
      "700001\n",
      "800001\n",
      "900001\n",
      "1000001\n",
      "1100001\n",
      "1200001\n",
      "1300001\n",
      "1400001\n",
      "1500001\n",
      "1600001\n",
      "1700001\n",
      "1800001\n",
      "1900001\n",
      "2000001\n",
      "2100001\n",
      "2200001\n",
      "2300001\n",
      "2400001\n",
      "2500001\n",
      "2600001\n",
      "2700001\n",
      "2800001\n",
      "2900001\n",
      "3000001\n",
      "3095689\n",
      "--- 1488.5139399000002 seconds ---\n"
     ]
    }
   ],
   "source": [
    "import time\n",
    "start_time = time.perf_counter()\n",
    "\n",
    "p_value_F = list()\n",
    "for index, value in enumerate(S_C):\n",
    "    table = np.array([[value[0], value[2]], [value[1], value[3]]])\n",
    "    oddsr, p = fisher_exact(table, alternative='two-sided')\n",
    "    p_value_F.append(p)\n",
    "    if (index%100000) == 0:\n",
    "        print(len(p_value_F))\n",
    "print(len(p_value_F))\n",
    "\n",
    "print(\"--- %s seconds ---\" % (time.perf_counter() - start_time))"
   ]
  },
  {
   "cell_type": "code",
   "execution_count": 27,
   "metadata": {},
   "outputs": [
    {
     "name": "stdout",
     "output_type": "stream",
     "text": [
      "0.6279908449821555\n",
      "-0.11364516058170371\n"
     ]
    }
   ],
   "source": [
    "merged_df['p_value_F'] = p_value_F\n",
    "print(merged_df['p_value_F'].corr(merged_df['p_value_X2']))\n",
    "print(merged_df['p_value_F'].corr(merged_df['p_value_X2_TEST']))"
   ]
  },
  {
   "cell_type": "code",
   "execution_count": 26,
   "metadata": {},
   "outputs": [],
   "source": [
    "merged_df.to_csv(f\"D:/Hanze_Groningen/STAGE/R/chrom_split_1000.tsv\", sep='\\t', encoding='utf-8', index=False)"
   ]
  },
  {
   "cell_type": "markdown",
   "metadata": {},
   "source": [
    "# Volcano plot"
   ]
  },
  {
   "cell_type": "code",
   "execution_count": 28,
   "metadata": {},
   "outputs": [
    {
     "data": {
      "image/png": "[encoded data removed]",
      "text/plain": [
       "<Figure size 360x360 with 1 Axes>"
      ]
     },
     "metadata": {
      "needs_background": "light"
     },
     "output_type": "display_data"
    }
   ],
   "source": [
    "plt = visuz.GeneExpression.volcano(df=merged_df,lfc='log2_fc',pv='p_value_X2',show=True)\n"
   ]
  },
  {
   "cell_type": "code",
   "execution_count": 29,
   "metadata": {},
   "outputs": [
    {
     "data": {
      "image/png": "[encoded data removed]",
      "text/plain": [
       "<Figure size 360x360 with 1 Axes>"
      ]
     },
     "metadata": {
      "needs_background": "light"
     },
     "output_type": "display_data"
    }
   ],
   "source": [
    "plt = visuz.GeneExpression.volcano(df=merged_df,lfc='log2_fc',pv='p_value_X2_TEST',show=True)\n"
   ]
  },
  {
   "cell_type": "code",
   "execution_count": 30,
   "metadata": {},
   "outputs": [
    {
     "data": {
      "image/png": "[encoded data removed]",
      "text/plain": [
       "<Figure size 360x360 with 1 Axes>"
      ]
     },
     "metadata": {
      "needs_background": "light"
     },
     "output_type": "display_data"
    }
   ],
   "source": [
    "plt = visuz.GeneExpression.volcano(df=merged_df,lfc='log2_fc',pv='p_value_F',show=True)\n"
   ]
  },
  {
   "cell_type": "code",
   "execution_count": null,
   "metadata": {},
   "outputs": [],
   "source": []
  },
  {
   "cell_type": "code",
   "execution_count": null,
   "metadata": {},
   "outputs": [],
   "source": []
  }
 ],
 "metadata": {
  "kernelspec": {
   "display_name": "Python [conda env:umap] *",
   "language": "python",
   "name": "conda-env-umap-py"
  },
  "language_info": {
   "codemirror_mode": {
    "name": "ipython",
    "version": 3
   },
   "file_extension": ".py",
   "mimetype": "text/x-python",
   "name": "python",
   "nbconvert_exporter": "python",
   "pygments_lexer": "ipython3",
   "version": "3.8.12"
  }
 },
 "nbformat": 4,
 "nbformat_minor": 4
}
