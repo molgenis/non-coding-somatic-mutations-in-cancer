{
 "cells": [
  {
   "cell_type": "markdown",
   "metadata": {
    "heading_collapsed": true
   },
   "source": [
    "# Imports"
   ]
  },
  {
   "cell_type": "code",
   "execution_count": 3,
   "metadata": {
    "hidden": true
   },
   "outputs": [],
   "source": [
    "import sys\n",
    "sys.path.append('/groups/umcg-wijmenga/tmp01/projects/lude_vici_2021/rawdata/non-coding-somatic-mutations-in-cancer/Anne/scripts/')\n",
    "from Database import Database\n",
    "# import multiprocessing as mp\n",
    "import pandas as pd\n",
    "from collections import Counter\n",
    "import matplotlib.pyplot as plt\n",
    "import seaborn as sns\n",
    "import numpy as np\n",
    "from scipy.stats.distributions import chi2\n",
    "from bioinfokit import analys, visuz\n",
    "from scipy.stats import fisher_exact\n",
    "import time\n",
    "from scipy.special import factorial\n",
    "import scipy.stats as stats\n",
    "from scipy.stats import mannwhitneyu\n",
    "\n",
    "\n",
    "\n",
    "from fisher import pvalue_npy\n",
    "from scipy.stats import chi2_contingency\n",
    "from scipy.stats import uniform, randint"
   ]
  },
  {
   "cell_type": "markdown",
   "metadata": {
    "heading_collapsed": true
   },
   "source": [
    "# Get Data"
   ]
  },
  {
   "cell_type": "code",
   "execution_count": null,
   "metadata": {
    "hidden": true
   },
   "outputs": [],
   "source": [
    "# path_db = 'D:/Hanze_Groningen/STAGE/lastdb/db_laatste_copy.db' #'D:/Hanze_Groningen/STAGE/DATAB/copydatabase_C.db'\n",
    "# # Database connection\n",
    "# db = Database(path_db)\n",
    "# df_whole = pd.read_sql('''SELECT project.cancer, sum_dosage_GT.donor_project_ID, \n",
    "#                             sum_dosage_GT.donor_ID, sum_dosage_GT.snp_ID, sum_dosage_GT.GT2,\n",
    "#                             snp.chr, snp.pos_start, snp.pos_end, snp.ref, snp.alt,\n",
    "#                             snp.UCNE, snp.TFBS, snp.DNase, \n",
    "#                             snp.in_transcript, snp.in_coding, snp.in_exon,\n",
    "#                             snp.before_gene, snp.after_gene, \n",
    "#                             snp.ID_eQTL, snp.eQTL, snp.close_eQTL_3000\n",
    "#                     FROM project, sum_dosage_GT, snp \n",
    "#                     WHERE sum_dosage_GT.snp_ID=snp.ID AND \n",
    "#                               sum_dosage_GT.donor_project_ID = project.ID AND \n",
    "#                               (sum_dosage_GT.GT2 = 1 OR sum_dosage_GT.GT2 = 2) AND \n",
    "#                               sum_dosage_GT.total_read_count_sum >= 33;''', db.mydb_connection)\n",
    "# db.close()\n",
    "# df_whole.to_csv(\"D:/Hanze_Groningen/STAGE/lastdb/df_whole.tsv\", sep='\\t', encoding='utf-8', index=False)\n",
    "# df_whole"
   ]
  },
  {
   "cell_type": "code",
   "execution_count": null,
   "metadata": {
    "hidden": true
   },
   "outputs": [],
   "source": [
    "# df_whole['snp'] = df_whole['chr'].map(str) + '_' + df_whole['pos_start'].map(str) + '_' + df_whole['pos_end'].map(str)\n",
    "# df_whole.to_csv(\"D:/Hanze_Groningen/STAGE/lastdb/df_whole_SNP.tsv\", sep='\\t', encoding='utf-8', index=False)\n",
    "# df_whole"
   ]
  },
  {
   "cell_type": "code",
   "execution_count": null,
   "metadata": {
    "hidden": true
   },
   "outputs": [],
   "source": [
    "df_whole = pd.read_csv(\"D:/Hanze_Groningen/STAGE/lastdb/df_whole.tsv\", sep='\\t')\n",
    "# df_whole = pd.read_csv(\"D:/Hanze_Groningen/STAGE/lastdb/df_whole_SNP.tsv\", sep='\\t')\n",
    "df_whole"
   ]
  },
  {
   "cell_type": "markdown",
   "metadata": {
    "heading_collapsed": true
   },
   "source": [
    "# Filter data"
   ]
  },
  {
   "cell_type": "code",
   "execution_count": null,
   "metadata": {
    "hidden": true
   },
   "outputs": [],
   "source": [
    "# Delete MT chromosoom\n",
    "df_whole = df_whole.loc[df_whole['chr'] != 'MT']\n",
    "print(set(df_whole['chr']))"
   ]
  },
  {
   "cell_type": "code",
   "execution_count": null,
   "metadata": {
    "hidden": true
   },
   "outputs": [],
   "source": [
    "df_whole.dtypes"
   ]
  },
  {
   "cell_type": "markdown",
   "metadata": {
    "hidden": true
   },
   "source": [
    "### non-coding, coding"
   ]
  },
  {
   "cell_type": "code",
   "execution_count": null,
   "metadata": {
    "hidden": true
   },
   "outputs": [],
   "source": [
    "# #0=false\n",
    "# noncoding_df = df_whole.loc[(df_whole['in_transcript'] == 0) & (df_whole['in_coding'] == 0) & (df_whole['in_exon'] == 0)]\n",
    "# noncoding_df.to_csv(\"D:/Hanze_Groningen/STAGE/lastdb/noncoding_df.tsv\", sep='\\t', encoding='utf-8', index=False)\n",
    "# noncoding_df"
   ]
  },
  {
   "cell_type": "code",
   "execution_count": null,
   "metadata": {
    "hidden": true
   },
   "outputs": [],
   "source": [
    "# coding_df = df_whole.loc[(df_whole['in_transcript'] == 1) | (df_whole['in_coding'] == 1) | (df_whole['in_exon'] == 1)]\n",
    "# coding_df.to_csv(\"D:/Hanze_Groningen/STAGE/lastdb/coding_df.tsv\", sep='\\t', encoding='utf-8', index=False)\n",
    "# coding_df"
   ]
  },
  {
   "cell_type": "code",
   "execution_count": null,
   "metadata": {
    "hidden": true
   },
   "outputs": [],
   "source": [
    "noncoding_df = pd.read_csv(\"D:/Hanze_Groningen/STAGE/lastdb/noncoding_df.tsv\", sep='\\t')\n",
    "coding_df = pd.read_csv(\"D:/Hanze_Groningen/STAGE/lastdb/coding_df.tsv\", sep='\\t')"
   ]
  },
  {
   "cell_type": "markdown",
   "metadata": {
    "hidden": true
   },
   "source": [
    "### breast, nonbreast"
   ]
  },
  {
   "cell_type": "code",
   "execution_count": null,
   "metadata": {
    "hidden": true
   },
   "outputs": [],
   "source": [
    "# all_breast =  df_whole.loc[df_whole['cancer'] == 'Breast']\n",
    "# all_breast.to_csv(\"D:/Hanze_Groningen/STAGE/lastdb/all_breast.tsv\", sep='\\t', encoding='utf-8', index=False)\n",
    "\n",
    "# noncoding_breast = noncoding_df.loc[noncoding_df['cancer'] == 'Breast']\n",
    "# noncoding_breast.to_csv(\"D:/Hanze_Groningen/STAGE/lastdb/noncoding_breast.tsv\", sep='\\t', encoding='utf-8', index=False)\n",
    "\n",
    "# coding_breast = coding_df.loc[coding_df['cancer'] == 'Breast']\n",
    "# coding_breast.to_csv(\"D:/Hanze_Groningen/STAGE/lastdb/coding_breast.tsv\", sep='\\t', encoding='utf-8', index=False)\n"
   ]
  },
  {
   "cell_type": "code",
   "execution_count": null,
   "metadata": {
    "hidden": true
   },
   "outputs": [],
   "source": [
    "# all_nonbreast = df_whole.loc[df_whole['cancer'] != 'Breast']\n",
    "# all_nonbreast.to_csv(\"D:/Hanze_Groningen/STAGE/lastdb/all_nonbreast.tsv\", sep='\\t', encoding='utf-8', index=False)\n",
    "\n",
    "# noncoding_nonbreast = noncoding_df.loc[noncoding_df['cancer'] != 'Breast']\n",
    "# noncoding_nonbreast.to_csv(\"D:/Hanze_Groningen/STAGE/lastdb/noncoding_nonbreast.tsv\", sep='\\t', encoding='utf-8', index=False)\n",
    "\n",
    "# coding_nonbreast = coding_df.loc[coding_df['cancer'] != 'Breast']\n",
    "# coding_nonbreast.to_csv(\"D:/Hanze_Groningen/STAGE/lastdb/coding_nonbreast.tsv\", sep='\\t', encoding='utf-8', index=False)"
   ]
  },
  {
   "cell_type": "code",
   "execution_count": 4,
   "metadata": {
    "hidden": true
   },
   "outputs": [
    {
     "name": "stderr",
     "output_type": "stream",
     "text": [
      "C:\\Users\\Anne_\\AppData\\Local\\Packages\\PythonSoftwareFoundation.Python.3.9_qbz5n2kfra8p0\\LocalCache\\local-packages\\Python39\\site-packages\\IPython\\core\\interactiveshell.py:3397: DtypeWarning: Columns (5,18) have mixed types.Specify dtype option on import or set low_memory=False.\n",
      "  exec(code_obj, self.user_global_ns, self.user_ns)\n"
     ]
    }
   ],
   "source": [
    "# all_breast = pd.read_csv(\"D:/Hanze_Groningen/STAGE/lastdb/all_breast.tsv\", sep='\\t')\n",
    "noncoding_breast = pd.read_csv(\"D:/Hanze_Groningen/STAGE/lastdb/noncoding_breast.tsv\", sep='\\t')\n",
    "# coding_breast = pd.read_csv(\"D:/Hanze_Groningen/STAGE/lastdb/coding_breast.tsv\", sep='\\t')\n",
    "\n",
    "# all_nonbreast = pd.read_csv(\"D:/Hanze_Groningen/STAGE/lastdb/all_nonbreast.tsv\", sep='\\t')\n",
    "noncoding_nonbreast = pd.read_csv(\"D:/Hanze_Groningen/STAGE/lastdb/noncoding_nonbreast.tsv\", sep='\\t')\n",
    "# coding_nonbreast = pd.read_csv(\"D:/Hanze_Groningen/STAGE/lastdb/coding_nonbreast.tsv\", sep='\\t')"
   ]
  },
  {
   "cell_type": "code",
   "execution_count": null,
   "metadata": {
    "hidden": true
   },
   "outputs": [],
   "source": []
  },
  {
   "cell_type": "markdown",
   "metadata": {},
   "source": [
    "# Testen"
   ]
  },
  {
   "cell_type": "code",
   "execution_count": null,
   "metadata": {},
   "outputs": [],
   "source": [
    "def chi_square_self(df, colname_b, colname_nb, num_donor_b, num_donor_nb):\n",
    "    df['counts_breast_plus'] = df[colname_b] + (1/num_donor_b)\n",
    "    print(set(df['counts_breast_plus']))\n",
    "    df['counts_nonbreast_plus'] = df[colname_nb] + (1/num_donor_nb)\n",
    "    print(set(df['counts_nonbreast_plus']))\n",
    "    n = np.array([num_donor_b, num_donor_nb])\n",
    "    print(n)\n",
    "    S = df[['counts_breast_plus', 'counts_nonbreast_plus']].to_numpy()\n",
    "    f = n / n.sum()\n",
    "    E1 = S.sum(axis=1)[:,None]*f\n",
    "    C = (n-S)\n",
    "    print(set(C[0]))\n",
    "    print(set(C[1]))\n",
    "    E2 = C.sum(axis=1)[:,None]*f\n",
    "    D1 = ((E1-S)**2/E1).sum(axis=1)\n",
    "    D2 = ((E2-C)/E2).sum(axis=1)\n",
    "    X2 = D1 + D2\n",
    "    #\n",
    "    p_value_X2 = chi2.sf(X2,1)\n",
    "    #\n",
    "    log10_p_value = -np.log10(p_value_X2)\n",
    "    log10_p_value\n",
    "    #\n",
    "    df['X2'] = X2\n",
    "    df['p_value_X2_self'] = p_value_X2\n",
    "    df['log10_p_value_X2_self'] = log10_p_value\n",
    "    #\n",
    "    S_C = np.concatenate((S, C), axis=1)\n",
    "    return df, S_C, n, S, C    "
   ]
  },
  {
   "cell_type": "code",
   "execution_count": null,
   "metadata": {},
   "outputs": [],
   "source": [
    "def chi_square(S_C, df):\n",
    "    start_time = time.perf_counter()\n",
    "\n",
    "    p_value_X2_TEST = list()\n",
    "    for index, value in enumerate(S_C):\n",
    "        table = np.array([[value[0], value[2]], [value[1], value[3]]])\n",
    "        stat, p, dof, expected = chi2_contingency(table)\n",
    "        p_value_X2_TEST.append(p)\n",
    "        if (index%1000000) == 0:\n",
    "            print(len(p_value_X2_TEST))\n",
    "    print(len(p_value_X2_TEST))\n",
    "\n",
    "    print(\"--- %s seconds ---\" % (time.perf_counter() - start_time))\n",
    "    df['p_value_X2'] = p_value_X2_TEST\n",
    "    return df\n",
    "    "
   ]
  },
  {
   "cell_type": "code",
   "execution_count": null,
   "metadata": {},
   "outputs": [],
   "source": [
    "def log2_fc(df, n, S):\n",
    "    constant = np.log(n[0]) - np.log(n[1])\n",
    "    log2_fc = (np.log(S[:, 0]) - np.log(S[:, 1]) - constant) / np.log(2)\n",
    "    df['log2_fc'] = log2_fc # log2(FC)\n",
    "    return df"
   ]
  },
  {
   "cell_type": "code",
   "execution_count": null,
   "metadata": {},
   "outputs": [],
   "source": [
    "def fisher_test(S_C, df):\n",
    "    start_time = time.perf_counter()\n",
    "\n",
    "    p_value_F = list()\n",
    "    for index, value in enumerate(S_C):\n",
    "        table = np.array([[value[0], value[2]], [value[1], value[3]]])\n",
    "        oddsr, p = fisher_exact(table, alternative='two-sided')\n",
    "        p_value_F.append(p)\n",
    "        if (index%1000000) == 0:\n",
    "            print(len(p_value_F))\n",
    "    print(len(p_value_F))\n",
    "\n",
    "    print(\"--- %s seconds ---\" % (time.perf_counter() - start_time))\n",
    "    df['p_value_F'] = p_value_F\n",
    "    return df"
   ]
  },
  {
   "cell_type": "code",
   "execution_count": null,
   "metadata": {},
   "outputs": [],
   "source": [
    "def shapiro_test(df, column_name, column_name_filter):\n",
    "    \"\"\"\n",
    "    As the p value obtained from the Shapiro-Wilk test is significant (p < 0.05), \n",
    "    we conclude that the data is not normally distributed. Further, in histogram data \n",
    "    distribution shape does not look normal. Therefore, Mann-Whitney U test is more appropriate for analyzing two samples.\n",
    "    \"\"\"\n",
    "    w, pvalue = stats.shapiro(df[column_name])\n",
    "    print(f'w:{w}, pvalue:{pvalue}')\n",
    "    # plot histogram\n",
    "    fig, (ax1, ax2) = plt.subplots(1, 2)\n",
    "    fig.suptitle('Frequency histogram')\n",
    "    ax1.hist(df[column_name_filter], bins=df[column_name].max(), histtype='bar', ec='k') \n",
    "    ax2.hist(df[column_name], bins=df[column_name].max(), histtype='bar', ec='k') \n",
    "    plt.show()"
   ]
  },
  {
   "cell_type": "code",
   "execution_count": null,
   "metadata": {},
   "outputs": [],
   "source": [
    "def mannwhitney(df, column_breast, column_nonbreast):\n",
    "    \"\"\"\n",
    "    Mann-Whitney U test interpretation: As the p value obtained from the Mann-Whitney U test \n",
    "    is significant (U = 489.5, p < 0.05), we conclude that the yield of the two genotypes \n",
    "    significantly different from each other .\n",
    "    \"\"\"\n",
    "    # U1, p = mannwhitneyu(list(breast['filter_snps']), list(nonbreast['filter_snps']), alternative = 'two-sided')\n",
    "    print(mannwhitneyu(list(df[column_breast]), list(df[column_nonbreast]), alternative = 'two-sided'))\n"
   ]
  },
  {
   "cell_type": "code",
   "execution_count": null,
   "metadata": {},
   "outputs": [],
   "source": [
    "def volcano_plot(df, p_value_column):\n",
    "    plt = visuz.GeneExpression.volcano(df=df,lfc='log2_fc',pv=p_value_column,show=True)\n",
    "    "
   ]
  },
  {
   "cell_type": "code",
   "execution_count": null,
   "metadata": {},
   "outputs": [],
   "source": [
    "def all_test(df, num_donor_b, num_donor_nb, type_df, type_analyse):\n",
    "    print('\\nboxplot')\n",
    "    df.boxplot(column=['counts_breast'], grid=False)\n",
    "    df.boxplot(column=['counts_nonbreast'], grid=False)\n",
    "    \n",
    "    print('\\nfilter columns (divide by max)')\n",
    "    df['filter_snps_b'] = df['counts_breast']/ num_donor_b\n",
    "    df['filter_snps_nb'] = df['counts_nonbreast']/ num_donor_nb\n",
    "    \n",
    "    print('\\nshapiro_test')\n",
    "    shapiro_test(df, 'counts_breast', 'filter_snps_b')\n",
    "    shapiro_test(df, 'counts_nonbreast', 'filter_snps_nb')\n",
    "    \n",
    "    print('\\nmannwhitney')\n",
    "    mannwhitney(df, 'filter_snps_b', 'filter_snps_nb')\n",
    "    \n",
    "#     print('\\ntests')\n",
    "#     df, S_C, n, S, C = chi_square_self(df, 'counts_breast', 'counts_nonbreast', num_donor_b, num_donor_nb)\n",
    "#     df = chi_square(S_C, df)\n",
    "#     df = log2_fc(df, n, S)\n",
    "#     df = fisher_test(S_C, df)\n",
    "#     df = log2_fc(df, n, S)\n",
    "#     df.to_csv(f\"D:/Hanze_Groningen/STAGE/lastdb/{type_analyse}_{type_df}_both_0_TESTS.tsv\", sep='\\t', encoding='utf-8', index=False)\n",
    "    \n",
    "#     print('\\nvolcano_plot')\n",
    "#     volcano_plot(sort_snp_count_all_both_0, 'p_value_X2_self')\n",
    "#     volcano_plot(sort_snp_count_all_both_0, 'p_value_X2')\n",
    "#     volcano_plot(sort_snp_count_all_both_0, 'p_value_F')\n",
    "    \n",
    "    return df"
   ]
  },
  {
   "cell_type": "markdown",
   "metadata": {},
   "source": [
    "# per SNP"
   ]
  },
  {
   "cell_type": "markdown",
   "metadata": {},
   "source": [
    "### TEST"
   ]
  },
  {
   "cell_type": "code",
   "execution_count": null,
   "metadata": {},
   "outputs": [],
   "source": [
    "def make_snp_df(df, type_df, type_c):\n",
    "    print('----------')\n",
    "    df['snp'] = df['chr'].map(str) + '_' + df['pos_start'].map(str) + '_' + df['pos_end'].map(str)\n",
    "    print(len(list(set(df['donor_ID']))))\n",
    "    num_donor = len(list(set(df['donor_ID'])))\n",
    "\n",
    "    df_dict = dict(Counter(list(df['snp'])))\n",
    "    \n",
    "    snp_count_df = pd.DataFrame([df_dict.keys(), df_dict.values()]).T\n",
    "    snp_count_df.columns= ['snp', 'counts']\n",
    "    max_df = snp_count_df['counts'].max()\n",
    "    print(snp_count_df['counts'].max())\n",
    "\n",
    "    snp_count_df[['chr', 'pos_start', 'pos_end']] = snp_count_df['snp'].str.split('_', expand=True)\n",
    "\n",
    "    snp_count_df.drop('snp', axis=1, inplace=True)\n",
    "\n",
    "    sort_snp_count_df = snp_count_df.sort_values('counts', ascending=False)\n",
    "\n",
    "    sort_snp_count_df.rename(columns={'counts': f'counts_{type_c}'}, inplace=True)\n",
    "    \n",
    "    df_R = sort_snp_count_df.reset_index().drop([f'counts_{type_c}', 'index'], 1)\n",
    "    df_R['chr'] ='chr' + df_R['chr'].astype(str)\n",
    "    df_R.to_csv(f\"D:/Hanze_Groningen/STAGE/lastdb/R/{type_df}_{type_c}.tsv\", sep='\\t', encoding='utf-8', header=None)\n",
    "    return num_donor, sort_snp_count_df"
   ]
  },
  {
   "cell_type": "code",
   "execution_count": null,
   "metadata": {},
   "outputs": [],
   "source": [
    "# df_whole -- # noncoding_df # coding_df -- # all_breast # noncoding_breast # coding_breast --\n",
    "# all_nonbreast # noncoding_nonbreast # coding_nonbreast"
   ]
  },
  {
   "cell_type": "code",
   "execution_count": null,
   "metadata": {},
   "outputs": [],
   "source": [
    "def run_snp_tests(df_breast, df_nonbreast, type_df, type_analyse):\n",
    "    print('\\nset snps')\n",
    "    num_donor_b, sort_snp_count_breast = make_snp_df(df_breast, type_df, 'breast')\n",
    "    num_donor_nb, sort_snp_count_nonbreast = make_snp_df(all_nonbreast, type_df, 'nonbreast')\n",
    "    \n",
    "    print('\\nmerge dfs')\n",
    "    sort_snp_count_both = sort_snp_count_breast.merge(sort_snp_count_nonbreast, on=['chr', 'pos_start', 'pos_end'], how='outer')\n",
    "    sort_snp_count_both_0 = sort_snp_count_both.fillna(0)\n",
    "    sort_snp_count_both_0.to_csv(f\"D:/Hanze_Groningen/STAGE/lastdb/{type_analyse}_{type_df}_both_0.tsv\", sep='\\t', encoding='utf-8', index=False)\n",
    "    \n",
    "    sort_snp_count_both_0 = all_test(sort_snp_count_both_0, num_donor_b, num_donor_nb, type_df, type_analyse)\n",
    "    \n",
    "#     print('\\nboxplot')\n",
    "#     sort_snp_count_both_0.boxplot(column=['counts_breast'], grid=False)\n",
    "#     sort_snp_count_both_0.boxplot(column=['counts_nonbreast'], grid=False)\n",
    "    \n",
    "#     print('\\nfilter columns (divide by max)')\n",
    "#     sort_snp_count_both_0['filter_snps_b'] = sort_snp_count_both_0['counts_breast']/ num_donor_b\n",
    "#     sort_snp_count_both_0['filter_snps_nb'] = sort_snp_count_both_0['counts_nonbreast']/ num_donor_nb\n",
    "    \n",
    "#     print('\\nshapiro_test')\n",
    "#     shapiro_test(sort_snp_count_both_0, 'counts_breast', 'filter_snps_b')\n",
    "#     shapiro_test(sort_snp_count_both_0, 'counts_nonbreast', 'filter_snps_nb')\n",
    "    \n",
    "#     print('\\nmannwhitney')\n",
    "#     mannwhitney(sort_snp_count_both_0, 'filter_snps_b', 'filter_snps_nb')\n",
    "    \n",
    "#     print('\\ntests')\n",
    "#     sort_snp_count_both_0, S_C, n, S, C = chi_square_self(sort_snp_count_both_0, 'counts_breast', 'counts_nonbreast', num_donor_b, num_donor_nb)\n",
    "#     sort_snp_count_both_0 = chi_square(S_C, sort_snp_count_both_0)\n",
    "#     sort_snp_count_both_0 = log2_fc(sort_snp_count_both_0, n, S)\n",
    "#     sort_snp_count_both_0 = fisher_test(S_C, sort_snp_count_both_0)\n",
    "#     sort_snp_count_both_0 = log2_fc(sort_snp_count_both_0, n, S)\n",
    "#     sort_snp_count_both_0.to_csv(f\"D:/Hanze_Groningen/STAGE/lastdb/sort_snp_count_{type_df}_both_0_TESTS.tsv\", sep='\\t', encoding='utf-8', index=False)\n",
    "    \n",
    "#     print('\\nvolcano_plot')\n",
    "#     volcano_plot(sort_snp_count_all_both_0, 'p_value_X2_self')\n",
    "#     volcano_plot(sort_snp_count_all_both_0, 'p_value_X2')\n",
    "#     volcano_plot(sort_snp_count_all_both_0, 'p_value_F')\n",
    "    \n",
    "#     return sort_snp_count_both_0, num_donor_b, num_donor_nb "
   ]
  },
  {
   "cell_type": "markdown",
   "metadata": {
    "heading_collapsed": true
   },
   "source": [
    "### ALL (all_breast, all_nonbreast)"
   ]
  },
  {
   "cell_type": "code",
   "execution_count": null,
   "metadata": {
    "hidden": true
   },
   "outputs": [],
   "source": [
    "# sort_snp_count_both_0 = run_snp_tests(all_breast, all_nonbreast, 'ALL')"
   ]
  },
  {
   "cell_type": "code",
   "execution_count": null,
   "metadata": {
    "hidden": true
   },
   "outputs": [],
   "source": [
    "num_donor_b, sort_snp_count_all_breast = make_snp_df(all_breast, 'All', 'breast')\n",
    "num_donor_nb, sort_snp_count_all_nonbreast = make_snp_df(all_nonbreast, 'All', 'nonbreast')"
   ]
  },
  {
   "cell_type": "code",
   "execution_count": null,
   "metadata": {
    "hidden": true
   },
   "outputs": [],
   "source": [
    "sort_snp_count_all_both = sort_snp_count_all_breast.merge(sort_snp_count_all_nonbreast, on=['chr', 'pos_start', 'pos_end'], how='outer')\n",
    "sort_snp_count_all_both_0 = sort_snp_count_all_both.fillna(0)\n",
    "sort_snp_count_all_both_0.to_csv(f\"D:/Hanze_Groningen/STAGE/lastdb/sort_snp_count_all_both_0.tsv\", sep='\\t', encoding='utf-8', index=False)\n",
    "sort_snp_count_all_both_0"
   ]
  },
  {
   "cell_type": "code",
   "execution_count": null,
   "metadata": {
    "hidden": true
   },
   "outputs": [],
   "source": [
    "sort_snp_count_all_both_0.boxplot(column=['counts_breast'], grid=False)"
   ]
  },
  {
   "cell_type": "code",
   "execution_count": null,
   "metadata": {
    "hidden": true
   },
   "outputs": [],
   "source": [
    "sort_snp_count_all_both_0.boxplot(column=['counts_nonbreast'], grid=False)"
   ]
  },
  {
   "cell_type": "code",
   "execution_count": null,
   "metadata": {
    "hidden": true
   },
   "outputs": [],
   "source": [
    "sort_snp_count_all_both_0['filter_snps_b'] = sort_snp_count_all_both_0['counts_breast']/ num_donor_b\n",
    "sort_snp_count_all_both_0['filter_snps_nb'] = sort_snp_count_all_both_0['counts_nonbreast']/ num_donor_nb"
   ]
  },
  {
   "cell_type": "code",
   "execution_count": null,
   "metadata": {
    "hidden": true
   },
   "outputs": [],
   "source": [
    "shapiro_test(sort_snp_count_all_both_0, 'counts_breast', 'filter_snps_b')"
   ]
  },
  {
   "cell_type": "code",
   "execution_count": null,
   "metadata": {
    "hidden": true
   },
   "outputs": [],
   "source": [
    "shapiro_test(sort_snp_count_all_both_0, 'counts_nonbreast', 'filter_snps_nb')"
   ]
  },
  {
   "cell_type": "code",
   "execution_count": null,
   "metadata": {
    "hidden": true
   },
   "outputs": [],
   "source": [
    "mannwhitney(sort_snp_count_all_both_0, 'filter_snps_b', 'filter_snps_nb')"
   ]
  },
  {
   "cell_type": "code",
   "execution_count": null,
   "metadata": {
    "hidden": true
   },
   "outputs": [],
   "source": [
    "set(sort_snp_count_all_both_0['counts_nonbreast'])"
   ]
  },
  {
   "cell_type": "code",
   "execution_count": null,
   "metadata": {
    "hidden": true
   },
   "outputs": [],
   "source": [
    "sort_snp_count_all_both_0, S_C, n, S, C = chi_square_self(sort_snp_count_all_both_0, 'counts_breast', 'counts_nonbreast', num_donor_b, num_donor_nb)\n",
    "# sort_snp_count_all_both_0 = chi_square(S_C, sort_snp_count_all_both_0)\n",
    "# sort_snp_count_all_both_0 = log2_fc(sort_snp_count_all_both_0, n, S)\n",
    "# sort_snp_count_all_both_0 = fisher_test(S_C, sort_snp_count_all_both_0)\n",
    "# sort_snp_count_all_both_0 = log2_fc(sort_snp_count_all_both_0, n, S)\n",
    "# sort_snp_count_all_both_0.to_csv(f\"D:/Hanze_Groningen/STAGE/lastdb/R/sort_snp_count_all_both_0_TESTS.tsv\", sep='\\t', encoding='utf-8', index=False)"
   ]
  },
  {
   "cell_type": "code",
   "execution_count": null,
   "metadata": {
    "hidden": true
   },
   "outputs": [],
   "source": [
    "set(S_C[0])"
   ]
  },
  {
   "cell_type": "code",
   "execution_count": null,
   "metadata": {
    "hidden": true
   },
   "outputs": [],
   "source": [
    "sort_snp_count_all_both_0 = chi_square(S_C, sort_snp_count_all_both_0)"
   ]
  },
  {
   "cell_type": "code",
   "execution_count": null,
   "metadata": {
    "hidden": true
   },
   "outputs": [],
   "source": [
    "sort_snp_count_all_both_0 = fisher_test(S_C, sort_snp_count_all_both_0)"
   ]
  },
  {
   "cell_type": "code",
   "execution_count": null,
   "metadata": {
    "hidden": true
   },
   "outputs": [],
   "source": [
    "sort_snp_count_all_both_0 = log2_fc(sort_snp_count_all_both_0, n, S)"
   ]
  },
  {
   "cell_type": "code",
   "execution_count": null,
   "metadata": {
    "hidden": true
   },
   "outputs": [],
   "source": [
    "sort_snp_count_all_both_0.to_csv(f\"D:/Hanze_Groningen/STAGE/lastdb/sort_snp_count_all_both_0_TESTS.tsv\", sep='\\t', encoding='utf-8', index=False)"
   ]
  },
  {
   "cell_type": "code",
   "execution_count": null,
   "metadata": {
    "hidden": true
   },
   "outputs": [],
   "source": [
    "volcano_plot(sort_snp_count_all_both_0, 'p_value_X2_self')"
   ]
  },
  {
   "cell_type": "code",
   "execution_count": null,
   "metadata": {
    "hidden": true
   },
   "outputs": [],
   "source": [
    "volcano_plot(sort_snp_count_all_both_0, 'p_value_X2')"
   ]
  },
  {
   "cell_type": "code",
   "execution_count": null,
   "metadata": {
    "hidden": true
   },
   "outputs": [],
   "source": [
    "volcano_plot(sort_snp_count_all_both_0, 'p_value_F')"
   ]
  },
  {
   "cell_type": "markdown",
   "metadata": {},
   "source": [
    "### non-coding (noncoding_breast, noncoding_nonbreast)"
   ]
  },
  {
   "cell_type": "code",
   "execution_count": null,
   "metadata": {},
   "outputs": [],
   "source": [
    "sort_snp_count_noncoding_both_0, num_donor_b, num_donor_nb  = run_snp_tests(noncoding_breast, noncoding_nonbreast, 'NonCoding')"
   ]
  },
  {
   "cell_type": "markdown",
   "metadata": {},
   "source": [
    "### coding (coding_breast, coding_nonbreast)"
   ]
  },
  {
   "cell_type": "code",
   "execution_count": null,
   "metadata": {},
   "outputs": [],
   "source": [
    "sort_snp_count_coding_both_0 = run_snp_tests(coding_breast, coding_nonbreast, 'Coding')"
   ]
  },
  {
   "cell_type": "markdown",
   "metadata": {},
   "source": [
    "# position 2000"
   ]
  },
  {
   "cell_type": "code",
   "execution_count": null,
   "metadata": {},
   "outputs": [],
   "source": [
    "# df_whole -- # noncoding_df # coding_df -- # all_breast # noncoding_breast # coding_breast --\n",
    "# all_nonbreast # noncoding_nonbreast # coding_nonbreast"
   ]
  },
  {
   "cell_type": "markdown",
   "metadata": {},
   "source": []
  },
  {
   "cell_type": "code",
   "execution_count": null,
   "metadata": {},
   "outputs": [],
   "source": [
    "def make_merge_df(path_breast, path_nonbreast):\n",
    "    colnames=['index', 'counts_breast', 'chr', 'start_region', 'stop_region']\n",
    "    breast = pd.read_csv(path_breast, sep='\\t', header=None, names=colnames)\n",
    "    breast.sort_values(['chr', 'start_region'], inplace=True)\n",
    "    \n",
    "    colnames=['index', 'counts_nonbreast', 'chr', 'start_region', 'stop_region']\n",
    "    nonbreast = pd.read_csv(path_nonbreast, sep='\\t', header=None, names=colnames)   \n",
    "    nonbreast.sort_values(['chr', 'start_region'], inplace=True)\n",
    "    \n",
    "    merged_df = breast.merge(nonbreast, on=['chr', 'start_region', 'stop_region'], how='outer')\n",
    "    merged_df.drop(columns=['index_x', 'index_y'], inplace=True)\n",
    "    return merged_df"
   ]
  },
  {
   "cell_type": "code",
   "execution_count": null,
   "metadata": {},
   "outputs": [],
   "source": [
    "def make_df_2000(merge_df):\n",
    "    df = pd.DataFrame(columns=['counts_breast', 'chr', 'start_region', 'stop_region', 'counts_nonbreast', 'snps_b_double', 'snps_nb_double'])\n",
    "\n",
    "    # chrom = ['chr4']\n",
    "    for i in list(set(merge_df['chr'])):\n",
    "        select_df = merge_df[merge_df['chr'] == i]\n",
    "        select_df['snps_b_double'] = select_df['counts_breast'] + select_df['counts_breast'].shift(1)\n",
    "        select_df['snps_nb_double'] = select_df['counts_nonbreast'] + select_df['counts_nonbreast'].shift(1)\n",
    "        select_df['start_new'] = select_df['start_region'].shift(1) #.astype(str) #+ \"_\" + select_df['stop_region'].astype(str)\n",
    "    #     select_df['stop_new'] = select_df['stop_region']       \n",
    "        select_df = select_df.reset_index()\n",
    "        select_df.drop(columns=['index'], inplace=True)\n",
    "        select_df = select_df.reset_index()\n",
    "        select_df = select_df[(select_df['index'] % 2 != 0) | (select_df['index'] == select_df['index'].max())]\n",
    "        select_df['start_new'] = list(select_df['start_new'][:-1])+[list(select_df['start_region'])[-1]]\n",
    "        select_df.drop(columns=['index'], inplace=True)\n",
    "    #     select_df['stop_new'] = list(select_df['stop_new'][:-1])+[list(select_df['stop_region'])[-1]]\n",
    "        df = pd.concat([df, select_df])\n",
    "    df['start_region'] = df['start_new']\n",
    "    df.drop(columns=['counts_breast', 'counts_nonbreast', 'start_new'], inplace=True)\n",
    "    df.rename(columns = {'snps_b_double':'counts_breast', 'snps_nb_double':'counts_nonbreast'}, inplace = True)\n",
    "    return df\n"
   ]
  },
  {
   "cell_type": "code",
   "execution_count": null,
   "metadata": {},
   "outputs": [],
   "source": [
    "merge_df = make_merge_df(\"D:/Hanze_Groningen/STAGE/R/PLOTS/kary/vs/before/1000_filter/breast_ALL_1000.tsv\", \"D:/Hanze_Groningen/STAGE/R/PLOTS/kary/vs/before/1000_filter/nonbreast_ALL_1000.tsv\")\n",
    "# df_1000_tests = all_test(merge_df, num_donor_b, num_donor_nb, 'ALL', 'Region_1000')"
   ]
  },
  {
   "cell_type": "code",
   "execution_count": null,
   "metadata": {},
   "outputs": [],
   "source": [
    "df_2000 = make_df_2000(merge_df)\n",
    "df_2000_tests = all_test(df_2000, num_donor_b, num_donor_nb, 'ALL', 'Region_2000')"
   ]
  },
  {
   "cell_type": "markdown",
   "metadata": {},
   "source": [
    "### ALL (all_breast, all_nonbreast)"
   ]
  },
  {
   "cell_type": "code",
   "execution_count": null,
   "metadata": {},
   "outputs": [],
   "source": []
  },
  {
   "cell_type": "markdown",
   "metadata": {},
   "source": [
    "### non-coding (noncoding_breast, noncoding_nonbreast)"
   ]
  },
  {
   "cell_type": "code",
   "execution_count": null,
   "metadata": {},
   "outputs": [],
   "source": []
  },
  {
   "cell_type": "markdown",
   "metadata": {},
   "source": [
    "### coding (coding_breast, coding_nonbreast)"
   ]
  },
  {
   "cell_type": "code",
   "execution_count": null,
   "metadata": {},
   "outputs": [],
   "source": []
  },
  {
   "cell_type": "markdown",
   "metadata": {
    "heading_collapsed": true
   },
   "source": [
    "# UCNE"
   ]
  },
  {
   "cell_type": "code",
   "execution_count": null,
   "metadata": {
    "hidden": true
   },
   "outputs": [],
   "source": [
    "# df_whole -- # noncoding_df # coding_df -- # all_breast # noncoding_breast # coding_breast --\n",
    "# all_nonbreast # noncoding_nonbreast # coding_nonbreast"
   ]
  },
  {
   "cell_type": "markdown",
   "metadata": {
    "hidden": true
   },
   "source": [
    "### ALL (all_breast, all_nonbreast)"
   ]
  },
  {
   "cell_type": "code",
   "execution_count": null,
   "metadata": {
    "hidden": true
   },
   "outputs": [],
   "source": []
  },
  {
   "cell_type": "markdown",
   "metadata": {
    "hidden": true
   },
   "source": [
    "### non-coding (noncoding_breast, noncoding_nonbreast)"
   ]
  },
  {
   "cell_type": "code",
   "execution_count": null,
   "metadata": {
    "hidden": true
   },
   "outputs": [],
   "source": []
  },
  {
   "cell_type": "markdown",
   "metadata": {
    "hidden": true
   },
   "source": [
    "### coding (coding_breast, coding_nonbreast)"
   ]
  },
  {
   "cell_type": "code",
   "execution_count": null,
   "metadata": {
    "hidden": true
   },
   "outputs": [],
   "source": []
  },
  {
   "cell_type": "markdown",
   "metadata": {
    "heading_collapsed": true
   },
   "source": [
    "# TFBS"
   ]
  },
  {
   "cell_type": "code",
   "execution_count": null,
   "metadata": {
    "hidden": true
   },
   "outputs": [],
   "source": [
    "# df_whole -- # noncoding_df # coding_df -- # all_breast # noncoding_breast # coding_breast --\n",
    "# all_nonbreast # noncoding_nonbreast # coding_nonbreast"
   ]
  },
  {
   "cell_type": "markdown",
   "metadata": {
    "hidden": true
   },
   "source": [
    "### ALL (all_breast, all_nonbreast)"
   ]
  },
  {
   "cell_type": "code",
   "execution_count": null,
   "metadata": {
    "hidden": true
   },
   "outputs": [],
   "source": []
  },
  {
   "cell_type": "markdown",
   "metadata": {
    "hidden": true
   },
   "source": [
    "### non-coding (noncoding_breast, noncoding_nonbreast)"
   ]
  },
  {
   "cell_type": "code",
   "execution_count": null,
   "metadata": {
    "hidden": true
   },
   "outputs": [],
   "source": []
  },
  {
   "cell_type": "markdown",
   "metadata": {
    "hidden": true
   },
   "source": [
    "### coding (coding_breast, coding_nonbreast)"
   ]
  },
  {
   "cell_type": "code",
   "execution_count": null,
   "metadata": {
    "hidden": true
   },
   "outputs": [],
   "source": []
  },
  {
   "cell_type": "markdown",
   "metadata": {
    "heading_collapsed": true
   },
   "source": [
    "# DNase"
   ]
  },
  {
   "cell_type": "code",
   "execution_count": null,
   "metadata": {
    "hidden": true
   },
   "outputs": [],
   "source": [
    "# df_whole -- # noncoding_df # coding_df -- # all_breast # noncoding_breast # coding_breast --\n",
    "# all_nonbreast # noncoding_nonbreast # coding_nonbreast"
   ]
  },
  {
   "cell_type": "markdown",
   "metadata": {
    "hidden": true
   },
   "source": [
    "### ALL (all_breast, all_nonbreast)"
   ]
  },
  {
   "cell_type": "code",
   "execution_count": null,
   "metadata": {
    "hidden": true
   },
   "outputs": [],
   "source": []
  },
  {
   "cell_type": "markdown",
   "metadata": {
    "hidden": true
   },
   "source": [
    "### non-coding (noncoding_breast, noncoding_nonbreast)"
   ]
  },
  {
   "cell_type": "code",
   "execution_count": null,
   "metadata": {
    "hidden": true
   },
   "outputs": [],
   "source": []
  },
  {
   "cell_type": "markdown",
   "metadata": {
    "hidden": true
   },
   "source": [
    "### coding (coding_breast, coding_nonbreast)"
   ]
  },
  {
   "cell_type": "code",
   "execution_count": null,
   "metadata": {
    "hidden": true
   },
   "outputs": [],
   "source": []
  },
  {
   "cell_type": "markdown",
   "metadata": {
    "heading_collapsed": true
   },
   "source": [
    "# before_gene (promotor)"
   ]
  },
  {
   "cell_type": "code",
   "execution_count": null,
   "metadata": {
    "hidden": true
   },
   "outputs": [],
   "source": [
    "# df_whole -- # noncoding_df # coding_df -- # all_breast # noncoding_breast # coding_breast --\n",
    "# all_nonbreast # noncoding_nonbreast # coding_nonbreast"
   ]
  },
  {
   "cell_type": "markdown",
   "metadata": {
    "hidden": true
   },
   "source": [
    "### ALL (all_breast, all_nonbreast)"
   ]
  },
  {
   "cell_type": "code",
   "execution_count": null,
   "metadata": {
    "hidden": true
   },
   "outputs": [],
   "source": []
  },
  {
   "cell_type": "markdown",
   "metadata": {
    "hidden": true
   },
   "source": [
    "### non-coding (noncoding_breast, noncoding_nonbreast)"
   ]
  },
  {
   "cell_type": "code",
   "execution_count": null,
   "metadata": {
    "hidden": true
   },
   "outputs": [],
   "source": []
  },
  {
   "cell_type": "markdown",
   "metadata": {
    "hidden": true
   },
   "source": [
    "### coding (coding_breast, coding_nonbreast)"
   ]
  },
  {
   "cell_type": "code",
   "execution_count": null,
   "metadata": {
    "hidden": true
   },
   "outputs": [],
   "source": []
  },
  {
   "cell_type": "markdown",
   "metadata": {
    "heading_collapsed": true
   },
   "source": [
    "# eQTL"
   ]
  },
  {
   "cell_type": "code",
   "execution_count": null,
   "metadata": {
    "hidden": true
   },
   "outputs": [],
   "source": [
    "# df_whole -- # noncoding_df # coding_df -- # all_breast # noncoding_breast # coding_breast --\n",
    "# all_nonbreast # noncoding_nonbreast # coding_nonbreast"
   ]
  },
  {
   "cell_type": "markdown",
   "metadata": {
    "hidden": true
   },
   "source": [
    "### ALL (all_breast, all_nonbreast)"
   ]
  },
  {
   "cell_type": "code",
   "execution_count": null,
   "metadata": {
    "hidden": true
   },
   "outputs": [],
   "source": []
  },
  {
   "cell_type": "markdown",
   "metadata": {
    "hidden": true
   },
   "source": [
    "### non-coding (noncoding_breast, noncoding_nonbreast)"
   ]
  },
  {
   "cell_type": "code",
   "execution_count": null,
   "metadata": {
    "hidden": true
   },
   "outputs": [],
   "source": []
  },
  {
   "cell_type": "markdown",
   "metadata": {
    "hidden": true
   },
   "source": [
    "### coding (coding_breast, coding_nonbreast)"
   ]
  },
  {
   "cell_type": "code",
   "execution_count": null,
   "metadata": {
    "hidden": true
   },
   "outputs": [],
   "source": []
  },
  {
   "cell_type": "markdown",
   "metadata": {},
   "source": [
    "# Genotype"
   ]
  },
  {
   "cell_type": "code",
   "execution_count": null,
   "metadata": {},
   "outputs": [],
   "source": [
    "# df_whole -- # noncoding_df # coding_df -- # all_breast # noncoding_breast # coding_breast --\n",
    "# all_nonbreast # noncoding_nonbreast # coding_nonbreast"
   ]
  },
  {
   "cell_type": "code",
   "execution_count": 23,
   "metadata": {},
   "outputs": [],
   "source": [
    "import statsmodels.api as sm"
   ]
  },
  {
   "cell_type": "code",
   "execution_count": null,
   "metadata": {},
   "outputs": [],
   "source": []
  },
  {
   "cell_type": "code",
   "execution_count": null,
   "metadata": {},
   "outputs": [],
   "source": []
  },
  {
   "cell_type": "markdown",
   "metadata": {},
   "source": [
    "### ALL (all_breast, all_nonbreast)"
   ]
  },
  {
   "cell_type": "code",
   "execution_count": null,
   "metadata": {},
   "outputs": [],
   "source": [
    "# all_breast, all_nonbreast"
   ]
  },
  {
   "cell_type": "code",
   "execution_count": 5,
   "metadata": {},
   "outputs": [
    {
     "name": "stdout",
     "output_type": "stream",
     "text": [
      "Index(['cancer', 'donor_project_ID', 'donor_ID', 'snp_ID', 'GT2', 'chr',\n",
      "       'pos_start', 'pos_end', 'ref', 'alt', 'UCNE', 'TFBS', 'DNase',\n",
      "       'in_transcript', 'in_coding', 'in_exon', 'before_gene', 'after_gene',\n",
      "       'ID_eQTL', 'eQTL', 'close_eQTL_3000'],\n",
      "      dtype='object')\n",
      "{1, 2}\n"
     ]
    },
    {
     "data": {
      "text/html": [
       "<div>\n",
       "<style scoped>\n",
       "    .dataframe tbody tr th:only-of-type {\n",
       "        vertical-align: middle;\n",
       "    }\n",
       "\n",
       "    .dataframe tbody tr th {\n",
       "        vertical-align: top;\n",
       "    }\n",
       "\n",
       "    .dataframe thead th {\n",
       "        text-align: right;\n",
       "    }\n",
       "</style>\n",
       "<table border=\"1\" class=\"dataframe\">\n",
       "  <thead>\n",
       "    <tr style=\"text-align: right;\">\n",
       "      <th></th>\n",
       "      <th>cancer</th>\n",
       "      <th>donor_project_ID</th>\n",
       "      <th>donor_ID</th>\n",
       "      <th>snp_ID</th>\n",
       "      <th>GT2</th>\n",
       "      <th>chr</th>\n",
       "      <th>pos_start</th>\n",
       "      <th>pos_end</th>\n",
       "      <th>ref</th>\n",
       "      <th>alt</th>\n",
       "      <th>...</th>\n",
       "      <th>TFBS</th>\n",
       "      <th>DNase</th>\n",
       "      <th>in_transcript</th>\n",
       "      <th>in_coding</th>\n",
       "      <th>in_exon</th>\n",
       "      <th>before_gene</th>\n",
       "      <th>after_gene</th>\n",
       "      <th>ID_eQTL</th>\n",
       "      <th>eQTL</th>\n",
       "      <th>close_eQTL_3000</th>\n",
       "    </tr>\n",
       "  </thead>\n",
       "  <tbody>\n",
       "    <tr>\n",
       "      <th>0</th>\n",
       "      <td>Breast</td>\n",
       "      <td>25</td>\n",
       "      <td>1305</td>\n",
       "      <td>1922329</td>\n",
       "      <td>1</td>\n",
       "      <td>7</td>\n",
       "      <td>50288406</td>\n",
       "      <td>50288406</td>\n",
       "      <td>A</td>\n",
       "      <td>-</td>\n",
       "      <td>...</td>\n",
       "      <td>0</td>\n",
       "      <td>0</td>\n",
       "      <td>0</td>\n",
       "      <td>0</td>\n",
       "      <td>0</td>\n",
       "      <td>0</td>\n",
       "      <td>0</td>\n",
       "      <td>NaN</td>\n",
       "      <td>0</td>\n",
       "      <td>0</td>\n",
       "    </tr>\n",
       "    <tr>\n",
       "      <th>1</th>\n",
       "      <td>Breast</td>\n",
       "      <td>25</td>\n",
       "      <td>1305</td>\n",
       "      <td>2129052</td>\n",
       "      <td>1</td>\n",
       "      <td>18</td>\n",
       "      <td>73873870</td>\n",
       "      <td>73873870</td>\n",
       "      <td>C</td>\n",
       "      <td>T</td>\n",
       "      <td>...</td>\n",
       "      <td>0</td>\n",
       "      <td>0</td>\n",
       "      <td>0</td>\n",
       "      <td>0</td>\n",
       "      <td>0</td>\n",
       "      <td>0</td>\n",
       "      <td>0</td>\n",
       "      <td>NaN</td>\n",
       "      <td>0</td>\n",
       "      <td>0</td>\n",
       "    </tr>\n",
       "    <tr>\n",
       "      <th>2</th>\n",
       "      <td>Breast</td>\n",
       "      <td>25</td>\n",
       "      <td>1305</td>\n",
       "      <td>3656796</td>\n",
       "      <td>1</td>\n",
       "      <td>1</td>\n",
       "      <td>9042655</td>\n",
       "      <td>9042655</td>\n",
       "      <td>C</td>\n",
       "      <td>T</td>\n",
       "      <td>...</td>\n",
       "      <td>1</td>\n",
       "      <td>0</td>\n",
       "      <td>0</td>\n",
       "      <td>0</td>\n",
       "      <td>0</td>\n",
       "      <td>0</td>\n",
       "      <td>0</td>\n",
       "      <td>NaN</td>\n",
       "      <td>0</td>\n",
       "      <td>0</td>\n",
       "    </tr>\n",
       "    <tr>\n",
       "      <th>3</th>\n",
       "      <td>Breast</td>\n",
       "      <td>25</td>\n",
       "      <td>1305</td>\n",
       "      <td>3656801</td>\n",
       "      <td>1</td>\n",
       "      <td>1</td>\n",
       "      <td>11669158</td>\n",
       "      <td>11669158</td>\n",
       "      <td>G</td>\n",
       "      <td>C</td>\n",
       "      <td>...</td>\n",
       "      <td>0</td>\n",
       "      <td>0</td>\n",
       "      <td>0</td>\n",
       "      <td>0</td>\n",
       "      <td>0</td>\n",
       "      <td>0</td>\n",
       "      <td>0</td>\n",
       "      <td>NaN</td>\n",
       "      <td>0</td>\n",
       "      <td>0</td>\n",
       "    </tr>\n",
       "    <tr>\n",
       "      <th>4</th>\n",
       "      <td>Breast</td>\n",
       "      <td>25</td>\n",
       "      <td>1305</td>\n",
       "      <td>3656804</td>\n",
       "      <td>1</td>\n",
       "      <td>1</td>\n",
       "      <td>11669165</td>\n",
       "      <td>11669165</td>\n",
       "      <td>G</td>\n",
       "      <td>A</td>\n",
       "      <td>...</td>\n",
       "      <td>0</td>\n",
       "      <td>0</td>\n",
       "      <td>0</td>\n",
       "      <td>0</td>\n",
       "      <td>0</td>\n",
       "      <td>0</td>\n",
       "      <td>0</td>\n",
       "      <td>NaN</td>\n",
       "      <td>0</td>\n",
       "      <td>0</td>\n",
       "    </tr>\n",
       "    <tr>\n",
       "      <th>...</th>\n",
       "      <td>...</td>\n",
       "      <td>...</td>\n",
       "      <td>...</td>\n",
       "      <td>...</td>\n",
       "      <td>...</td>\n",
       "      <td>...</td>\n",
       "      <td>...</td>\n",
       "      <td>...</td>\n",
       "      <td>...</td>\n",
       "      <td>...</td>\n",
       "      <td>...</td>\n",
       "      <td>...</td>\n",
       "      <td>...</td>\n",
       "      <td>...</td>\n",
       "      <td>...</td>\n",
       "      <td>...</td>\n",
       "      <td>...</td>\n",
       "      <td>...</td>\n",
       "      <td>...</td>\n",
       "      <td>...</td>\n",
       "      <td>...</td>\n",
       "    </tr>\n",
       "    <tr>\n",
       "      <th>340078</th>\n",
       "      <td>Breast</td>\n",
       "      <td>28</td>\n",
       "      <td>2056</td>\n",
       "      <td>8740751</td>\n",
       "      <td>1</td>\n",
       "      <td>11</td>\n",
       "      <td>1162014</td>\n",
       "      <td>1162014</td>\n",
       "      <td>C</td>\n",
       "      <td>T</td>\n",
       "      <td>...</td>\n",
       "      <td>0</td>\n",
       "      <td>1</td>\n",
       "      <td>0</td>\n",
       "      <td>0</td>\n",
       "      <td>0</td>\n",
       "      <td>0</td>\n",
       "      <td>0</td>\n",
       "      <td>NaN</td>\n",
       "      <td>0</td>\n",
       "      <td>0</td>\n",
       "    </tr>\n",
       "    <tr>\n",
       "      <th>340079</th>\n",
       "      <td>Breast</td>\n",
       "      <td>28</td>\n",
       "      <td>2056</td>\n",
       "      <td>8740769</td>\n",
       "      <td>1</td>\n",
       "      <td>X</td>\n",
       "      <td>105937522</td>\n",
       "      <td>105937522</td>\n",
       "      <td>G</td>\n",
       "      <td>A</td>\n",
       "      <td>...</td>\n",
       "      <td>0</td>\n",
       "      <td>0</td>\n",
       "      <td>0</td>\n",
       "      <td>0</td>\n",
       "      <td>0</td>\n",
       "      <td>0</td>\n",
       "      <td>0</td>\n",
       "      <td>NaN</td>\n",
       "      <td>0</td>\n",
       "      <td>0</td>\n",
       "    </tr>\n",
       "    <tr>\n",
       "      <th>340080</th>\n",
       "      <td>Breast</td>\n",
       "      <td>28</td>\n",
       "      <td>2056</td>\n",
       "      <td>8740788</td>\n",
       "      <td>1</td>\n",
       "      <td>10</td>\n",
       "      <td>52751290</td>\n",
       "      <td>52751290</td>\n",
       "      <td>C</td>\n",
       "      <td>T</td>\n",
       "      <td>...</td>\n",
       "      <td>1</td>\n",
       "      <td>1</td>\n",
       "      <td>0</td>\n",
       "      <td>0</td>\n",
       "      <td>0</td>\n",
       "      <td>0</td>\n",
       "      <td>0</td>\n",
       "      <td>NaN</td>\n",
       "      <td>0</td>\n",
       "      <td>0</td>\n",
       "    </tr>\n",
       "    <tr>\n",
       "      <th>340081</th>\n",
       "      <td>Breast</td>\n",
       "      <td>28</td>\n",
       "      <td>2056</td>\n",
       "      <td>8740796</td>\n",
       "      <td>1</td>\n",
       "      <td>11</td>\n",
       "      <td>60511341</td>\n",
       "      <td>60511341</td>\n",
       "      <td>C</td>\n",
       "      <td>G</td>\n",
       "      <td>...</td>\n",
       "      <td>0</td>\n",
       "      <td>0</td>\n",
       "      <td>0</td>\n",
       "      <td>0</td>\n",
       "      <td>0</td>\n",
       "      <td>0</td>\n",
       "      <td>0</td>\n",
       "      <td>NaN</td>\n",
       "      <td>0</td>\n",
       "      <td>0</td>\n",
       "    </tr>\n",
       "    <tr>\n",
       "      <th>340082</th>\n",
       "      <td>Breast</td>\n",
       "      <td>28</td>\n",
       "      <td>2057</td>\n",
       "      <td>8740873</td>\n",
       "      <td>1</td>\n",
       "      <td>20</td>\n",
       "      <td>31463822</td>\n",
       "      <td>31463822</td>\n",
       "      <td>A</td>\n",
       "      <td>G</td>\n",
       "      <td>...</td>\n",
       "      <td>1</td>\n",
       "      <td>0</td>\n",
       "      <td>0</td>\n",
       "      <td>0</td>\n",
       "      <td>0</td>\n",
       "      <td>0</td>\n",
       "      <td>0</td>\n",
       "      <td>NaN</td>\n",
       "      <td>0</td>\n",
       "      <td>0</td>\n",
       "    </tr>\n",
       "  </tbody>\n",
       "</table>\n",
       "<p>340083 rows × 21 columns</p>\n",
       "</div>"
      ],
      "text/plain": [
       "        cancer  donor_project_ID  donor_ID   snp_ID  GT2 chr  pos_start  \\\n",
       "0       Breast                25      1305  1922329    1   7   50288406   \n",
       "1       Breast                25      1305  2129052    1  18   73873870   \n",
       "2       Breast                25      1305  3656796    1   1    9042655   \n",
       "3       Breast                25      1305  3656801    1   1   11669158   \n",
       "4       Breast                25      1305  3656804    1   1   11669165   \n",
       "...        ...               ...       ...      ...  ...  ..        ...   \n",
       "340078  Breast                28      2056  8740751    1  11    1162014   \n",
       "340079  Breast                28      2056  8740769    1   X  105937522   \n",
       "340080  Breast                28      2056  8740788    1  10   52751290   \n",
       "340081  Breast                28      2056  8740796    1  11   60511341   \n",
       "340082  Breast                28      2057  8740873    1  20   31463822   \n",
       "\n",
       "          pos_end ref alt  ...  TFBS  DNase  in_transcript  in_coding  \\\n",
       "0        50288406   A   -  ...     0      0              0          0   \n",
       "1        73873870   C   T  ...     0      0              0          0   \n",
       "2         9042655   C   T  ...     1      0              0          0   \n",
       "3        11669158   G   C  ...     0      0              0          0   \n",
       "4        11669165   G   A  ...     0      0              0          0   \n",
       "...           ...  ..  ..  ...   ...    ...            ...        ...   \n",
       "340078    1162014   C   T  ...     0      1              0          0   \n",
       "340079  105937522   G   A  ...     0      0              0          0   \n",
       "340080   52751290   C   T  ...     1      1              0          0   \n",
       "340081   60511341   C   G  ...     0      0              0          0   \n",
       "340082   31463822   A   G  ...     1      0              0          0   \n",
       "\n",
       "        in_exon  before_gene  after_gene  ID_eQTL  eQTL  close_eQTL_3000  \n",
       "0             0            0           0      NaN     0                0  \n",
       "1             0            0           0      NaN     0                0  \n",
       "2             0            0           0      NaN     0                0  \n",
       "3             0            0           0      NaN     0                0  \n",
       "4             0            0           0      NaN     0                0  \n",
       "...         ...          ...         ...      ...   ...              ...  \n",
       "340078        0            0           0      NaN     0                0  \n",
       "340079        0            0           0      NaN     0                0  \n",
       "340080        0            0           0      NaN     0                0  \n",
       "340081        0            0           0      NaN     0                0  \n",
       "340082        0            0           0      NaN     0                0  \n",
       "\n",
       "[340083 rows x 21 columns]"
      ]
     },
     "execution_count": 5,
     "metadata": {},
     "output_type": "execute_result"
    }
   ],
   "source": [
    "print(noncoding_breast.columns)\n",
    "print(set(noncoding_breast['GT2']))\n",
    "noncoding_breast"
   ]
  },
  {
   "cell_type": "code",
   "execution_count": 6,
   "metadata": {},
   "outputs": [],
   "source": [
    "def make_GT_df(df, type_c, num_donors):\n",
    "    select_df = df[['GT2', 'snp_ID', 'chr', 'pos_start', 'pos_end']]\n",
    "    select_1_df = select_df[select_df['GT2'] == 1]\n",
    "    select_2_df = select_df[select_df['GT2'] == 2]\n",
    "    GT1_df = select_1_df.groupby(by=['snp_ID', 'chr', 'pos_start', 'pos_end']).sum().rename(columns = {'GT2':f'GT_1_{type_c}'})\n",
    "    GT2_df = select_2_df.groupby(by=['snp_ID', 'chr', 'pos_start', 'pos_end']).sum().rename(columns = {'GT2':f'GT_2_{type_c}'})\n",
    "    GT_df = GT1_df.merge(GT2_df, on=['snp_ID', 'chr', 'pos_start', 'pos_end'], how='outer')\n",
    "    GT_df_0 = GT_df.fillna(0)\n",
    "    GT_df_0[f'GT_2_{type_c}'] = GT_df_0[f'GT_2_{type_c}'] /2\n",
    "    GT_df_0.sort_values(by=['chr', 'pos_start'], inplace = True)\n",
    "    GT_df_0[f'GT_0_{type_c}'] = num_donors - (GT_df_0[f'GT_1_{type_c}']+GT_df_0[f'GT_2_{type_c}'])\n",
    "    return GT_df_0"
   ]
  },
  {
   "cell_type": "code",
   "execution_count": 7,
   "metadata": {},
   "outputs": [
    {
     "data": {
      "text/html": [
       "<div>\n",
       "<style scoped>\n",
       "    .dataframe tbody tr th:only-of-type {\n",
       "        vertical-align: middle;\n",
       "    }\n",
       "\n",
       "    .dataframe tbody tr th {\n",
       "        vertical-align: top;\n",
       "    }\n",
       "\n",
       "    .dataframe thead th {\n",
       "        text-align: right;\n",
       "    }\n",
       "</style>\n",
       "<table border=\"1\" class=\"dataframe\">\n",
       "  <thead>\n",
       "    <tr style=\"text-align: right;\">\n",
       "      <th></th>\n",
       "      <th></th>\n",
       "      <th></th>\n",
       "      <th></th>\n",
       "      <th>GT_1_b</th>\n",
       "      <th>GT_2_b</th>\n",
       "      <th>GT_0_b</th>\n",
       "      <th>GT_1_nb</th>\n",
       "      <th>GT_2_nb</th>\n",
       "      <th>GT_0_nb</th>\n",
       "    </tr>\n",
       "    <tr>\n",
       "      <th>snp_ID</th>\n",
       "      <th>chr</th>\n",
       "      <th>pos_start</th>\n",
       "      <th>pos_end</th>\n",
       "      <th></th>\n",
       "      <th></th>\n",
       "      <th></th>\n",
       "      <th></th>\n",
       "      <th></th>\n",
       "      <th></th>\n",
       "    </tr>\n",
       "  </thead>\n",
       "  <tbody>\n",
       "    <tr>\n",
       "      <th>8070609</th>\n",
       "      <th>1</th>\n",
       "      <th>565361</th>\n",
       "      <th>565361</th>\n",
       "      <td>1.0</td>\n",
       "      <td>0.0</td>\n",
       "      <td>285.0</td>\n",
       "      <td>NaN</td>\n",
       "      <td>NaN</td>\n",
       "      <td>NaN</td>\n",
       "    </tr>\n",
       "    <tr>\n",
       "      <th>8044916</th>\n",
       "      <th>1</th>\n",
       "      <th>568813</th>\n",
       "      <th>568813</th>\n",
       "      <td>1.0</td>\n",
       "      <td>0.0</td>\n",
       "      <td>285.0</td>\n",
       "      <td>NaN</td>\n",
       "      <td>NaN</td>\n",
       "      <td>NaN</td>\n",
       "    </tr>\n",
       "    <tr>\n",
       "      <th>8443261</th>\n",
       "      <th>1</th>\n",
       "      <th>729983</th>\n",
       "      <th>729983</th>\n",
       "      <td>1.0</td>\n",
       "      <td>0.0</td>\n",
       "      <td>285.0</td>\n",
       "      <td>NaN</td>\n",
       "      <td>NaN</td>\n",
       "      <td>NaN</td>\n",
       "    </tr>\n",
       "    <tr>\n",
       "      <th>8066911</th>\n",
       "      <th>1</th>\n",
       "      <th>748323</th>\n",
       "      <th>748323</th>\n",
       "      <td>1.0</td>\n",
       "      <td>0.0</td>\n",
       "      <td>285.0</td>\n",
       "      <td>NaN</td>\n",
       "      <td>NaN</td>\n",
       "      <td>NaN</td>\n",
       "    </tr>\n",
       "    <tr>\n",
       "      <th>4502730</th>\n",
       "      <th>1</th>\n",
       "      <th>797479</th>\n",
       "      <th>797479</th>\n",
       "      <td>1.0</td>\n",
       "      <td>0.0</td>\n",
       "      <td>285.0</td>\n",
       "      <td>NaN</td>\n",
       "      <td>NaN</td>\n",
       "      <td>NaN</td>\n",
       "    </tr>\n",
       "    <tr>\n",
       "      <th>...</th>\n",
       "      <th>...</th>\n",
       "      <th>...</th>\n",
       "      <th>...</th>\n",
       "      <td>...</td>\n",
       "      <td>...</td>\n",
       "      <td>...</td>\n",
       "      <td>...</td>\n",
       "      <td>...</td>\n",
       "      <td>...</td>\n",
       "    </tr>\n",
       "    <tr>\n",
       "      <th>13661977</th>\n",
       "      <th>Y</th>\n",
       "      <th>59306964</th>\n",
       "      <th>59306964</th>\n",
       "      <td>NaN</td>\n",
       "      <td>NaN</td>\n",
       "      <td>NaN</td>\n",
       "      <td>1.0</td>\n",
       "      <td>0.0</td>\n",
       "      <td>1951.0</td>\n",
       "    </tr>\n",
       "    <tr>\n",
       "      <th>13010824</th>\n",
       "      <th>Y</th>\n",
       "      <th>59311457</th>\n",
       "      <th>59311457</th>\n",
       "      <td>NaN</td>\n",
       "      <td>NaN</td>\n",
       "      <td>NaN</td>\n",
       "      <td>1.0</td>\n",
       "      <td>0.0</td>\n",
       "      <td>1951.0</td>\n",
       "    </tr>\n",
       "    <tr>\n",
       "      <th>13380994</th>\n",
       "      <th>Y</th>\n",
       "      <th>59327858</th>\n",
       "      <th>59327858</th>\n",
       "      <td>NaN</td>\n",
       "      <td>NaN</td>\n",
       "      <td>NaN</td>\n",
       "      <td>1.0</td>\n",
       "      <td>0.0</td>\n",
       "      <td>1951.0</td>\n",
       "    </tr>\n",
       "    <tr>\n",
       "      <th>13380995</th>\n",
       "      <th>Y</th>\n",
       "      <th>59345584</th>\n",
       "      <th>59345584</th>\n",
       "      <td>NaN</td>\n",
       "      <td>NaN</td>\n",
       "      <td>NaN</td>\n",
       "      <td>1.0</td>\n",
       "      <td>0.0</td>\n",
       "      <td>1951.0</td>\n",
       "    </tr>\n",
       "    <tr>\n",
       "      <th>13010826</th>\n",
       "      <th>Y</th>\n",
       "      <th>59352411</th>\n",
       "      <th>59352411</th>\n",
       "      <td>NaN</td>\n",
       "      <td>NaN</td>\n",
       "      <td>NaN</td>\n",
       "      <td>1.0</td>\n",
       "      <td>0.0</td>\n",
       "      <td>1951.0</td>\n",
       "    </tr>\n",
       "  </tbody>\n",
       "</table>\n",
       "<p>5935002 rows × 6 columns</p>\n",
       "</div>"
      ],
      "text/plain": [
       "                                 GT_1_b  GT_2_b  GT_0_b  GT_1_nb  GT_2_nb  \\\n",
       "snp_ID   chr pos_start pos_end                                              \n",
       "8070609  1   565361    565361       1.0     0.0   285.0      NaN      NaN   \n",
       "8044916  1   568813    568813       1.0     0.0   285.0      NaN      NaN   \n",
       "8443261  1   729983    729983       1.0     0.0   285.0      NaN      NaN   \n",
       "8066911  1   748323    748323       1.0     0.0   285.0      NaN      NaN   \n",
       "4502730  1   797479    797479       1.0     0.0   285.0      NaN      NaN   \n",
       "...                                 ...     ...     ...      ...      ...   \n",
       "13661977 Y   59306964  59306964     NaN     NaN     NaN      1.0      0.0   \n",
       "13010824 Y   59311457  59311457     NaN     NaN     NaN      1.0      0.0   \n",
       "13380994 Y   59327858  59327858     NaN     NaN     NaN      1.0      0.0   \n",
       "13380995 Y   59345584  59345584     NaN     NaN     NaN      1.0      0.0   \n",
       "13010826 Y   59352411  59352411     NaN     NaN     NaN      1.0      0.0   \n",
       "\n",
       "                                 GT_0_nb  \n",
       "snp_ID   chr pos_start pos_end            \n",
       "8070609  1   565361    565361        NaN  \n",
       "8044916  1   568813    568813        NaN  \n",
       "8443261  1   729983    729983        NaN  \n",
       "8066911  1   748323    748323        NaN  \n",
       "4502730  1   797479    797479        NaN  \n",
       "...                                  ...  \n",
       "13661977 Y   59306964  59306964   1951.0  \n",
       "13010824 Y   59311457  59311457   1951.0  \n",
       "13380994 Y   59327858  59327858   1951.0  \n",
       "13380995 Y   59345584  59345584   1951.0  \n",
       "13010826 Y   59352411  59352411   1951.0  \n",
       "\n",
       "[5935002 rows x 6 columns]"
      ]
     },
     "execution_count": 7,
     "metadata": {},
     "output_type": "execute_result"
    }
   ],
   "source": [
    "breast_GT = make_GT_df(noncoding_breast, 'b', 286)\n",
    "nonbreast_GT = make_GT_df(noncoding_nonbreast, 'nb', 1952)\n",
    "both_GT = breast_GT.merge(nonbreast_GT, on=['snp_ID', 'chr', 'pos_start', 'pos_end'], how='outer')\n",
    "both_GT"
   ]
  },
  {
   "cell_type": "code",
   "execution_count": 19,
   "metadata": {},
   "outputs": [
    {
     "data": {
      "text/html": [
       "<div>\n",
       "<style scoped>\n",
       "    .dataframe tbody tr th:only-of-type {\n",
       "        vertical-align: middle;\n",
       "    }\n",
       "\n",
       "    .dataframe tbody tr th {\n",
       "        vertical-align: top;\n",
       "    }\n",
       "\n",
       "    .dataframe thead th {\n",
       "        text-align: right;\n",
       "    }\n",
       "</style>\n",
       "<table border=\"1\" class=\"dataframe\">\n",
       "  <thead>\n",
       "    <tr style=\"text-align: right;\">\n",
       "      <th></th>\n",
       "      <th>level_0</th>\n",
       "      <th>index</th>\n",
       "      <th>snp_ID</th>\n",
       "      <th>chr</th>\n",
       "      <th>pos_start</th>\n",
       "      <th>pos_end</th>\n",
       "      <th>GT_1_b</th>\n",
       "      <th>GT_2_b</th>\n",
       "      <th>GT_0_b</th>\n",
       "      <th>GT_1_nb</th>\n",
       "      <th>GT_2_nb</th>\n",
       "      <th>GT_0_nb</th>\n",
       "    </tr>\n",
       "  </thead>\n",
       "  <tbody>\n",
       "    <tr>\n",
       "      <th>0</th>\n",
       "      <td>0</td>\n",
       "      <td>0</td>\n",
       "      <td>8070609</td>\n",
       "      <td>1</td>\n",
       "      <td>565361</td>\n",
       "      <td>565361</td>\n",
       "      <td>1.0</td>\n",
       "      <td>0.0</td>\n",
       "      <td>285.0</td>\n",
       "      <td>0.0</td>\n",
       "      <td>0.0</td>\n",
       "      <td>0.0</td>\n",
       "    </tr>\n",
       "    <tr>\n",
       "      <th>1</th>\n",
       "      <td>1</td>\n",
       "      <td>1</td>\n",
       "      <td>8044916</td>\n",
       "      <td>1</td>\n",
       "      <td>568813</td>\n",
       "      <td>568813</td>\n",
       "      <td>1.0</td>\n",
       "      <td>0.0</td>\n",
       "      <td>285.0</td>\n",
       "      <td>0.0</td>\n",
       "      <td>0.0</td>\n",
       "      <td>0.0</td>\n",
       "    </tr>\n",
       "    <tr>\n",
       "      <th>2</th>\n",
       "      <td>2</td>\n",
       "      <td>2</td>\n",
       "      <td>8443261</td>\n",
       "      <td>1</td>\n",
       "      <td>729983</td>\n",
       "      <td>729983</td>\n",
       "      <td>1.0</td>\n",
       "      <td>0.0</td>\n",
       "      <td>285.0</td>\n",
       "      <td>0.0</td>\n",
       "      <td>0.0</td>\n",
       "      <td>0.0</td>\n",
       "    </tr>\n",
       "  </tbody>\n",
       "</table>\n",
       "</div>"
      ],
      "text/plain": [
       "   level_0  index   snp_ID chr  pos_start  pos_end  GT_1_b  GT_2_b  GT_0_b  \\\n",
       "0        0      0  8070609   1     565361   565361     1.0     0.0   285.0   \n",
       "1        1      1  8044916   1     568813   568813     1.0     0.0   285.0   \n",
       "2        2      2  8443261   1     729983   729983     1.0     0.0   285.0   \n",
       "\n",
       "   GT_1_nb  GT_2_nb  GT_0_nb  \n",
       "0      0.0      0.0      0.0  \n",
       "1      0.0      0.0      0.0  \n",
       "2      0.0      0.0      0.0  "
      ]
     },
     "execution_count": 19,
     "metadata": {},
     "output_type": "execute_result"
    }
   ],
   "source": [
    "# both_GT= both_GT.fillna(0).reset_index()\n",
    "test = both_GT.head(3)\n",
    "test"
   ]
  },
  {
   "cell_type": "code",
   "execution_count": 27,
   "metadata": {},
   "outputs": [
    {
     "name": "stdout",
     "output_type": "stream",
     "text": [
      "[[285.   1.   0.]\n",
      " [  0.   0.   0.]]\n",
      "A 2x3 contingency table with counts:\n",
      "[[285.    1.    0.5]\n",
      " [  0.5   0.5   0.5]]\n",
      "1.4102499348311139e-18\n",
      "[[285.   1.   0.]\n",
      " [  0.   0.   0.]]\n",
      "A 2x3 contingency table with counts:\n",
      "[[285.    1.    0.5]\n",
      " [  0.5   0.5   0.5]]\n",
      "1.4102499348311139e-18\n",
      "[[285.   1.   0.]\n",
      " [  0.   0.   0.]]\n",
      "A 2x3 contingency table with counts:\n",
      "[[285.    1.    0.5]\n",
      " [  0.5   0.5   0.5]]\n",
      "1.4102499348311139e-18\n"
     ]
    }
   ],
   "source": [
    "for index, row in test.iterrows():\n",
    "    # pd.crosstab([a,d], [b, c, ], rownames=['breast', 'nonbreast'], colnames=['0', '1', '2'])\n",
    "    contingency_table = np.array(([row['GT_0_b'], row['GT_1_b'], row['GT_2_b']], [row['GT_0_nb'], row['GT_1_nb'], row['GT_2_nb']]))\n",
    "    print(contingency_table)\n",
    "    table = sm.stats.Table(contingency_table)\n",
    "    print(table)\n",
    "    p_value = table.test_ordinal_association().pvalue\n",
    "    print(p_value)"
   ]
  },
  {
   "cell_type": "code",
   "execution_count": null,
   "metadata": {},
   "outputs": [],
   "source": []
  },
  {
   "cell_type": "code",
   "execution_count": null,
   "metadata": {},
   "outputs": [],
   "source": [
    "# import statsmodels.api as sm\n",
    "# table = sm.stats.Table(contingency_table)\n",
    "# p_value = table.test_ordinal_association().pvalue\n",
    "# contingency table was in dit geval een pandas crosstab\n",
    "# maar kan sws ook met een numpy matrix\n",
    "# https://www.statsmodels.org/stable/contingency_tables.html#independence"
   ]
  },
  {
   "cell_type": "markdown",
   "metadata": {},
   "source": [
    "### non-coding (noncoding_breast, noncoding_nonbreast)"
   ]
  },
  {
   "cell_type": "code",
   "execution_count": null,
   "metadata": {},
   "outputs": [],
   "source": []
  },
  {
   "cell_type": "markdown",
   "metadata": {},
   "source": [
    "### coding (coding_breast, coding_nonbreast)"
   ]
  },
  {
   "cell_type": "code",
   "execution_count": null,
   "metadata": {},
   "outputs": [],
   "source": []
  }
 ],
 "metadata": {
  "interpreter": {
   "hash": "1baa965d5efe3ac65b79dfc60c0d706280b1da80fedb7760faf2759126c4f253"
  },
  "kernelspec": {
   "display_name": "Python [conda env:umap] *",
   "language": "python",
   "name": "python3"
  },
  "language_info": {
   "codemirror_mode": {
    "name": "ipython",
    "version": 3
   },
   "file_extension": ".py",
   "mimetype": "text/x-python",
   "name": "python",
   "nbconvert_exporter": "python",
   "pygments_lexer": "ipython3",
   "version": "3.9.13"
  }
 },
 "nbformat": 4,
 "nbformat_minor": 4
}
