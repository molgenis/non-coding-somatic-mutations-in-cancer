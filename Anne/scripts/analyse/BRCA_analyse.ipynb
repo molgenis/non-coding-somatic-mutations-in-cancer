{
 "cells": [
  {
   "cell_type": "code",
   "execution_count": 2,
   "metadata": {},
   "outputs": [],
   "source": [
    "import pandas as pd"
   ]
  },
  {
   "cell_type": "code",
   "execution_count": 3,
   "metadata": {},
   "outputs": [],
   "source": [
    "path = \"D:/Hanze_Groningen/STAGE/db/all_genes_new - kopie.tsv\"\n",
    "all_regions = \"D:/Hanze_Groningen/STAGE/analyse/new/Region_2000_ALL_both_0_TESTS.tsv\"\n",
    "coding_regions = \"D:/Hanze_Groningen/STAGE/analyse/new/Region_2000_Coding_both_0_TESTS.tsv\"\n",
    "noncoding_regions = \"D:/Hanze_Groningen/STAGE/analyse/new/Region_2000_NonCoding_both_0_TESTS.tsv\"\n",
    "df_genes = pd.read_csv(path, sep='\\t')\n",
    "df_all = pd.read_csv(all_regions, sep='\\t')\n",
    "af_coding = pd.read_csv(coding_regions, sep='\\t')\n",
    "df_noncoding = pd.read_csv(noncoding_regions, sep='\\t')\n",
    "\n",
    "\n",
    "\n"
   ]
  },
  {
   "cell_type": "code",
   "execution_count": 4,
   "metadata": {},
   "outputs": [
    {
     "data": {
      "text/plain": [
       "Index(['#hg19.knownCanonical.chrom', 'hg19.knownCanonical.chromStart',\n",
       "       'hg19.knownCanonical.chromEnd', 'hg19.kgXref.geneSymbol',\n",
       "       'hg19.knownGene.name', 'hg19.knownGene.chrom', 'hg19.knownGene.strand',\n",
       "       'hg19.knownGene.txStart', 'hg19.knownGene.txEnd',\n",
       "       'hg19.knownGene.cdsStart', 'hg19.knownGene.cdsEnd',\n",
       "       'hg19.knownGene.exonCount', 'hg19.knownGene.exonStarts',\n",
       "       'hg19.knownGene.exonEnds'],\n",
       "      dtype='object')"
      ]
     },
     "execution_count": 4,
     "metadata": {},
     "output_type": "execute_result"
    }
   ],
   "source": [
    "df_genes.columns"
   ]
  },
  {
   "cell_type": "code",
   "execution_count": 15,
   "metadata": {},
   "outputs": [
    {
     "data": {
      "text/plain": [
       "{'chr1',\n",
       " 'chr10',\n",
       " 'chr11',\n",
       " 'chr12',\n",
       " 'chr13',\n",
       " 'chr14',\n",
       " 'chr15',\n",
       " 'chr16',\n",
       " 'chr17',\n",
       " 'chr18',\n",
       " 'chr19',\n",
       " 'chr2',\n",
       " 'chr20',\n",
       " 'chr21',\n",
       " 'chr22',\n",
       " 'chr3',\n",
       " 'chr4',\n",
       " 'chr5',\n",
       " 'chr6',\n",
       " 'chr7',\n",
       " 'chr8',\n",
       " 'chr9',\n",
       " 'chrX',\n",
       " 'chrY'}"
      ]
     },
     "execution_count": 15,
     "metadata": {},
     "output_type": "execute_result"
    }
   ],
   "source": [
    "set(df_all['chr'])"
   ]
  },
  {
   "cell_type": "code",
   "execution_count": 5,
   "metadata": {},
   "outputs": [],
   "source": [
    "BRCA1 = df_genes[df_genes['hg19.kgXref.geneSymbol'] == 'BRCA1']\n",
    "BRCA2 = df_genes[df_genes['hg19.kgXref.geneSymbol'] == 'BRCA2']\n"
   ]
  },
  {
   "cell_type": "code",
   "execution_count": 12,
   "metadata": {},
   "outputs": [
    {
     "data": {
      "text/html": [
       "<div>\n",
       "<style scoped>\n",
       "    .dataframe tbody tr th:only-of-type {\n",
       "        vertical-align: middle;\n",
       "    }\n",
       "\n",
       "    .dataframe tbody tr th {\n",
       "        vertical-align: top;\n",
       "    }\n",
       "\n",
       "    .dataframe thead th {\n",
       "        text-align: right;\n",
       "    }\n",
       "</style>\n",
       "<table border=\"1\" class=\"dataframe\">\n",
       "  <thead>\n",
       "    <tr style=\"text-align: right;\">\n",
       "      <th></th>\n",
       "      <th>#hg19.knownCanonical.chrom</th>\n",
       "      <th>hg19.knownCanonical.chromStart</th>\n",
       "      <th>hg19.knownCanonical.chromEnd</th>\n",
       "      <th>hg19.kgXref.geneSymbol</th>\n",
       "      <th>hg19.knownGene.name</th>\n",
       "      <th>hg19.knownGene.chrom</th>\n",
       "      <th>hg19.knownGene.strand</th>\n",
       "      <th>hg19.knownGene.txStart</th>\n",
       "      <th>hg19.knownGene.txEnd</th>\n",
       "      <th>hg19.knownGene.cdsStart</th>\n",
       "      <th>hg19.knownGene.cdsEnd</th>\n",
       "      <th>hg19.knownGene.exonCount</th>\n",
       "      <th>hg19.knownGene.exonStarts</th>\n",
       "      <th>hg19.knownGene.exonEnds</th>\n",
       "    </tr>\n",
       "  </thead>\n",
       "  <tbody>\n",
       "    <tr>\n",
       "      <th>20150</th>\n",
       "      <td>chr13</td>\n",
       "      <td>32889616</td>\n",
       "      <td>32973809</td>\n",
       "      <td>BRCA2</td>\n",
       "      <td>uc001uub.1</td>\n",
       "      <td>chr13</td>\n",
       "      <td>+</td>\n",
       "      <td>32889616</td>\n",
       "      <td>32973809</td>\n",
       "      <td>32890597</td>\n",
       "      <td>32972907</td>\n",
       "      <td>27</td>\n",
       "      <td>32889616,32890558,32893213,32899212,32900237,3...</td>\n",
       "      <td>32889804,32890664,32893462,32899321,32900287,3...</td>\n",
       "    </tr>\n",
       "  </tbody>\n",
       "</table>\n",
       "</div>"
      ],
      "text/plain": [
       "      #hg19.knownCanonical.chrom  hg19.knownCanonical.chromStart  \\\n",
       "20150                      chr13                        32889616   \n",
       "\n",
       "       hg19.knownCanonical.chromEnd hg19.kgXref.geneSymbol  \\\n",
       "20150                      32973809                  BRCA2   \n",
       "\n",
       "      hg19.knownGene.name hg19.knownGene.chrom hg19.knownGene.strand  \\\n",
       "20150          uc001uub.1                chr13                     +   \n",
       "\n",
       "       hg19.knownGene.txStart  hg19.knownGene.txEnd  hg19.knownGene.cdsStart  \\\n",
       "20150                32889616              32973809                 32890597   \n",
       "\n",
       "       hg19.knownGene.cdsEnd  hg19.knownGene.exonCount  \\\n",
       "20150               32972907                        27   \n",
       "\n",
       "                               hg19.knownGene.exonStarts  \\\n",
       "20150  32889616,32890558,32893213,32899212,32900237,3...   \n",
       "\n",
       "                                 hg19.knownGene.exonEnds  \n",
       "20150  32889804,32890664,32893462,32899321,32900287,3...  "
      ]
     },
     "execution_count": 12,
     "metadata": {},
     "output_type": "execute_result"
    }
   ],
   "source": [
    "BRCA2"
   ]
  },
  {
   "cell_type": "code",
   "execution_count": 13,
   "metadata": {},
   "outputs": [
    {
     "data": {
      "text/plain": [
       "'chr13'"
      ]
     },
     "execution_count": 13,
     "metadata": {},
     "output_type": "execute_result"
    }
   ],
   "source": []
  },
  {
   "cell_type": "code",
   "execution_count": 14,
   "metadata": {},
   "outputs": [
    {
     "data": {
      "text/html": [
       "<div>\n",
       "<style scoped>\n",
       "    .dataframe tbody tr th:only-of-type {\n",
       "        vertical-align: middle;\n",
       "    }\n",
       "\n",
       "    .dataframe tbody tr th {\n",
       "        vertical-align: top;\n",
       "    }\n",
       "\n",
       "    .dataframe thead th {\n",
       "        text-align: right;\n",
       "    }\n",
       "</style>\n",
       "<table border=\"1\" class=\"dataframe\">\n",
       "  <thead>\n",
       "    <tr style=\"text-align: right;\">\n",
       "      <th></th>\n",
       "      <th>chr</th>\n",
       "      <th>start_region</th>\n",
       "      <th>stop_region</th>\n",
       "      <th>counts_breast</th>\n",
       "      <th>counts_nonbreast</th>\n",
       "      <th>filter_snps_b</th>\n",
       "      <th>filter_snps_nb</th>\n",
       "      <th>counts_breast_plus</th>\n",
       "      <th>counts_nonbreast_plus</th>\n",
       "      <th>X2</th>\n",
       "      <th>p_value_X2_self</th>\n",
       "      <th>log10_p_value_X2_self</th>\n",
       "      <th>p_value_X2</th>\n",
       "      <th>log2_fc</th>\n",
       "      <th>p_value_F</th>\n",
       "    </tr>\n",
       "  </thead>\n",
       "  <tbody>\n",
       "  </tbody>\n",
       "</table>\n",
       "</div>"
      ],
      "text/plain": [
       "Empty DataFrame\n",
       "Columns: [chr, start_region, stop_region, counts_breast, counts_nonbreast, filter_snps_b, filter_snps_nb, counts_breast_plus, counts_nonbreast_plus, X2, p_value_X2_self, log10_p_value_X2_self, p_value_X2, log2_fc, p_value_F]\n",
       "Index: []"
      ]
     },
     "execution_count": 14,
     "metadata": {},
     "output_type": "execute_result"
    }
   ],
   "source": [
    "df_select = df_all[(df_all['chr'] == BRCA2.iloc[0]['#hg19.knownCanonical.chrom']) & \n",
    "                        ((df_all['start_region'] <= BRCA2.iloc[0]['hg19.knownCanonical.chromStart']) | \n",
    "                        (df_all['stop_region'] >= BRCA2.iloc[0]['hg19.knownCanonical.chromEnd']))]\n",
    "df_select"
   ]
  },
  {
   "cell_type": "code",
   "execution_count": null,
   "metadata": {},
   "outputs": [],
   "source": []
  },
  {
   "cell_type": "code",
   "execution_count": null,
   "metadata": {},
   "outputs": [],
   "source": []
  },
  {
   "cell_type": "code",
   "execution_count": null,
   "metadata": {},
   "outputs": [],
   "source": []
  }
 ],
 "metadata": {
  "interpreter": {
   "hash": "27a76832fa16a0cbc0018490f5cc314f80933dad0881a728e6e5d91bb9f3507a"
  },
  "kernelspec": {
   "display_name": "Python 3.9.0 64-bit",
   "language": "python",
   "name": "python3"
  },
  "language_info": {
   "codemirror_mode": {
    "name": "ipython",
    "version": 3
   },
   "file_extension": ".py",
   "mimetype": "text/x-python",
   "name": "python",
   "nbconvert_exporter": "python",
   "pygments_lexer": "ipython3",
   "version": "3.9.0"
  },
  "orig_nbformat": 4
 },
 "nbformat": 4,
 "nbformat_minor": 2
}
