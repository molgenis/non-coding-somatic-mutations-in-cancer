{
 "cells": [
  {
   "cell_type": "code",
   "execution_count": 1,
   "metadata": {},
   "outputs": [],
   "source": [
    "\n",
    "# # Install a pip package in the current Jupyter kernel\n",
    "# import sys\n",
    "# !{sys.executable} -m pip install statsmodels\n",
    "import pandas as pd\n",
    "from collections import Counter\n",
    "import numpy as np\n",
    "from statsmodels.sandbox.stats.multicomp import multipletests\n"
   ]
  },
  {
   "cell_type": "code",
   "execution_count": 2,
   "metadata": {},
   "outputs": [],
   "source": [
    "path_file = \"D:/Hanze_Groningen/STAGE/analyse/stat/beforeGene_NonCoding_Coding_both_0_TESTS.tsv\"\n",
    "df = pd.read_csv(path_file, sep='\\t')"
   ]
  },
  {
   "cell_type": "code",
   "execution_count": 3,
   "metadata": {},
   "outputs": [],
   "source": [
    "p_value_X2_self = list(df['p_value_X2_self'])\n",
    "p_value_X2 = list(df['p_value_X2'])\n",
    "p_value_F = list(df['p_value_F'])\n",
    "df_select = df[['gene', 'chr', 'start_position_regio', 'end_position_regio', 'counts_breast', 'counts_nonbreast',\n",
    "                'p_value_X2_self', 'p_value_X2', 'p_value_F']]"
   ]
  },
  {
   "cell_type": "code",
   "execution_count": 4,
   "metadata": {},
   "outputs": [
    {
     "name": "stderr",
     "output_type": "stream",
     "text": [
      "C:\\Users\\Anne_\\AppData\\Local\\Temp\\ipykernel_19884\\3978286935.py:5: SettingWithCopyWarning: \n",
      "A value is trying to be set on a copy of a slice from a DataFrame.\n",
      "Try using .loc[row_indexer,col_indexer] = value instead\n",
      "\n",
      "See the caveats in the documentation: https://pandas.pydata.org/pandas-docs/stable/user_guide/indexing.html#returning-a-view-versus-a-copy\n",
      "  df_select['bon_X2_self'] = bon_p_adjusted_value_X2_self\n",
      "C:\\Users\\Anne_\\AppData\\Local\\Temp\\ipykernel_19884\\3978286935.py:6: SettingWithCopyWarning: \n",
      "A value is trying to be set on a copy of a slice from a DataFrame.\n",
      "Try using .loc[row_indexer,col_indexer] = value instead\n",
      "\n",
      "See the caveats in the documentation: https://pandas.pydata.org/pandas-docs/stable/user_guide/indexing.html#returning-a-view-versus-a-copy\n",
      "  df_select['bon_X2'] = bon_p_adjusted_value_X2\n",
      "C:\\Users\\Anne_\\AppData\\Local\\Temp\\ipykernel_19884\\3978286935.py:7: SettingWithCopyWarning: \n",
      "A value is trying to be set on a copy of a slice from a DataFrame.\n",
      "Try using .loc[row_indexer,col_indexer] = value instead\n",
      "\n",
      "See the caveats in the documentation: https://pandas.pydata.org/pandas-docs/stable/user_guide/indexing.html#returning-a-view-versus-a-copy\n",
      "  df_select['bon_F'] = bon_p_adjusted_value_F\n"
     ]
    }
   ],
   "source": [
    "# Create a list of the adjusted p-values --> one-step correction\n",
    "bon_rej_X2_self, bon_p_adjusted_value_X2_self = multipletests(p_value_X2_self, alpha=0.05, method='bonferroni')[:2]\n",
    "bon_rej_X2, bon_p_adjusted_value_X2 = multipletests(p_value_X2, alpha=0.05, method='bonferroni')[:2]\n",
    "bon_rej_F, bon_p_adjusted_value_F = multipletests(p_value_F, alpha=0.05, method='bonferroni')[:2]\n",
    "df_select['bon_X2_self'] = bon_p_adjusted_value_X2_self\n",
    "df_select['bon_X2'] = bon_p_adjusted_value_X2\n",
    "df_select['bon_F'] = bon_p_adjusted_value_F\n"
   ]
  },
  {
   "cell_type": "code",
   "execution_count": 5,
   "metadata": {},
   "outputs": [
    {
     "name": "stderr",
     "output_type": "stream",
     "text": [
      "C:\\Users\\Anne_\\AppData\\Local\\Temp\\ipykernel_19884\\1307992827.py:5: SettingWithCopyWarning: \n",
      "A value is trying to be set on a copy of a slice from a DataFrame.\n",
      "Try using .loc[row_indexer,col_indexer] = value instead\n",
      "\n",
      "See the caveats in the documentation: https://pandas.pydata.org/pandas-docs/stable/user_guide/indexing.html#returning-a-view-versus-a-copy\n",
      "  df_select['bh_X2_self'] = bh_p_adjusted_value_X2_self\n",
      "C:\\Users\\Anne_\\AppData\\Local\\Temp\\ipykernel_19884\\1307992827.py:6: SettingWithCopyWarning: \n",
      "A value is trying to be set on a copy of a slice from a DataFrame.\n",
      "Try using .loc[row_indexer,col_indexer] = value instead\n",
      "\n",
      "See the caveats in the documentation: https://pandas.pydata.org/pandas-docs/stable/user_guide/indexing.html#returning-a-view-versus-a-copy\n",
      "  df_select['bh_X2'] = bh_p_adjusted_value_X2\n",
      "C:\\Users\\Anne_\\AppData\\Local\\Temp\\ipykernel_19884\\1307992827.py:7: SettingWithCopyWarning: \n",
      "A value is trying to be set on a copy of a slice from a DataFrame.\n",
      "Try using .loc[row_indexer,col_indexer] = value instead\n",
      "\n",
      "See the caveats in the documentation: https://pandas.pydata.org/pandas-docs/stable/user_guide/indexing.html#returning-a-view-versus-a-copy\n",
      "  df_select['bh_F'] = bh_p_adjusted_value_F\n"
     ]
    }
   ],
   "source": [
    "# Create a list of the adjusted p-values --> Benjamini/Hochberg  (non-negative)\n",
    "bh_rej_X2_self, bh_p_adjusted_value_X2_self = multipletests(p_value_X2_self, alpha=0.05, method='fdr_bh')[:2]\n",
    "bh_rej_X2, bh_p_adjusted_value_X2 = multipletests(p_value_X2, alpha=0.05, method='fdr_bh')[:2]\n",
    "bh_rej_F, bh_p_adjusted_value_F = multipletests(p_value_F, alpha=0.05, method='fdr_bh')[:2]\n",
    "df_select['bh_X2_self'] = bh_p_adjusted_value_X2_self\n",
    "df_select['bh_X2'] = bh_p_adjusted_value_X2\n",
    "df_select['bh_F'] = bh_p_adjusted_value_F\n",
    "df_select['gene_info'] = df_select['gene'].map(str) + '_' + df_select['chr'].map(str) + '_' + df_select['start_position_regio'].map(str) + '_' + df_select['end_position_regio'].map(str)\n",
    "\n",
    "#??? 'fdr_tsbh' : two stage fdr correction (Benjamini/Hochberg)\n",
    "#`fdr_i`, `fdr_bh` : Benjamini/Hochberg  (non-negative)"
   ]
  },
  {
   "cell_type": "code",
   "execution_count": 6,
   "metadata": {},
   "outputs": [],
   "source": [
    "df_X2_self = df_select[['gene_info', 'p_value_X2_self', 'bon_X2_self', 'bh_X2_self']]\n",
    "df_X2 = df_select[['gene_info','p_value_X2', 'bon_X2', 'bh_X2']]\n",
    "df_F = df_select[['gene_info','p_value_F', 'bon_F', 'bh_F']]\n",
    "\n"
   ]
  },
  {
   "cell_type": "code",
   "execution_count": 7,
   "metadata": {},
   "outputs": [],
   "source": [
    "def get_significant(df, test_type):\n",
    "    print(f'---------{test_type}--------')\n",
    "    normal_p = df[df[f'p_value_{test_type}'] <= 0.05]\n",
    "    sort_normal_p = normal_p.sort_values(f'p_value_{test_type}')\n",
    "    genes_normal = sort_normal_p['gene_info']\n",
    "    print(f'nomal: {len(genes_normal)}')\n",
    "\n",
    "    bon_p = df[df[f'bon_{test_type}'] <= 0.05]\n",
    "    sort_bon = bon_p.sort_values(f'bon_{test_type}')\n",
    "    bon_genes = sort_bon['gene_info']\n",
    "    print(f'bon: {len(bon_genes)}')\n",
    "\n",
    "    bh_p = df[df[f'bh_{test_type}'] <= 0.05]\n",
    "    sort_bh = bh_p.sort_values(f'bh_{test_type}')\n",
    "    bh_genes = sort_bh['gene_info']\n",
    "    print(f'bh: {len(bh_genes)}')\n",
    "\n",
    "\n",
    "    return genes_normal, bon_genes, bh_genes\n",
    "    "
   ]
  },
  {
   "cell_type": "code",
   "execution_count": 8,
   "metadata": {},
   "outputs": [
    {
     "name": "stdout",
     "output_type": "stream",
     "text": [
      "---------X2_self--------\n",
      "nomal: 1537\n",
      "bon: 30\n",
      "bh: 184\n",
      "---------X2--------\n",
      "nomal: 703\n",
      "bon: 15\n",
      "bh: 51\n",
      "---------F--------\n",
      "nomal: 1073\n",
      "bon: 14\n",
      "bh: 31\n"
     ]
    }
   ],
   "source": [
    "X2_self_genes_normal, X2_self_bon_genes, X2_self_bh_genes = get_significant(df_X2_self, 'X2_self')\n",
    "X2_genes_normal, X2_bon_genes, X2_bh_genes = get_significant(df_X2, 'X2')\n",
    "F_genes_normal, F_bon_genes, F_bh_genes = get_significant(df_F, 'F')\n"
   ]
  },
  {
   "cell_type": "code",
   "execution_count": 9,
   "metadata": {},
   "outputs": [],
   "source": [
    "def print_statements(self_X2_df, X2_df, F_df):\n",
    "    print('---ALL')\n",
    "    all_values = set(self_X2_df) | set(X2_df) |  set(F_df)\n",
    "    print(f'All genes ({len(all_values)}): {all_values}')\n",
    "    elements_in_all = list(set.intersection(*map(set, [self_X2_df, X2_df, F_df])))\n",
    "    print(f'Gene in all list ({len(elements_in_all)}): {elements_in_all}\\n')\n",
    "    # selfX2 and X2\n",
    "    print('---selfX2 and X2')\n",
    "    in_selfX2_X2 = set(self_X2_df) & set(X2_df)\n",
    "    print(f'in selfX2 and X2 ({len(in_selfX2_X2)}): {in_selfX2_X2}')\n",
    "    dif_selfX2_X2 = set(self_X2_df) - set(X2_df)\n",
    "    print(f'in selfX2 NOT in X2 ({len(dif_selfX2_X2)}): {dif_selfX2_X2}')\n",
    "    dif_X2_selfX2 = set(X2_df) - set(self_X2_df)\n",
    "    print(f'in X2 NOT in selfx2 ({len(dif_X2_selfX2)}): {dif_X2_selfX2}\\n')\n",
    "    # selfX2 and F\n",
    "    print('---selfX2 and F')\n",
    "    in_selfX2_F = set(self_X2_df) & set(F_df)\n",
    "    print(f'in selfX2 and F ({len(in_selfX2_F)}): {in_selfX2_F}')\n",
    "    dif_selfX2_F = set(self_X2_df) - set(F_df)\n",
    "    print(f'in selfX2 NOT in F ({len(dif_selfX2_F)}): {dif_selfX2_F}')\n",
    "    dif_F_selfX2 = set(F_df) - set(self_X2_df)\n",
    "    print(f'in F NOT in selfX2 ({len(dif_F_selfX2)}): {dif_F_selfX2}\\n')\n",
    "    # F and X2\n",
    "    print('---F and X2')\n",
    "    in_F_X2 = set(F_df) & set(X2_df)\n",
    "    print(f'in F and X2 ({len(in_F_X2)}): {in_F_X2}')\n",
    "    dif_F_X2 = set(F_df) - set(X2_df)\n",
    "    print(f'in F NOT in X2 ({len(dif_F_X2)}): {dif_F_X2}')\n",
    "    dif_X2_F = set(X2_df) - set(F_df)\n",
    "    print(f'in X2 NOT in F ({len(dif_X2_F)}): {dif_X2_F}')\n",
    "\n",
    "    return elements_in_all"
   ]
  },
  {
   "cell_type": "code",
   "execution_count": 10,
   "metadata": {},
   "outputs": [],
   "source": [
    "top_num = 20"
   ]
  },
  {
   "cell_type": "code",
   "execution_count": 11,
   "metadata": {},
   "outputs": [
    {
     "name": "stdout",
     "output_type": "stream",
     "text": [
      "---ALL\n",
      "All genes (32): {'MIR223HG_X_65233302_65235552', 'CNPY4_7_99715264_99717514', 'TM4SF18_3_149034284_149036534', 'MIR190B_1_154164140_154166390', 'TAS2R19_12_11172270_11174520', 'TRBV5-4_7_142166381_142168631', 'MUC12_7_100610903_100613153', 'ATP6V0E2-AS1_7_149562782_149565032', 'GRB7_17_37893023_37895273', 'CCDC144NL-AS1_17_20769745_20771995', 'CTDSP1_2_219261060_219263310', 'LOC642236_9_68425782_68428032', 'ITGB3BP_1_63904440_63906690', 'ACR_22_51174651_51176901', 'APLP1_19_36357400_36359650', 'OR4C45_11_48364899_48367149', 'MIR5695_6_126431836_126434086', 'ERAL1_17_27180042_27182292', 'TRNA_Cys_7_149251801_149254051', 'YY1_14_100703101_100705351', 'APEX2_X_55024755_55027005', 'TRNA_Tyr_7_149253132_149255382', 'SNORA51_8_60047930_60050180', 'SMARCA1_X_128578477_128580727', 'HINT3_6_126275860_126278110', 'FANK1_10_127583107_127585357', 'AC136932.1_16_33959676_33961926', 'MUC3A_7_100548749_100550999', 'RP4-806M20.5_20_57327405_57329655', 'BV6S4-BJ2S2_7_142460183_142462433', 'OR8U8_11_56141099_56143349', 'TRBV10-1_7_142229577_142231827'}\n",
      "Gene in all list (11): ['MIR5695_6_126431836_126434086', 'TRNA_Cys_7_149251801_149254051', 'CNPY4_7_99715264_99717514', 'TRNA_Tyr_7_149253132_149255382', 'CTDSP1_2_219261060_219263310', 'MUC3A_7_100548749_100550999', 'HINT3_6_126275860_126278110', 'FANK1_10_127583107_127585357', 'ACR_22_51174651_51176901', 'AC136932.1_16_33959676_33961926', 'RP4-806M20.5_20_57327405_57329655']\n",
      "\n",
      "---selfX2 and X2\n",
      "in selfX2 and X2 (17): {'ATP6V0E2-AS1_7_149562782_149565032', 'MIR5695_6_126431836_126434086', 'ERAL1_17_27180042_27182292', 'TRNA_Cys_7_149251801_149254051', 'YY1_14_100703101_100705351', 'CNPY4_7_99715264_99717514', 'CTDSP1_2_219261060_219263310', 'TRNA_Tyr_7_149253132_149255382', 'SNORA51_8_60047930_60050180', 'SMARCA1_X_128578477_128580727', 'MIR190B_1_154164140_154166390', 'HINT3_6_126275860_126278110', 'FANK1_10_127583107_127585357', 'ACR_22_51174651_51176901', 'AC136932.1_16_33959676_33961926', 'MUC3A_7_100548749_100550999', 'RP4-806M20.5_20_57327405_57329655'}\n",
      "in selfX2 NOT in X2 (3): {'MIR223HG_X_65233302_65235552', 'ITGB3BP_1_63904440_63906690', 'GRB7_17_37893023_37895273'}\n",
      "in X2 NOT in selfx2 (3): {'TM4SF18_3_149034284_149036534', 'APEX2_X_55024755_55027005', 'APLP1_19_36357400_36359650'}\n",
      "\n",
      "---selfX2 and F\n",
      "in selfX2 and F (11): {'MIR5695_6_126431836_126434086', 'TRNA_Cys_7_149251801_149254051', 'CNPY4_7_99715264_99717514', 'CTDSP1_2_219261060_219263310', 'TRNA_Tyr_7_149253132_149255382', 'MUC3A_7_100548749_100550999', 'HINT3_6_126275860_126278110', 'FANK1_10_127583107_127585357', 'ACR_22_51174651_51176901', 'AC136932.1_16_33959676_33961926', 'RP4-806M20.5_20_57327405_57329655'}\n",
      "in selfX2 NOT in F (9): {'ATP6V0E2-AS1_7_149562782_149565032', 'ERAL1_17_27180042_27182292', 'GRB7_17_37893023_37895273', 'YY1_14_100703101_100705351', 'MIR223HG_X_65233302_65235552', 'SMARCA1_X_128578477_128580727', 'SNORA51_8_60047930_60050180', 'MIR190B_1_154164140_154166390', 'ITGB3BP_1_63904440_63906690'}\n",
      "in F NOT in selfX2 (9): {'MUC12_7_100610903_100613153', 'OR4C45_11_48364899_48367149', 'CCDC144NL-AS1_17_20769745_20771995', 'BV6S4-BJ2S2_7_142460183_142462433', 'LOC642236_9_68425782_68428032', 'OR8U8_11_56141099_56143349', 'TAS2R19_12_11172270_11174520', 'TRBV5-4_7_142166381_142168631', 'TRBV10-1_7_142229577_142231827'}\n",
      "\n",
      "---F and X2\n",
      "in F and X2 (11): {'MIR5695_6_126431836_126434086', 'TRNA_Cys_7_149251801_149254051', 'CNPY4_7_99715264_99717514', 'CTDSP1_2_219261060_219263310', 'TRNA_Tyr_7_149253132_149255382', 'HINT3_6_126275860_126278110', 'FANK1_10_127583107_127585357', 'ACR_22_51174651_51176901', 'AC136932.1_16_33959676_33961926', 'MUC3A_7_100548749_100550999', 'RP4-806M20.5_20_57327405_57329655'}\n",
      "in F NOT in X2 (9): {'MUC12_7_100610903_100613153', 'OR4C45_11_48364899_48367149', 'CCDC144NL-AS1_17_20769745_20771995', 'BV6S4-BJ2S2_7_142460183_142462433', 'LOC642236_9_68425782_68428032', 'OR8U8_11_56141099_56143349', 'TAS2R19_12_11172270_11174520', 'TRBV5-4_7_142166381_142168631', 'TRBV10-1_7_142229577_142231827'}\n",
      "in X2 NOT in F (9): {'ERAL1_17_27180042_27182292', 'ATP6V0E2-AS1_7_149562782_149565032', 'YY1_14_100703101_100705351', 'APEX2_X_55024755_55027005', 'SMARCA1_X_128578477_128580727', 'SNORA51_8_60047930_60050180', 'TM4SF18_3_149034284_149036534', 'MIR190B_1_154164140_154166390', 'APLP1_19_36357400_36359650'}\n"
     ]
    }
   ],
   "source": [
    "elements_in_all_normal = print_statements(X2_self_genes_normal[:top_num], X2_genes_normal[:top_num], F_genes_normal[:top_num])\n"
   ]
  },
  {
   "cell_type": "code",
   "execution_count": 12,
   "metadata": {},
   "outputs": [
    {
     "name": "stdout",
     "output_type": "stream",
     "text": [
      "---ALL\n",
      "All genes (25): {'OR4C45_11_48364899_48367149', 'MIR5695_6_126431836_126434086', 'ERAL1_17_27180042_27182292', 'TRNA_Cys_7_149251801_149254051', 'MIR223HG_X_65233302_65235552', 'CNPY4_7_99715264_99717514', 'YY1_14_100703101_100705351', 'TRNA_Tyr_7_149253132_149255382', 'SNORA51_8_60047930_60050180', 'SMARCA1_X_128578477_128580727', 'MIR190B_1_154164140_154166390', 'HINT3_6_126275860_126278110', 'TAS2R19_12_11172270_11174520', 'FANK1_10_127583107_127585357', 'AC136932.1_16_33959676_33961926', 'MUC3A_7_100548749_100550999', 'RP4-806M20.5_20_57327405_57329655', 'MUC12_7_100610903_100613153', 'ATP6V0E2-AS1_7_149562782_149565032', 'GRB7_17_37893023_37895273', 'GPR137C_14_53017865_53020115', 'CTDSP1_2_219261060_219263310', 'BV6S4-BJ2S2_7_142460183_142462433', 'LOC642236_9_68425782_68428032', 'ACR_22_51174651_51176901'}\n",
      "Gene in all list (9): ['MIR5695_6_126431836_126434086', 'TRNA_Cys_7_149251801_149254051', 'CTDSP1_2_219261060_219263310', 'TRNA_Tyr_7_149253132_149255382', 'MUC3A_7_100548749_100550999', 'HINT3_6_126275860_126278110', 'FANK1_10_127583107_127585357', 'AC136932.1_16_33959676_33961926', 'RP4-806M20.5_20_57327405_57329655']\n",
      "\n",
      "---selfX2 and X2\n",
      "in selfX2 and X2 (15): {'MIR5695_6_126431836_126434086', 'ATP6V0E2-AS1_7_149562782_149565032', 'TRNA_Cys_7_149251801_149254051', 'YY1_14_100703101_100705351', 'CNPY4_7_99715264_99717514', 'CTDSP1_2_219261060_219263310', 'TRNA_Tyr_7_149253132_149255382', 'SNORA51_8_60047930_60050180', 'MIR190B_1_154164140_154166390', 'HINT3_6_126275860_126278110', 'FANK1_10_127583107_127585357', 'ACR_22_51174651_51176901', 'AC136932.1_16_33959676_33961926', 'MUC3A_7_100548749_100550999', 'RP4-806M20.5_20_57327405_57329655'}\n",
      "in selfX2 NOT in X2 (5): {'ERAL1_17_27180042_27182292', 'GRB7_17_37893023_37895273', 'GPR137C_14_53017865_53020115', 'MIR223HG_X_65233302_65235552', 'SMARCA1_X_128578477_128580727'}\n",
      "in X2 NOT in selfx2 (0): set()\n",
      "\n",
      "---selfX2 and F\n",
      "in selfX2 and F (9): {'MIR5695_6_126431836_126434086', 'TRNA_Cys_7_149251801_149254051', 'CTDSP1_2_219261060_219263310', 'TRNA_Tyr_7_149253132_149255382', 'MUC3A_7_100548749_100550999', 'HINT3_6_126275860_126278110', 'FANK1_10_127583107_127585357', 'AC136932.1_16_33959676_33961926', 'RP4-806M20.5_20_57327405_57329655'}\n",
      "in selfX2 NOT in F (11): {'ATP6V0E2-AS1_7_149562782_149565032', 'ERAL1_17_27180042_27182292', 'GRB7_17_37893023_37895273', 'GPR137C_14_53017865_53020115', 'MIR223HG_X_65233302_65235552', 'CNPY4_7_99715264_99717514', 'YY1_14_100703101_100705351', 'SMARCA1_X_128578477_128580727', 'SNORA51_8_60047930_60050180', 'MIR190B_1_154164140_154166390', 'ACR_22_51174651_51176901'}\n",
      "in F NOT in selfX2 (5): {'MUC12_7_100610903_100613153', 'OR4C45_11_48364899_48367149', 'BV6S4-BJ2S2_7_142460183_142462433', 'LOC642236_9_68425782_68428032', 'TAS2R19_12_11172270_11174520'}\n",
      "\n",
      "---F and X2\n",
      "in F and X2 (9): {'MIR5695_6_126431836_126434086', 'TRNA_Cys_7_149251801_149254051', 'CTDSP1_2_219261060_219263310', 'TRNA_Tyr_7_149253132_149255382', 'MUC3A_7_100548749_100550999', 'HINT3_6_126275860_126278110', 'FANK1_10_127583107_127585357', 'AC136932.1_16_33959676_33961926', 'RP4-806M20.5_20_57327405_57329655'}\n",
      "in F NOT in X2 (5): {'MUC12_7_100610903_100613153', 'OR4C45_11_48364899_48367149', 'BV6S4-BJ2S2_7_142460183_142462433', 'LOC642236_9_68425782_68428032', 'TAS2R19_12_11172270_11174520'}\n",
      "in X2 NOT in F (6): {'ATP6V0E2-AS1_7_149562782_149565032', 'YY1_14_100703101_100705351', 'CNPY4_7_99715264_99717514', 'SNORA51_8_60047930_60050180', 'MIR190B_1_154164140_154166390', 'ACR_22_51174651_51176901'}\n"
     ]
    }
   ],
   "source": [
    "elements_in_all_bon = print_statements(X2_self_bon_genes[:top_num], X2_bon_genes[:top_num], F_bon_genes[:top_num])\n"
   ]
  },
  {
   "cell_type": "code",
   "execution_count": 13,
   "metadata": {},
   "outputs": [
    {
     "name": "stdout",
     "output_type": "stream",
     "text": [
      "---ALL\n",
      "All genes (33): {'MIR223HG_X_65233302_65235552', 'CNPY4_7_99715264_99717514', 'RNU7-171P_9_131304194_131306444', 'MIR190B_1_154164140_154166390', 'TAS2R19_12_11172270_11174520', 'TRBV5-4_7_142166381_142168631', 'MUC12_7_100610903_100613153', 'ATP6V0E2-AS1_7_149562782_149565032', 'GRB7_17_37893023_37895273', 'GPR137C_14_53017865_53020115', 'CCDC144NL-AS1_17_20769745_20771995', 'CTDSP1_2_219261060_219263310', 'LOC642236_9_68425782_68428032', 'DYNLT3_X_37696088_37698338', 'ACR_22_51174651_51176901', 'APLP1_19_36357400_36359650', 'OR4C45_11_48364899_48367149', 'MIR5695_6_126431836_126434086', 'ERAL1_17_27180042_27182292', 'TRNA_Cys_7_149251801_149254051', 'YY1_14_100703101_100705351', 'APEX2_X_55024755_55027005', 'TRNA_Tyr_7_149253132_149255382', 'SNORA51_8_60047930_60050180', 'SMARCA1_X_128578477_128580727', 'HINT3_6_126275860_126278110', 'FANK1_10_127583107_127585357', 'AC136932.1_16_33959676_33961926', 'MUC3A_7_100548749_100550999', 'RP4-806M20.5_20_57327405_57329655', 'BV6S4-BJ2S2_7_142460183_142462433', 'OR8U8_11_56141099_56143349', 'TRBV10-1_7_142229577_142231827'}\n",
      "Gene in all list (11): ['MIR5695_6_126431836_126434086', 'TRNA_Cys_7_149251801_149254051', 'CNPY4_7_99715264_99717514', 'TRNA_Tyr_7_149253132_149255382', 'CTDSP1_2_219261060_219263310', 'MUC3A_7_100548749_100550999', 'HINT3_6_126275860_126278110', 'FANK1_10_127583107_127585357', 'ACR_22_51174651_51176901', 'AC136932.1_16_33959676_33961926', 'RP4-806M20.5_20_57327405_57329655']\n",
      "\n",
      "---selfX2 and X2\n",
      "in selfX2 and X2 (16): {'ATP6V0E2-AS1_7_149562782_149565032', 'MIR5695_6_126431836_126434086', 'ERAL1_17_27180042_27182292', 'TRNA_Cys_7_149251801_149254051', 'YY1_14_100703101_100705351', 'CNPY4_7_99715264_99717514', 'CTDSP1_2_219261060_219263310', 'TRNA_Tyr_7_149253132_149255382', 'SNORA51_8_60047930_60050180', 'MIR190B_1_154164140_154166390', 'HINT3_6_126275860_126278110', 'FANK1_10_127583107_127585357', 'ACR_22_51174651_51176901', 'AC136932.1_16_33959676_33961926', 'MUC3A_7_100548749_100550999', 'RP4-806M20.5_20_57327405_57329655'}\n",
      "in selfX2 NOT in X2 (4): {'GPR137C_14_53017865_53020115', 'MIR223HG_X_65233302_65235552', 'RNU7-171P_9_131304194_131306444', 'GRB7_17_37893023_37895273'}\n",
      "in X2 NOT in selfx2 (4): {'APEX2_X_55024755_55027005', 'SMARCA1_X_128578477_128580727', 'APLP1_19_36357400_36359650', 'DYNLT3_X_37696088_37698338'}\n",
      "\n",
      "---selfX2 and F\n",
      "in selfX2 and F (11): {'MIR5695_6_126431836_126434086', 'TRNA_Cys_7_149251801_149254051', 'CNPY4_7_99715264_99717514', 'CTDSP1_2_219261060_219263310', 'TRNA_Tyr_7_149253132_149255382', 'MUC3A_7_100548749_100550999', 'HINT3_6_126275860_126278110', 'FANK1_10_127583107_127585357', 'ACR_22_51174651_51176901', 'AC136932.1_16_33959676_33961926', 'RP4-806M20.5_20_57327405_57329655'}\n",
      "in selfX2 NOT in F (9): {'ATP6V0E2-AS1_7_149562782_149565032', 'ERAL1_17_27180042_27182292', 'GRB7_17_37893023_37895273', 'GPR137C_14_53017865_53020115', 'MIR223HG_X_65233302_65235552', 'YY1_14_100703101_100705351', 'RNU7-171P_9_131304194_131306444', 'SNORA51_8_60047930_60050180', 'MIR190B_1_154164140_154166390'}\n",
      "in F NOT in selfX2 (9): {'MUC12_7_100610903_100613153', 'OR4C45_11_48364899_48367149', 'CCDC144NL-AS1_17_20769745_20771995', 'BV6S4-BJ2S2_7_142460183_142462433', 'LOC642236_9_68425782_68428032', 'OR8U8_11_56141099_56143349', 'TAS2R19_12_11172270_11174520', 'TRBV5-4_7_142166381_142168631', 'TRBV10-1_7_142229577_142231827'}\n",
      "\n",
      "---F and X2\n",
      "in F and X2 (11): {'MIR5695_6_126431836_126434086', 'TRNA_Cys_7_149251801_149254051', 'CNPY4_7_99715264_99717514', 'CTDSP1_2_219261060_219263310', 'TRNA_Tyr_7_149253132_149255382', 'HINT3_6_126275860_126278110', 'FANK1_10_127583107_127585357', 'ACR_22_51174651_51176901', 'AC136932.1_16_33959676_33961926', 'MUC3A_7_100548749_100550999', 'RP4-806M20.5_20_57327405_57329655'}\n",
      "in F NOT in X2 (9): {'MUC12_7_100610903_100613153', 'OR4C45_11_48364899_48367149', 'CCDC144NL-AS1_17_20769745_20771995', 'BV6S4-BJ2S2_7_142460183_142462433', 'LOC642236_9_68425782_68428032', 'OR8U8_11_56141099_56143349', 'TAS2R19_12_11172270_11174520', 'TRBV5-4_7_142166381_142168631', 'TRBV10-1_7_142229577_142231827'}\n",
      "in X2 NOT in F (9): {'ERAL1_17_27180042_27182292', 'ATP6V0E2-AS1_7_149562782_149565032', 'YY1_14_100703101_100705351', 'APEX2_X_55024755_55027005', 'SMARCA1_X_128578477_128580727', 'SNORA51_8_60047930_60050180', 'MIR190B_1_154164140_154166390', 'DYNLT3_X_37696088_37698338', 'APLP1_19_36357400_36359650'}\n"
     ]
    }
   ],
   "source": [
    "elements_in_all_bh = print_statements(X2_self_bh_genes[:top_num], X2_bh_genes[:top_num], F_bh_genes[:top_num])\n"
   ]
  },
  {
   "cell_type": "code",
   "execution_count": 14,
   "metadata": {},
   "outputs": [],
   "source": [
    "path_search_snp = \"D:/Hanze_Groningen/STAGE/analyse/stat/ALL_gene_before_2000_250.tsv\"\n",
    "snps_search = pd.read_csv(path_search_snp, sep='\\t')\n",
    "snps_search['gene_info'] = snps_search['gene'].map(str) + '_' + snps_search['chr'].map(str) + '_' + snps_search['start_position_regio'].map(str) + '_' + snps_search['end_position_regio'].map(str)"
   ]
  },
  {
   "cell_type": "code",
   "execution_count": 15,
   "metadata": {},
   "outputs": [],
   "source": [
    "snps_normal_df = snps_search[snps_search['gene_info'].isin(elements_in_all_normal)]\n",
    "snps_bon_df = snps_search[snps_search['gene_info'].isin(elements_in_all_bon)]\n",
    "snps_bh_df = snps_search[snps_search['gene_info'].isin(elements_in_all_bh)]\n"
   ]
  },
  {
   "cell_type": "code",
   "execution_count": 16,
   "metadata": {},
   "outputs": [
    {
     "data": {
      "text/plain": [
       "Index(['filter', 'gene', 'chr', 'start_position_regio', 'end_position_regio',\n",
       "       '#snp_unique', 'snp_list', '#donors_all', 'donor_count', 'cancer_count',\n",
       "       'gene_info'],\n",
       "      dtype='object')"
      ]
     },
     "execution_count": 16,
     "metadata": {},
     "output_type": "execute_result"
    }
   ],
   "source": [
    "snps_bh_df.columns"
   ]
  },
  {
   "cell_type": "code",
   "execution_count": 24,
   "metadata": {},
   "outputs": [
    {
     "name": "stdout",
     "output_type": "stream",
     "text": [
      "534\n",
      "510\n",
      "534\n"
     ]
    }
   ],
   "source": [
    "significant_snps_normal = set(','.join(list(snps_normal_df['snp_list'])).split(','))\n",
    "significant_snps_bon = set(','.join(list(snps_bon_df['snp_list'])).split(','))\n",
    "significant_snps_bh = set(','.join(list(snps_bh_df['snp_list'])).split(','))\n",
    "print(len(significant_snps_normal))\n",
    "print(len(significant_snps_bon))\n",
    "print(len(significant_snps_bh))"
   ]
  },
  {
   "cell_type": "code",
   "execution_count": null,
   "metadata": {},
   "outputs": [],
   "source": []
  }
 ],
 "metadata": {
  "interpreter": {
   "hash": "a53b025198f004f449cb90af97b7ad63f2d7fc17772f3863d2f67664171bd77f"
  },
  "kernelspec": {
   "display_name": "Python [conda env:umap] *",
   "language": "python",
   "name": "python3"
  },
  "language_info": {
   "codemirror_mode": {
    "name": "ipython",
    "version": 3
   },
   "file_extension": ".py",
   "mimetype": "text/x-python",
   "name": "python",
   "nbconvert_exporter": "python",
   "pygments_lexer": "ipython3",
   "version": "3.9.13"
  }
 },
 "nbformat": 4,
 "nbformat_minor": 4
}
