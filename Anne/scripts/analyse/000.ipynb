{
 "cells": [
  {
   "cell_type": "code",
   "execution_count": 47,
   "metadata": {},
   "outputs": [],
   "source": [
    "import sys\n",
    "import pandas as pd\n",
    "import numpy as np\n",
    "import math\n",
    "import csv"
   ]
  },
  {
   "cell_type": "code",
   "execution_count": 31,
   "metadata": {},
   "outputs": [],
   "source": [
    "pathg_snps_filtering = \"D:/Hanze_Groningen/STAGE/snps_after_filtering_unique.tsv\"\n",
    "snp_filtering_df = pd.read_csv(pathg_snps_filtering, sep='\\t')\n",
    "list_of_snps_filtering = list(snp_filtering_df['snp_IDs_uni'])\n"
   ]
  },
  {
   "cell_type": "code",
   "execution_count": 68,
   "metadata": {},
   "outputs": [
    {
     "name": "stdout",
     "output_type": "stream",
     "text": [
      "GT_ALL_ALL_sig_snps.tsv\n",
      "persnp_ALL_ALL_sig_snps.tsv\n",
      "persnp_ALL_breast_sig_snps.tsv\n",
      "beforeGene_NonCoding_Coding_breast_sig_snps.tsv\n",
      "beforeGene_NonCoding_Coding_nonbreast_sig_snps.tsv\n",
      "DNase_NonCoding2_ALL_sig_snps.tsv\n",
      "DNase_NonCoding2_breast_sig_snps.tsv\n",
      "DNase_NonCoding2_nonbreast_sig_snps.tsv\n",
      "TFBS_NonCoding2_ALL_sig_snps.tsv\n",
      "TFBS_NonCoding2_breast_sig_snps.tsv\n",
      "TFBS_NonCoding2_nonbreast_sig_snps.tsv\n",
      "UCNE_NonCoding2_ALL_sig_snps.tsv\n",
      "UCNE_NonCoding2_breast_sig_snps.tsv\n",
      "UCNE_NonCoding2_nonbreast_sig_snps.tsv\n",
      "afterGene_NonCoding_Coding_ALL_sig_snps.tsv\n",
      "afterGene_NonCoding_Coding_breast_sig_snps.tsv\n",
      "afterGene_NonCoding_Coding_nonbreast_sig_snps.tsv\n",
      "beforeGene_NonCoding_Coding_ALL_sig_snps.tsv\n"
     ]
    }
   ],
   "source": [
    "# import required module\n",
    "import os\n",
    "# assign directory\n",
    "directory = 'E:/analyse/new/correction/snps/all/'\n",
    "\n",
    "all_dict = dict()\n",
    "breast_dict = dict()\n",
    "nonbreast_dict = dict()\n",
    "# iterate over files in\n",
    "# that directory\n",
    "for filename in os.listdir(directory):\n",
    "    print(filename)\n",
    "    type_layer = filename.split('_')[0]\n",
    "    f = os.path.join(directory, filename)\n",
    "    df = pd.read_csv(f, sep='\\t', header=None)\n",
    "    snps_sig = df.iloc[1,1]\n",
    "    if len(snps_sig) > 1:\n",
    "        list_snps = snps_sig.split(',')\n",
    "        if '-' in list_snps:\n",
    "            list_snps.remove('-')\n",
    "        list_snps = list(map(int, list_snps))\n",
    "        overlap_snps = list(set(list_of_snps_filtering) & set(list_snps))\n",
    "        if '_ALL_sig_snps' in filename:\n",
    "            all_dict[type_layer] = list_snps\n",
    "        elif '_breast_sig_snps' in filename:\n",
    "            breast_dict[type_layer] = list_snps\n",
    "        elif '_nonbreast_sig_snps' in filename:\n",
    "            nonbreast_dict[type_layer] = list_snps\n",
    "        else:\n",
    "            print(f'ERROR: {filename}')    "
   ]
  },
  {
   "cell_type": "code",
   "execution_count": 69,
   "metadata": {},
   "outputs": [],
   "source": [
    "# for dict_fill in [all_dict, breast_dict, nonbreast_dict]:\n",
    "for key, value in all_dict.items():\n",
    "    path_new_file = f\"E:/analyse/new/correction/snps/all_list/ALL_{key}.tsv\"\n",
    "    snp_DF = pd.DataFrame(columns=[f'snp_IDs_{key}']) \n",
    "    snp_DF[f'snp_IDs_{key}'] = value\n",
    "    snp_DF.to_csv(path_new_file, sep='\\t', encoding='utf-8', index=False) \n",
    "\n",
    "for key, value in breast_dict.items():\n",
    "    path_new_file = f\"E:/analyse/new/correction/snps/all_list/breast_{key}.tsv\"\n",
    "    snp_DF = pd.DataFrame(columns=[f'snp_IDs_{key}']) \n",
    "    snp_DF[f'snp_IDs_{key}'] = value\n",
    "    snp_DF.to_csv(path_new_file, sep='\\t', encoding='utf-8', index=False)\n",
    "\n",
    "for key, value in nonbreast_dict.items():\n",
    "    path_new_file = f\"E:/analyse/new/correction/snps/all_list/nonbreast_{key}.tsv\"\n",
    "    snp_DF = pd.DataFrame(columns=[f'snp_IDs_{key}']) \n",
    "    snp_DF[f'snp_IDs_{key}'] = value\n",
    "    snp_DF.to_csv(path_new_file, sep='\\t', encoding='utf-8', index=False)"
   ]
  },
  {
   "cell_type": "code",
   "execution_count": null,
   "metadata": {},
   "outputs": [],
   "source": []
  },
  {
   "cell_type": "code",
   "execution_count": null,
   "metadata": {},
   "outputs": [],
   "source": []
  },
  {
   "cell_type": "code",
   "execution_count": null,
   "metadata": {},
   "outputs": [],
   "source": []
  }
 ],
 "metadata": {
  "interpreter": {
   "hash": "f28f19b999524353c4abcfa992f0bafa68d70976f2f9c0e2850c8c19288eb419"
  },
  "kernelspec": {
   "display_name": "Python 3.9.13 64-bit (windows store)",
   "language": "python",
   "name": "python3"
  },
  "language_info": {
   "codemirror_mode": {
    "name": "ipython",
    "version": 3
   },
   "file_extension": ".py",
   "mimetype": "text/x-python",
   "name": "python",
   "nbconvert_exporter": "python",
   "pygments_lexer": "ipython3",
   "version": "3.9.13"
  }
 },
 "nbformat": 4,
 "nbformat_minor": 4
}
