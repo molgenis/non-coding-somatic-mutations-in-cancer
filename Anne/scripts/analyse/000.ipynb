{
 "cells": [
  {
   "cell_type": "code",
   "execution_count": 47,
   "metadata": {},
   "outputs": [],
   "source": [
    "import sys\n",
    "import pandas as pd\n",
    "import numpy as np\n",
    "import math"
   ]
  },
  {
   "cell_type": "code",
   "execution_count": 31,
   "metadata": {},
   "outputs": [],
   "source": [
    "pathg_snps_filtering = \"D:/Hanze_Groningen/STAGE/snps_after_filtering_unique.tsv\"\n",
    "snp_filtering_df = pd.read_csv(pathg_snps_filtering, sep='\\t')\n",
    "list_of_snps_filtering = list(snp_filtering_df['snp_IDs_uni'])\n"
   ]
  },
  {
   "cell_type": "code",
   "execution_count": 50,
   "metadata": {},
   "outputs": [
    {
     "name": "stdout",
     "output_type": "stream",
     "text": [
      "GT_ALL_ALL_sig_snps.tsv\n",
      "              0                                                  1\n",
      "0   snps_normal  1636458,4813871,19085,7775372,4099621,5615229,...\n",
      "1      snps_bon  1636458,4813871,19085,7775372,4099621,5615229,...\n",
      "2       snps_bh                                    1636458,4813871\n",
      "3  snps_all_MTC                                    1636458,4813871\n",
      "1636\n",
      "persnp_ALL_nonbreast_sig_snps.tsv\n",
      "              0                                                  1  \\\n",
      "0   snps_normal  19427844,10148102,9061064,9285480,146671,89319...   \n",
      "1      snps_bon                                                NaN   \n",
      "2       snps_bh                                                NaN   \n",
      "3  snps_all_MTC                                                NaN   \n",
      "\n",
      "                                                   2  \n",
      "0  {'12_25398284_25398284_0.0_nb': [4125813, 5366...  \n",
      "1                                                 {}  \n",
      "2                                                 {}  \n",
      "3                                                 {}  \n"
     ]
    },
    {
     "ename": "TypeError",
     "evalue": "'float' object is not subscriptable",
     "output_type": "error",
     "traceback": [
      "\u001b[1;31m---------------------------------------------------------------------------\u001b[0m",
      "\u001b[1;31mTypeError\u001b[0m                                 Traceback (most recent call last)",
      "\u001b[1;32md:\\Hanze_Groningen\\STAGE\\00git\\non-coding-somatic-mutations-in-cancer\\Anne\\scripts\\analyse\\000.ipynb Cell 3'\u001b[0m in \u001b[0;36m<cell line: 11>\u001b[1;34m()\u001b[0m\n\u001b[0;32m     <a href='vscode-notebook-cell:/d%3A/Hanze_Groningen/STAGE/00git/non-coding-somatic-mutations-in-cancer/Anne/scripts/analyse/000.ipynb#ch0000073?line=15'>16</a>\u001b[0m \u001b[39mprint\u001b[39m(df)\n\u001b[0;32m     <a href='vscode-notebook-cell:/d%3A/Hanze_Groningen/STAGE/00git/non-coding-somatic-mutations-in-cancer/Anne/scripts/analyse/000.ipynb#ch0000073?line=16'>17</a>\u001b[0m snps_sig \u001b[39m=\u001b[39m df\u001b[39m.\u001b[39miloc[\u001b[39m1\u001b[39m,\u001b[39m1\u001b[39m]\n\u001b[1;32m---> <a href='vscode-notebook-cell:/d%3A/Hanze_Groningen/STAGE/00git/non-coding-somatic-mutations-in-cancer/Anne/scripts/analyse/000.ipynb#ch0000073?line=17'>18</a>\u001b[0m \u001b[39mprint\u001b[39m(snps_sig[:\u001b[39m4\u001b[39;49m])\n\u001b[0;32m     <a href='vscode-notebook-cell:/d%3A/Hanze_Groningen/STAGE/00git/non-coding-somatic-mutations-in-cancer/Anne/scripts/analyse/000.ipynb#ch0000073?line=18'>19</a>\u001b[0m \u001b[39mif\u001b[39;00m \u001b[39mlen\u001b[39m(snps_sig) \u001b[39m>\u001b[39m \u001b[39m1\u001b[39m:\n\u001b[0;32m     <a href='vscode-notebook-cell:/d%3A/Hanze_Groningen/STAGE/00git/non-coding-somatic-mutations-in-cancer/Anne/scripts/analyse/000.ipynb#ch0000073?line=19'>20</a>\u001b[0m     list_snps \u001b[39m=\u001b[39m \u001b[39mlist\u001b[39m(\u001b[39mmap\u001b[39m(\u001b[39mint\u001b[39m, snps_sig\u001b[39m.\u001b[39msplit(\u001b[39m'\u001b[39m\u001b[39m,\u001b[39m\u001b[39m'\u001b[39m)))\n",
      "\u001b[1;31mTypeError\u001b[0m: 'float' object is not subscriptable"
     ]
    }
   ],
   "source": [
    "# import required module\n",
    "import os\n",
    "# assign directory\n",
    "directory = 'E:/analyse/new/correction/snps/all/'\n",
    "\n",
    "all_dict = dict()\n",
    "breast_dict = dict()\n",
    "nonbreast_dict = dict()\n",
    "# iterate over files in\n",
    "# that directory\n",
    "for filename in os.listdir(directory):\n",
    "    type_layer = filename.split('_')[0]\n",
    "    f = os.path.join(directory, filename)\n",
    "    df = pd.read_csv(f, sep='\\t', header=None)\n",
    "    print(filename)\n",
    "    # print(df)\n",
    "    snps_sig = df.iloc[1,1]\n",
    "    print(snps_sig[:4])\n",
    "    if len(snps_sig) > 1:\n",
    "        list_snps = list(map(int, snps_sig.split(',')))\n",
    "        overlap_snps = list(set(list_of_snps_filtering) & set(list_snps))\n",
    "        if '_ALL_sig_snps' in filename:\n",
    "            all_dict[type_layer] = list_snps\n",
    "        elif '_breast_sig_snps' in filename:\n",
    "            breast_dict[type_layer] = list_snps\n",
    "        elif '_nonbreast_sig_snps' in filename:\n",
    "            nonbreast_dict[type_layer] = list_snps\n",
    "        else:\n",
    "            print(f'ERROR: {filename}')\n",
    "\n",
    "print(all_dict['TFBS'][:10])\n",
    "print(breast_dict['TFBS'][:10])   \n",
    "print(nonbreast_dict['TFBS'][:10])\n",
    "\n",
    "    "
   ]
  },
  {
   "cell_type": "code",
   "execution_count": null,
   "metadata": {},
   "outputs": [],
   "source": []
  },
  {
   "cell_type": "code",
   "execution_count": null,
   "metadata": {},
   "outputs": [],
   "source": []
  },
  {
   "cell_type": "code",
   "execution_count": null,
   "metadata": {},
   "outputs": [],
   "source": []
  }
 ],
 "metadata": {
  "interpreter": {
   "hash": "f28f19b999524353c4abcfa992f0bafa68d70976f2f9c0e2850c8c19288eb419"
  },
  "kernelspec": {
   "display_name": "Python 3.9.13 64-bit (windows store)",
   "language": "python",
   "name": "python3"
  },
  "language_info": {
   "codemirror_mode": {
    "name": "ipython",
    "version": 3
   },
   "file_extension": ".py",
   "mimetype": "text/x-python",
   "name": "python",
   "nbconvert_exporter": "python",
   "pygments_lexer": "ipython3",
   "version": "3.9.13"
  }
 },
 "nbformat": 4,
 "nbformat_minor": 4
}
