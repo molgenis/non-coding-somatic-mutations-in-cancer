{
 "cells": [
  {
   "cell_type": "markdown",
   "metadata": {
    "heading_collapsed": true
   },
   "source": [
    "# Imports"
   ]
  },
  {
   "cell_type": "code",
   "execution_count": 1,
   "metadata": {
    "hidden": true
   },
   "outputs": [],
   "source": [
    "import sys\n",
    "sys.path.append('/groups/umcg-wijmenga/tmp01/projects/lude_vici_2021/rawdata/non-coding-somatic-mutations-in-cancer/Anne/scripts/')\n",
    "from Database import Database\n",
    "# import multiprocessing as mp\n",
    "import pandas as pd\n",
    "from collections import Counter\n",
    "import matplotlib.pyplot as plt\n",
    "import seaborn as sns\n",
    "import numpy as np\n",
    "from scipy.stats.distributions import chi2\n",
    "from bioinfokit import analys, visuz\n",
    "from scipy.stats import fisher_exact\n",
    "import time\n",
    "from scipy.special import factorial\n",
    "import scipy.stats as stats\n",
    "from scipy.stats import mannwhitneyu\n",
    "\n",
    "\n",
    "\n",
    "from fisher import pvalue_npy\n",
    "from scipy.stats import chi2_contingency\n",
    "from scipy.stats import uniform, randint"
   ]
  },
  {
   "cell_type": "markdown",
   "metadata": {
    "heading_collapsed": true
   },
   "source": [
    "# Get Data"
   ]
  },
  {
   "cell_type": "code",
   "execution_count": null,
   "metadata": {
    "hidden": true
   },
   "outputs": [],
   "source": [
    "# path_db = 'D:/Hanze_Groningen/STAGE/lastdb/db_laatste_copy.db' #'D:/Hanze_Groningen/STAGE/DATAB/copydatabase_C.db'\n",
    "# # Database connection\n",
    "# db = Database(path_db)\n",
    "# df_whole = pd.read_sql('''SELECT project.cancer, sum_dosage_GT.donor_project_ID, \n",
    "#                             sum_dosage_GT.donor_ID, sum_dosage_GT.snp_ID, sum_dosage_GT.GT2,\n",
    "#                             snp.chr, snp.pos_start, snp.pos_end, snp.ref, snp.alt,\n",
    "#                             snp.UCNE, snp.TFBS, snp.DNase, \n",
    "#                             snp.in_transcript, snp.in_coding, snp.in_exon,\n",
    "#                             snp.before_gene, snp.after_gene, \n",
    "#                             snp.ID_eQTL, snp.eQTL, snp.close_eQTL_3000\n",
    "#                     FROM project, sum_dosage_GT, snp \n",
    "#                     WHERE sum_dosage_GT.snp_ID=snp.ID AND \n",
    "#                               sum_dosage_GT.donor_project_ID = project.ID AND \n",
    "#                               (sum_dosage_GT.GT2 = 1 OR sum_dosage_GT.GT2 = 2) AND \n",
    "#                               sum_dosage_GT.total_read_count_sum >= 33;''', db.mydb_connection)\n",
    "# db.close()\n",
    "# df_whole.to_csv(\"D:/Hanze_Groningen/STAGE/lastdb/df_whole.tsv\", sep='\\t', encoding='utf-8', index=False)\n",
    "# df_whole"
   ]
  },
  {
   "cell_type": "code",
   "execution_count": null,
   "metadata": {
    "hidden": true
   },
   "outputs": [],
   "source": [
    "# df_whole['snp'] = df_whole['chr'].map(str) + '_' + df_whole['pos_start'].map(str) + '_' + df_whole['pos_end'].map(str)\n",
    "# df_whole.to_csv(\"D:/Hanze_Groningen/STAGE/lastdb/df_whole_SNP.tsv\", sep='\\t', encoding='utf-8', index=False)\n",
    "# df_whole"
   ]
  },
  {
   "cell_type": "code",
   "execution_count": null,
   "metadata": {
    "hidden": true
   },
   "outputs": [],
   "source": [
    "df_whole = pd.read_csv(\"D:/Hanze_Groningen/STAGE/lastdb/df_whole.tsv\", sep='\\t')\n",
    "# df_whole = pd.read_csv(\"D:/Hanze_Groningen/STAGE/lastdb/df_whole_SNP.tsv\", sep='\\t')\n",
    "df_whole"
   ]
  },
  {
   "cell_type": "markdown",
   "metadata": {},
   "source": [
    "# Filter data"
   ]
  },
  {
   "cell_type": "code",
   "execution_count": null,
   "metadata": {},
   "outputs": [],
   "source": [
    "# Delete MT chromosoom\n",
    "df_whole = df_whole.loc[df_whole['chr'] != 'MT']\n",
    "print(set(df_whole['chr']))"
   ]
  },
  {
   "cell_type": "code",
   "execution_count": null,
   "metadata": {},
   "outputs": [],
   "source": [
    "df_whole.dtypes"
   ]
  },
  {
   "cell_type": "markdown",
   "metadata": {},
   "source": [
    "### non-coding, coding"
   ]
  },
  {
   "cell_type": "code",
   "execution_count": null,
   "metadata": {},
   "outputs": [],
   "source": [
    "# #0=false\n",
    "# noncoding_df = df_whole.loc[(df_whole['in_transcript'] == 0) & (df_whole['in_coding'] == 0) & (df_whole['in_exon'] == 0)]\n",
    "# noncoding_df.to_csv(\"D:/Hanze_Groningen/STAGE/lastdb/noncoding_df.tsv\", sep='\\t', encoding='utf-8', index=False)\n",
    "# noncoding_df"
   ]
  },
  {
   "cell_type": "code",
   "execution_count": null,
   "metadata": {},
   "outputs": [],
   "source": [
    "# coding_df = df_whole.loc[(df_whole['in_transcript'] == 1) | (df_whole['in_coding'] == 1) | (df_whole['in_exon'] == 1)]\n",
    "# coding_df.to_csv(\"D:/Hanze_Groningen/STAGE/lastdb/coding_df.tsv\", sep='\\t', encoding='utf-8', index=False)\n",
    "# coding_df"
   ]
  },
  {
   "cell_type": "code",
   "execution_count": 2,
   "metadata": {},
   "outputs": [
    {
     "name": "stderr",
     "output_type": "stream",
     "text": [
      "C:\\Users\\Anne_\\AppData\\Local\\Packages\\PythonSoftwareFoundation.Python.3.9_qbz5n2kfra8p0\\LocalCache\\local-packages\\Python39\\site-packages\\IPython\\core\\interactiveshell.py:3397: DtypeWarning: Columns (5,18) have mixed types.Specify dtype option on import or set low_memory=False.\n",
      "  exec(code_obj, self.user_global_ns, self.user_ns)\n",
      "C:\\Users\\Anne_\\AppData\\Local\\Packages\\PythonSoftwareFoundation.Python.3.9_qbz5n2kfra8p0\\LocalCache\\local-packages\\Python39\\site-packages\\IPython\\core\\interactiveshell.py:3397: DtypeWarning: Columns (18) have mixed types.Specify dtype option on import or set low_memory=False.\n",
      "  exec(code_obj, self.user_global_ns, self.user_ns)\n"
     ]
    }
   ],
   "source": [
    "noncoding_df = pd.read_csv(\"D:/Hanze_Groningen/STAGE/lastdb/noncoding_df.tsv\", sep='\\t')\n",
    "coding_df = pd.read_csv(\"D:/Hanze_Groningen/STAGE/lastdb/coding_df.tsv\", sep='\\t')"
   ]
  },
  {
   "cell_type": "markdown",
   "metadata": {},
   "source": [
    "### breast, nonbreast"
   ]
  },
  {
   "cell_type": "code",
   "execution_count": null,
   "metadata": {},
   "outputs": [],
   "source": [
    "all_breast =  df_whole.loc[df_whole['cancer'] == 'Breast']\n",
    "all_breast.to_csv(\"D:/Hanze_Groningen/STAGE/lastdb/all_breast.tsv\", sep='\\t', encoding='utf-8', index=False)\n",
    "\n",
    "noncoding_breast = noncoding_df.loc[noncoding_df['cancer'] == 'Breast']\n",
    "noncoding_breast.to_csv(\"D:/Hanze_Groningen/STAGE/lastdb/noncoding_breast.tsv\", sep='\\t', encoding='utf-8', index=False)\n",
    "\n",
    "coding_breast = coding_df.loc[coding_df['cancer'] == 'Breast']\n",
    "coding_breast.to_csv(\"D:/Hanze_Groningen/STAGE/lastdb/coding_breast.tsv\", sep='\\t', encoding='utf-8', index=False)\n"
   ]
  },
  {
   "cell_type": "code",
   "execution_count": null,
   "metadata": {},
   "outputs": [],
   "source": [
    "all_nonbreast = df_whole.loc[df_whole['cancer'] != 'Breast']\n",
    "all_nonbreast.to_csv(\"D:/Hanze_Groningen/STAGE/lastdb/all_nonbreast.tsv\", sep='\\t', encoding='utf-8', index=False)\n",
    "\n",
    "noncoding_nonbreast = noncoding_df.loc[noncoding_df['cancer'] != 'Breast']\n",
    "noncoding_nonbreast.to_csv(\"D:/Hanze_Groningen/STAGE/lastdb/noncoding_nonbreast.tsv\", sep='\\t', encoding='utf-8', index=False)\n",
    "\n",
    "coding_nonbreast = coding_df.loc[coding_df['cancer'] != 'Breast']\n",
    "coding_nonbreast.to_csv(\"D:/Hanze_Groningen/STAGE/lastdb/coding_nonbreast.tsv\", sep='\\t', encoding='utf-8', index=False)"
   ]
  },
  {
   "cell_type": "code",
   "execution_count": 3,
   "metadata": {},
   "outputs": [],
   "source": [
    "all_breast = pd.read_csv(\"D:/Hanze_Groningen/STAGE/lastdb/all_breast.tsv\", sep='\\t')\n",
    "noncoding_breast = pd.read_csv(\"D:/Hanze_Groningen/STAGE/lastdb/noncoding_breast.tsv\", sep='\\t')\n",
    "coding_breast = pd.read_csv(\"D:/Hanze_Groningen/STAGE/lastdb/coding_breast.tsv\", sep='\\t')\n",
    "\n",
    "all_nonbreast = pd.read_csv(\"D:/Hanze_Groningen/STAGE/lastdb/all_nonbreast.tsv\", sep='\\t')\n",
    "noncoding_nonbreast = pd.read_csv(\"D:/Hanze_Groningen/STAGE/lastdb/noncoding_nonbreast.tsv\", sep='\\t')\n",
    "coding_nonbreast = pd.read_csv(\"D:/Hanze_Groningen/STAGE/lastdb/coding_nonbreast.tsv\", sep='\\t')"
   ]
  },
  {
   "cell_type": "code",
   "execution_count": null,
   "metadata": {},
   "outputs": [],
   "source": []
  },
  {
   "cell_type": "markdown",
   "metadata": {},
   "source": [
    "# Testen"
   ]
  },
  {
   "cell_type": "code",
   "execution_count": 4,
   "metadata": {},
   "outputs": [],
   "source": [
    "def chi_square_self(df, colname_b, colname_nb, num_donor_b, num_donor_nb):\n",
    "    df['counts_breast_plus'] = df[colname_b] + (1/num_donor_b)\n",
    "    print(set(df['counts_breast_plus']))\n",
    "    df['counts_nonbreast_plus'] = df[colname_nb] + (1/num_donor_nb)\n",
    "    print(set(df['counts_nonbreast_plus']))\n",
    "    n = np.array([num_donor_b, num_donor_nb])\n",
    "    print(n)\n",
    "    S = df[['counts_breast_plus', 'counts_nonbreast_plus']].to_numpy()\n",
    "    f = n / n.sum()\n",
    "    E1 = S.sum(axis=1)[:,None]*f\n",
    "    C = (n-S)\n",
    "    print(set(C[0]))\n",
    "    print(set(C[1]))\n",
    "    E2 = C.sum(axis=1)[:,None]*f\n",
    "    D1 = ((E1-S)**2/E1).sum(axis=1)\n",
    "    D2 = ((E2-C)/E2).sum(axis=1)\n",
    "    X2 = D1 + D2\n",
    "    #\n",
    "    p_value_X2 = chi2.sf(X2,1)\n",
    "    #\n",
    "    log10_p_value = -np.log10(p_value_X2)\n",
    "    log10_p_value\n",
    "    #\n",
    "    df['X2'] = X2\n",
    "    df['p_value_X2_self'] = p_value_X2\n",
    "    df['log10_p_value_X2_self'] = log10_p_value\n",
    "    #\n",
    "    S_C = np.concatenate((S, C), axis=1)\n",
    "    return df, S_C, n, S, C    "
   ]
  },
  {
   "cell_type": "code",
   "execution_count": 5,
   "metadata": {},
   "outputs": [],
   "source": [
    "def chi_square(S_C, df):\n",
    "    start_time = time.perf_counter()\n",
    "\n",
    "    p_value_X2_TEST = list()\n",
    "    for index, value in enumerate(S_C):\n",
    "        table = np.array([[value[0], value[2]], [value[1], value[3]]])\n",
    "        stat, p, dof, expected = chi2_contingency(table)\n",
    "        p_value_X2_TEST.append(p)\n",
    "        if (index%1000000) == 0:\n",
    "            print(len(p_value_X2_TEST))\n",
    "    print(len(p_value_X2_TEST))\n",
    "\n",
    "    print(\"--- %s seconds ---\" % (time.perf_counter() - start_time))\n",
    "    df['p_value_X2'] = p_value_X2_TEST\n",
    "    return df\n",
    "    "
   ]
  },
  {
   "cell_type": "code",
   "execution_count": 6,
   "metadata": {},
   "outputs": [],
   "source": [
    "def log2_fc(df, n, S):\n",
    "    constant = np.log(n[0]) - np.log(n[1])\n",
    "    log2_fc = (np.log(S[:, 0]) - np.log(S[:, 1]) - constant) / np.log(2)\n",
    "    df['log2_fc'] = log2_fc # log2(FC)\n",
    "    return df"
   ]
  },
  {
   "cell_type": "code",
   "execution_count": 7,
   "metadata": {},
   "outputs": [],
   "source": [
    "def fisher_test(S_C, df):\n",
    "    start_time = time.perf_counter()\n",
    "\n",
    "    p_value_F = list()\n",
    "    for index, value in enumerate(S_C):\n",
    "        table = np.array([[value[0], value[2]], [value[1], value[3]]])\n",
    "        oddsr, p = fisher_exact(table, alternative='two-sided')\n",
    "        p_value_F.append(p)\n",
    "        if (index%1000000) == 0:\n",
    "            print(len(p_value_F))\n",
    "    print(len(p_value_F))\n",
    "\n",
    "    print(\"--- %s seconds ---\" % (time.perf_counter() - start_time))\n",
    "    df['p_value_F'] = p_value_F\n",
    "    return df"
   ]
  },
  {
   "cell_type": "code",
   "execution_count": 8,
   "metadata": {},
   "outputs": [],
   "source": [
    "def shapiro_test(df, column_name, column_name_filter):\n",
    "    \"\"\"\n",
    "    As the p value obtained from the Shapiro-Wilk test is significant (p < 0.05), \n",
    "    we conclude that the data is not normally distributed. Further, in histogram data \n",
    "    distribution shape does not look normal. Therefore, Mann-Whitney U test is more appropriate for analyzing two samples.\n",
    "    \"\"\"\n",
    "    w, pvalue = stats.shapiro(df[column_name])\n",
    "    print(f'w:{w}, pvalue:{pvalue}')\n",
    "    # plot histogram\n",
    "    fig, (ax1, ax2) = plt.subplots(1, 2)\n",
    "    fig.suptitle('Frequency histogram')\n",
    "    ax1.hist(df[column_name_filter], bins=df[column_name].max(), histtype='bar', ec='k') \n",
    "    ax2.hist(df[column_name], bins=df[column_name].max(), histtype='bar', ec='k') \n",
    "    plt.show()"
   ]
  },
  {
   "cell_type": "code",
   "execution_count": 9,
   "metadata": {},
   "outputs": [],
   "source": [
    "def mannwhitney(df, column_breast, column_nonbreast):\n",
    "    \"\"\"\n",
    "    Mann-Whitney U test interpretation: As the p value obtained from the Mann-Whitney U test \n",
    "    is significant (U = 489.5, p < 0.05), we conclude that the yield of the two genotypes \n",
    "    significantly different from each other .\n",
    "    \"\"\"\n",
    "    # U1, p = mannwhitneyu(list(breast['filter_snps']), list(nonbreast['filter_snps']), alternative = 'two-sided')\n",
    "    print(mannwhitneyu(list(df[column_breast]), list(df[column_nonbreast]), alternative = 'two-sided'))\n"
   ]
  },
  {
   "cell_type": "code",
   "execution_count": 10,
   "metadata": {},
   "outputs": [],
   "source": [
    "def volcano_plot(df, p_value_column):\n",
    "    plt = visuz.GeneExpression.volcano(df=df,lfc='log2_fc',pv=p_value_column,show=True)\n",
    "    "
   ]
  },
  {
   "cell_type": "code",
   "execution_count": 11,
   "metadata": {},
   "outputs": [],
   "source": [
    "def all_test(df, num_donor_b, num_donor_nb, type_df, type_analyse):\n",
    "    print('\\nboxplot')\n",
    "    df.boxplot(column=['counts_breast'], grid=False)\n",
    "    df.boxplot(column=['counts_nonbreast'], grid=False)\n",
    "    \n",
    "    print('\\nfilter columns (divide by max)')\n",
    "    df['filter_snps_b'] = df['counts_breast']/ num_donor_b\n",
    "    df['filter_snps_nb'] = df['counts_nonbreast']/ num_donor_nb\n",
    "    \n",
    "    print('\\nshapiro_test')\n",
    "    shapiro_test(df, 'counts_breast', 'filter_snps_b')\n",
    "    shapiro_test(df, 'counts_nonbreast', 'filter_snps_nb')\n",
    "    \n",
    "    print('\\nmannwhitney')\n",
    "    mannwhitney(df, 'filter_snps_b', 'filter_snps_nb')\n",
    "    \n",
    "    print('\\ntests')\n",
    "    df, S_C, n, S, C = chi_square_self(df, 'counts_breast', 'counts_nonbreast', num_donor_b, num_donor_nb)\n",
    "    df = chi_square(S_C, df)\n",
    "    df = log2_fc(df, n, S)\n",
    "    df = fisher_test(S_C, df)\n",
    "    df = log2_fc(df, n, S)\n",
    "    df.to_csv(f\"D:/Hanze_Groningen/STAGE/lastdb/{type_analyse}_{type_df}_both_0_TESTS.tsv\", sep='\\t', encoding='utf-8', index=False)\n",
    "    \n",
    "    print('\\nvolcano_plot')\n",
    "    volcano_plot(sort_snp_count_all_both_0, 'p_value_X2_self')\n",
    "    volcano_plot(sort_snp_count_all_both_0, 'p_value_X2')\n",
    "    volcano_plot(sort_snp_count_all_both_0, 'p_value_F')\n",
    "    \n",
    "    return df"
   ]
  },
  {
   "cell_type": "markdown",
   "metadata": {},
   "source": [
    "# per SNP"
   ]
  },
  {
   "cell_type": "markdown",
   "metadata": {},
   "source": [
    "### TEST"
   ]
  },
  {
   "cell_type": "code",
   "execution_count": 12,
   "metadata": {},
   "outputs": [],
   "source": [
    "def make_snp_df(df, type_df, type_c):\n",
    "    print('----------')\n",
    "    df['snp'] = df['chr'].map(str) + '_' + df['pos_start'].map(str) + '_' + df['pos_end'].map(str)\n",
    "    print(len(list(set(df['donor_ID']))))\n",
    "    num_donor = len(list(set(df['donor_ID'])))\n",
    "\n",
    "    df_dict = dict(Counter(list(df['snp'])))\n",
    "    \n",
    "    snp_count_df = pd.DataFrame([df_dict.keys(), df_dict.values()]).T\n",
    "    snp_count_df.columns= ['snp', 'counts']\n",
    "    max_df = snp_count_df['counts'].max()\n",
    "    print(snp_count_df['counts'].max())\n",
    "\n",
    "    snp_count_df[['chr', 'pos_start', 'pos_end']] = snp_count_df['snp'].str.split('_', expand=True)\n",
    "\n",
    "    snp_count_df.drop('snp', axis=1, inplace=True)\n",
    "\n",
    "    sort_snp_count_df = snp_count_df.sort_values('counts', ascending=False)\n",
    "\n",
    "    sort_snp_count_df.rename(columns={'counts': f'counts_{type_c}'}, inplace=True)\n",
    "    \n",
    "    df_R = sort_snp_count_df.reset_index().drop([f'counts_{type_c}', 'index'], 1)\n",
    "    df_R['chr'] ='chr' + df_R['chr'].astype(str)\n",
    "    df_R.to_csv(f\"D:/Hanze_Groningen/STAGE/lastdb/R/{type_df}_{type_c}.tsv\", sep='\\t', encoding='utf-8', header=None)\n",
    "    return num_donor, sort_snp_count_df"
   ]
  },
  {
   "cell_type": "code",
   "execution_count": null,
   "metadata": {},
   "outputs": [],
   "source": [
    "# df_whole -- # noncoding_df # coding_df -- # all_breast # noncoding_breast # coding_breast --\n",
    "# all_nonbreast # noncoding_nonbreast # coding_nonbreast"
   ]
  },
  {
   "cell_type": "code",
   "execution_count": 14,
   "metadata": {},
   "outputs": [],
   "source": [
    "def run_snp_tests(df_breast, df_nonbreast, type_df, type_analyse):\n",
    "    print('\\nset snps')\n",
    "    num_donor_b, sort_snp_count_breast = make_snp_df(df_breast, type_df, 'breast')\n",
    "    num_donor_nb, sort_snp_count_nonbreast = make_snp_df(df_nonbreast, type_df, 'nonbreast')\n",
    "    \n",
    "    print('\\nmerge dfs')\n",
    "    sort_snp_count_both = sort_snp_count_breast.merge(sort_snp_count_nonbreast, on=['chr', 'pos_start', 'pos_end'], how='outer')\n",
    "    sort_snp_count_both_0 = sort_snp_count_both.fillna(0)\n",
    "    sort_snp_count_both_0.to_csv(f\"D:/Hanze_Groningen/STAGE/lastdb/{type_analyse}_{type_df}_both_0.tsv\", sep='\\t', encoding='utf-8', index=False)\n",
    "    \n",
    "    sort_snp_count_both_0 = all_test(sort_snp_count_both_0, num_donor_b, num_donor_nb, type_df, type_analyse)\n",
    "#     print('\\nboxplot')\n",
    "#     sort_snp_count_both_0.boxplot(column=['counts_breast'], grid=False)\n",
    "#     sort_snp_count_both_0.boxplot(column=['counts_nonbreast'], grid=False)\n",
    "    \n",
    "#     print('\\nfilter columns (divide by max)')\n",
    "#     sort_snp_count_both_0['filter_snps_b'] = sort_snp_count_both_0['counts_breast']/ num_donor_b\n",
    "#     sort_snp_count_both_0['filter_snps_nb'] = sort_snp_count_both_0['counts_nonbreast']/ num_donor_nb\n",
    "    \n",
    "#     print('\\nshapiro_test')\n",
    "#     shapiro_test(sort_snp_count_both_0, 'counts_breast', 'filter_snps_b')\n",
    "#     shapiro_test(sort_snp_count_both_0, 'counts_nonbreast', 'filter_snps_nb')\n",
    "    \n",
    "#     print('\\nmannwhitney')\n",
    "#     mannwhitney(sort_snp_count_both_0, 'filter_snps_b', 'filter_snps_nb')\n",
    "    \n",
    "#     print('\\ntests')\n",
    "#     sort_snp_count_both_0, S_C, n, S, C = chi_square_self(sort_snp_count_both_0, 'counts_breast', 'counts_nonbreast', num_donor_b, num_donor_nb)\n",
    "#     sort_snp_count_both_0 = chi_square(S_C, sort_snp_count_both_0)\n",
    "#     sort_snp_count_both_0 = log2_fc(sort_snp_count_both_0, n, S)\n",
    "#     sort_snp_count_both_0 = fisher_test(S_C, sort_snp_count_both_0)\n",
    "#     sort_snp_count_both_0 = log2_fc(sort_snp_count_both_0, n, S)\n",
    "#     sort_snp_count_both_0.to_csv(f\"D:/Hanze_Groningen/STAGE/lastdb/sort_snp_count_{type_df}_both_0_TESTS.tsv\", sep='\\t', encoding='utf-8', index=False)\n",
    "    \n",
    "#     print('\\nvolcano_plot')\n",
    "#     volcano_plot(sort_snp_count_all_both_0, 'p_value_X2_self')\n",
    "#     volcano_plot(sort_snp_count_all_both_0, 'p_value_X2')\n",
    "#     volcano_plot(sort_snp_count_all_both_0, 'p_value_F')\n",
    "    \n",
    "    return sort_snp_count_both_0, num_donor_b, num_donor_nb"
   ]
  },
  {
   "cell_type": "markdown",
   "metadata": {},
   "source": [
    "### ALL (all_breast, all_nonbreast)"
   ]
  },
  {
   "cell_type": "code",
   "execution_count": null,
   "metadata": {},
   "outputs": [],
   "source": [
    "# sort_snp_count_all_both_0, all_num_donor_b, all_num_donor_nb = run_snp_tests(all_breast, all_nonbreast, 'ALL', 'snp')"
   ]
  },
  {
   "cell_type": "code",
   "execution_count": 13,
   "metadata": {},
   "outputs": [
    {
     "name": "stdout",
     "output_type": "stream",
     "text": [
      "----------\n",
      "286\n",
      "32\n",
      "----------\n",
      "1952\n",
      "41\n"
     ]
    }
   ],
   "source": [
    "num_donor_b, sort_snp_count_all_breast = make_snp_df(all_breast, 'All', 'breast')\n",
    "num_donor_nb, sort_snp_count_all_nonbreast = make_snp_df(all_nonbreast, 'All', 'nonbreast')"
   ]
  },
  {
   "cell_type": "code",
   "execution_count": 14,
   "metadata": {},
   "outputs": [
    {
     "data": {
      "text/html": [
       "<div>\n",
       "<style scoped>\n",
       "    .dataframe tbody tr th:only-of-type {\n",
       "        vertical-align: middle;\n",
       "    }\n",
       "\n",
       "    .dataframe tbody tr th {\n",
       "        vertical-align: top;\n",
       "    }\n",
       "\n",
       "    .dataframe thead th {\n",
       "        text-align: right;\n",
       "    }\n",
       "</style>\n",
       "<table border=\"1\" class=\"dataframe\">\n",
       "  <thead>\n",
       "    <tr style=\"text-align: right;\">\n",
       "      <th></th>\n",
       "      <th>counts_breast</th>\n",
       "      <th>chr</th>\n",
       "      <th>pos_start</th>\n",
       "      <th>pos_end</th>\n",
       "      <th>counts_nonbreast</th>\n",
       "    </tr>\n",
       "  </thead>\n",
       "  <tbody>\n",
       "    <tr>\n",
       "      <th>0</th>\n",
       "      <td>32</td>\n",
       "      <td>3</td>\n",
       "      <td>178952085</td>\n",
       "      <td>178952085</td>\n",
       "      <td>11</td>\n",
       "    </tr>\n",
       "    <tr>\n",
       "      <th>1</th>\n",
       "      <td>10</td>\n",
       "      <td>3</td>\n",
       "      <td>178936091</td>\n",
       "      <td>178936091</td>\n",
       "      <td>8</td>\n",
       "    </tr>\n",
       "    <tr>\n",
       "      <th>2</th>\n",
       "      <td>7</td>\n",
       "      <td>10</td>\n",
       "      <td>8111433</td>\n",
       "      <td>8111434</td>\n",
       "      <td>0</td>\n",
       "    </tr>\n",
       "    <tr>\n",
       "      <th>3</th>\n",
       "      <td>5</td>\n",
       "      <td>6</td>\n",
       "      <td>142706206</td>\n",
       "      <td>142706206</td>\n",
       "      <td>0</td>\n",
       "    </tr>\n",
       "    <tr>\n",
       "      <th>4</th>\n",
       "      <td>5</td>\n",
       "      <td>2</td>\n",
       "      <td>198266834</td>\n",
       "      <td>198266834</td>\n",
       "      <td>1</td>\n",
       "    </tr>\n",
       "    <tr>\n",
       "      <th>...</th>\n",
       "      <td>...</td>\n",
       "      <td>...</td>\n",
       "      <td>...</td>\n",
       "      <td>...</td>\n",
       "      <td>...</td>\n",
       "    </tr>\n",
       "    <tr>\n",
       "      <th>8329741</th>\n",
       "      <td>0</td>\n",
       "      <td>18</td>\n",
       "      <td>28580490</td>\n",
       "      <td>28580490</td>\n",
       "      <td>1</td>\n",
       "    </tr>\n",
       "    <tr>\n",
       "      <th>8329742</th>\n",
       "      <td>0</td>\n",
       "      <td>7</td>\n",
       "      <td>62067254</td>\n",
       "      <td>62067254</td>\n",
       "      <td>1</td>\n",
       "    </tr>\n",
       "    <tr>\n",
       "      <th>8329743</th>\n",
       "      <td>0</td>\n",
       "      <td>7</td>\n",
       "      <td>62056082</td>\n",
       "      <td>62056082</td>\n",
       "      <td>1</td>\n",
       "    </tr>\n",
       "    <tr>\n",
       "      <th>8329744</th>\n",
       "      <td>0</td>\n",
       "      <td>7</td>\n",
       "      <td>62053372</td>\n",
       "      <td>62053372</td>\n",
       "      <td>1</td>\n",
       "    </tr>\n",
       "    <tr>\n",
       "      <th>8329745</th>\n",
       "      <td>0</td>\n",
       "      <td>6</td>\n",
       "      <td>111587418</td>\n",
       "      <td>111587418</td>\n",
       "      <td>1</td>\n",
       "    </tr>\n",
       "  </tbody>\n",
       "</table>\n",
       "<p>8329746 rows × 5 columns</p>\n",
       "</div>"
      ],
      "text/plain": [
       "         counts_breast chr  pos_start    pos_end  counts_nonbreast\n",
       "0                   32   3  178952085  178952085                11\n",
       "1                   10   3  178936091  178936091                 8\n",
       "2                    7  10    8111433    8111434                 0\n",
       "3                    5   6  142706206  142706206                 0\n",
       "4                    5   2  198266834  198266834                 1\n",
       "...                ...  ..        ...        ...               ...\n",
       "8329741              0  18   28580490   28580490                 1\n",
       "8329742              0   7   62067254   62067254                 1\n",
       "8329743              0   7   62056082   62056082                 1\n",
       "8329744              0   7   62053372   62053372                 1\n",
       "8329745              0   6  111587418  111587418                 1\n",
       "\n",
       "[8329746 rows x 5 columns]"
      ]
     },
     "execution_count": 14,
     "metadata": {},
     "output_type": "execute_result"
    }
   ],
   "source": [
    "sort_snp_count_all_both = sort_snp_count_all_breast.merge(sort_snp_count_all_nonbreast, on=['chr', 'pos_start', 'pos_end'], how='outer')\n",
    "sort_snp_count_all_both_0 = sort_snp_count_all_both.fillna(0)\n",
    "sort_snp_count_all_both_0.to_csv(f\"D:/Hanze_Groningen/STAGE/lastdb/sort_snp_count_all_both_0.tsv\", sep='\\t', encoding='utf-8', index=False)\n",
    "sort_snp_count_all_both_0"
   ]
  },
  {
   "cell_type": "code",
   "execution_count": 15,
   "metadata": {},
   "outputs": [
    {
     "data": {
      "text/plain": [
       "<AxesSubplot:>"
      ]
     },
     "execution_count": 15,
     "metadata": {},
     "output_type": "execute_result"
    },
    {
     "data": {
      "image/png": "[encoded data removed]",
      "text/plain": [
       "<Figure size 432x288 with 1 Axes>"
      ]
     },
     "metadata": {
      "needs_background": "light"
     },
     "output_type": "display_data"
    }
   ],
   "source": [
    "sort_snp_count_all_both_0.boxplot(column=['counts_breast'], grid=False)"
   ]
  },
  {
   "cell_type": "code",
   "execution_count": 16,
   "metadata": {},
   "outputs": [
    {
     "data": {
      "text/plain": [
       "<AxesSubplot:>"
      ]
     },
     "execution_count": 16,
     "metadata": {},
     "output_type": "execute_result"
    },
    {
     "data": {
      "image/png": "[encoded data removed]",
      "text/plain": [
       "<Figure size 432x288 with 1 Axes>"
      ]
     },
     "metadata": {
      "needs_background": "light"
     },
     "output_type": "display_data"
    }
   ],
   "source": [
    "sort_snp_count_all_both_0.boxplot(column=['counts_nonbreast'], grid=False)"
   ]
  },
  {
   "cell_type": "code",
   "execution_count": 17,
   "metadata": {},
   "outputs": [],
   "source": [
    "sort_snp_count_all_both_0['filter_snps_b'] = sort_snp_count_all_both_0['counts_breast']/ num_donor_b\n",
    "sort_snp_count_all_both_0['filter_snps_nb'] = sort_snp_count_all_both_0['counts_nonbreast']/ num_donor_nb"
   ]
  },
  {
   "cell_type": "code",
   "execution_count": 18,
   "metadata": {},
   "outputs": [
    {
     "name": "stderr",
     "output_type": "stream",
     "text": [
      "C:\\Users\\Anne_\\Anaconda3\\envs\\umap\\lib\\site-packages\\scipy\\stats\\morestats.py:1681: UserWarning: p-value may not be accurate for N > 5000.\n",
      "  warnings.warn(\"p-value may not be accurate for N > 5000.\")\n"
     ]
    },
    {
     "name": "stdout",
     "output_type": "stream",
     "text": [
      "w:0.2756664752960205, pvalue:0.0\n"
     ]
    },
    {
     "data": {
      "image/png": "[encoded data removed]",
      "text/plain": [
       "<Figure size 432x288 with 2 Axes>"
      ]
     },
     "metadata": {
      "needs_background": "light"
     },
     "output_type": "display_data"
    }
   ],
   "source": [
    "shapiro_test(sort_snp_count_all_both_0, 'counts_breast', 'filter_snps_b')"
   ]
  },
  {
   "cell_type": "code",
   "execution_count": 19,
   "metadata": {},
   "outputs": [
    {
     "name": "stdout",
     "output_type": "stream",
     "text": [
      "w:0.6253135204315186, pvalue:0.0\n"
     ]
    },
    {
     "data": {
      "image/png": "[encoded data removed]",
      "text/plain": [
       "<Figure size 432x288 with 2 Axes>"
      ]
     },
     "metadata": {
      "needs_background": "light"
     },
     "output_type": "display_data"
    }
   ],
   "source": [
    "shapiro_test(sort_snp_count_all_both_0, 'counts_nonbreast', 'filter_snps_nb')"
   ]
  },
  {
   "cell_type": "code",
   "execution_count": 20,
   "metadata": {},
   "outputs": [
    {
     "name": "stdout",
     "output_type": "stream",
     "text": [
      "MannwhitneyuResult(statistic=6942926394327.0, pvalue=0.0)\n"
     ]
    }
   ],
   "source": [
    "mannwhitney(sort_snp_count_all_both_0, 'filter_snps_b', 'filter_snps_nb')"
   ]
  },
  {
   "cell_type": "code",
   "execution_count": 21,
   "metadata": {},
   "outputs": [
    {
     "data": {
      "text/plain": [
       "{0,\n",
       " 1,\n",
       " 2,\n",
       " 3,\n",
       " 4,\n",
       " 5,\n",
       " 6,\n",
       " 7,\n",
       " 8,\n",
       " 9,\n",
       " 10,\n",
       " 11,\n",
       " 12,\n",
       " 13,\n",
       " 14,\n",
       " 15,\n",
       " 16,\n",
       " 17,\n",
       " 18,\n",
       " 19,\n",
       " 20,\n",
       " 21,\n",
       " 22,\n",
       " 23,\n",
       " 24,\n",
       " 26,\n",
       " 28,\n",
       " 32,\n",
       " 39,\n",
       " 41}"
      ]
     },
     "execution_count": 21,
     "metadata": {},
     "output_type": "execute_result"
    }
   ],
   "source": [
    "set(sort_snp_count_all_both_0['counts_nonbreast'])"
   ]
  },
  {
   "cell_type": "code",
   "execution_count": 22,
   "metadata": {},
   "outputs": [
    {
     "name": "stdout",
     "output_type": "stream",
     "text": [
      "{32.00349650349651, 1.0034965034965035, 2.0034965034965033, 3.0034965034965033, 4.003496503496503, 5.003496503496503, 7.003496503496503, 10.003496503496503, 0.0034965034965034965}\n",
      "{1.0005122950819672, 2.0005122950819674, 3.0005122950819674, 4.000512295081967, 5.000512295081967, 6.000512295081967, 7.000512295081967, 8.000512295081966, 9.000512295081966, 10.000512295081966, 11.000512295081966, 12.000512295081966, 13.000512295081966, 0.0005122950819672131, 15.000512295081966, 16.00051229508197, 17.00051229508197, 18.00051229508197, 19.00051229508197, 20.00051229508197, 21.00051229508197, 22.00051229508197, 23.00051229508197, 24.00051229508197, 26.00051229508197, 28.00051229508197, 32.00051229508197, 39.00051229508197, 41.00051229508197, 14.000512295081966}\n",
      "[ 286 1952]\n",
      "{1940.999487704918, 253.9965034965035}\n",
      "{275.9965034965035, 1943.999487704918}\n"
     ]
    }
   ],
   "source": [
    "sort_snp_count_all_both_0, S_C, n, S, C = chi_square_self(sort_snp_count_all_both_0, 'counts_breast', 'counts_nonbreast', num_donor_b, num_donor_nb)\n",
    "# sort_snp_count_all_both_0 = chi_square(S_C, sort_snp_count_all_both_0)\n",
    "# sort_snp_count_all_both_0 = log2_fc(sort_snp_count_all_both_0, n, S)\n",
    "# sort_snp_count_all_both_0 = fisher_test(S_C, sort_snp_count_all_both_0)\n",
    "# sort_snp_count_all_both_0 = log2_fc(sort_snp_count_all_both_0, n, S)\n",
    "# sort_snp_count_all_both_0.to_csv(f\"D:/Hanze_Groningen/STAGE/lastdb/R/sort_snp_count_all_both_0_TESTS.tsv\", sep='\\t', encoding='utf-8', index=False)"
   ]
  },
  {
   "cell_type": "code",
   "execution_count": 23,
   "metadata": {},
   "outputs": [
    {
     "data": {
      "text/plain": [
       "{11.000512295081966, 32.00349650349651, 253.9965034965035, 1940.999487704918}"
      ]
     },
     "execution_count": 23,
     "metadata": {},
     "output_type": "execute_result"
    }
   ],
   "source": [
    "set(S_C[0])"
   ]
  },
  {
   "cell_type": "code",
   "execution_count": 24,
   "metadata": {},
   "outputs": [
    {
     "name": "stdout",
     "output_type": "stream",
     "text": [
      "1\n",
      "1000001\n",
      "2000001\n",
      "3000001\n",
      "4000001\n",
      "5000001\n",
      "6000001\n",
      "7000001\n",
      "8000001\n",
      "8329746\n",
      "--- 2037.8277430000003 seconds ---\n"
     ]
    }
   ],
   "source": [
    "sort_snp_count_all_both_0 = chi_square(S_C, sort_snp_count_all_both_0)"
   ]
  },
  {
   "cell_type": "code",
   "execution_count": 25,
   "metadata": {},
   "outputs": [
    {
     "name": "stdout",
     "output_type": "stream",
     "text": [
      "1\n",
      "1000001\n",
      "2000001\n",
      "3000001\n",
      "4000001\n",
      "5000001\n",
      "6000001\n",
      "7000001\n",
      "8000001\n",
      "8329746\n",
      "--- 3859.4115165 seconds ---\n"
     ]
    }
   ],
   "source": [
    "sort_snp_count_all_both_0 = fisher_test(S_C, sort_snp_count_all_both_0)"
   ]
  },
  {
   "cell_type": "code",
   "execution_count": 26,
   "metadata": {},
   "outputs": [],
   "source": [
    "sort_snp_count_all_both_0 = log2_fc(sort_snp_count_all_both_0, n, S)"
   ]
  },
  {
   "cell_type": "code",
   "execution_count": 27,
   "metadata": {},
   "outputs": [],
   "source": [
    "sort_snp_count_all_both_0.to_csv(f\"D:/Hanze_Groningen/STAGE/lastdb/sort_snp_count_all_both_0_TESTS.tsv\", sep='\\t', encoding='utf-8', index=False)"
   ]
  },
  {
   "cell_type": "code",
   "execution_count": 28,
   "metadata": {},
   "outputs": [
    {
     "data": {
      "image/png": "[encoded data removed]",
      "text/plain": [
       "<Figure size 360x360 with 1 Axes>"
      ]
     },
     "metadata": {
      "needs_background": "light"
     },
     "output_type": "display_data"
    }
   ],
   "source": [
    "volcano_plot(sort_snp_count_all_both_0, 'p_value_X2_self')"
   ]
  },
  {
   "cell_type": "code",
   "execution_count": 29,
   "metadata": {},
   "outputs": [
    {
     "data": {
      "image/png": "[encoded data removed]",
      "text/plain": [
       "<Figure size 360x360 with 1 Axes>"
      ]
     },
     "metadata": {
      "needs_background": "light"
     },
     "output_type": "display_data"
    }
   ],
   "source": [
    "volcano_plot(sort_snp_count_all_both_0, 'p_value_X2')"
   ]
  },
  {
   "cell_type": "code",
   "execution_count": 30,
   "metadata": {},
   "outputs": [
    {
     "data": {
      "image/png": "[encoded data removed]",
      "text/plain": [
       "<Figure size 360x360 with 1 Axes>"
      ]
     },
     "metadata": {
      "needs_background": "light"
     },
     "output_type": "display_data"
    }
   ],
   "source": [
    "volcano_plot(sort_snp_count_all_both_0, 'p_value_F')"
   ]
  },
  {
   "cell_type": "markdown",
   "metadata": {},
   "source": [
    "### non-coding (noncoding_breast, noncoding_nonbreast)"
   ]
  },
  {
   "cell_type": "code",
   "execution_count": 15,
   "metadata": {},
   "outputs": [
    {
     "name": "stdout",
     "output_type": "stream",
     "text": [
      "\n",
      "set snps\n",
      "----------\n",
      "241\n",
      "4\n"
     ]
    },
    {
     "name": "stderr",
     "output_type": "stream",
     "text": [
      "C:\\Users\\Anne_\\AppData\\Local\\Temp\\ipykernel_21084\\884472358.py:22: FutureWarning: In a future version of pandas all arguments of DataFrame.drop except for the argument 'labels' will be keyword-only\n",
      "  df_R = sort_snp_count_df.reset_index().drop([f'counts_{type_c}', 'index'], 1)\n"
     ]
    },
    {
     "name": "stdout",
     "output_type": "stream",
     "text": [
      "----------\n",
      "1421\n",
      "28\n",
      "\n",
      "merge dfs\n",
      "\n",
      "boxplot\n",
      "\n",
      "filter columns (divide by max)\n",
      "\n",
      "shapiro_test\n"
     ]
    },
    {
     "name": "stderr",
     "output_type": "stream",
     "text": [
      "C:\\Users\\Anne_\\AppData\\Local\\Packages\\PythonSoftwareFoundation.Python.3.9_qbz5n2kfra8p0\\LocalCache\\local-packages\\Python39\\site-packages\\scipy\\stats\\_morestats.py:1761: UserWarning: p-value may not be accurate for N > 5000.\n",
      "  warnings.warn(\"p-value may not be accurate for N > 5000.\")\n"
     ]
    },
    {
     "name": "stdout",
     "output_type": "stream",
     "text": [
      "w:0.2705262303352356, pvalue:0.0\n"
     ]
    },
    {
     "data": {
      "image/png": "[encoded data removed]",
      "text/plain": [
       "<Figure size 432x288 with 1 Axes>"
      ]
     },
     "metadata": {
      "needs_background": "light"
     },
     "output_type": "display_data"
    },
    {
     "data": {
      "image/png": "[encoded data removed]",
      "text/plain": [
       "<Figure size 432x288 with 2 Axes>"
      ]
     },
     "metadata": {
      "needs_background": "light"
     },
     "output_type": "display_data"
    },
    {
     "name": "stdout",
     "output_type": "stream",
     "text": [
      "w:0.6033754348754883, pvalue:0.0\n"
     ]
    },
    {
     "data": {
      "image/png": "[encoded data removed]",
      "text/plain": [
       "<Figure size 432x288 with 2 Axes>"
      ]
     },
     "metadata": {
      "needs_background": "light"
     },
     "output_type": "display_data"
    },
    {
     "name": "stdout",
     "output_type": "stream",
     "text": [
      "\n",
      "mannwhitney\n",
      "MannwhitneyuResult(statistic=2532400350791.0, pvalue=0.0)\n",
      "\n",
      "tests\n",
      "{1.004149377593361, 2.004149377593361, 3.004149377593361, 4.004149377593361, 0.004149377593360996}\n",
      "{1.0007037297677692, 2.000703729767769, 3.000703729767769, 4.0007037297677694, 5.0007037297677694, 6.0007037297677694, 7.0007037297677694, 8.00070372976777, 9.00070372976777, 10.00070372976777, 11.00070372976777, 12.00070372976777, 13.00070372976777, 14.00070372976777, 15.00070372976777, 16.000703729767768, 17.000703729767768, 18.000703729767768, 19.000703729767768, 0.0007037297677691766, 21.000703729767768, 22.000703729767768, 23.000703729767768, 24.000703729767768, 20.000703729767768, 26.000703729767768, 28.000703729767768}\n",
      "[ 241 1421]\n",
      "{1420.9992962702322, 236.99585062240664}\n",
      "{1420.9992962702322, 236.99585062240664}\n",
      "1\n",
      "1000001\n",
      "2000001\n",
      "3000001\n",
      "4000001\n",
      "5000001\n",
      "5092939\n",
      "--- 1495.3846902 seconds ---\n",
      "1\n"
     ]
    },
    {
     "ename": "KeyboardInterrupt",
     "evalue": "",
     "output_type": "error",
     "traceback": [
      "\u001b[1;31m---------------------------------------------------------------------------\u001b[0m",
      "\u001b[1;31mKeyboardInterrupt\u001b[0m                         Traceback (most recent call last)",
      "\u001b[1;32md:\\Hanze_Groningen\\STAGE\\00git\\non-coding-somatic-mutations-in-cancer\\Anne\\scripts\\new_plan2\\analyse.ipynb Cell 54'\u001b[0m in \u001b[0;36m<cell line: 1>\u001b[1;34m()\u001b[0m\n\u001b[1;32m----> <a href='vscode-notebook-cell:/d%3A/Hanze_Groningen/STAGE/00git/non-coding-somatic-mutations-in-cancer/Anne/scripts/new_plan2/analyse.ipynb#ch0000053?line=0'>1</a>\u001b[0m sort_snp_count_noncoding_both_0, noncoding_num_donor_b, noncoding_num_donor_nb \u001b[39m=\u001b[39m run_snp_tests(noncoding_breast, noncoding_nonbreast, \u001b[39m'\u001b[39;49m\u001b[39mNonCoding\u001b[39;49m\u001b[39m'\u001b[39;49m, \u001b[39m'\u001b[39;49m\u001b[39msnp\u001b[39;49m\u001b[39m'\u001b[39;49m)\n",
      "\u001b[1;32md:\\Hanze_Groningen\\STAGE\\00git\\non-coding-somatic-mutations-in-cancer\\Anne\\scripts\\new_plan2\\analyse.ipynb Cell 32'\u001b[0m in \u001b[0;36mrun_snp_tests\u001b[1;34m(df_breast, df_nonbreast, type_df, type_analyse)\u001b[0m\n\u001b[0;32m      <a href='vscode-notebook-cell:/d%3A/Hanze_Groningen/STAGE/00git/non-coding-somatic-mutations-in-cancer/Anne/scripts/new_plan2/analyse.ipynb#ch0000031?line=7'>8</a>\u001b[0m     sort_snp_count_both_0 \u001b[39m=\u001b[39m sort_snp_count_both\u001b[39m.\u001b[39mfillna(\u001b[39m0\u001b[39m)\n\u001b[0;32m      <a href='vscode-notebook-cell:/d%3A/Hanze_Groningen/STAGE/00git/non-coding-somatic-mutations-in-cancer/Anne/scripts/new_plan2/analyse.ipynb#ch0000031?line=8'>9</a>\u001b[0m     sort_snp_count_both_0\u001b[39m.\u001b[39mto_csv(\u001b[39mf\u001b[39m\u001b[39m\"\u001b[39m\u001b[39mD:/Hanze_Groningen/STAGE/lastdb/\u001b[39m\u001b[39m{\u001b[39;00mtype_analyse\u001b[39m}\u001b[39;00m\u001b[39m_\u001b[39m\u001b[39m{\u001b[39;00mtype_df\u001b[39m}\u001b[39;00m\u001b[39m_both_0.tsv\u001b[39m\u001b[39m\"\u001b[39m, sep\u001b[39m=\u001b[39m\u001b[39m'\u001b[39m\u001b[39m\\t\u001b[39;00m\u001b[39m'\u001b[39m, encoding\u001b[39m=\u001b[39m\u001b[39m'\u001b[39m\u001b[39mutf-8\u001b[39m\u001b[39m'\u001b[39m, index\u001b[39m=\u001b[39m\u001b[39mFalse\u001b[39;00m)\n\u001b[1;32m---> <a href='vscode-notebook-cell:/d%3A/Hanze_Groningen/STAGE/00git/non-coding-somatic-mutations-in-cancer/Anne/scripts/new_plan2/analyse.ipynb#ch0000031?line=10'>11</a>\u001b[0m     sort_snp_count_both_0 \u001b[39m=\u001b[39m all_test(sort_snp_count_both_0, num_donor_b, num_donor_nb, type_df, type_analyse)\n\u001b[0;32m     <a href='vscode-notebook-cell:/d%3A/Hanze_Groningen/STAGE/00git/non-coding-somatic-mutations-in-cancer/Anne/scripts/new_plan2/analyse.ipynb#ch0000031?line=11'>12</a>\u001b[0m \u001b[39m#     print('\\nboxplot')\u001b[39;00m\n\u001b[0;32m     <a href='vscode-notebook-cell:/d%3A/Hanze_Groningen/STAGE/00git/non-coding-somatic-mutations-in-cancer/Anne/scripts/new_plan2/analyse.ipynb#ch0000031?line=12'>13</a>\u001b[0m \u001b[39m#     sort_snp_count_both_0.boxplot(column=['counts_breast'], grid=False)\u001b[39;00m\n\u001b[0;32m     <a href='vscode-notebook-cell:/d%3A/Hanze_Groningen/STAGE/00git/non-coding-somatic-mutations-in-cancer/Anne/scripts/new_plan2/analyse.ipynb#ch0000031?line=13'>14</a>\u001b[0m \u001b[39m#     sort_snp_count_both_0.boxplot(column=['counts_nonbreast'], grid=False)\u001b[39;00m\n\u001b[1;32m   (...)\u001b[0m\n\u001b[0;32m     <a href='vscode-notebook-cell:/d%3A/Hanze_Groningen/STAGE/00git/non-coding-somatic-mutations-in-cancer/Anne/scripts/new_plan2/analyse.ipynb#ch0000031?line=36'>37</a>\u001b[0m \u001b[39m#     volcano_plot(sort_snp_count_all_both_0, 'p_value_X2')\u001b[39;00m\n\u001b[0;32m     <a href='vscode-notebook-cell:/d%3A/Hanze_Groningen/STAGE/00git/non-coding-somatic-mutations-in-cancer/Anne/scripts/new_plan2/analyse.ipynb#ch0000031?line=37'>38</a>\u001b[0m \u001b[39m#     volcano_plot(sort_snp_count_all_both_0, 'p_value_F')\u001b[39;00m\n\u001b[0;32m     <a href='vscode-notebook-cell:/d%3A/Hanze_Groningen/STAGE/00git/non-coding-somatic-mutations-in-cancer/Anne/scripts/new_plan2/analyse.ipynb#ch0000031?line=39'>40</a>\u001b[0m     \u001b[39mreturn\u001b[39;00m sort_snp_count_both_0, num_donor_b, num_donor_nb\n",
      "\u001b[1;32md:\\Hanze_Groningen\\STAGE\\00git\\non-coding-somatic-mutations-in-cancer\\Anne\\scripts\\new_plan2\\analyse.ipynb Cell 27'\u001b[0m in \u001b[0;36mall_test\u001b[1;34m(df, num_donor_b, num_donor_nb, type_df, type_analyse)\u001b[0m\n\u001b[0;32m     <a href='vscode-notebook-cell:/d%3A/Hanze_Groningen/STAGE/00git/non-coding-somatic-mutations-in-cancer/Anne/scripts/new_plan2/analyse.ipynb#ch0000026?line=18'>19</a>\u001b[0m df \u001b[39m=\u001b[39m chi_square(S_C, df)\n\u001b[0;32m     <a href='vscode-notebook-cell:/d%3A/Hanze_Groningen/STAGE/00git/non-coding-somatic-mutations-in-cancer/Anne/scripts/new_plan2/analyse.ipynb#ch0000026?line=19'>20</a>\u001b[0m df \u001b[39m=\u001b[39m log2_fc(df, n, S)\n\u001b[1;32m---> <a href='vscode-notebook-cell:/d%3A/Hanze_Groningen/STAGE/00git/non-coding-somatic-mutations-in-cancer/Anne/scripts/new_plan2/analyse.ipynb#ch0000026?line=20'>21</a>\u001b[0m df \u001b[39m=\u001b[39m fisher_test(S_C, df)\n\u001b[0;32m     <a href='vscode-notebook-cell:/d%3A/Hanze_Groningen/STAGE/00git/non-coding-somatic-mutations-in-cancer/Anne/scripts/new_plan2/analyse.ipynb#ch0000026?line=21'>22</a>\u001b[0m df \u001b[39m=\u001b[39m log2_fc(df, n, S)\n\u001b[0;32m     <a href='vscode-notebook-cell:/d%3A/Hanze_Groningen/STAGE/00git/non-coding-somatic-mutations-in-cancer/Anne/scripts/new_plan2/analyse.ipynb#ch0000026?line=22'>23</a>\u001b[0m df\u001b[39m.\u001b[39mto_csv(\u001b[39mf\u001b[39m\u001b[39m\"\u001b[39m\u001b[39mD:/Hanze_Groningen/STAGE/lastdb/\u001b[39m\u001b[39m{\u001b[39;00mtype_analyse\u001b[39m}\u001b[39;00m\u001b[39m_\u001b[39m\u001b[39m{\u001b[39;00mtype_df\u001b[39m}\u001b[39;00m\u001b[39m_both_0_TESTS.tsv\u001b[39m\u001b[39m\"\u001b[39m, sep\u001b[39m=\u001b[39m\u001b[39m'\u001b[39m\u001b[39m\\t\u001b[39;00m\u001b[39m'\u001b[39m, encoding\u001b[39m=\u001b[39m\u001b[39m'\u001b[39m\u001b[39mutf-8\u001b[39m\u001b[39m'\u001b[39m, index\u001b[39m=\u001b[39m\u001b[39mFalse\u001b[39;00m)\n",
      "\u001b[1;32md:\\Hanze_Groningen\\STAGE\\00git\\non-coding-somatic-mutations-in-cancer\\Anne\\scripts\\new_plan2\\analyse.ipynb Cell 23'\u001b[0m in \u001b[0;36mfisher_test\u001b[1;34m(S_C, df)\u001b[0m\n\u001b[0;32m      <a href='vscode-notebook-cell:/d%3A/Hanze_Groningen/STAGE/00git/non-coding-somatic-mutations-in-cancer/Anne/scripts/new_plan2/analyse.ipynb#ch0000022?line=4'>5</a>\u001b[0m \u001b[39mfor\u001b[39;00m index, value \u001b[39min\u001b[39;00m \u001b[39menumerate\u001b[39m(S_C):\n\u001b[0;32m      <a href='vscode-notebook-cell:/d%3A/Hanze_Groningen/STAGE/00git/non-coding-somatic-mutations-in-cancer/Anne/scripts/new_plan2/analyse.ipynb#ch0000022?line=5'>6</a>\u001b[0m     table \u001b[39m=\u001b[39m np\u001b[39m.\u001b[39marray([[value[\u001b[39m0\u001b[39m], value[\u001b[39m2\u001b[39m]], [value[\u001b[39m1\u001b[39m], value[\u001b[39m3\u001b[39m]]])\n\u001b[1;32m----> <a href='vscode-notebook-cell:/d%3A/Hanze_Groningen/STAGE/00git/non-coding-somatic-mutations-in-cancer/Anne/scripts/new_plan2/analyse.ipynb#ch0000022?line=6'>7</a>\u001b[0m     oddsr, p \u001b[39m=\u001b[39m fisher_exact(table, alternative\u001b[39m=\u001b[39;49m\u001b[39m'\u001b[39;49m\u001b[39mtwo-sided\u001b[39;49m\u001b[39m'\u001b[39;49m)\n\u001b[0;32m      <a href='vscode-notebook-cell:/d%3A/Hanze_Groningen/STAGE/00git/non-coding-somatic-mutations-in-cancer/Anne/scripts/new_plan2/analyse.ipynb#ch0000022?line=7'>8</a>\u001b[0m     p_value_F\u001b[39m.\u001b[39mappend(p)\n\u001b[0;32m      <a href='vscode-notebook-cell:/d%3A/Hanze_Groningen/STAGE/00git/non-coding-somatic-mutations-in-cancer/Anne/scripts/new_plan2/analyse.ipynb#ch0000022?line=8'>9</a>\u001b[0m     \u001b[39mif\u001b[39;00m (index\u001b[39m%\u001b[39m\u001b[39m1000000\u001b[39m) \u001b[39m==\u001b[39m \u001b[39m0\u001b[39m:\n",
      "File \u001b[1;32m~\\AppData\\Local\\Packages\\PythonSoftwareFoundation.Python.3.9_qbz5n2kfra8p0\\LocalCache\\local-packages\\Python39\\site-packages\\scipy\\stats\\_stats_py.py:4361\u001b[0m, in \u001b[0;36mfisher_exact\u001b[1;34m(table, alternative)\u001b[0m\n\u001b[0;32m   <a href='file:///c%3A/Users/Anne_/AppData/Local/Packages/PythonSoftwareFoundation.Python.3.9_qbz5n2kfra8p0/LocalCache/local-packages/Python39/site-packages/scipy/stats/_stats_py.py?line=4358'>4359</a>\u001b[0m \u001b[39melse\u001b[39;00m:\n\u001b[0;32m   <a href='file:///c%3A/Users/Anne_/AppData/Local/Packages/PythonSoftwareFoundation.Python.3.9_qbz5n2kfra8p0/LocalCache/local-packages/Python39/site-packages/scipy/stats/_stats_py.py?line=4359'>4360</a>\u001b[0m     pupper \u001b[39m=\u001b[39m hypergeom\u001b[39m.\u001b[39msf(c[\u001b[39m0\u001b[39m, \u001b[39m0\u001b[39m] \u001b[39m-\u001b[39m \u001b[39m1\u001b[39m, n1 \u001b[39m+\u001b[39m n2, n1, n)\n\u001b[1;32m-> <a href='file:///c%3A/Users/Anne_/AppData/Local/Packages/PythonSoftwareFoundation.Python.3.9_qbz5n2kfra8p0/LocalCache/local-packages/Python39/site-packages/scipy/stats/_stats_py.py?line=4360'>4361</a>\u001b[0m     \u001b[39mif\u001b[39;00m hypergeom\u001b[39m.\u001b[39;49mpmf(\u001b[39m0\u001b[39;49m, n1 \u001b[39m+\u001b[39;49m n2, n1, n) \u001b[39m>\u001b[39m pexact \u001b[39m/\u001b[39m epsilon:\n\u001b[0;32m   <a href='file:///c%3A/Users/Anne_/AppData/Local/Packages/PythonSoftwareFoundation.Python.3.9_qbz5n2kfra8p0/LocalCache/local-packages/Python39/site-packages/scipy/stats/_stats_py.py?line=4361'>4362</a>\u001b[0m         \u001b[39mreturn\u001b[39;00m oddsratio, pupper\n\u001b[0;32m   <a href='file:///c%3A/Users/Anne_/AppData/Local/Packages/PythonSoftwareFoundation.Python.3.9_qbz5n2kfra8p0/LocalCache/local-packages/Python39/site-packages/scipy/stats/_stats_py.py?line=4363'>4364</a>\u001b[0m     guess \u001b[39m=\u001b[39m binary_search(n, n1, n2, \u001b[39m\"\u001b[39m\u001b[39mlower\u001b[39m\u001b[39m\"\u001b[39m)\n",
      "File \u001b[1;32m~\\AppData\\Local\\Packages\\PythonSoftwareFoundation.Python.3.9_qbz5n2kfra8p0\\LocalCache\\local-packages\\Python39\\site-packages\\scipy\\stats\\_distn_infrastructure.py:3181\u001b[0m, in \u001b[0;36mrv_discrete.pmf\u001b[1;34m(self, k, *args, **kwds)\u001b[0m\n\u001b[0;32m   <a href='file:///c%3A/Users/Anne_/AppData/Local/Packages/PythonSoftwareFoundation.Python.3.9_qbz5n2kfra8p0/LocalCache/local-packages/Python39/site-packages/scipy/stats/_distn_infrastructure.py?line=3178'>3179</a>\u001b[0m cond \u001b[39m=\u001b[39m cond0 \u001b[39m&\u001b[39m cond1\n\u001b[0;32m   <a href='file:///c%3A/Users/Anne_/AppData/Local/Packages/PythonSoftwareFoundation.Python.3.9_qbz5n2kfra8p0/LocalCache/local-packages/Python39/site-packages/scipy/stats/_distn_infrastructure.py?line=3179'>3180</a>\u001b[0m output \u001b[39m=\u001b[39m zeros(shape(cond), \u001b[39m'\u001b[39m\u001b[39md\u001b[39m\u001b[39m'\u001b[39m)\n\u001b[1;32m-> <a href='file:///c%3A/Users/Anne_/AppData/Local/Packages/PythonSoftwareFoundation.Python.3.9_qbz5n2kfra8p0/LocalCache/local-packages/Python39/site-packages/scipy/stats/_distn_infrastructure.py?line=3180'>3181</a>\u001b[0m place(output, (\u001b[39m1\u001b[39;49m\u001b[39m-\u001b[39;49mcond0) \u001b[39m+\u001b[39;49m np\u001b[39m.\u001b[39;49misnan(k), \u001b[39mself\u001b[39;49m\u001b[39m.\u001b[39;49mbadvalue)\n\u001b[0;32m   <a href='file:///c%3A/Users/Anne_/AppData/Local/Packages/PythonSoftwareFoundation.Python.3.9_qbz5n2kfra8p0/LocalCache/local-packages/Python39/site-packages/scipy/stats/_distn_infrastructure.py?line=3181'>3182</a>\u001b[0m \u001b[39mif\u001b[39;00m np\u001b[39m.\u001b[39many(cond):\n\u001b[0;32m   <a href='file:///c%3A/Users/Anne_/AppData/Local/Packages/PythonSoftwareFoundation.Python.3.9_qbz5n2kfra8p0/LocalCache/local-packages/Python39/site-packages/scipy/stats/_distn_infrastructure.py?line=3182'>3183</a>\u001b[0m     goodargs \u001b[39m=\u001b[39m argsreduce(cond, \u001b[39m*\u001b[39m((k,)\u001b[39m+\u001b[39margs))\n",
      "File \u001b[1;32m<__array_function__ internals>:5\u001b[0m, in \u001b[0;36mplace\u001b[1;34m(*args, **kwargs)\u001b[0m\n",
      "File \u001b[1;32m~\\AppData\\Local\\Packages\\PythonSoftwareFoundation.Python.3.9_qbz5n2kfra8p0\\LocalCache\\local-packages\\Python39\\site-packages\\numpy\\lib\\function_base.py:1748\u001b[0m, in \u001b[0;36mplace\u001b[1;34m(arr, mask, vals)\u001b[0m\n\u001b[0;32m   <a href='file:///c%3A/Users/Anne_/AppData/Local/Packages/PythonSoftwareFoundation.Python.3.9_qbz5n2kfra8p0/LocalCache/local-packages/Python39/site-packages/numpy/lib/function_base.py?line=1743'>1744</a>\u001b[0m \u001b[39mif\u001b[39;00m \u001b[39mnot\u001b[39;00m \u001b[39misinstance\u001b[39m(arr, np\u001b[39m.\u001b[39mndarray):\n\u001b[0;32m   <a href='file:///c%3A/Users/Anne_/AppData/Local/Packages/PythonSoftwareFoundation.Python.3.9_qbz5n2kfra8p0/LocalCache/local-packages/Python39/site-packages/numpy/lib/function_base.py?line=1744'>1745</a>\u001b[0m     \u001b[39mraise\u001b[39;00m \u001b[39mTypeError\u001b[39;00m(\u001b[39m\"\u001b[39m\u001b[39margument 1 must be numpy.ndarray, \u001b[39m\u001b[39m\"\u001b[39m\n\u001b[0;32m   <a href='file:///c%3A/Users/Anne_/AppData/Local/Packages/PythonSoftwareFoundation.Python.3.9_qbz5n2kfra8p0/LocalCache/local-packages/Python39/site-packages/numpy/lib/function_base.py?line=1745'>1746</a>\u001b[0m                     \u001b[39m\"\u001b[39m\u001b[39mnot \u001b[39m\u001b[39m{name}\u001b[39;00m\u001b[39m\"\u001b[39m\u001b[39m.\u001b[39mformat(name\u001b[39m=\u001b[39m\u001b[39mtype\u001b[39m(arr)\u001b[39m.\u001b[39m\u001b[39m__name__\u001b[39m))\n\u001b[1;32m-> <a href='file:///c%3A/Users/Anne_/AppData/Local/Packages/PythonSoftwareFoundation.Python.3.9_qbz5n2kfra8p0/LocalCache/local-packages/Python39/site-packages/numpy/lib/function_base.py?line=1747'>1748</a>\u001b[0m \u001b[39mreturn\u001b[39;00m _insert(arr, mask, vals)\n",
      "\u001b[1;31mKeyboardInterrupt\u001b[0m: "
     ]
    }
   ],
   "source": [
    "sort_snp_count_noncoding_both_0, noncoding_num_donor_b, noncoding_num_donor_nb = run_snp_tests(noncoding_breast, noncoding_nonbreast, 'NonCoding', 'snp')"
   ]
  },
  {
   "cell_type": "markdown",
   "metadata": {},
   "source": [
    "### coding (coding_breast, coding_nonbreast)"
   ]
  },
  {
   "cell_type": "code",
   "execution_count": null,
   "metadata": {},
   "outputs": [],
   "source": [
    "sort_snp_count_coding_both_0, coding_num_donor_b, coding_num_donor_nb = run_snp_tests(coding_breast, coding_nonbreast, 'Coding', 'snp')"
   ]
  },
  {
   "cell_type": "markdown",
   "metadata": {},
   "source": [
    "# position 1000 and 2000"
   ]
  },
  {
   "cell_type": "code",
   "execution_count": null,
   "metadata": {},
   "outputs": [],
   "source": [
    "# df_whole -- # noncoding_df # coding_df -- # all_breast # noncoding_breast # coding_breast --\n",
    "# all_nonbreast # noncoding_nonbreast # coding_nonbreast"
   ]
  },
  {
   "cell_type": "code",
   "execution_count": null,
   "metadata": {},
   "outputs": [],
   "source": [
    "def make_merge_df(path_breast, path_nonbreast):\n",
    "    colnames=['index', 'counts_breast', 'chr', 'start_region', 'stop_region']\n",
    "    breast = pd.read_csv(path_breast, sep='\\t', header=None, names=colnames)\n",
    "    breast.sort_values(['chr', 'start_region'], inplace=True)\n",
    "    \n",
    "    colnames=['index', 'counts_nonbreast', 'chr', 'start_region', 'stop_region']\n",
    "    nonbreast = pd.read_csv(path_nonbreast, sep='\\t', header=None, names=colnames)   \n",
    "    nonbreast.sort_values(['chr', 'start_region'], inplace=True)\n",
    "    \n",
    "    merged_df = breast.merge(nonbreast, on=['chr', 'start_region', 'stop_region'], how='outer')\n",
    "    merged_df.drop(columns=['index_x', 'index_y'], inplace=True)\n",
    "    return merged_df"
   ]
  },
  {
   "cell_type": "code",
   "execution_count": null,
   "metadata": {},
   "outputs": [],
   "source": [
    "def make_df_2000(merge_df):\n",
    "    df = pd.DataFrame(columns=['counts_breast', 'chr', 'start_region', 'stop_region', 'counts_nonbreast', 'snps_b_double', 'snps_nb_double'])\n",
    "\n",
    "    # chrom = ['chr4']\n",
    "    for i in list(set(merge_df['chr'])):\n",
    "        select_df = merge_df[merge_df['chr'] == i]\n",
    "        select_df['snps_b_double'] = select_df['counts_breast'] + select_df['counts_breast'].shift(1)\n",
    "        select_df['snps_nb_double'] = select_df['counts_nonbreast'] + select_df['counts_nonbreast'].shift(1)\n",
    "        select_df['start_new'] = select_df['start_region'].shift(1) #.astype(str) #+ \"_\" + select_df['stop_region'].astype(str)\n",
    "    #     select_df['stop_new'] = select_df['stop_region']       \n",
    "        select_df = select_df.reset_index()\n",
    "        select_df.drop(columns=['index'], inplace=True)\n",
    "        select_df = select_df.reset_index()\n",
    "        select_df = select_df[(select_df['index'] % 2 != 0) | (select_df['index'] == select_df['index'].max())]\n",
    "        select_df['start_new'] = list(select_df['start_new'][:-1])+[list(select_df['start_region'])[-1]]\n",
    "        select_df.drop(columns=['index'], inplace=True)\n",
    "    #     select_df['stop_new'] = list(select_df['stop_new'][:-1])+[list(select_df['stop_region'])[-1]]\n",
    "        df = pd.concat([df, select_df])\n",
    "    df['start_region'] = df['start_new']\n",
    "    df.drop(columns=['counts_breast', 'counts_nonbreast', 'start_new'], inplace=True)\n",
    "    df.rename(columns = {'snps_b_double':'counts_breast', 'snps_nb_double':'counts_nonbreast'}, inplace = True)\n",
    "    return df\n"
   ]
  },
  {
   "cell_type": "markdown",
   "metadata": {},
   "source": [
    "### ALL (all_breast, all_nonbreast)"
   ]
  },
  {
   "cell_type": "code",
   "execution_count": null,
   "metadata": {},
   "outputs": [],
   "source": [
    "merge_df = make_merge_df(\"D:/Hanze_Groningen/STAGE/R/PLOTS/kary/vs/before/1000_filter/breast_ALL_1000.tsv\", \"D:/Hanze_Groningen/STAGE/R/PLOTS/kary/vs/before/1000_filter/nonbreast_ALL_1000.tsv\")\n",
    "df_1000_tests = all_test(merge_df, all_num_donor_b, all_num_donor_nb, 'ALL', 'Region_1000')"
   ]
  },
  {
   "cell_type": "code",
   "execution_count": null,
   "metadata": {},
   "outputs": [],
   "source": [
    "df_2000 = make_df_2000(merge_df)\n",
    "df_2000_tests = all_test(df_2000, all_num_donor_b, all_num_donor_nb, 'ALL', 'Region_2000')"
   ]
  },
  {
   "cell_type": "markdown",
   "metadata": {},
   "source": [
    "### non-coding (noncoding_breast, noncoding_nonbreast)"
   ]
  },
  {
   "cell_type": "code",
   "execution_count": null,
   "metadata": {},
   "outputs": [],
   "source": [
    "nc_merge_df = make_merge_df(\"D:/Hanze_Groningen/STAGE/R/PLOTS/kary/vs/before/1000_filter/....tsv\", \"D:/Hanze_Groningen/STAGE/R/PLOTS/kary/vs/before/1000_filter/......tsv\")\n",
    "nc_df_1000_tests = all_test(nc_merge_df, noncoding_num_donor_b, noncoding_num_donor_nb, 'NonCoding', 'Region_1000')"
   ]
  },
  {
   "cell_type": "code",
   "execution_count": null,
   "metadata": {},
   "outputs": [],
   "source": [
    "nc_df_2000 = make_df_2000(nc_merge_df)\n",
    "nc_df_2000_tests = all_test(nc_df_2000, noncoding_num_donor_b, noncoding_num_donor_nb, 'NonCoding', 'Region_2000')"
   ]
  },
  {
   "cell_type": "markdown",
   "metadata": {},
   "source": [
    "### coding (coding_breast, coding_nonbreast)"
   ]
  },
  {
   "cell_type": "code",
   "execution_count": null,
   "metadata": {},
   "outputs": [],
   "source": [
    "c_merge_df = make_merge_df(\"D:/Hanze_Groningen/STAGE/R/PLOTS/kary/vs/before/1000_filter/....tsv\", \"D:/Hanze_Groningen/STAGE/R/PLOTS/kary/vs/before/1000_filter/......tsv\")\n",
    "c_df_1000_tests = all_test(c_merge_df, coding_num_donor_b, coding_num_donor_nb, 'Coding', 'Region_1000')"
   ]
  },
  {
   "cell_type": "code",
   "execution_count": null,
   "metadata": {},
   "outputs": [],
   "source": [
    "c_merge_df = make_merge_df(\"D:/Hanze_Groningen/STAGE/R/PLOTS/kary/vs/before/1000_filter/....tsv\", \"D:/Hanze_Groningen/STAGE/R/PLOTS/kary/vs/before/1000_filter/......tsv\")\n",
    "c_df_1000_tests = all_test(c_merge_df, coding_num_donor_b, coding_num_donor_nb, 'Coding', 'Region_1000')"
   ]
  },
  {
   "cell_type": "markdown",
   "metadata": {
    "heading_collapsed": true
   },
   "source": [
    "# UCNE"
   ]
  },
  {
   "cell_type": "code",
   "execution_count": null,
   "metadata": {
    "hidden": true
   },
   "outputs": [],
   "source": [
    "# df_whole -- # noncoding_df # coding_df -- # all_breast # noncoding_breast # coding_breast --\n",
    "# all_nonbreast # noncoding_nonbreast # coding_nonbreast"
   ]
  },
  {
   "cell_type": "markdown",
   "metadata": {
    "hidden": true
   },
   "source": [
    "### ALL (all_breast, all_nonbreast)"
   ]
  },
  {
   "cell_type": "code",
   "execution_count": null,
   "metadata": {
    "hidden": true
   },
   "outputs": [],
   "source": []
  },
  {
   "cell_type": "markdown",
   "metadata": {
    "hidden": true
   },
   "source": [
    "### non-coding (noncoding_breast, noncoding_nonbreast)"
   ]
  },
  {
   "cell_type": "code",
   "execution_count": null,
   "metadata": {
    "hidden": true
   },
   "outputs": [],
   "source": []
  },
  {
   "cell_type": "markdown",
   "metadata": {
    "hidden": true
   },
   "source": [
    "### coding (coding_breast, coding_nonbreast)"
   ]
  },
  {
   "cell_type": "code",
   "execution_count": null,
   "metadata": {
    "hidden": true
   },
   "outputs": [],
   "source": []
  },
  {
   "cell_type": "markdown",
   "metadata": {
    "heading_collapsed": true
   },
   "source": [
    "# TFBS"
   ]
  },
  {
   "cell_type": "code",
   "execution_count": null,
   "metadata": {
    "hidden": true
   },
   "outputs": [],
   "source": [
    "# df_whole -- # noncoding_df # coding_df -- # all_breast # noncoding_breast # coding_breast --\n",
    "# all_nonbreast # noncoding_nonbreast # coding_nonbreast"
   ]
  },
  {
   "cell_type": "markdown",
   "metadata": {
    "hidden": true
   },
   "source": [
    "### ALL (all_breast, all_nonbreast)"
   ]
  },
  {
   "cell_type": "code",
   "execution_count": null,
   "metadata": {
    "hidden": true
   },
   "outputs": [],
   "source": []
  },
  {
   "cell_type": "markdown",
   "metadata": {
    "hidden": true
   },
   "source": [
    "### non-coding (noncoding_breast, noncoding_nonbreast)"
   ]
  },
  {
   "cell_type": "code",
   "execution_count": null,
   "metadata": {
    "hidden": true
   },
   "outputs": [],
   "source": []
  },
  {
   "cell_type": "markdown",
   "metadata": {
    "hidden": true
   },
   "source": [
    "### coding (coding_breast, coding_nonbreast)"
   ]
  },
  {
   "cell_type": "code",
   "execution_count": null,
   "metadata": {
    "hidden": true
   },
   "outputs": [],
   "source": []
  },
  {
   "cell_type": "markdown",
   "metadata": {
    "heading_collapsed": true
   },
   "source": [
    "# DNase"
   ]
  },
  {
   "cell_type": "code",
   "execution_count": null,
   "metadata": {
    "hidden": true
   },
   "outputs": [],
   "source": [
    "# df_whole -- # noncoding_df # coding_df -- # all_breast # noncoding_breast # coding_breast --\n",
    "# all_nonbreast # noncoding_nonbreast # coding_nonbreast"
   ]
  },
  {
   "cell_type": "markdown",
   "metadata": {
    "hidden": true
   },
   "source": [
    "### ALL (all_breast, all_nonbreast)"
   ]
  },
  {
   "cell_type": "code",
   "execution_count": null,
   "metadata": {
    "hidden": true
   },
   "outputs": [],
   "source": []
  },
  {
   "cell_type": "markdown",
   "metadata": {
    "hidden": true
   },
   "source": [
    "### non-coding (noncoding_breast, noncoding_nonbreast)"
   ]
  },
  {
   "cell_type": "code",
   "execution_count": null,
   "metadata": {
    "hidden": true
   },
   "outputs": [],
   "source": []
  },
  {
   "cell_type": "markdown",
   "metadata": {
    "hidden": true
   },
   "source": [
    "### coding (coding_breast, coding_nonbreast)"
   ]
  },
  {
   "cell_type": "code",
   "execution_count": null,
   "metadata": {
    "hidden": true
   },
   "outputs": [],
   "source": []
  },
  {
   "cell_type": "markdown",
   "metadata": {
    "heading_collapsed": true
   },
   "source": [
    "# before_gene (promotor)"
   ]
  },
  {
   "cell_type": "code",
   "execution_count": null,
   "metadata": {
    "hidden": true
   },
   "outputs": [],
   "source": [
    "# df_whole -- # noncoding_df # coding_df -- # all_breast # noncoding_breast # coding_breast --\n",
    "# all_nonbreast # noncoding_nonbreast # coding_nonbreast"
   ]
  },
  {
   "cell_type": "markdown",
   "metadata": {
    "hidden": true
   },
   "source": [
    "### ALL (all_breast, all_nonbreast)"
   ]
  },
  {
   "cell_type": "code",
   "execution_count": null,
   "metadata": {
    "hidden": true
   },
   "outputs": [],
   "source": []
  },
  {
   "cell_type": "markdown",
   "metadata": {
    "hidden": true
   },
   "source": [
    "### non-coding (noncoding_breast, noncoding_nonbreast)"
   ]
  },
  {
   "cell_type": "code",
   "execution_count": null,
   "metadata": {
    "hidden": true
   },
   "outputs": [],
   "source": []
  },
  {
   "cell_type": "markdown",
   "metadata": {
    "hidden": true
   },
   "source": [
    "### coding (coding_breast, coding_nonbreast)"
   ]
  },
  {
   "cell_type": "code",
   "execution_count": null,
   "metadata": {
    "hidden": true
   },
   "outputs": [],
   "source": []
  },
  {
   "cell_type": "markdown",
   "metadata": {
    "heading_collapsed": true
   },
   "source": [
    "# eQTL"
   ]
  },
  {
   "cell_type": "code",
   "execution_count": null,
   "metadata": {
    "hidden": true
   },
   "outputs": [],
   "source": [
    "# df_whole -- # noncoding_df # coding_df -- # all_breast # noncoding_breast # coding_breast --\n",
    "# all_nonbreast # noncoding_nonbreast # coding_nonbreast"
   ]
  },
  {
   "cell_type": "markdown",
   "metadata": {
    "hidden": true
   },
   "source": [
    "### ALL (all_breast, all_nonbreast)"
   ]
  },
  {
   "cell_type": "code",
   "execution_count": null,
   "metadata": {
    "hidden": true
   },
   "outputs": [],
   "source": []
  },
  {
   "cell_type": "markdown",
   "metadata": {
    "hidden": true
   },
   "source": [
    "### non-coding (noncoding_breast, noncoding_nonbreast)"
   ]
  },
  {
   "cell_type": "code",
   "execution_count": null,
   "metadata": {
    "hidden": true
   },
   "outputs": [],
   "source": []
  },
  {
   "cell_type": "markdown",
   "metadata": {
    "hidden": true
   },
   "source": [
    "### coding (coding_breast, coding_nonbreast)"
   ]
  },
  {
   "cell_type": "code",
   "execution_count": null,
   "metadata": {
    "hidden": true
   },
   "outputs": [],
   "source": []
  },
  {
   "cell_type": "markdown",
   "metadata": {
    "heading_collapsed": true
   },
   "source": [
    "# Genotype"
   ]
  },
  {
   "cell_type": "code",
   "execution_count": null,
   "metadata": {
    "hidden": true
   },
   "outputs": [],
   "source": [
    "# df_whole -- # noncoding_df # coding_df -- # all_breast # noncoding_breast # coding_breast --\n",
    "# all_nonbreast # noncoding_nonbreast # coding_nonbreast"
   ]
  },
  {
   "cell_type": "markdown",
   "metadata": {
    "hidden": true
   },
   "source": [
    "### ALL (all_breast, all_nonbreast)"
   ]
  },
  {
   "cell_type": "code",
   "execution_count": null,
   "metadata": {
    "hidden": true
   },
   "outputs": [],
   "source": []
  },
  {
   "cell_type": "markdown",
   "metadata": {
    "hidden": true
   },
   "source": [
    "### non-coding (noncoding_breast, noncoding_nonbreast)"
   ]
  },
  {
   "cell_type": "code",
   "execution_count": null,
   "metadata": {
    "hidden": true
   },
   "outputs": [],
   "source": []
  },
  {
   "cell_type": "markdown",
   "metadata": {
    "hidden": true
   },
   "source": [
    "### coding (coding_breast, coding_nonbreast)"
   ]
  },
  {
   "cell_type": "code",
   "execution_count": null,
   "metadata": {
    "hidden": true
   },
   "outputs": [],
   "source": []
  }
 ],
 "metadata": {
  "interpreter": {
   "hash": "a53b025198f004f449cb90af97b7ad63f2d7fc17772f3863d2f67664171bd77f"
  },
  "kernelspec": {
   "display_name": "Python [conda env:umap] *",
   "language": "python",
   "name": "python3"
  },
  "language_info": {
   "codemirror_mode": {
    "name": "ipython",
    "version": 3
   },
   "file_extension": ".py",
   "mimetype": "text/x-python",
   "name": "python",
   "nbconvert_exporter": "python",
   "pygments_lexer": "ipython3",
   "version": "3.9.13"
  }
 },
 "nbformat": 4,
 "nbformat_minor": 4
}
