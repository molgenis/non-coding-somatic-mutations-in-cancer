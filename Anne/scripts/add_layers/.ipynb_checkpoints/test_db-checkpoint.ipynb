{
 "cells": [
  {
   "cell_type": "code",
   "execution_count": 1,
   "metadata": {},
   "outputs": [],
   "source": [
    "from Database import Database\n",
    "import sys\n",
    "# import multiprocessing as mp\n",
    "import pandas as pd\n",
    "from collections import Counter\n",
    "import matplotlib.pyplot as plt\n",
    "import seaborn as sns\n",
    "import numpy as np\n",
    "from scipy.stats.distributions import chi2\n",
    "from bioinfokit import analys, visuz\n",
    "from scipy.stats import fisher_exact\n",
    "import time\n",
    "from scipy.special import factorial\n",
    "\n",
    "\n",
    "from fisher import pvalue_npy\n",
    "from scipy.stats import chi2_contingency\n",
    "from scipy.stats import uniform, randint"
   ]
  },
  {
   "cell_type": "code",
   "execution_count": 2,
   "metadata": {},
   "outputs": [],
   "source": [
    "path_db = 'D:/Hanze_Groningen/STAGE/lastdb/db_laatste_copy.db' #'D:/Hanze_Groningen/STAGE/DATAB/copydatabase_C.db'\n",
    "# Database connection\n",
    "db = Database(path_db)"
   ]
  },
  {
   "cell_type": "code",
   "execution_count": 22,
   "metadata": {},
   "outputs": [
    {
     "data": {
      "text/html": [
       "<div>\n",
       "<style scoped>\n",
       "    .dataframe tbody tr th:only-of-type {\n",
       "        vertical-align: middle;\n",
       "    }\n",
       "\n",
       "    .dataframe tbody tr th {\n",
       "        vertical-align: top;\n",
       "    }\n",
       "\n",
       "    .dataframe thead th {\n",
       "        text-align: right;\n",
       "    }\n",
       "</style>\n",
       "<table border=\"1\" class=\"dataframe\">\n",
       "  <thead>\n",
       "    <tr style=\"text-align: right;\">\n",
       "      <th></th>\n",
       "      <th>name</th>\n",
       "    </tr>\n",
       "  </thead>\n",
       "  <tbody>\n",
       "    <tr>\n",
       "      <th>0</th>\n",
       "      <td>project</td>\n",
       "    </tr>\n",
       "    <tr>\n",
       "      <th>1</th>\n",
       "      <td>sqlite_sequence</td>\n",
       "    </tr>\n",
       "    <tr>\n",
       "      <th>2</th>\n",
       "      <td>donor</td>\n",
       "    </tr>\n",
       "    <tr>\n",
       "      <th>3</th>\n",
       "      <td>snp</td>\n",
       "    </tr>\n",
       "    <tr>\n",
       "      <th>4</th>\n",
       "      <td>tissue</td>\n",
       "    </tr>\n",
       "    <tr>\n",
       "      <th>5</th>\n",
       "      <td>donor_has_snp</td>\n",
       "    </tr>\n",
       "    <tr>\n",
       "      <th>6</th>\n",
       "      <td>sum_dosage_GT</td>\n",
       "    </tr>\n",
       "  </tbody>\n",
       "</table>\n",
       "</div>"
      ],
      "text/plain": [
       "              name\n",
       "0          project\n",
       "1  sqlite_sequence\n",
       "2            donor\n",
       "3              snp\n",
       "4           tissue\n",
       "5    donor_has_snp\n",
       "6    sum_dosage_GT"
      ]
     },
     "execution_count": 22,
     "metadata": {},
     "output_type": "execute_result"
    }
   ],
   "source": [
    "table = pd.read_sql(\"SELECT name FROM sqlite_master WHERE type='table';\", db.mydb_connection)\n",
    "table\n"
   ]
  },
  {
   "cell_type": "code",
   "execution_count": 23,
   "metadata": {},
   "outputs": [
    {
     "name": "stdout",
     "output_type": "stream",
     "text": [
      "(0, 'ID', 'INTEGER', 0, None, 1)\n",
      "(1, 'project_ID', 'VARCHAR(45)', 1, None, 0)\n",
      "(2, 'cancer', 'VARCHAR(45)', 0, 'NULL', 0)\n"
     ]
    }
   ],
   "source": [
    "results = db.cursor.execute(\"PRAGMA table_info(project)\").fetchall()\n",
    "for res in results:\n",
    "    print(res[:])"
   ]
  },
  {
   "cell_type": "code",
   "execution_count": 24,
   "metadata": {},
   "outputs": [
    {
     "name": "stdout",
     "output_type": "stream",
     "text": [
      "(0, 'name', '', 0, None, 0)\n",
      "(1, 'seq', '', 0, None, 0)\n"
     ]
    }
   ],
   "source": [
    "results = db.cursor.execute(\"PRAGMA table_info(sqlite_sequence)\").fetchall()\n",
    "for res in results:\n",
    "    print(res[:])"
   ]
  },
  {
   "cell_type": "code",
   "execution_count": 25,
   "metadata": {},
   "outputs": [
    {
     "name": "stdout",
     "output_type": "stream",
     "text": [
      "(0, 'ID', 'INTEGER', 0, None, 1)\n",
      "(1, 'donor_ID', 'VARCHAR(45)', 1, None, 0)\n",
      "(2, 'project_ID', 'INT', 1, None, 0)\n",
      "(3, 'sex', 'BOOLEAN', 0, 'FALSE', 0)\n",
      "(4, 'vital_status', 'BOOLEAN', 0, 'FALSE', 0)\n",
      "(5, 'age_at_diagnosis', 'INT', 0, 'NULL', 0)\n",
      "(6, 'age_at_last_followup', 'INT', 0, 'NULL', 0)\n",
      "(7, 'disease_status_last_followup', 'VARCHAR(45)', 0, 'NULL', 0)\n"
     ]
    }
   ],
   "source": [
    "results = db.cursor.execute(\"PRAGMA table_info(donor)\").fetchall()\n",
    "for res in results:\n",
    "    print(res[:])"
   ]
  },
  {
   "cell_type": "code",
   "execution_count": 26,
   "metadata": {},
   "outputs": [
    {
     "name": "stdout",
     "output_type": "stream",
     "text": [
      "(0, 'ID', 'INTEGER', 0, None, 1)\n",
      "(1, 'chr', 'VARCHAR(45)', 0, 'NULL', 0)\n",
      "(2, 'pos_start', 'INT', 0, 'NULL', 0)\n",
      "(3, 'pos_end', 'INT', 0, 'NULL', 0)\n",
      "(4, 'ref', 'VARCHAR(1000)', 0, 'NULL', 0)\n",
      "(5, 'alt', 'VARCHAR(1000)', 0, 'NULL', 0)\n",
      "(6, 'genome_version', 'VARCHAR(45)', 0, 'NULL', 0)\n",
      "(7, 'platform', 'VARCHAR(45)', 0, 'NULL', 0)\n",
      "(8, 'seq_strategy', 'VARCHAR(45)', 0, 'NULL', 0)\n",
      "(9, 'AF', 'INT', 0, 'NULL', 0)\n",
      "(10, 'AF_whole', 'INT', 0, 'NULL', 0)\n",
      "(11, 'UCNE', 'BOOLEAN', 0, 'FALSE', 0)\n",
      "(12, 'TFBS', 'BOOLEAN', 0, 'FALSE', 0)\n",
      "(13, 'DNase', 'BOOLEAN', 0, 'FALSE', 0)\n",
      "(14, 'in_transcript', 'BOOLEAN', 0, 'FALSE', 0)\n",
      "(15, 'in_coding', 'BOOLEAN', 0, 'FALSE', 0)\n",
      "(16, 'in_exon', 'BOOLEAN', 0, 'FALSE', 0)\n",
      "(17, 'before_gene', 'BOOLEAN', 0, 'FALSE', 0)\n",
      "(18, 'after_gene', 'BOOLEAN', 0, 'FALSE', 0)\n",
      "(19, 'ID_eQTL', 'VARCHAR(45)', 0, 'NULL', 0)\n",
      "(20, 'eQTL', 'BOOLEAN', 0, 'FALSE', 0)\n",
      "(21, 'close_eQTL_3000', 'BOOLEAN', 0, 'FALSE', 0)\n"
     ]
    }
   ],
   "source": [
    "results = db.cursor.execute(\"PRAGMA table_info(snp)\").fetchall()\n",
    "for res in results:\n",
    "    print(res[:])"
   ]
  },
  {
   "cell_type": "code",
   "execution_count": 27,
   "metadata": {},
   "outputs": [
    {
     "name": "stdout",
     "output_type": "stream",
     "text": [
      "(0, 'ID', 'INTEGER', 0, None, 1)\n",
      "(1, 'specimen_type', 'VARCHAR(100)', 1, None, 0)\n",
      "(2, 'type', 'BOOLEAN', 0, 'FALSE', 0)\n"
     ]
    }
   ],
   "source": [
    "results = db.cursor.execute(\"PRAGMA table_info(tissue)\").fetchall()\n",
    "for res in results:\n",
    "    print(res[:])"
   ]
  },
  {
   "cell_type": "code",
   "execution_count": 28,
   "metadata": {},
   "outputs": [
    {
     "name": "stdout",
     "output_type": "stream",
     "text": [
      "(0, 'donor_ID', 'INT', 1, None, 0)\n",
      "(1, 'donor_project_ID', 'INT', 1, None, 0)\n",
      "(2, 'snp_ID', 'INT', 1, None, 0)\n",
      "(3, 'tissue_ID', 'INT', 1, None, 0)\n",
      "(4, 'specimen_id', 'VARCHAR(45)', 1, None, 0)\n",
      "(5, 'total_read_count', 'INT', 0, 'NULL', 0)\n",
      "(6, 'mutant_allele_read_count', 'INT', 0, 'NULL', 0)\n",
      "(7, 'dosages', 'FLOAT', 0, 'NULL', 0)\n",
      "(8, 'GT', 'INT', 0, 'NULL', 0)\n",
      "(9, 'GT2', 'INT', 0, 'NULL', 0)\n"
     ]
    }
   ],
   "source": [
    "results = db.cursor.execute(\"PRAGMA table_info(donor_has_snp)\").fetchall()\n",
    "for res in results:\n",
    "    print(res[:])"
   ]
  },
  {
   "cell_type": "code",
   "execution_count": 29,
   "metadata": {},
   "outputs": [
    {
     "name": "stdout",
     "output_type": "stream",
     "text": [
      "(0, 'snp_ID', 'INT', 1, None, 0)\n",
      "(1, 'donor_ID', 'INT', 1, None, 0)\n",
      "(2, 'donor_project_ID', 'INT', 1, None, 0)\n",
      "(3, 'dosages', 'INT', 0, 'NULL', 0)\n",
      "(4, 'total_read_count_sum', 'INT', 0, 'NULL', 0)\n",
      "(5, 'mutant_allele_read_count_sum', 'INT', 0, 'NULL', 0)\n",
      "(6, 'number_snps', 'INT', 0, 'NULL', 0)\n",
      "(7, 'GT', 'INT', 0, 'NULL', 0)\n",
      "(8, 'GT2', 'INT', 0, 'NULL', 0)\n"
     ]
    }
   ],
   "source": [
    "results = db.cursor.execute(\"PRAGMA table_info(sum_dosage_GT)\").fetchall()\n",
    "for res in results:\n",
    "    print(res[:])"
   ]
  },
  {
   "cell_type": "code",
   "execution_count": null,
   "metadata": {},
   "outputs": [],
   "source": []
  },
  {
   "cell_type": "code",
   "execution_count": null,
   "metadata": {},
   "outputs": [],
   "source": []
  },
  {
   "cell_type": "code",
   "execution_count": null,
   "metadata": {},
   "outputs": [],
   "source": []
  },
  {
   "cell_type": "code",
   "execution_count": null,
   "metadata": {},
   "outputs": [],
   "source": [
    "for res in results:\n",
    "    print(res[0], res[1])\n",
    "    donor = db.cursor.execute(\n",
    "                \"\"\"SELECT donor_ID\n",
    "                    FROM donor\n",
    "                    WHERE project_ID = %s ;\"\"\" %\n",
    "                int(res[0])).fetchall()\n",
    "    set_don = list()\n",
    "    for don in donor:\n",
    "        set_don.append(don[0])\n",
    "    print(len(set(set_don)))\n",
    "print(len(results))"
   ]
  },
  {
   "cell_type": "code",
   "execution_count": 20,
   "metadata": {},
   "outputs": [
    {
     "name": "stdout",
     "output_type": "stream",
     "text": [
      "{'Head and neck': 117, 'Ovary': 135, 'Blood': 545, 'Kidney': 318, 'Uterus': 71, 'Stomach': 37, 'Brain': 59, 'Nervous system': 28, 'Colorectal': 90, 'Bladder': 23, 'Bone': 162, 'Breast': 777, 'Gall Bladder': 71, 'Cervix': 20, 'Liver': 509, 'Mesenchymal': 34}\n"
     ]
    }
   ],
   "source": [
    "results = db.cursor.execute(\"\"\"SELECT cancer, ID\n",
    "                            FROM project\"\"\").fetchall()\n",
    "dict_cancer = dict()\n",
    "for res in results:\n",
    "    if res[0] in dict_cancer:\n",
    "        dict_cancer[res[0]].append(res[1])\n",
    "    else:\n",
    "        dict_cancer[res[0]] = [res[1]]\n",
    "\n",
    "dict_2 = dict()\n",
    "for key, value in dict_cancer.items():\n",
    "    donor_num = 0\n",
    "    for ID in value:\n",
    "        donor = db.cursor.execute(\n",
    "                    \"\"\"SELECT donor_ID\n",
    "                        FROM donor\n",
    "                        WHERE project_ID = %s ;\"\"\" %\n",
    "                    int(ID)).fetchall()\n",
    "        set_don = list()\n",
    "        for don in donor:\n",
    "            set_don.append(don[0])\n",
    "        donor_num += len(set(set_don))\n",
    "    dict_2[key] = donor_num\n",
    "\n",
    "print(dict_2)"
   ]
  },
  {
   "cell_type": "code",
   "execution_count": null,
   "metadata": {},
   "outputs": [],
   "source": []
  },
  {
   "cell_type": "code",
   "execution_count": null,
   "metadata": {},
   "outputs": [],
   "source": []
  }
 ],
 "metadata": {
  "kernelspec": {
   "display_name": "Python [conda env:umap] *",
   "language": "python",
   "name": "conda-env-umap-py"
  },
  "language_info": {
   "codemirror_mode": {
    "name": "ipython",
    "version": 3
   },
   "file_extension": ".py",
   "mimetype": "text/x-python",
   "name": "python",
   "nbconvert_exporter": "python",
   "pygments_lexer": "ipython3",
   "version": "3.8.12"
  }
 },
 "nbformat": 4,
 "nbformat_minor": 4
}
